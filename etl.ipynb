{
 "cells": [
  {
   "cell_type": "code",
   "execution_count": 1,
   "metadata": {},
   "outputs": [],
   "source": [
    "import pandas as pd\n",
    "from pyspark.sql.functions import countDistinct\n",
    "from pyspark.sql import functions as F\n",
    "\n",
    "\n",
    "import lectura_paco_colusiones\n",
    "import lectura_paco_multas\n",
    "import lectura_paco_secop\n",
    "import pyspark_etl_functions\n"
   ]
  },
  {
   "cell_type": "code",
   "execution_count": 4,
   "metadata": {},
   "outputs": [
    {
     "name": "stdout",
     "output_type": "stream",
     "text": [
      "Archivo 'colusiones_en_contratacion_SIC.csv' guardado en la carpeta 'data'.\n"
     ]
    }
   ],
   "source": [
    "url = 'https://paco7public7info7prod.blob.core.windows.net/paco-pulic-info/colusiones_en_contratacion_SIC.csv'\n",
    "filename = 'colusiones_en_contratacion_SIC.csv'\n",
    "lectura_paco_colusiones.download_and_save_csv(url, filename)"
   ]
  },
  {
   "cell_type": "code",
   "execution_count": 5,
   "metadata": {},
   "outputs": [
    {
     "name": "stdout",
     "output_type": "stream",
     "text": [
      "Archivo 'multas_SECOP.csv' guardado en la carpeta 'data'.\n"
     ]
    }
   ],
   "source": [
    "url = 'https://paco7public7info7prod.blob.core.windows.net/paco-pulic-info/multas_SECOP.csv'\n",
    "filename = 'multas_SECOP.csv'\n",
    "lectura_paco_multas.download_and_save_csv(url, filename)"
   ]
  },
  {
   "cell_type": "code",
   "execution_count": 6,
   "metadata": {},
   "outputs": [
    {
     "name": "stdout",
     "output_type": "stream",
     "text": [
      "Archivo 'SECOP_II_Cleaned.csv' guardado en la carpeta 'data'.\n"
     ]
    }
   ],
   "source": [
    "url = 'https://paco7public7info7prod.blob.core.windows.net/paco-pulic-info/SECOP_II_Cleaned.csv'\n",
    "filename = 'SECOP_II_Cleaned.csv'\n",
    "lectura_paco_secop.download_and_save_csv(url, filename)"
   ]
  },
  {
   "attachments": {},
   "cell_type": "markdown",
   "metadata": {},
   "source": [
    "# Quality PACO_secop"
   ]
  },
  {
   "cell_type": "code",
   "execution_count": 2,
   "metadata": {},
   "outputs": [
    {
     "name": "stdout",
     "output_type": "stream",
     "text": [
      "23/05/04 04:39:36 WARN Utils: Your hostname, penguin resolves to a loopback address: 127.0.1.1; using 100.115.92.200 instead (on interface eth0)\n",
      "23/05/04 04:39:36 WARN Utils: Set SPARK_LOCAL_IP if you need to bind to another address\n"
     ]
    },
    {
     "name": "stderr",
     "output_type": "stream",
     "text": [
      "Setting default log level to \"WARN\".\n",
      "To adjust logging level use sc.setLogLevel(newLevel). For SparkR, use setLogLevel(newLevel).\n"
     ]
    },
    {
     "name": "stdout",
     "output_type": "stream",
     "text": [
      "23/05/04 04:39:37 WARN NativeCodeLoader: Unable to load native-hadoop library for your platform... using builtin-java classes where applicable\n"
     ]
    },
    {
     "name": "stderr",
     "output_type": "stream",
     "text": [
      "                                                                                \r"
     ]
    },
    {
     "name": "stdout",
     "output_type": "stream",
     "text": [
      "23/05/04 04:39:55 WARN package: Truncated the string representation of a plan since it was too large. This behavior can be adjusted by setting 'spark.sql.debug.maxToStringFields'.\n",
      "+-------------------+-------------+-----------+------------+------------------+-------------------+--------------------+---------------------+-------------------+--------------------+--------------------+----------------+--------------------+--------------------+-----------+--------------+--------------------+--------------+------------------------+---------------------+----------------+--------------------+--------------+--------------------+--------------------+------------------------------+--------------------+--------------------------+------------+--------------------+--------------------+-----+----+\n",
      "|REFERENCIA_CONTRATO|BASE_DE_DATOS|  MUNICIPIO|DEPARTAMENTO|ESTADO_DEL_PROCESO| FECHA_CARGUE_SECOP|FECHA_FIRMA_CONTRATO|FECHA_INICIO_CONTRATO| FECHA_FIN_CONTRATO|       CLASE_PROCESO|        TIPO_PROCESO|      ID_PROCESO|       TIPO_CONTRATO|      NOMBRE_ENTIDAD|NIT_ENTIDAD|CODIGO_ENTIDAD| TIPO_ID_CONTRATISTA|ID_CONTRATISTA|RAZON_SOCIAL_CONTRATISTA|TIPO_ID_REPRESENTANTE|ID_REPRESENTANTE|NOMBRE_REPRESENTANTE|VALOR_CONTRATO|VALOR_TOTAL_CONTRATO|  OBJETO_A_CONTRATAR|DETALLE_DEL_OBJETO_A_CONTRATAR|         URL_PROCESO|JUSTIFICACION_CONTRATACION|NOMBRE_GRUPO|      NOMBRE_FAMILIA|        NOMBRE_CLASE|month|year|\n",
      "+-------------------+-------------+-----------+------------+------------------+-------------------+--------------------+---------------------+-------------------+--------------------+--------------------+----------------+--------------------+--------------------+-----------+--------------+--------------------+--------------+------------------------+---------------------+----------------+--------------------+--------------+--------------------+--------------------+------------------------------+--------------------+--------------------------+------------+--------------------+--------------------+-----+----+\n",
      "|               1062|     SECOP II|      BELLO|   ANTIOQUIA|      EN EJECUCION|2021-07-30 00:00:00| 2021-07-30 00:00:00|  2021-08-02 00:00:00|2021-12-29 00:00:00|CONTRATACION DIRECTA|PRESTACION DE SER...|CO1PCCNTR2707483|CONTRATACION DIRECTA|ANTIOQUIA - BELLO...|  890980112|     890980112|CEDULA DE CIUDADANIA|      43065479|    PIEDAD GIRALDO CO...| CEDULA DE CIUDADANIA|        43065479|PIEDAD GIRALDO CO...|      17383333|            17383333|PRESTACION DE SER...|          PRESTACION DE SER...|https://community...|      SERVICIOSPROFESIO...|   EJECUTIVO|NO APLICANO PERTE...|NO APLICANO PERTE...|    7|2021|\n",
      "|        726 DE 2020|     SECOP II|     BOGOTA|      BOGOTA|        MODIFICADO|2020-11-23 00:00:00| 2020-11-23 00:00:00|  2020-12-16 00:00:00|2021-04-15 00:00:00|SELECCION ABREVIA...|PRESTACION DE SER...|CO1PCCNTR2002022|SELECCION ABREVIA...|INSTITUTO NACIONA...|  830000167|     830000167|                 NIT|      46421988|                   AINIA|                  NIT|        46421988|               AINIA|     204294545|           204294545|PRESTAR LOS SERVI...|          PRESTAR LOS SERVI...|https://community...|      PRESUPUESTO MENOR...|   EJECUTIVO|SALUD Y PROTECCIO...|SALUD Y PROTECCIO...|   11|2020|\n",
      "|    CO1PCCNTR935617|     SECOP II|     BOGOTA|      BOGOTA|            ACTIVO|2019-04-30 00:00:00| 2019-04-30 00:00:00|  2019-04-23 00:00:00|2019-05-10 00:00:00|CONTRATACION MINI...|         COMPRAVENTA| CO1PCCNTR935617|      MINIMA CUANTIA|   EJERCITO NACIONAL| 8001306324|    8001306324|                 NIT|     900889064|    COMERCIALIZADORA ...|                  NIT|       900889064|COMERCIALIZADORA ...|      81999934|            81999934|ADQUISICION DE PA...|          ADQUISICION DE PA...|https://community...|      PRESUPUESTO INFER...|   EJECUTIVO|             DEFENSA|             DEFENSA|    4|2019|\n",
      "|   CO1PCCNTR2040520|     SECOP II|     BOGOTA|      BOGOTA|      EN EJECUCION|2020-12-09 00:00:00| 2020-12-09 00:00:00|  2020-12-29 00:00:00|2021-04-28 00:00:00|CONTRATACION DIRECTA|PRESTACION DE SER...|CO1PCCNTR2040520|CONTRATACION DIRECTA|FONDO FINANCIERO ...| 8002469532|    8002469532|CEDULA DE CIUDADANIA|    1049611041|    JEISSON OSWADO ES...| CEDULA DE CIUDADANIA|      1049611041|JEISSON OSWADO ES...|      18120000|            18120000|PRESTAR SERVICIOS...|          PRESTAR SERVICIOS...|https://community...|      SERVICIOSPROFESIO...|   EJECUTIVO|SALUD Y PROTECCIO...|SALUD Y PROTECCIO...|   12|2020|\n",
      "|        41001452021|     SECOP II|NO DEFINIDO|       HUILA|      EN EJECUCION|2021-02-24 00:00:00| 2021-02-24 00:00:00|  2021-02-24 00:00:00|2021-12-28 00:00:00|CONTRATACION DIRECTA|PRESTACION DE SER...|CO1PCCNTR2294579|CONTRATACION DIRECTA|INSTITUTO COLOMBI...|  899999239|     899999239|CEDULA DE CIUDADANIA|    1075232017|    CARLOS ALBERTO NA...| CEDULA DE CIUDADANIA|      1075232017|CARLOS ALBERTO NA...|      18931667|            18931667|PRESTAR SERVICIOS...|          PRESTAR SERVICIOS...|https://community...|      SERVICIOSPROFESIO...|   EJECUTIVO|SALUD Y PROTECCIO...|SALUD Y PROTECCIO...|    2|2021|\n",
      "+-------------------+-------------+-----------+------------+------------------+-------------------+--------------------+---------------------+-------------------+--------------------+--------------------+----------------+--------------------+--------------------+-----------+--------------+--------------------+--------------+------------------------+---------------------+----------------+--------------------+--------------+--------------------+--------------------+------------------------------+--------------------+--------------------------+------------+--------------------+--------------------+-----+----+\n",
      "only showing top 5 rows\n",
      "\n"
     ]
    }
   ],
   "source": [
    "filename = 'SECOP_II_Cleaned.csv'\n",
    "paco_secop_df = pyspark_etl_functions.read_csv_with_pyspark(filename, folder='data', separator='|')\n",
    "paco_secop_df.show(5)"
   ]
  },
  {
   "cell_type": "code",
   "execution_count": 8,
   "metadata": {},
   "outputs": [],
   "source": [
    "# pyspark_etl_functions.analyze_data_quality(paco_secop_df)"
   ]
  },
  {
   "cell_type": "code",
   "execution_count": 3,
   "metadata": {},
   "outputs": [
    {
     "name": "stderr",
     "output_type": "stream",
     "text": [
      "[Stage 3:====================================================>     (9 + 1) / 10]\r"
     ]
    },
    {
     "name": "stdout",
     "output_type": "stream",
     "text": [
      "                                       NOMBRE_FAMILIA\n",
      "0                               RELACIONES EXTERIORES\n",
      "1                        VIVIENDA CIUDAD Y TERRITORIO\n",
      "2   TECNOLOGIAS DE LA INFORMACION Y LAS COMUNICACI...\n",
      "3                                    SERVICIO PUBLICO\n",
      "4                                  EDUCACION NACIONAL\n",
      "5                                         AGRICULTURA\n",
      "6                               NO APLICANO PERTENECE\n",
      "7                                            DEPORTES\n",
      "8                                             DEFENSA\n",
      "9                          HACIENDA Y CREDITO PUBLICO\n",
      "10                          SALUD Y PROTECCION SOCIAL\n",
      "11                                          INDUSTRIA\n",
      "12                                 CIENCIA TECNOLOGIA\n",
      "13                                    MINAS Y ENERGIA\n",
      "14                        PRESIDENCIA DE LA REPUBLICA\n",
      "15                                           INTERIOR\n",
      "16                  INCLUSION SOCIAL Y RECONCILIACION\n",
      "17      INTELIGENCIA ESTRATEGICA Y CONTRAINTELIGENCIA\n",
      "18                                         TRANSPORTE\n",
      "19                            INFORMACION ESTADISTICA\n",
      "20                   AMBIENTE Y DESARROLLO SOSTENIBLE\n",
      "21                                            TRABAJO\n",
      "22                                            CULTURA\n",
      "23                                    LEY DE JUSTICIA\n",
      "24                                         PLANEACION\n",
      "25                                        NO DEFINIDO\n"
     ]
    },
    {
     "name": "stderr",
     "output_type": "stream",
     "text": [
      "                                                                                \r"
     ]
    }
   ],
   "source": [
    "nombre_familia_df = paco_secop_df.select('NOMBRE_FAMILIA').distinct().toPandas()\n",
    "pd.set_option('display.max_rows', None) \n",
    "print(nombre_familia_df)"
   ]
  },
  {
   "attachments": {},
   "cell_type": "markdown",
   "metadata": {},
   "source": [
    "- VIVIENDA CIUDAD Y TERRITORIO: Se relaciona con la construcción y desarrollo de viviendas, urbanismo y ordenamiento territorial.\n",
    "- TRANSPORTE: Incluye la infraestructura vial, ferroviaria, aeroportuaria y marítima, así como la construcción y mantenimiento de medios de transporte.\n",
    "- MINAS Y ENERGÍA: Abarca la infraestructura relacionada con la extracción de recursos minerales y la producción y distribución de energía.\n",
    "- AMBIENTE Y DESARROLLO SOSTENIBLE: Puede incluir infraestructuras sostenibles y proyectos relacionados con el medio ambiente, como plantas de tratamiento de agua y sistemas de gestión de residuos.\n"
   ]
  },
  {
   "cell_type": "code",
   "execution_count": 4,
   "metadata": {},
   "outputs": [
    {
     "name": "stdout",
     "output_type": "stream",
     "text": [
      "+--------------------+-------------+-----------+------------+------------------+-------------------+--------------------+---------------------+-------------------+--------------------+--------------------+----------------+--------------------+--------------------+-----------+--------------+--------------------+--------------+------------------------+---------------------+----------------+--------------------+--------------+--------------------+--------------------+------------------------------+--------------------+--------------------------+--------------------+--------------------+--------------------+-----+----+\n",
      "| REFERENCIA_CONTRATO|BASE_DE_DATOS|  MUNICIPIO|DEPARTAMENTO|ESTADO_DEL_PROCESO| FECHA_CARGUE_SECOP|FECHA_FIRMA_CONTRATO|FECHA_INICIO_CONTRATO| FECHA_FIN_CONTRATO|       CLASE_PROCESO|        TIPO_PROCESO|      ID_PROCESO|       TIPO_CONTRATO|      NOMBRE_ENTIDAD|NIT_ENTIDAD|CODIGO_ENTIDAD| TIPO_ID_CONTRATISTA|ID_CONTRATISTA|RAZON_SOCIAL_CONTRATISTA|TIPO_ID_REPRESENTANTE|ID_REPRESENTANTE|NOMBRE_REPRESENTANTE|VALOR_CONTRATO|VALOR_TOTAL_CONTRATO|  OBJETO_A_CONTRATAR|DETALLE_DEL_OBJETO_A_CONTRATAR|         URL_PROCESO|JUSTIFICACION_CONTRATACION|        NOMBRE_GRUPO|      NOMBRE_FAMILIA|        NOMBRE_CLASE|month|year|\n",
      "+--------------------+-------------+-----------+------------+------------------+-------------------+--------------------+---------------------+-------------------+--------------------+--------------------+----------------+--------------------+--------------------+-----------+--------------+--------------------+--------------+------------------------+---------------------+----------------+--------------------+--------------+--------------------+--------------------+------------------------------+--------------------+--------------------------+--------------------+--------------------+--------------------+-----+----+\n",
      "|            CTO48118|     SECOP II|     BOGOTA|      BOGOTA|          BORRADOR|1900-01-01 00:00:00| 1900-01-01 00:00:00|  2018-08-01 00:00:00|2019-03-31 00:00:00|CONTRATACION DIRECTA|PRESTACION DE SER...| CO1PCCNTR501714|CONTRATACION DIRECTA|BOGOTA - TRANSMIL...|  830063506|     830063506|CEDULA DE CIUDADANIA|      89001246|    ESTEVAN MILLAN CA...| CEDULA DE CIUDADANIA|        89001246|ESTEVAN MILLAN CA...|      19040000|            19040000|CONTRATAR LA PRES...|          CONTRATAR LA PRES...|https://community...|      SERVICIOSPROFESIO...|           EJECUTIVO|          TRANSPORTE|          TRANSPORTE|    1|2018|\n",
      "|         MVCT7292020|     SECOP II|NO DEFINIDO| NO DEFINIDO|      EN EJECUCION|2020-06-19 00:00:00| 2020-06-19 00:00:00|  2020-06-19 00:00:00|2020-12-31 00:00:00|CONTRATACION DIRECTA|PRESTACION DE SER...|CO1PCCNTR1641304|CONTRATACION DIRECTA|MINISTERIO DE VIV...|  900463725|     900463725|CEDULA DE CIUDADANIA|      79384862|    NELSON HERNAN COR...| CEDULA DE CIUDADANIA|        79384862|NELSON HERNAN COR...|      56000000|            56000000|PRESTACION DE SER...|          PRESTACION DE SER...|https://community...|      SERVICIOSPROFESIO...|           EJECUTIVO|VIVIENDA CIUDAD Y...|VIVIENDA CIUDAD Y...|    6|2020|\n",
      "|             2020176|     SECOP II|     BOGOTA|      BOGOTA|        MODIFICADO|2020-02-14 00:00:00| 2020-02-14 00:00:00|  2020-02-14 00:00:00|2020-12-29 00:00:00|CONTRATACION DIRECTA|PRESTACION DE SER...|CO1PCCNTR1377033|CONTRATACION DIRECTA|SECRETARIA DISTRI...| 8999990619|    8999990619|CEDULA DE CIUDADANIA|    1030579350|    ERIKA LIZETH LATO...| CEDULA DE CIUDADANIA|      1030579350|ERIKA LIZETH LATO...|      36739500|            36739500|PRESTAR SERVICIOS...|          PRESTAR SERVICIOS...|https://community...|      SERVICIOSPROFESIO...|           EJECUTIVO|          TRANSPORTE|          TRANSPORTE|    2|2020|\n",
      "|            SGR22318|     SECOP II|     BOGOTA|      BOGOTA|            ACTIVO|2018-06-18 00:00:00| 2018-06-18 00:00:00|  2018-06-14 00:00:00|2018-07-29 00:00:00|             SUBASTA|         COMPRAVENTA| CO1PCCNTR434165|SELECCION ABREVIA...|AGENCIA NACIONAL ...|  900500018|     900500018|                 NIT|    8000806329|           POLMINERA SAS|                  NIT|      8000806329|       POLMINERA SAS|    1016260000|          1016260000|COMPRA DE MULTIDE...|          COMPRA DE MULTIDE...|https://community...|      SUMINISTRO DE BIE...|           EJECUTIVO|     MINAS Y ENERGIA|     MINAS Y ENERGIA|    6|2018|\n",
      "|CONTRATO 233 DE 2019|     SECOP II|     BOGOTA|      BOGOTA|            ACTIVO|2019-03-08 00:00:00| 2019-03-08 00:00:00|  2019-03-09 00:00:00|2019-06-08 00:00:00|CONTRATACION DIRECTA|PRESTACION DE SER...| CO1PCCNTR882613|CONTRATACION DIRECTA|MINISTERIO DE AMB...|  830115395|     830115395|CEDULA DE CIUDADANIA|      80513779|    ALVARO FERNANDO R...| CEDULA DE CIUDADANIA|        80513779|ALVARO FERNANDO R...|      10710000|            10710000|PRESTAR LOS SERVI...|          PRESTAR LOS SERVI...|https://community...|      SERVICIOSPROFESIO...|           EJECUTIVO|AMBIENTE Y DESARR...|AMBIENTE Y DESARR...|    3|2019|\n",
      "|     CPS 100 DE 2018|     SECOP II|     BOGOTA|      BOGOTA|        MODIFICADO|2018-01-15 00:00:00| 2018-01-15 00:00:00|  2018-01-15 00:00:00|2018-10-14 00:00:00|CONTRATACION DIRECTA|PRESTACION DE SER...| CO1PCCNTR283165|CONTRATACION DIRECTA|FONDO NACIONAL AM...|  830025267|     830025267|CEDULA DE CIUDADANIA|      80200652|    CARLOS ANDRES GAR...| CEDULA DE CIUDADANIA|        80200652|CARLOS ANDRES GAR...|      69347719|            69347719|PRESTACION DE SER...|          PRESTACION DE SER...|https://community...|      SERVICIOSPROFESIO...|           EJECUTIVO|AMBIENTE Y DESARR...|AMBIENTE Y DESARR...|    1|2018|\n",
      "|            20201347|     SECOP II|     BOGOTA|      BOGOTA|        MODIFICADO|2020-08-14 00:00:00| 2020-08-14 00:00:00|  2020-08-19 00:00:00|2021-06-02 00:00:00|CONTRATACION DIRECTA|PRESTACION DE SER...|CO1PCCNTR1769807|CONTRATACION DIRECTA|SECRETARIA DISTRI...| 8999990619|    8999990619|CEDULA DE CIUDADANIA|      79971894|    OSCAR DAVID RUBIA...| CEDULA DE CIUDADANIA|        79971894|OSCAR DAVID RUBIA...|      19433061|            19433061|PRESTAR SERVICIOS...|          PRESTAR SERVICIOS...|https://community...|      SERVICIOSPROFESIO...|           EJECUTIVO|          TRANSPORTE|          TRANSPORTE|    8|2020|\n",
      "|            CTO39520|     SECOP II|     BOGOTA|      BOGOTA|            ACTIVO|2020-04-17 00:00:00| 2020-04-17 00:00:00|  2020-04-17 00:00:00|2021-03-16 00:00:00|CONTRATACION DIRECTA|PRESTACION DE SER...|CO1PCCNTR1507217|CONTRATACION DIRECTA|BOGOTA - TRANSMIL...|  830063506|     830063506|CEDULA DE CIUDADANIA|    1030569617|    LUIS ANTONIO DIAZ...| CEDULA DE CIUDADANIA|      1030569617|LUIS ANTONIO DIAZ...|      26100635|            26100635|CONTRATAR LOS SER...|          CONTRATAR LOS SER...|https://community...|      SERVICIOSPROFESIO...|           EJECUTIVO|          TRANSPORTE|          TRANSPORTE|    4|2020|\n",
      "|         CPSF7082021|     SECOP II|     BOGOTA|      BOGOTA|      EN EJECUCION|2021-01-18 00:00:00| 2021-01-18 00:00:00|  2021-01-18 00:00:00|2021-12-17 00:00:00|CONTRATACION DIRECTA|PRESTACION DE SER...|CO1PCCNTR2137223|CONTRATACION DIRECTA|FONDO NACIONAL AM...|  830025267|     830025267|CEDULA DE CIUDADANIA|      93478208|    FERNEY CABRERA GU...| CEDULA DE CIUDADANIA|        93478208|FERNEY CABRERA GU...|     100533378|           100533378|432012 PRESTAR SE...|          432012 PRESTAR SE...|https://community...|      SERVICIOSPROFESIO...|           EJECUTIVO|AMBIENTE Y DESARR...|AMBIENTE Y DESARR...|    1|2021|\n",
      "|     CO1PCCNTR213501|     SECOP II|    PEREIRA|   RISARALDA|           CERRADO|2017-10-07 00:00:00| 2017-10-07 00:00:00|  2017-10-12 00:00:00|2017-12-22 00:00:00|CONTRATACION DIRECTA|PRESTACION DE SER...| CO1PCCNTR213501|CONTRATACION DIRECTA|CARDER - CORPORAC...|  891410354|     891410354|CEDULA DE CIUDADANIA|       4519550|    ANDRES FELIPE QUI...| CEDULA DE CIUDADANIA|         4519550|ANDRES FELIPE QUI...|       6533333|             6533333|APOYAR PROFESIONA...|          APOYAR PROFESIONA...|https://community...|      SERVICIOSPROFESIO...|CORPORACION AUTONOMA|AMBIENTE Y DESARR...|AMBIENTE Y DESARR...|   10|2017|\n",
      "|       CD  158  2020|     SECOP II|     BOGOTA|      BOGOTA|            ACTIVO|2020-01-30 00:00:00| 2020-01-30 00:00:00|  2020-01-31 00:00:00|2020-12-31 00:00:00|CONTRATACION DIRECTA|PRESTACION DE SER...|CO1PCCNTR1324345|CONTRATACION DIRECTA|MINISTERIO DE AMB...|  830115395|     830115395|CEDULA DE CIUDADANIA|      52961394|    KATHERINE GOMEZ P...| CEDULA DE CIUDADANIA|        52961394|KATHERINE GOMEZ P...|      23182500|            23182500|PRESTACION DE SER...|          PRESTACION DE SER...|https://community...|      SERVICIOSPROFESIO...|           EJECUTIVO|AMBIENTE Y DESARR...|AMBIENTE Y DESARR...|    1|2020|\n",
      "|            CTO27519|     SECOP II|     BOGOTA|      BOGOTA|        MODIFICADO|2019-03-05 00:00:00| 2019-03-05 00:00:00|  2019-03-01 00:00:00|2020-02-05 00:00:00|CONTRATACION DIRECTA|PRESTACION DE SER...| CO1PCCNTR867558|CONTRATACION DIRECTA|BOGOTA - TRANSMIL...|  830063506|     830063506|CEDULA DE CIUDADANIA|    1019047488|    GERMAN DANIEL RAM...| CEDULA DE CIUDADANIA|      1019047488|GERMAN DANIEL RAM...|      68368320|            68368320|CONTRATAR LA PRES...|          CONTRATAR LA PRES...|https://community...|      SERVICIOSPROFESIO...|           EJECUTIVO|          TRANSPORTE|          TRANSPORTE|    3|2019|\n",
      "|     CO1PCCNTR282677|     SECOP II|    PEREIRA|   RISARALDA|           CERRADO|2018-01-12 00:00:00| 2018-01-12 00:00:00|  2018-01-15 00:00:00|2018-12-14 00:00:00|CONTRATACION DIRECTA|PRESTACION DE SER...| CO1PCCNTR282677|CONTRATACION DIRECTA|CARDER - CORPORAC...|  891410354|     891410354|CEDULA DE CIUDADANIA|    1088244102|    WALTER EDUARDO AR...| CEDULA DE CIUDADANIA|      1088244102|WALTER EDUARDO AR...|      36587000|            36587000|APOYAR ADMINISTRA...|          APOYAR ADMINISTRA...|https://community...|      SERVICIOSPROFESIO...|CORPORACION AUTONOMA|AMBIENTE Y DESARR...|AMBIENTE Y DESARR...|    1|2018|\n",
      "|          GGC2932021|     SECOP II|     BOGOTA|      BOGOTA|        MODIFICADO|2021-02-12 00:00:00| 2021-02-12 00:00:00|  2021-02-15 00:00:00|2021-12-16 00:00:00|CONTRATACION DIRECTA|PRESTACION DE SER...|CO1PCCNTR2257466|CONTRATACION DIRECTA|MINISTERIO DE MIN...|  899999022|     899999022|CEDULA DE CIUDADANIA|     193320907|      OMAR OLARTE TRIANA| CEDULA DE CIUDADANIA|       193320907|  OMAR OLARTE TRIANA|      75000000|            75000000|CONTRATAR LA PRES...|          CONTRATAR LA PRES...|https://community...|      SERVICIOSPROFESIO...|           EJECUTIVO|     MINAS Y ENERGIA|     MINAS Y ENERGIA|    2|2021|\n",
      "|            10732021|     SECOP II|     BOGOTA|      BOGOTA|      EN EJECUCION|2021-05-24 00:00:00| 2021-05-24 00:00:00|  2021-05-26 00:00:00|2021-12-31 00:00:00|CONTRATACION DIRECTA|PRESTACION DE SER...|CO1PCCNTR2532911|CONTRATACION DIRECTA|INSTITUTO NACIONA...|  800215807|     800215807|CEDULA DE CIUDADANIA|    1152198540|    JUAN DIEGO GALLEG...| CEDULA DE CIUDADANIA|      1152198540|JUAN DIEGO GALLEG...|      51333333|            51333333|PRESTACION DE SER...|          PRESTACION DE SER...|https://community...|      SERVICIOSPROFESIO...|           EJECUTIVO|          TRANSPORTE|          TRANSPORTE|    5|2021|\n",
      "|             3602020|     SECOP II|     BOGOTA|      BOGOTA|      EN EJECUCION|2020-07-02 00:00:00| 2020-07-02 00:00:00|  2020-07-02 00:00:00|2020-12-30 00:00:00|CONTRATACION DIRECTA|PRESTACION DE SER...|CO1PCCNTR1669011|CONTRATACION DIRECTA|SERVICIO GEOLOGIC...|  899999294|     899999294|CEDULA DE CIUDADANIA|      52704871|    CAMILA SAVINE LUE...| CEDULA DE CIUDADANIA|        52704871|CAMILA SAVINE LUE...|      34792722|            34792722|PRESTAR SERVICIOS...|          PRESTAR SERVICIOS...|https://community...|      SERVICIOSPROFESIO...|           EJECUTIVO|     MINAS Y ENERGIA|     MINAS Y ENERGIA|    7|2020|\n",
      "|         MVCT8902020|     SECOP II|NO DEFINIDO| NO DEFINIDO|            ACTIVO|2020-09-08 00:00:00| 2020-09-08 00:00:00|  1900-01-01 00:00:00|2020-08-31 00:00:00|CONTRATACION DIRECTA|                OTRO|CO1PCCNTR1809538|CONTRATACION DIRECTA|MINISTERIO DE VIV...|  900463725|     900463725|                 NIT|     892301761|    ALCALDIA DE MANAU...|                  NIT|       892301761|ALCALDIA DE MANAU...|             0|                   0|AUNAR ESFUERZOS E...|          AUNAR ESFUERZOS E...|https://community...|      CONTRATOSCONVENIO...|           EJECUTIVO|VIVIENDA CIUDAD Y...|VIVIENDA CIUDAD Y...|    9|2020|\n",
      "|     CO1PCCNTR646012|     SECOP II|NO DEFINIDO| NO DEFINIDO|          BORRADOR|1900-01-01 00:00:00| 1900-01-01 00:00:00|  1900-01-01 00:00:00|1900-01-01 00:00:00|CONTRATACION MINI...|PRESTACION DE SER...| CO1PCCNTR646012|      MINIMA CUANTIA|MINISTERIO DE VIV...|  900463725|     900463725|                 NIT|    9006270609|    ALL TECHNOLOGICAL...|                  NIT|      9006270609|ALL TECHNOLOGICAL...|       1500000|             1500000|REALIZAR EL MANTE...|          REALIZAR EL MANTE...|https://community...|      PRESUPUESTO INFER...|           EJECUTIVO|VIVIENDA CIUDAD Y...|VIVIENDA CIUDAD Y...|    1|1900|\n",
      "|     CO1PCCNTR998615|     SECOP II|     BOGOTA|      BOGOTA| ENVIADO PROVEEDOR|1900-01-01 00:00:00| 1900-01-01 00:00:00|  2019-06-18 00:00:00|2019-12-18 00:00:00| CONCURSO DE MERITOS|         CONSULTORIA| CO1PCCNTR998615|CONCURSO DE MERIT...|INSTITUTO NACIONA...|  800215807|     800215807|         NO DEFINIDO|          null|       CONSORCIO VIAL 19|          NO DEFINIDO|            null|   CONSORCIO VIAL 19|     213479098|           213479098|ADMINISTRACION VI...|          ADMINISTRACION VI...|https://community...|          LEY 1150 DE 2007|           EJECUTIVO|          TRANSPORTE|          TRANSPORTE|    1|2019|\n",
      "|        2018 DE 2019|     SECOP II|     BOGOTA|      BOGOTA|        MODIFICADO|2020-01-15 00:00:00| 2020-01-15 00:00:00|  2019-11-08 00:00:00|2020-12-22 00:00:00| CONCURSO DE MERITOS|       INTERVENTORIA|CO1PCCNTR1161637|CONCURSO DE MERIT...|INSTITUTO NACIONA...|  800215807|     800215807|         NO DEFINIDO|          null|       CONSORCIO DUITAMA|          NO DEFINIDO|            null|   CONSORCIO DUITAMA|     337250405|           337250405|INTERVENTORIA PAR...|          INTERVENTORIA PAR...|https://community...|          LEY 1150 DE 2007|           EJECUTIVO|          TRANSPORTE|          TRANSPORTE|    1|2020|\n",
      "+--------------------+-------------+-----------+------------+------------------+-------------------+--------------------+---------------------+-------------------+--------------------+--------------------+----------------+--------------------+--------------------+-----------+--------------+--------------------+--------------+------------------------+---------------------+----------------+--------------------+--------------+--------------------+--------------------+------------------------------+--------------------+--------------------------+--------------------+--------------------+--------------------+-----+----+\n",
      "only showing top 20 rows\n",
      "\n"
     ]
    }
   ],
   "source": [
    "infraestructura_categorias = [\n",
    "    \"VIVIENDA CIUDAD Y TERRITORIO\",\n",
    "    \"TRANSPORTE\",\n",
    "    \"MINAS Y ENERGIA\",\n",
    "    \"AMBIENTE Y DESARROLLO SOSTENIBLE\"\n",
    "]\n",
    "\n",
    "infraestructura_df = paco_secop_df.filter(paco_secop_df.NOMBRE_FAMILIA.isin(infraestructura_categorias))\n",
    "\n",
    "infraestructura_df.show()"
   ]
  },
  {
   "cell_type": "code",
   "execution_count": 11,
   "metadata": {},
   "outputs": [
    {
     "name": "stdout",
     "output_type": "stream",
     "text": [
      "23/04/21 09:51:05 WARN SparkSession: Using an existing Spark session; only runtime SQL configurations will take effect.\n"
     ]
    },
    {
     "name": "stderr",
     "output_type": "stream",
     "text": [
      "                                                                                \r"
     ]
    },
    {
     "name": "stdout",
     "output_type": "stream",
     "text": [
      "Total de registros: 116325\n"
     ]
    },
    {
     "name": "stderr",
     "output_type": "stream",
     "text": [
      "                                                                                \r"
     ]
    },
    {
     "name": "stdout",
     "output_type": "stream",
     "text": [
      "\n",
      "Conteo de registros nulos por columna:\n",
      "REFERENCIA_CONTRATO: 16\n",
      "BASE_DE_DATOS: 0\n",
      "MUNICIPIO: 0\n",
      "DEPARTAMENTO: 0\n",
      "ESTADO_DEL_PROCESO: 0\n",
      "FECHA_CARGUE_SECOP: 0\n",
      "FECHA_FIRMA_CONTRATO: 0\n",
      "FECHA_INICIO_CONTRATO: 0\n",
      "FECHA_FIN_CONTRATO: 0\n",
      "CLASE_PROCESO: 2620\n",
      "TIPO_PROCESO: 0\n",
      "ID_PROCESO: 0\n",
      "TIPO_CONTRATO: 0\n",
      "NOMBRE_ENTIDAD: 0\n",
      "NIT_ENTIDAD: 0\n",
      "CODIGO_ENTIDAD: 0\n",
      "TIPO_ID_CONTRATISTA: 0\n",
      "ID_CONTRATISTA: 3745\n",
      "RAZON_SOCIAL_CONTRATISTA: 1\n",
      "TIPO_ID_REPRESENTANTE: 0\n",
      "ID_REPRESENTANTE: 3745\n",
      "NOMBRE_REPRESENTANTE: 1\n",
      "VALOR_CONTRATO: 0\n",
      "VALOR_TOTAL_CONTRATO: 0\n",
      "OBJETO_A_CONTRATAR: 0\n",
      "DETALLE_DEL_OBJETO_A_CONTRATAR: 0\n",
      "URL_PROCESO: 0\n",
      "JUSTIFICACION_CONTRATACION: 0\n",
      "NOMBRE_GRUPO: 0\n",
      "NOMBRE_FAMILIA: 0\n",
      "NOMBRE_CLASE: 0\n",
      "month: 0\n",
      "year: 0\n",
      "\n",
      "Conteo de registros duplicados: 1\n"
     ]
    },
    {
     "name": "stderr",
     "output_type": "stream",
     "text": [
      "                                                                                \r"
     ]
    },
    {
     "name": "stdout",
     "output_type": "stream",
     "text": [
      "\n",
      "Estadísticas descriptivas para columnas numéricas:\n",
      "min:\n",
      "  NIT_ENTIDAD: 800002916\n",
      "  CODIGO_ENTIDAD: 800002916\n",
      "  VALOR_CONTRATO: 0\n",
      "  VALOR_TOTAL_CONTRATO: 0\n",
      "  month: 1\n",
      "  year: 1900\n",
      "max:\n",
      "  NIT_ENTIDAD: 9008529985\n",
      "  CODIGO_ENTIDAD: 9008529985\n",
      "  VALOR_CONTRATO: 417912160410000\n",
      "  VALOR_TOTAL_CONTRATO: 417912160410000\n",
      "  month: 12\n",
      "  year: 2021\n",
      "mean:\n",
      "  NIT_ENTIDAD: 1.5113992141226306E9\n",
      "  CODIGO_ENTIDAD: 1.5113992141226306E9\n",
      "  VALOR_CONTRATO: 1.0078002193842802E10\n",
      "  VALOR_TOTAL_CONTRATO: 1.0078002193842802E10\n",
      "  month: 4.868549323017408\n",
      "  year: 2014.5071136900924\n",
      "stddev:\n",
      "  NIT_ENTIDAD: 2.1815737385576897E9\n",
      "  CODIGO_ENTIDAD: 2.1815737385576897E9\n",
      "  VALOR_CONTRATO: 1.8765098777052305E12\n",
      "  VALOR_TOTAL_CONTRATO: 1.8765098777052305E12\n",
      "  month: 3.537922040830522\n",
      "  year: 24.67164465312655\n"
     ]
    },
    {
     "name": "stderr",
     "output_type": "stream",
     "text": [
      "                                                                                \r"
     ]
    },
    {
     "name": "stdout",
     "output_type": "stream",
     "text": [
      "\n",
      "Valores atípicos en la columna NIT_ENTIDAD: 9425\n"
     ]
    },
    {
     "name": "stderr",
     "output_type": "stream",
     "text": [
      "                                                                                \r"
     ]
    },
    {
     "name": "stdout",
     "output_type": "stream",
     "text": [
      "\n",
      "Valores atípicos en la columna CODIGO_ENTIDAD: 9425\n"
     ]
    },
    {
     "name": "stderr",
     "output_type": "stream",
     "text": [
      "                                                                                \r"
     ]
    },
    {
     "name": "stdout",
     "output_type": "stream",
     "text": [
      "\n",
      "Valores atípicos en la columna VALOR_CONTRATO: 10843\n"
     ]
    },
    {
     "name": "stderr",
     "output_type": "stream",
     "text": [
      "                                                                                \r"
     ]
    },
    {
     "name": "stdout",
     "output_type": "stream",
     "text": [
      "\n",
      "Valores atípicos en la columna VALOR_TOTAL_CONTRATO: 10843\n"
     ]
    },
    {
     "name": "stderr",
     "output_type": "stream",
     "text": [
      "                                                                                \r"
     ]
    },
    {
     "name": "stdout",
     "output_type": "stream",
     "text": [
      "\n",
      "Valores atípicos en la columna month: 0\n"
     ]
    },
    {
     "name": "stderr",
     "output_type": "stream",
     "text": [
      "[Stage 55:===================================================>     (9 + 1) / 10]\r"
     ]
    },
    {
     "name": "stdout",
     "output_type": "stream",
     "text": [
      "\n",
      "Valores atípicos en la columna year: 5154\n"
     ]
    },
    {
     "name": "stderr",
     "output_type": "stream",
     "text": [
      "                                                                                \r"
     ]
    }
   ],
   "source": [
    "pyspark_etl_functions.analyze_data_quality(infraestructura_df)"
   ]
  },
  {
   "cell_type": "code",
   "execution_count": 5,
   "metadata": {},
   "outputs": [
    {
     "name": "stderr",
     "output_type": "stream",
     "text": [
      "[Stage 7:====================================================>     (9 + 1) / 10]\r"
     ]
    },
    {
     "name": "stdout",
     "output_type": "stream",
     "text": [
      "+-----------+---------------------------------+\n",
      "|NIT_ENTIDAD|cantidad_nombre_entidad_distintos|\n",
      "+-----------+---------------------------------+\n",
      "|  899999114|                                5|\n",
      "|  901037393|                                4|\n",
      "|  890399011|                                3|\n",
      "|  830025267|                                2|\n",
      "|  899999061|                                2|\n",
      "|  800124833|                                1|\n",
      "|  832000171|                                1|\n",
      "|  890399029|                                1|\n",
      "|  830063506|                                1|\n",
      "|  892115314|                                1|\n",
      "|  891801069|                                1|\n",
      "| 9008529985|                                1|\n",
      "|  890399045|                                1|\n",
      "|  890907748|                                1|\n",
      "|  804000292|                                1|\n",
      "|  901127870|                                1|\n",
      "|  830507387|                                1|\n",
      "|  805003737|                                1|\n",
      "| 8903990295|                                1|\n",
      "|  900081331|                                1|\n",
      "+-----------+---------------------------------+\n",
      "only showing top 20 rows\n",
      "\n"
     ]
    },
    {
     "name": "stderr",
     "output_type": "stream",
     "text": [
      "                                                                                \r"
     ]
    }
   ],
   "source": [
    "distinct_entity_names = infraestructura_df.groupBy(\"NIT_ENTIDAD\").agg(\n",
    "    countDistinct(\"NOMBRE_ENTIDAD\").alias(\"cantidad_nombre_entidad_distintos\")\n",
    ")\n",
    " \n",
    "distinct_entity_names.orderBy(\"cantidad_nombre_entidad_distintos\", ascending=False).show()"
   ]
  },
  {
   "cell_type": "code",
   "execution_count": 6,
   "metadata": {},
   "outputs": [
    {
     "name": "stderr",
     "output_type": "stream",
     "text": [
      "[Stage 13:===================================================>     (9 + 1) / 10]\r"
     ]
    },
    {
     "name": "stdout",
     "output_type": "stream",
     "text": [
      "['DEPARTAMENTO DE CUNDINAMARCA SECRETARIA DE HABITAT Y VIVIENDA', 'DEPARTAMENTO DE CUNDINAMARCA SECRETARIA DEL AMBIENTE', 'SECRETARIA DE MINAS ENERGIA Y GAS GOBERNACION DE CUNDINAMARCA', 'SECRETARIA DE TRANSPORTE Y MOVILIDAD', 'GOBERNACION DE CUNDINAMARCA SECRETARIA DE PRENSA Y COMUNICACIONES']\n"
     ]
    },
    {
     "name": "stderr",
     "output_type": "stream",
     "text": [
      "                                                                                \r"
     ]
    }
   ],
   "source": [
    "nit_filtered_df = infraestructura_df.filter(infraestructura_df.NIT_ENTIDAD == 899999114)\n",
    "\n",
    "distinct_nombre_entidad = nit_filtered_df.select(\"NOMBRE_ENTIDAD\").distinct()\n",
    "\n",
    "nombre_entidad_rows = distinct_nombre_entidad.collect()\n",
    "\n",
    "nombre_entidad_list = [row.NOMBRE_ENTIDAD for row in nombre_entidad_rows]\n",
    "\n",
    "print(nombre_entidad_list)\n"
   ]
  },
  {
   "attachments": {},
   "cell_type": "markdown",
   "metadata": {},
   "source": [
    "## ETL"
   ]
  },
  {
   "cell_type": "code",
   "execution_count": 7,
   "metadata": {},
   "outputs": [
    {
     "name": "stderr",
     "output_type": "stream",
     "text": [
      "[Stage 18:>                                                         (0 + 1) / 1]\r"
     ]
    },
    {
     "name": "stdout",
     "output_type": "stream",
     "text": [
      "+--------------------+-------------+-----------+--------------------+------------------+-------------------+--------------------+---------------------+-------------------+--------------------+--------------------+----------------+--------------------+--------------------+-----------+--------------+--------------------+--------------+------------------------+---------------------+----------------+--------------------+--------------+--------------------+--------------------+------------------------------+--------------------+--------------------------+--------------------+--------------------+--------------------+-----+----+\n",
      "| REFERENCIA_CONTRATO|BASE_DE_DATOS|  MUNICIPIO|        DEPARTAMENTO|ESTADO_DEL_PROCESO| FECHA_CARGUE_SECOP|FECHA_FIRMA_CONTRATO|FECHA_INICIO_CONTRATO| FECHA_FIN_CONTRATO|       CLASE_PROCESO|        TIPO_PROCESO|      ID_PROCESO|       TIPO_CONTRATO|      NOMBRE_ENTIDAD|NIT_ENTIDAD|CODIGO_ENTIDAD| TIPO_ID_CONTRATISTA|ID_CONTRATISTA|RAZON_SOCIAL_CONTRATISTA|TIPO_ID_REPRESENTANTE|ID_REPRESENTANTE|NOMBRE_REPRESENTANTE|VALOR_CONTRATO|VALOR_TOTAL_CONTRATO|  OBJETO_A_CONTRATAR|DETALLE_DEL_OBJETO_A_CONTRATAR|         URL_PROCESO|JUSTIFICACION_CONTRATACION|        NOMBRE_GRUPO|      NOMBRE_FAMILIA|        NOMBRE_CLASE|month|year|\n",
      "+--------------------+-------------+-----------+--------------------+------------------+-------------------+--------------------+---------------------+-------------------+--------------------+--------------------+----------------+--------------------+--------------------+-----------+--------------+--------------------+--------------+------------------------+---------------------+----------------+--------------------+--------------+--------------------+--------------------+------------------------------+--------------------+--------------------------+--------------------+--------------------+--------------------+-----+----+\n",
      "|         GGC672 2021|     SECOP II|     BOGOTA|              BOGOTA|            ACTIVO|2021-09-29 00:00:00| 2021-09-29 00:00:00|  1900-01-01 00:00:00|2041-10-10 00:00:00|                null|                OTRO|CO1PCCNTR2875503|CONTRATACION DIRE...|MINISTERIO DE MIN...|  899999022|     899999022|                 NIT|     901380930|            AIRE SAS ESP|                  NIT|       901380930|        AIRE SAS ESP|    1577290422|          1577290422| MEJORAR LA CALID...|           MEJORAR LA CALID...|https://community...|      NO EXISTE PLURALI...|           EJECUTIVO|     MINAS Y ENERGIA|     MINAS Y ENERGIA|    9|2021|\n",
      "|      IDRDCTO0352018|     SECOP II|     BOGOTA|              BOGOTA|        MODIFICADO|2018-01-18 00:00:00| 2018-01-18 00:00:00|  2018-01-17 00:00:00|2019-01-16 00:00:00|CONTRATACION DIRECTA|PRESTACION DE SER...| CO1PCCNTR294732|CONTRATACION DIRECTA|BOGOTA - INSTITUT...|  860061099|     860061099|CEDULA DE CIUDADANIA|      52847619|    RUBY YOLIMA MATEU...| CEDULA DE CIUDADANIA|        52847619|RUBY YOLIMA MATEU...|      54000000|            54000000|10 PRESTAR SERVIC...|          10 PRESTAR SERVIC...|https://community...|      SERVICIOSPROFESIO...|           EJECUTIVO|             CULTURA|             CULTURA|    1|2018|\n",
      "|    CO1PCCNTR1102339|     SECOP II|   RIONEGRO|           ANTIOQUIA|            ACTIVO|2019-09-13 00:00:00| 2019-09-13 00:00:00|  2019-09-17 00:00:00|2019-12-17 00:00:00|CONTRATACION MINI...|PRESTACION DE SER...|CO1PCCNTR1102339|      MINIMA CUANTIA|SENA REGIONAL ANT...|  899999034|     899999034|                 NIT|     900439346|    PRODUCTOS MEDICOS...|                  NIT|       900439346|PRODUCTOS MEDICOS...|      13000000|            13000000|59503380 PRESTAR ...|          59503380 PRESTAR ...|https://community...|      PRESUPUESTO INFER...|           EJECUTIVO|             TRABAJO|             TRABAJO|    9|2019|\n",
      "|    CO1PCCNTR2214514|     SECOP II|   RIONEGRO|           ANTIOQUIA|      EN EJECUCION|2021-02-03 00:00:00| 2021-02-03 00:00:00|  2021-02-03 00:00:00|2021-12-30 00:00:00|CONTRATACION DIRECTA|PRESTACION DE SER...|CO1PCCNTR2214514|CONTRATACION DIRECTA|SENA REGIONAL ANT...|  899999034|     899999034|CEDULA DE CIUDADANIA|    1036938236|    JUAN SEBASTIAN LO...| CEDULA DE CIUDADANIA|      1036938236|JUAN SEBASTIAN LO...|      30220200|            30220200|59503394 PRESTAR ...|          59503394 PRESTAR ...|https://community...|      SERVICIOSPROFESIO...|           EJECUTIVO|             TRABAJO|             TRABAJO|    2|2021|\n",
      "|       JBBCTO1722021|     SECOP II|     BOGOTA|              BOGOTA|        MODIFICADO|2021-03-03 00:00:00| 2021-03-03 00:00:00|  2021-03-04 00:00:00|2021-12-03 00:00:00|CONTRATACION DIRECTA|PRESTACION DE SER...|CO1PCCNTR2318816|CONTRATACION DIRECTA|BOGOTA - JARDIN B...|  860030197|     860030197|CEDULA DE CIUDADANIA|      39555016|           NOMBRE FELISA| CEDULA DE CIUDADANIA|        39555016|       NOMBRE FELISA|      21240000|            21240000|808947683PRESTAR ...|          808947683PRESTAR ...|https://community...|      SERVICIOSPROFESIO...|CORPORACION AUTONOMA|AMBIENTE Y DESARR...|AMBIENTE Y DESARR...|    3|2021|\n",
      "|    CO1PCCNTR2207421|     SECOP II|     BOGOTA|              BOGOTA|      EN EJECUCION|2021-02-02 00:00:00| 2021-02-02 00:00:00|  2021-02-03 00:00:00|2021-07-31 00:00:00|CONTRATACION DIRECTA|PRESTACION DE SER...|CO1PCCNTR2207421|CONTRATACION DIRECTA|DEPARTAMENTO ADMI...|  899999027|     899999027|CEDULA DE CIUDADANIA|    1013581766|    LEIDY JOHANNA MOI...| CEDULA DE CIUDADANIA|      1013581766|LEIDY JOHANNA MOI...|      18936000|            18936000|99049633CENSOECON...|          99049633CENSOECON...|https://community...|      SERVICIOSPROFESIO...|           EJECUTIVO|INFORMACION ESTAD...|INFORMACION ESTAD...|    2|2021|\n",
      "|            12962021|     SECOP II|     BOGOTA|              BOGOTA|         TERMINADO|2021-03-26 00:00:00| 2021-03-26 00:00:00|  2021-03-26 00:00:00|2021-12-30 00:00:00|CONTRATACION DIRECTA|PRESTACION DE SER...|CO1PCCNTR2387047|CONTRATACION DIRECTA|MINISTERIO DE CUL...|  830034348|     830034348|CEDULA DE CIUDADANIA|      35505168|    MARIA FERNANDA SA...| CEDULA DE CIUDADANIA|        35505168|MARIA FERNANDA SA...|     101539167|           101539167|ACOMPAÑAR AL VICE...|          ACOMPAÑAR AL VICE...|https://community...|      SERVICIOSPROFESIO...|           EJECUTIVO|             CULTURA|             CULTURA|    3|2021|\n",
      "|    CO1PCCNTR1327113|     SECOP II|     BOGOTA|              BOGOTA|            ACTIVO|2020-02-26 00:00:00| 2020-02-26 00:00:00|  2020-02-28 00:00:00|2021-02-27 00:00:00|                null|         COMPRAVENTA|CO1PCCNTR1327113|CONTRATACION DIRE...|BOGOTA - CONTRALORIA|  800245133|     800245133|                 NIT|    8600010227|    CASA EDITORIAL EL...|                  NIT|      8600010227|CASA EDITORIAL EL...|       1053800|             1053800|ADQUISICION DE A ...|          ADQUISICION DE A ...|https://community...|      NO EXISTE PLURALI...|CORPORACION AUTONOMA|NO APLICANO PERTE...|NO APLICANO PERTE...|    2|2020|\n",
      "|         147 DE 2019|     SECOP II|     BOGOTA|              BOGOTA|        MODIFICADO|2019-08-28 00:00:00| 2019-08-28 00:00:00|  2019-08-21 00:00:00|2019-10-18 00:00:00|CONTRATACION MINI...|         COMPRAVENTA|CO1PCCNTR1075102|      MINIMA CUANTIA|INSTITUTO NACIONA...|  800215546|     800215546|                 NIT|     830146283|          MOVITRONIC SAS|                  NIT|       830146283|      MOVITRONIC SAS|       4800000|             4800000|ADQUISICION DE BI...|          ADQUISICION DE BI...|https://community...|      PRESUPUESTO INFER...|CORPORACION AUTONOMA|NO APLICANO PERTE...|NO APLICANO PERTE...|    8|2019|\n",
      "|     0084ARCCBN12020|     SECOP II|  CARTAGENA|             BOLIVAR|      EN EJECUCION|2020-09-01 00:00:00| 2020-09-01 00:00:00|  2020-09-01 00:00:00|2020-09-30 00:00:00|CONTRATACION MINI...|         COMPRAVENTA|CO1PCCNTR1799271|      MINIMA CUANTIA|ARMADA NACIONAL B...|  800141645|     800141645|                 NIT|     901188686|    DISTRIBUIDORA MAE...|                  NIT|       901188686|DISTRIBUIDORA MAE...|       2394000|             2394000|ADQUISICION DE CA...|          ADQUISICION DE CA...|https://community...|      PRESUPUESTO INFER...|           EJECUTIVO|             DEFENSA|             DEFENSA|    9|2020|\n",
      "|038  CENAC REGION...|     SECOP II|  FLORENCIA|             CAQUETA|            ACTIVO|2020-04-24 00:00:00| 2020-04-24 00:00:00|  2020-04-22 00:00:00|2020-05-01 00:00:00|CONTRATACION DIRECTA|         COMPRAVENTA|CO1PCCNTR1514776|CONTRATACION DIRECTA|CENTRAL ADMINISTR...|  808001433|     808001433|                 NIT|     900304743|    COMPAÑIA LIDER DE...|                  NIT|       900304743|COMPAÑIA LIDER DE...|       2628000|             2628000|ADQUISICION DE EL...|          ADQUISICION DE EL...|https://community...|       URGENCIA MANIFIESTA|           EJECUTIVO|             DEFENSA|             DEFENSA|    4|2020|\n",
      "|044CENACONVENIOS2021|     SECOP II|     BOGOTA|              BOGOTA|      EN EJECUCION|2021-07-08 00:00:00| 2021-07-08 00:00:00|  2021-07-12 00:00:00|2021-09-11 00:00:00|             SUBASTA|         COMPRAVENTA|CO1PCCNTR2635215|SELECCION ABREVIA...|CENTRAL ADMINISTR...|  900973540|     900973540|                 NIT|     830146283|          MOVITRONIC SAS|                  NIT|       830146283|      MOVITRONIC SAS|      91171610|            91171610|ADQUISICION DE EQ...|          ADQUISICION DE EQ...|https://community...|      SUMINISTRO DE BIE...|           EJECUTIVO|             DEFENSA|             DEFENSA|    7|2021|\n",
      "|      031ARCCBN42020|     SECOP II|NO DEFINIDO|SAN ANDRES PROVID...|      EN EJECUCION|2020-06-23 00:00:00| 2020-06-23 00:00:00|  2020-07-07 00:00:00|2020-11-20 00:00:00|CONTRATACION MINI...|         SUMINISTROS|CO1PCCNTR1642886|      MINIMA CUANTIA|ARMADA NACIONAL B...|  800141656|     800141656|                 NIT|    9004093813|    AGUA Y TIERRA LOG...|                  NIT|      9004093813|AGUA Y TIERRA LOG...|      26974437|            26974437|ADQUISICION DE HE...|          ADQUISICION DE HE...|https://community...|      PRESUPUESTO INFER...|           EJECUTIVO|             DEFENSA|             DEFENSA|    6|2020|\n",
      "|         CTO06712018|     SECOP II|     BOGOTA|              BOGOTA|         TERMINADO|2018-05-23 00:00:00| 2018-05-23 00:00:00|  2018-05-22 00:00:00|2018-08-30 00:00:00|SELECCION ABREVIA...|         COMPRAVENTA| CO1PCCNTR418553|SELECCION ABREVIA...|FONDO ROTATORIO D...|  860020227|     860020227|                 NIT|     800145548|     AB SEÑALIZACION SAS|                  NIT|       800145548| AB SEÑALIZACION SAS|      92263080|            92263080|ADQUISICION DE IN...|          ADQUISICION DE IN...|https://community...|      PRESUPUESTO MENOR...|           EJECUTIVO|             DEFENSA|             DEFENSA|    5|2018|\n",
      "|COMUNICACION DE A...|     SECOP II|       NILO|        CUNDINAMARCA|           CERRADO|2018-12-19 00:00:00| 2018-12-19 00:00:00|  2018-12-17 00:00:00|2018-12-27 00:00:00|CONTRATACION MINI...|         COMPRAVENTA| CO1PCCNTR692092|      MINIMA CUANTIA|CENTRAL ADMINISTR...|  800131049|     800131049|                 NIT|     860030360|    FERRETERIA FORERO SA|                  NIT|       860030360|FERRETERIA FORERO SA|      68386449|            68386449|ADQUISICION DE MA...|          ADQUISICION DE MA...|https://community...|      PRESUPUESTO INFER...|           EJECUTIVO|             DEFENSA|             DEFENSA|   12|2018|\n",
      "|02300HCACOM5GRUSE...|     SECOP II|NO DEFINIDO|           ANTIOQUIA|      EN EJECUCION|2021-06-15 00:00:00| 2021-06-15 00:00:00|  2021-06-23 00:00:00|2021-07-20 00:00:00|CONTRATACION MINI...|         COMPRAVENTA|CO1PCCNTR2588216|      MINIMA CUANTIA|COMANDO AEREO DE ...|  800141633|     800141633|                 NIT|     860513624|    INGENIERIA DE PRO...|                  NIT|       860513624|INGENIERIA DE PRO...|       8506239|             8506239|ADQUISICION DE MA...|          ADQUISICION DE MA...|https://community...|      PRESUPUESTO INFER...|           EJECUTIVO|             DEFENSA|             DEFENSA|    6|2021|\n",
      "|         398 DE 2018|     SECOP II|     BOGOTA|              BOGOTA|            ACTIVO|2018-05-28 00:00:00| 2018-05-28 00:00:00|  2018-05-25 00:00:00|2018-06-24 00:00:00|CONTRATACION MINI...|         COMPRAVENTA| CO1PCCNTR421905|      MINIMA CUANTIA|MINISTERIO DEL TR...|  830115226|     830115226|                 NIT|     900020751|    PANDAID SOLUCIONE...|                  NIT|       900020751|PANDAID SOLUCIONE...|       6291173|             6291173|ADQUISICION DE UN...|          ADQUISICION DE UN...|https://community...|      PRESUPUESTO INFER...|           EJECUTIVO|             TRABAJO|             TRABAJO|    5|2018|\n",
      "|           001992019|     SECOP II|     BOGOTA|              BOGOTA|            ACTIVO|2019-10-29 00:00:00| 2019-10-29 00:00:00|  2019-11-01 00:00:00|2019-11-30 00:00:00|             SUBASTA|         COMPRAVENTA|CO1PCCNTR1156816|SELECCION ABREVIA...|DIRECCION DE IMPU...|  800197268|     800197268|                 NIT|     900443044|      SAFETY IN DEEP SAS|                  NIT|       900443044|  SAFETY IN DEEP SAS|    1448953170|          1448953170|ADQUISICION DEL D...|          ADQUISICION DEL D...|https://community...|      SUMINISTRO DE BIE...|           EJECUTIVO|HACIENDA Y CREDIT...|HACIENDA Y CREDIT...|   10|2019|\n",
      "|        110CNT171198|     SECOP II|   MEDELLIN|           ANTIOQUIA|            ACTIVO|2018-08-08 00:00:00| 2018-08-08 00:00:00|  2017-11-24 00:00:00|2018-01-24 00:00:00|SELECCION ABREVIA...|         SUMINISTROS| CO1PCCNTR501912|SELECCION ABREVIA...|CORANTIOQUIA - CO...|  811000231|     811000231|                 NIT|     830034462|    INNOVACION TECNOL...|                  NIT|       830034462|INNOVACION TECNOL...|     176120000|           176120000|ADQUISICION E INS...|          ADQUISICION E INS...|https://community...|      PRESUPUESTO MENOR...|CORPORACION AUTONOMA|AMBIENTE Y DESARR...|AMBIENTE Y DESARR...|    8|2018|\n",
      "|          0110432020|     SECOP II|     BOGOTA|              BOGOTA|         TERMINADO|2020-07-03 00:00:00| 2020-07-03 00:00:00|  2020-07-03 00:00:00|2020-10-24 00:00:00|             SUBASTA|                OTRO|CO1PCCNTR1652769|SELECCION ABREVIA...|AGENCIA LOGISTICA...|  899999162|     899999162|                 NIT|     900126632|          LIMACOR MY SAS|                  NIT|       900126632|      LIMACOR MY SAS|      76819956|            76819956|ADQUISICION E INS...|          ADQUISICION E INS...|https://community...|      SUMINISTRO DE BIE...|           EJECUTIVO|             DEFENSA|             DEFENSA|    7|2020|\n",
      "+--------------------+-------------+-----------+--------------------+------------------+-------------------+--------------------+---------------------+-------------------+--------------------+--------------------+----------------+--------------------+--------------------+-----------+--------------+--------------------+--------------+------------------------+---------------------+----------------+--------------------+--------------+--------------------+--------------------+------------------------------+--------------------+--------------------------+--------------------+--------------------+--------------------+-----+----+\n",
      "only showing top 20 rows\n",
      "\n"
     ]
    },
    {
     "name": "stderr",
     "output_type": "stream",
     "text": [
      "                                                                                \r"
     ]
    }
   ],
   "source": [
    "columnas_referencia = ['REFERENCIA_CONTRATO','NIT_ENTIDAD']\n",
    "infraestructura_df_limpio = pyspark_etl_functions.limpiar_nulos_y_duplicados(paco_secop_df, columnas_referencia)\n",
    "infraestructura_df_limpio.show()"
   ]
  },
  {
   "cell_type": "code",
   "execution_count": 8,
   "metadata": {},
   "outputs": [
    {
     "name": "stderr",
     "output_type": "stream",
     "text": [
      "[Stage 19:===================================================>     (9 + 1) / 10]\r"
     ]
    },
    {
     "name": "stdout",
     "output_type": "stream",
     "text": [
      "+--------------------+-------------+-------------+--------------------+------------------+-------------------+--------------------+---------------------+-------------------+--------------------+--------------------+----------------+--------------------+--------------------+-----------+--------------+--------------------+--------------+------------------------+---------------------+----------------+--------------------+--------------+--------------------+--------------------+------------------------------+--------------------+--------------------------+--------------------+--------------------+--------------------+-----+----+\n",
      "| REFERENCIA_CONTRATO|BASE_DE_DATOS|    MUNICIPIO|        DEPARTAMENTO|ESTADO_DEL_PROCESO| FECHA_CARGUE_SECOP|FECHA_FIRMA_CONTRATO|FECHA_INICIO_CONTRATO| FECHA_FIN_CONTRATO|       CLASE_PROCESO|        TIPO_PROCESO|      ID_PROCESO|       TIPO_CONTRATO|      NOMBRE_ENTIDAD|NIT_ENTIDAD|CODIGO_ENTIDAD| TIPO_ID_CONTRATISTA|ID_CONTRATISTA|RAZON_SOCIAL_CONTRATISTA|TIPO_ID_REPRESENTANTE|ID_REPRESENTANTE|NOMBRE_REPRESENTANTE|VALOR_CONTRATO|VALOR_TOTAL_CONTRATO|  OBJETO_A_CONTRATAR|DETALLE_DEL_OBJETO_A_CONTRATAR|         URL_PROCESO|JUSTIFICACION_CONTRATACION|        NOMBRE_GRUPO|      NOMBRE_FAMILIA|        NOMBRE_CLASE|month|year|\n",
      "+--------------------+-------------+-------------+--------------------+------------------+-------------------+--------------------+---------------------+-------------------+--------------------+--------------------+----------------+--------------------+--------------------+-----------+--------------+--------------------+--------------+------------------------+---------------------+----------------+--------------------+--------------+--------------------+--------------------+------------------------------+--------------------+--------------------------+--------------------+--------------------+--------------------+-----+----+\n",
      "|    CDSECGRAL1692021|     SECOP II|    CARTAGENA|             BOLIVAR|        MODIFICADO|2021-01-19 00:00:00| 2021-01-19 00:00:00|  2021-01-20 00:00:00|2021-07-19 00:00:00|CONTRATACION DIRECTA|PRESTACION DE SER...|CO1PCCNTR2137589|CONTRATACION DIRECTA|BOLIVAR - CARTAGE...|  890480184|     890480184|CEDULA DE CIUDADANIA|    1047403306|    SANDRA MARCELA ME...| CEDULA DE CIUDADANIA|      1047403306|SANDRA MARCELA ME...|      27000000|            27000000|PRESTACION DE SER...|          PRESTACION DE SER...|https://community...|      SERVICIOSPROFESIO...|           EJECUTIVO|NO APLICANO PERTE...|NO APLICANO PERTE...|    1|2021|\n",
      "|            70092021|     SECOP II|       BOGOTA|              BOGOTA|      EN EJECUCION|2021-09-01 00:00:00| 2021-09-01 00:00:00|  2021-09-01 00:00:00|2021-11-30 00:00:00|    REGIMEN ESPECIAL|PRESTACION DE SER...|CO1PCCNTR2807716|CONTRATACION REGI...|BOGOTA - SUBRED I...|  900958564|     900958564|CEDULA DE CIUDADANIA|      52229239|    SANDRA YOLANDA BU...| CEDULA DE CIUDADANIA|        52229239|SANDRA YOLANDA BU...|       6697326|             6697326|PRESTAR SERVICIOS...|          PRESTAR SERVICIOS...|https://community...|           REGLA APLICABLE|           EJECUTIVO|SALUD Y PROTECCIO...|SALUD Y PROTECCIO...|    9|2021|\n",
      "|    CO1PCCNTR2239141|     SECOP II|  NO DEFINIDO|             CAQUETA|      EN EJECUCION|2021-02-09 00:00:00| 2021-02-09 00:00:00|  2021-02-15 00:00:00|2021-12-18 00:00:00|CONTRATACION DIRECTA|PRESTACION DE SER...|CO1PCCNTR2239141|CONTRATACION DIRECTA|SENA REGIONAL CAQ...|  899999034|     899999034|CEDULA DE CIUDADANIA|      40078772|    ANGELA MARIA ROJA...| CEDULA DE CIUDADANIA|        40078772|ANGELA MARIA ROJA...|      42280000|            42280000|PRESTAR LOS  SERV...|          PRESTAR LOS  SERV...|https://community...|      SERVICIOSPROFESIO...|           EJECUTIVO|             TRABAJO|             TRABAJO|    2|2021|\n",
      "|    CO1PCCNTR2628519|     SECOP II|      DUITAMA|              BOYACA|      EN EJECUCION|2021-06-30 00:00:00| 2021-06-30 00:00:00|  2021-06-30 00:00:00|2021-06-30 00:00:00|CONTRATACION DIRECTA|PRESTACION DE SER...|CO1PCCNTR2628519|CONTRATACION DIRECTA|BOYACA - DUITAMA ...|  891855138|     891855138|CEDULA DE CIUDADANIA|      46664169|    LUZ STELLA PACHEC...| CEDULA DE CIUDADANIA|        46664169|LUZ STELLA PACHEC...|      11034000|            11034000|PRESTACION DE SER...|          PRESTACION DE SER...|https://community...|      SERVICIOSPROFESIO...|           EJECUTIVO|    SERVICIO PUBLICO|    SERVICIO PUBLICO|    6|2021|\n",
      "|         CCS10202021|     SECOP II|       BOGOTA|              BOGOTA|            ACTIVO|2021-09-06 00:00:00| 2021-09-06 00:00:00|  1900-01-01 00:00:00|2021-12-31 00:00:00| CONCURSO DE MERITOS|         CONSULTORIA|CO1PCCNTR2749131|CONCURSO DE MERIT...|MINISTERIO DEL DE...|  899999306|     899999306|                 NIT|     830028126|    RMCONSTRUCCIONES ...|                  NIT|       830028126|RMCONSTRUCCIONES ...|     110825697|           110825697|INTERVENTORIA TEC...|          INTERVENTORIA TEC...|https://community...|          LEY 1150 DE 2007|           EJECUTIVO|            DEPORTES|            DEPORTES|    9|2021|\n",
      "|        202100000063|     SECOP II|  NO DEFINIDO|             CAQUETA|      EN EJECUCION|2021-02-19 00:00:00| 2021-02-19 00:00:00|  2021-02-23 00:00:00|2021-10-31 00:00:00|CONTRATACION DIRECTA|PRESTACION DE SER...|CO1PCCNTR2278556|CONTRATACION DIRECTA|CAQUETA - GOBERNA...|  800091594|     800091594|CEDULA DE CIUDADANIA|      17635270|    ARMANDO PARRA MEDINA| CEDULA DE CIUDADANIA|        17635270|ARMANDO PARRA MEDINA|      28016000|            28016000|PRESTAR LOS SERVI...|          PRESTAR LOS SERVI...|https://community...|      SERVICIOSPROFESIO...|           EJECUTIVO|NO APLICANO PERTE...|NO APLICANO PERTE...|    2|2021|\n",
      "|        0602 DE 2021|     SECOP II|VILLAVICENCIO|                META|         TERMINADO|2021-03-10 00:00:00| 2021-03-10 00:00:00|  2021-03-10 00:00:00|2021-08-09 00:00:00|CONTRATACION DIRECTA|PRESTACION DE SER...|CO1PCCNTR2331611|CONTRATACION DIRECTA|DEPARTAMENTO DEL ...| 8920001488|    8920001488|CEDULA DE CIUDADANIA|    1121855673|    EMILIANO BAQUERO ...| CEDULA DE CIUDADANIA|      1121855673|EMILIANO BAQUERO ...|      16430000|            16430000|FORTALECIMIENTO D...|          FORTALECIMIENTO D...|https://community...|      SERVICIOSPROFESIO...|           EJECUTIVO|    SERVICIO PUBLICO|    SERVICIO PUBLICO|    3|2021|\n",
      "|          BOG3372021|     SECOP II|       BOGOTA|              BOGOTA|      EN EJECUCION|2021-03-01 00:00:00| 2021-03-01 00:00:00|  2021-03-02 00:00:00|2021-11-02 00:00:00|CONTRATACION DIRECTA|PRESTACION DE SER...|CO1PCCNTR2306565|CONTRATACION DIRECTA|ESAP SEDE CENTRAL...|  899999054|     899999054|CEDULA DE CIUDADANIA|    1069727208|     ELIANA PRIETO PARRA| CEDULA DE CIUDADANIA|      1069727208| ELIANA PRIETO PARRA|      32000000|            32000000|PRESTAR SERVICIOS...|          PRESTAR SERVICIOS...|https://community...|      SERVICIOSPROFESIO...|           EJECUTIVO|    SERVICIO PUBLICO|    SERVICIO PUBLICO|    3|2021|\n",
      "|            41542021|     SECOP II|       BOGOTA|              BOGOTA|        MODIFICADO|2021-03-06 00:00:00| 2021-03-06 00:00:00|  2021-03-06 00:00:00|2021-10-31 00:00:00|    REGIMEN ESPECIAL|PRESTACION DE SER...|CO1PCCNTR2328171|CONTRATACION REGI...|BOGOTA - SUBRED I...|  900958564|     900958564|CEDULA DE CIUDADANIA|    1030588338|    DIANA MILENA SAND...| CEDULA DE CIUDADANIA|      1030588338|DIANA MILENA SAND...|      15298677|            15298677|PRESTAR SERVICIOS...|          PRESTAR SERVICIOS...|https://community...|           REGLA APLICABLE|           EJECUTIVO|SALUD Y PROTECCIO...|SALUD Y PROTECCIO...|    3|2021|\n",
      "|            22382021|     SECOP II|      POPAYAN|               CAUCA|      EN EJECUCION|2021-09-24 00:00:00| 2021-09-24 00:00:00|  2021-09-28 00:00:00|2021-12-31 00:00:00|CONTRATACION DIRECTA|PRESTACION DE SER...|CO1PCCNTR2851124|CONTRATACION DIRECTA| CAUCA - GOBERNACION|  891580016|     891580016|CEDULA DE CIUDADANIA|    1062283434|    SANTIAGO SIERRA S...| CEDULA DE CIUDADANIA|      1062283434|SANTIAGO SIERRA S...|      14660000|            14660000|     SIN DESCRIPCION|               SIN DESCRIPCION|https://community...|      SERVICIOSPROFESIO...|           EJECUTIVO|    SERVICIO PUBLICO|    SERVICIO PUBLICO|    9|2021|\n",
      "|CMACD259890834362021|     SECOP II|     MEDELLIN|           ANTIOQUIA|      EN EJECUCION|2021-08-06 00:00:00| 2021-08-06 00:00:00|  2021-08-06 00:00:00|2021-12-31 00:00:00|CONTRATACION DIRECTA|PRESTACION DE SER...|CO1PCCNTR2733858|CONTRATACION DIRECTA|ANTIOQUIA - INSTI...|  890980134|     890980134|CEDULA DE CIUDADANIA|      71366672|    ANDRES ESTEBAN RI...| CEDULA DE CIUDADANIA|        71366672|ANDRES ESTEBAN RI...|      23771493|            23771493|EL CONTRATISTA DE...|          EL CONTRATISTA DE...|https://community...|      SERVICIOSPROFESIO...|           EJECUTIVO|  EDUCACION NACIONAL|  EDUCACION NACIONAL|    8|2021|\n",
      "|          CPS3642021|     SECOP II|         CHIA|        CUNDINAMARCA|      EN EJECUCION|2021-04-21 00:00:00| 2021-04-21 00:00:00|  2021-04-22 00:00:00|2021-11-21 00:00:00|CONTRATACION DIRECTA|PRESTACION DE SER...|CO1PCCNTR2448434|CONTRATACION DIRECTA|CUNDINAMARCA - CH...|  899999172|     899999172|CEDULA DE CIUDADANIA|      35477302|    LUZ MERY PAEZ MOR...| CEDULA DE CIUDADANIA|        35477302|LUZ MERY PAEZ MOR...|      14000000|            14000000|PRESTACION DE SER...|          PRESTACION DE SER...|https://community...|      SERVICIOSPROFESIO...|           EJECUTIVO|    SERVICIO PUBLICO|    SERVICIO PUBLICO|    4|2021|\n",
      "|    CO1PCCNTR2670534|     SECOP II|      CALARCA|             QUINDIO|      EN EJECUCION|2021-07-14 00:00:00| 2021-07-14 00:00:00|  2021-07-15 00:00:00|2021-10-14 00:00:00|CONTRATACION DIRECTA|                OTRO|CO1PCCNTR2670534|CONTRATACION DIRECTA|QUINDIO - CALARCA...|  890000441|     890000441|CEDULA DE CIUDADANIA|      41948091|    FRANCILENY CABALL...| CEDULA DE CIUDADANIA|        41948091|FRANCILENY CABALL...|             0|                   0|APOYO A LA SECRET...|          APOYO A LA SECRET...|https://community...|      CONTRATOSCONVENIO...|           EJECUTIVO|NO APLICANO PERTE...|NO APLICANO PERTE...|    7|2021|\n",
      "|       4112060261024|     SECOP II|         CALI|     VALLE DEL CAUCA|      EN EJECUCION|2021-01-24 00:00:00| 2021-01-24 00:00:00|  2021-01-26 00:00:00|2021-04-30 00:00:00|CONTRATACION DIRECTA|PRESTACION DE SER...|CO1PCCNTR2166026|CONTRATACION DIRECTA|SANTIAGO DE CALI ...|  890399011|     890399011|CEDULA DE CIUDADANIA|    1143850087|    LINA MARCELA ARTU...| CEDULA DE CIUDADANIA|      1143850087|LINA MARCELA ARTU...|      14092000|            14092000|PRESTAR LOS SERVI...|          PRESTAR LOS SERVI...|https://community...|      SERVICIOSPROFESIO...|CORPORACION AUTONOMA|NO APLICANO PERTE...|NO APLICANO PERTE...|    1|2021|\n",
      "|            20112021|     SECOP II|      POPAYAN|               CAUCA|      EN EJECUCION|2021-08-09 00:00:00| 2021-08-09 00:00:00|  2021-08-10 00:00:00|2021-12-24 00:00:00|CONTRATACION DIRECTA|PRESTACION DE SER...|CO1PCCNTR2738108|CONTRATACION DIRECTA| CAUCA - GOBERNACION|  891580016|     891580016|CEDULA DE CIUDADANIA|       6393647|    JULIAN CAMILO PAZ...| CEDULA DE CIUDADANIA|         6393647|JULIAN CAMILO PAZ...|      15660000|            15660000|PRESTAR SERVICIOS...|          PRESTAR SERVICIOS...|https://community...|      SERVICIOSPROFESIO...|           EJECUTIVO|    SERVICIO PUBLICO|    SERVICIO PUBLICO|    8|2021|\n",
      "|      PLA1314PSP2021|     SECOP II|      ARMENIA|             QUINDIO|      EN EJECUCION|2021-06-24 00:00:00| 2021-06-24 00:00:00|  2021-06-24 00:00:00|2021-09-21 00:00:00|CONTRATACION DIRECTA|PRESTACION DE SER...|CO1PCCNTR2614508|CONTRATACION DIRECTA|QUINDIO - GOBERNA...|  890001639|     890001639|CEDULA DE CIUDADANIA|       7559535|    HENRY JARAMILLO G...| CEDULA DE CIUDADANIA|         7559535|HENRY JARAMILLO G...|       8655000|             8655000|PRESTACION DE SER...|          PRESTACION DE SER...|https://community...|      SERVICIOSPROFESIO...|           EJECUTIVO|NO APLICANO PERTE...|NO APLICANO PERTE...|    6|2021|\n",
      "|           IND210053|     SECOP II|         CALI|     VALLE DEL CAUCA|      EN EJECUCION|2021-04-27 00:00:00| 2021-04-27 00:00:00|  2021-04-29 00:00:00|2021-08-31 00:00:00|CONTRATACION DIRECTA|PRESTACION DE SER...|CO1PCCNTR2466616|CONTRATACION DIRECTA|INSTITUTO DEL DEP...|  805012896|     805012896|CEDULA DE CIUDADANIA|      16684061|       JUAN CARLOS PRADO| CEDULA DE CIUDADANIA|        16684061|   JUAN CARLOS PRADO|       7916000|             7916000|PRESTACION DE SER...|          PRESTACION DE SER...|https://community...|      SERVICIOSPROFESIO...|           EJECUTIVO|            DEPORTES|            DEPORTES|    4|2021|\n",
      "|    CO1PCCNTR2207421|     SECOP II|       BOGOTA|              BOGOTA|      EN EJECUCION|2021-02-02 00:00:00| 2021-02-02 00:00:00|  2021-02-03 00:00:00|2021-07-31 00:00:00|CONTRATACION DIRECTA|PRESTACION DE SER...|CO1PCCNTR2207421|CONTRATACION DIRECTA|DEPARTAMENTO ADMI...|  899999027|     899999027|CEDULA DE CIUDADANIA|    1013581766|    LEIDY JOHANNA MOI...| CEDULA DE CIUDADANIA|      1013581766|LEIDY JOHANNA MOI...|      18936000|            18936000|99049633CENSOECON...|          99049633CENSOECON...|https://community...|      SERVICIOSPROFESIO...|           EJECUTIVO|INFORMACION ESTAD...|INFORMACION ESTAD...|    2|2021|\n",
      "|    CO1PCCNTR2608311|     SECOP II|   SAN ANDRES|SAN ANDRES PROVID...|      EN EJECUCION|2021-06-25 00:00:00| 2021-06-25 00:00:00|  2021-06-28 00:00:00|2021-10-27 00:00:00|CONTRATACION DIRECTA|PRESTACION DE SER...|CO1PCCNTR2608311|CONTRATACION DIRECTA|GOBERNACION DEL D...|  892400038|     892400038|CEDULA DE CIUDADANIA|    1123635974|    ANDERSON SMITH CH...| CEDULA DE CIUDADANIA|      1123635974|ANDERSON SMITH CH...|       9204384|             9204384|PRESTAR SUS SERVI...|          PRESTAR SUS SERVI...|https://community...|      SERVICIOSPROFESIO...|           EJECUTIVO|NO APLICANO PERTE...|NO APLICANO PERTE...|    6|2021|\n",
      "|            62192021|     SECOP II|       BOGOTA|              BOGOTA|        MODIFICADO|2021-06-21 00:00:00| 2021-06-21 00:00:00|  2021-06-21 00:00:00|2021-07-31 00:00:00|    REGIMEN ESPECIAL|PRESTACION DE SER...|CO1PCCNTR2599107|CONTRATACION REGI...|BOGOTA - SUBRED I...|  900959048|     900959048|CEDULA DE CIUDADANIA|      28542833|    MARHA ROCIO GOMEZ...| CEDULA DE CIUDADANIA|        28542833|MARHA ROCIO GOMEZ...|       4092810|             4092810|PRESTAR SERVICIOS...|          PRESTAR SERVICIOS...|https://community...|           REGLA APLICABLE|           EJECUTIVO|SALUD Y PROTECCIO...|SALUD Y PROTECCIO...|    6|2021|\n",
      "+--------------------+-------------+-------------+--------------------+------------------+-------------------+--------------------+---------------------+-------------------+--------------------+--------------------+----------------+--------------------+--------------------+-----------+--------------+--------------------+--------------+------------------------+---------------------+----------------+--------------------+--------------+--------------------+--------------------+------------------------------+--------------------+--------------------------+--------------------+--------------------+--------------------+-----+----+\n",
      "only showing top 20 rows\n",
      "\n"
     ]
    },
    {
     "name": "stderr",
     "output_type": "stream",
     "text": [
      "                                                                                \r"
     ]
    }
   ],
   "source": [
    "infraestructura_df_limpio_2_anos = pyspark_etl_functions.filtrar_ultimos_anos(infraestructura_df_limpio, 2)\n",
    "infraestructura_df_limpio_2_anos.show()"
   ]
  },
  {
   "cell_type": "code",
   "execution_count": 9,
   "metadata": {},
   "outputs": [
    {
     "name": "stderr",
     "output_type": "stream",
     "text": [
      "                                                                                \r"
     ]
    },
    {
     "name": "stdout",
     "output_type": "stream",
     "text": [
      "+--------------------+-------------+--------------------+------------------+---------------------+-------------------+--------------------+--------------------+--------------------+--------------------+-----------+--------------+------------------------+--------------------+--------------------+--------------------+--------------------+-----+----+\n",
      "| REFERENCIA_CONTRATO|    MUNICIPIO|        DEPARTAMENTO|ESTADO_DEL_PROCESO|FECHA_INICIO_CONTRATO| FECHA_FIN_CONTRATO|       CLASE_PROCESO|        TIPO_PROCESO|       TIPO_CONTRATO|      NOMBRE_ENTIDAD|NIT_ENTIDAD|ID_CONTRATISTA|RAZON_SOCIAL_CONTRATISTA|VALOR_TOTAL_CONTRATO|        NOMBRE_GRUPO|      NOMBRE_FAMILIA|        NOMBRE_CLASE|month|year|\n",
      "+--------------------+-------------+--------------------+------------------+---------------------+-------------------+--------------------+--------------------+--------------------+--------------------+-----------+--------------+------------------------+--------------------+--------------------+--------------------+--------------------+-----+----+\n",
      "|    CDSECGRAL1692021|    CARTAGENA|             BOLIVAR|        MODIFICADO|  2021-01-20 00:00:00|2021-07-19 00:00:00|CONTRATACION DIRECTA|PRESTACION DE SER...|CONTRATACION DIRECTA|BOLIVAR - CARTAGE...|  890480184|    1047403306|    SANDRA MARCELA ME...|            27000000|           EJECUTIVO|NO APLICANO PERTE...|NO APLICANO PERTE...|    1|2021|\n",
      "|            70092021|       BOGOTA|              BOGOTA|      EN EJECUCION|  2021-09-01 00:00:00|2021-11-30 00:00:00|    REGIMEN ESPECIAL|PRESTACION DE SER...|CONTRATACION REGI...|BOGOTA - SUBRED I...|  900958564|      52229239|    SANDRA YOLANDA BU...|             6697326|           EJECUTIVO|SALUD Y PROTECCIO...|SALUD Y PROTECCIO...|    9|2021|\n",
      "|    CO1PCCNTR2239141|  NO DEFINIDO|             CAQUETA|      EN EJECUCION|  2021-02-15 00:00:00|2021-12-18 00:00:00|CONTRATACION DIRECTA|PRESTACION DE SER...|CONTRATACION DIRECTA|SENA REGIONAL CAQ...|  899999034|      40078772|    ANGELA MARIA ROJA...|            42280000|           EJECUTIVO|             TRABAJO|             TRABAJO|    2|2021|\n",
      "|    CO1PCCNTR2628519|      DUITAMA|              BOYACA|      EN EJECUCION|  2021-06-30 00:00:00|2021-06-30 00:00:00|CONTRATACION DIRECTA|PRESTACION DE SER...|CONTRATACION DIRECTA|BOYACA - DUITAMA ...|  891855138|      46664169|    LUZ STELLA PACHEC...|            11034000|           EJECUTIVO|    SERVICIO PUBLICO|    SERVICIO PUBLICO|    6|2021|\n",
      "|         CCS10202021|       BOGOTA|              BOGOTA|            ACTIVO|  1900-01-01 00:00:00|2021-12-31 00:00:00| CONCURSO DE MERITOS|         CONSULTORIA|CONCURSO DE MERIT...|MINISTERIO DEL DE...|  899999306|     830028126|    RMCONSTRUCCIONES ...|           110825697|           EJECUTIVO|            DEPORTES|            DEPORTES|    9|2021|\n",
      "|        202100000063|  NO DEFINIDO|             CAQUETA|      EN EJECUCION|  2021-02-23 00:00:00|2021-10-31 00:00:00|CONTRATACION DIRECTA|PRESTACION DE SER...|CONTRATACION DIRECTA|CAQUETA - GOBERNA...|  800091594|      17635270|    ARMANDO PARRA MEDINA|            28016000|           EJECUTIVO|NO APLICANO PERTE...|NO APLICANO PERTE...|    2|2021|\n",
      "|        0602 DE 2021|VILLAVICENCIO|                META|         TERMINADO|  2021-03-10 00:00:00|2021-08-09 00:00:00|CONTRATACION DIRECTA|PRESTACION DE SER...|CONTRATACION DIRECTA|DEPARTAMENTO DEL ...| 8920001488|    1121855673|    EMILIANO BAQUERO ...|            16430000|           EJECUTIVO|    SERVICIO PUBLICO|    SERVICIO PUBLICO|    3|2021|\n",
      "|          BOG3372021|       BOGOTA|              BOGOTA|      EN EJECUCION|  2021-03-02 00:00:00|2021-11-02 00:00:00|CONTRATACION DIRECTA|PRESTACION DE SER...|CONTRATACION DIRECTA|ESAP SEDE CENTRAL...|  899999054|    1069727208|     ELIANA PRIETO PARRA|            32000000|           EJECUTIVO|    SERVICIO PUBLICO|    SERVICIO PUBLICO|    3|2021|\n",
      "|            41542021|       BOGOTA|              BOGOTA|        MODIFICADO|  2021-03-06 00:00:00|2021-10-31 00:00:00|    REGIMEN ESPECIAL|PRESTACION DE SER...|CONTRATACION REGI...|BOGOTA - SUBRED I...|  900958564|    1030588338|    DIANA MILENA SAND...|            15298677|           EJECUTIVO|SALUD Y PROTECCIO...|SALUD Y PROTECCIO...|    3|2021|\n",
      "|            22382021|      POPAYAN|               CAUCA|      EN EJECUCION|  2021-09-28 00:00:00|2021-12-31 00:00:00|CONTRATACION DIRECTA|PRESTACION DE SER...|CONTRATACION DIRECTA| CAUCA - GOBERNACION|  891580016|    1062283434|    SANTIAGO SIERRA S...|            14660000|           EJECUTIVO|    SERVICIO PUBLICO|    SERVICIO PUBLICO|    9|2021|\n",
      "|CMACD259890834362021|     MEDELLIN|           ANTIOQUIA|      EN EJECUCION|  2021-08-06 00:00:00|2021-12-31 00:00:00|CONTRATACION DIRECTA|PRESTACION DE SER...|CONTRATACION DIRECTA|ANTIOQUIA - INSTI...|  890980134|      71366672|    ANDRES ESTEBAN RI...|            23771493|           EJECUTIVO|  EDUCACION NACIONAL|  EDUCACION NACIONAL|    8|2021|\n",
      "|          CPS3642021|         CHIA|        CUNDINAMARCA|      EN EJECUCION|  2021-04-22 00:00:00|2021-11-21 00:00:00|CONTRATACION DIRECTA|PRESTACION DE SER...|CONTRATACION DIRECTA|CUNDINAMARCA - CH...|  899999172|      35477302|    LUZ MERY PAEZ MOR...|            14000000|           EJECUTIVO|    SERVICIO PUBLICO|    SERVICIO PUBLICO|    4|2021|\n",
      "|    CO1PCCNTR2670534|      CALARCA|             QUINDIO|      EN EJECUCION|  2021-07-15 00:00:00|2021-10-14 00:00:00|CONTRATACION DIRECTA|                OTRO|CONTRATACION DIRECTA|QUINDIO - CALARCA...|  890000441|      41948091|    FRANCILENY CABALL...|                   0|           EJECUTIVO|NO APLICANO PERTE...|NO APLICANO PERTE...|    7|2021|\n",
      "|       4112060261024|         CALI|     VALLE DEL CAUCA|      EN EJECUCION|  2021-01-26 00:00:00|2021-04-30 00:00:00|CONTRATACION DIRECTA|PRESTACION DE SER...|CONTRATACION DIRECTA|SANTIAGO DE CALI ...|  890399011|    1143850087|    LINA MARCELA ARTU...|            14092000|CORPORACION AUTONOMA|NO APLICANO PERTE...|NO APLICANO PERTE...|    1|2021|\n",
      "|            20112021|      POPAYAN|               CAUCA|      EN EJECUCION|  2021-08-10 00:00:00|2021-12-24 00:00:00|CONTRATACION DIRECTA|PRESTACION DE SER...|CONTRATACION DIRECTA| CAUCA - GOBERNACION|  891580016|       6393647|    JULIAN CAMILO PAZ...|            15660000|           EJECUTIVO|    SERVICIO PUBLICO|    SERVICIO PUBLICO|    8|2021|\n",
      "|      PLA1314PSP2021|      ARMENIA|             QUINDIO|      EN EJECUCION|  2021-06-24 00:00:00|2021-09-21 00:00:00|CONTRATACION DIRECTA|PRESTACION DE SER...|CONTRATACION DIRECTA|QUINDIO - GOBERNA...|  890001639|       7559535|    HENRY JARAMILLO G...|             8655000|           EJECUTIVO|NO APLICANO PERTE...|NO APLICANO PERTE...|    6|2021|\n",
      "|           IND210053|         CALI|     VALLE DEL CAUCA|      EN EJECUCION|  2021-04-29 00:00:00|2021-08-31 00:00:00|CONTRATACION DIRECTA|PRESTACION DE SER...|CONTRATACION DIRECTA|INSTITUTO DEL DEP...|  805012896|      16684061|       JUAN CARLOS PRADO|             7916000|           EJECUTIVO|            DEPORTES|            DEPORTES|    4|2021|\n",
      "|    CO1PCCNTR2207421|       BOGOTA|              BOGOTA|      EN EJECUCION|  2021-02-03 00:00:00|2021-07-31 00:00:00|CONTRATACION DIRECTA|PRESTACION DE SER...|CONTRATACION DIRECTA|DEPARTAMENTO ADMI...|  899999027|    1013581766|    LEIDY JOHANNA MOI...|            18936000|           EJECUTIVO|INFORMACION ESTAD...|INFORMACION ESTAD...|    2|2021|\n",
      "|    CO1PCCNTR2608311|   SAN ANDRES|SAN ANDRES PROVID...|      EN EJECUCION|  2021-06-28 00:00:00|2021-10-27 00:00:00|CONTRATACION DIRECTA|PRESTACION DE SER...|CONTRATACION DIRECTA|GOBERNACION DEL D...|  892400038|    1123635974|    ANDERSON SMITH CH...|             9204384|           EJECUTIVO|NO APLICANO PERTE...|NO APLICANO PERTE...|    6|2021|\n",
      "|            62192021|       BOGOTA|              BOGOTA|        MODIFICADO|  2021-06-21 00:00:00|2021-07-31 00:00:00|    REGIMEN ESPECIAL|PRESTACION DE SER...|CONTRATACION REGI...|BOGOTA - SUBRED I...|  900959048|      28542833|    MARHA ROCIO GOMEZ...|             4092810|           EJECUTIVO|SALUD Y PROTECCIO...|SALUD Y PROTECCIO...|    6|2021|\n",
      "+--------------------+-------------+--------------------+------------------+---------------------+-------------------+--------------------+--------------------+--------------------+--------------------+-----------+--------------+------------------------+--------------------+--------------------+--------------------+--------------------+-----+----+\n",
      "only showing top 20 rows\n",
      "\n"
     ]
    }
   ],
   "source": [
    "columnas_a_conservar = [\n",
    "    \"REFERENCIA_CONTRATO\", \"MUNICIPIO\", \"DEPARTAMENTO\", \"ESTADO_DEL_PROCESO\",\n",
    "    \"FECHA_INICIO_CONTRATO\", \"FECHA_FIN_CONTRATO\", \"CLASE_PROCESO\", \"TIPO_PROCESO\",\n",
    "    \"TIPO_CONTRATO\", \"NOMBRE_ENTIDAD\", \"NIT_ENTIDAD\", \"ID_CONTRATISTA\", \"RAZON_SOCIAL_CONTRATISTA\",\n",
    "    \"VALOR_TOTAL_CONTRATO\", \"NOMBRE_GRUPO\", \"NOMBRE_FAMILIA\", \"NOMBRE_CLASE\", \"month\", \"year\"\n",
    "]\n",
    "\n",
    "infraestructura_df_seleccionado = pyspark_etl_functions.seleccionar_columnas(infraestructura_df_limpio_2_anos, columnas_a_conservar)\n",
    "infraestructura_df_seleccionado.show()"
   ]
  },
  {
   "cell_type": "code",
   "execution_count": 10,
   "metadata": {},
   "outputs": [
    {
     "name": "stderr",
     "output_type": "stream",
     "text": [
      "                                                                                \r"
     ]
    }
   ],
   "source": [
    "infraestructura_df_seleccionado.write.csv(\"etl_data/contratos_infraesructura_df.csv\", mode=\"overwrite\", header=True)"
   ]
  },
  {
   "cell_type": "code",
   "execution_count": 11,
   "metadata": {},
   "outputs": [
    {
     "name": "stderr",
     "output_type": "stream",
     "text": [
      "[Stage 33:>                                                         (0 + 4) / 4]\r"
     ]
    },
    {
     "name": "stdout",
     "output_type": "stream",
     "text": [
      "+-----------+--------------------+-------------+-------------------------+-----------------------------+-----------------+-------------------+------------------+-----------------+------------+----------+---------------------------+\n",
      "|NIT_ENTIDAD|      NOMBRE_ENTIDAD|num_contratos|suma_valor_total_contrato|promedio_valor_total_contrato|num_departamentos|num_estados_proceso|num_clases_proceso|num_tipos_proceso|num_familias|num_clases|meses_desde_ultimo_contrato|\n",
      "+-----------+--------------------+-------------+-------------------------+-----------------------------+-----------------+-------------------+------------------+-----------------+------------+----------+---------------------------+\n",
      "| 8999990611|SECRETARIA DISTRI...|         9833|             848531364134|          8.629425039499643E7|                1|                  5|                 7|               11|           1|         1|                         19|\n",
      "|  900971006|BOGOTA - ESE SUBR...|         9023|             228202671554|         2.5291219278953783E7|                1|                  4|                 1|                6|           1|         1|                         19|\n",
      "|  899999239|INSTITUTO COLOMBI...|         9004|            3862769591782|          4.290059519971124E8|               27|                  6|                 7|               13|           3|         3|                         19|\n",
      "|  900959048|BOGOTA - SUBRED I...|         6918|             537532626181|           7.77005819862677E7|                1|                  5|                 2|                6|           1|         1|                         19|\n",
      "|  900959051|SUBRED INTEGRADA ...|         6510|             196673858120|         3.0211038113671277E7|                1|                  6|                 3|                9|           1|         1|                         19|\n",
      "|  900958564|BOGOTA - SUBRED I...|         6229|             206851774139|         3.3207862279499117E7|                1|                  5|                 1|                7|           1|         1|                         19|\n",
      "|  899999027|DEPARTAMENTO ADMI...|         5635|              87548446400|         1.5536547719609583E7|                2|                  7|                 5|                7|           1|         1|                         19|\n",
      "|  891480030|MUNICIPIO DE PERE...|         5089|             245083504630|         4.8159462493613675E7|                1|                  7|                 7|               11|           1|         1|                         19|\n",
      "|  899999034|SERVICIO NACIONAL...|         4279|             161584178459|           3.77621356529563E7|                9|                  6|                 5|                7|           3|         3|                         19|\n",
      "|  890480184|BOLIVAR - CARTAGE...|         4063|             251784018416|          6.196997745902043E7|                1|                  6|                 7|               14|           1|         1|                         19|\n",
      "|  890102018|ATLANTICO - BARRA...|         4010|             868532354892|         2.1659160969875312E8|                1|                  6|                 7|               12|           1|         1|                         19|\n",
      "|  900498879|UNIDAD DE RESTITU...|         3996|             127512350350|         3.1909997585085087E7|                1|                  6|                 6|                9|           1|         1|                         19|\n",
      "|  890102006|ATLANTICO - GOBER...|         3908|             542910858967|         1.3892294241734904E8|                1|                  6|                 7|               10|           1|         1|                         19|\n",
      "|  890980134|ANTIOQUIA - INSTI...|         3665|              59557891968|         1.6250448013096862E7|                1|                  5|                 1|                1|           1|         1|                         19|\n",
      "|  890000464|MUNICIPIO DE ARME...|         3596|              87551050385|         2.4346788204949945E7|                1|                  6|                 7|               12|           1|         1|                         19|\n",
      "|  891280000|NARIÑO - PASTO - ...|         3270|              88457672578|         2.7051276017737005E7|                1|                  7|                 7|               12|           1|         1|                         19|\n",
      "|  899999069|INSTITUTO COLOMBI...|         3258|             187351600232|          5.750509522160835E7|                1|                  6|                 6|               10|           1|         1|                         19|\n",
      "|  800194096|ANTIOQUIA - INSTI...|         3247|              60704040132|         1.8695423508469358E7|                1|                  5|                 4|                9|           1|         1|                         19|\n",
      "|  892400038|GOBERNACION DEL D...|         2999|             117738139067|          3.925913273324441E7|                1|                  6|                 6|                8|           1|         1|                         19|\n",
      "|  891800498|BOYACA - GOBERNACION|         2788|             235371391233|           8.44230241151363E7|                1|                  5|                 7|               12|           1|         1|                         19|\n",
      "+-----------+--------------------+-------------+-------------------------+-----------------------------+-----------------+-------------------+------------------+-----------------+------------+----------+---------------------------+\n",
      "only showing top 20 rows\n",
      "\n"
     ]
    },
    {
     "name": "stderr",
     "output_type": "stream",
     "text": [
      "                                                                                \r"
     ]
    }
   ],
   "source": [
    "infraestructura_df_agregado = pyspark_etl_functions.agregar_por_nit_entidad(infraestructura_df_seleccionado)\n",
    "infraestructura_df_agregado.show()\n"
   ]
  },
  {
   "cell_type": "code",
   "execution_count": 12,
   "metadata": {},
   "outputs": [
    {
     "name": "stderr",
     "output_type": "stream",
     "text": [
      "[Stage 43:>                                                         (0 + 4) / 5]\r"
     ]
    },
    {
     "name": "stdout",
     "output_type": "stream",
     "text": [
      "23/05/04 04:42:19 WARN RowBasedKeyValueBatch: Calling spill() on RowBasedKeyValueBatch. Will not spill but return 0.\n",
      "23/05/04 04:42:19 WARN RowBasedKeyValueBatch: Calling spill() on RowBasedKeyValueBatch. Will not spill but return 0.\n",
      "23/05/04 04:42:19 WARN RowBasedKeyValueBatch: Calling spill() on RowBasedKeyValueBatch. Will not spill but return 0.\n",
      "23/05/04 04:42:19 WARN RowBasedKeyValueBatch: Calling spill() on RowBasedKeyValueBatch. Will not spill but return 0.\n",
      "23/05/04 04:42:19 WARN RowBasedKeyValueBatch: Calling spill() on RowBasedKeyValueBatch. Will not spill but return 0.\n",
      "23/05/04 04:42:19 WARN RowBasedKeyValueBatch: Calling spill() on RowBasedKeyValueBatch. Will not spill but return 0.\n",
      "23/05/04 04:42:19 WARN RowBasedKeyValueBatch: Calling spill() on RowBasedKeyValueBatch. Will not spill but return 0.\n",
      "23/05/04 04:42:19 WARN RowBasedKeyValueBatch: Calling spill() on RowBasedKeyValueBatch. Will not spill but return 0.\n"
     ]
    },
    {
     "name": "stderr",
     "output_type": "stream",
     "text": [
      "[Stage 43:==============================================>           (4 + 1) / 5]\r"
     ]
    },
    {
     "name": "stdout",
     "output_type": "stream",
     "text": [
      "+-----------+--------------------+---------+------+------+-------+-----------+--------+----+--------+--------+-----+-------+---------+-------+-----+---------------------------------------+------+------+---------------+------------+----------+------+------+------------------+------+-----+-----+---------+-------+---------+--------+---------+-------+-------+-----+\n",
      "|NIT_ENTIDAD|      NOMBRE_ENTIDAD|SANTANDER|VAUPES|NARIÑO|CAQUETA|NO DEFINIDO|CASANARE|META|AMAZONAS|GUAVIARE|CAUCA|VICHADA|ANTIOQUIA|QUINDIO|CHOCO|SAN ANDRES PROVIDENCIA Y SANTA CATALINA|CALDAS|BOYACA|VALLE DEL CAUCA|CUNDINAMARCA|LA GUAJIRA|TOLIMA|ARAUCA|NORTE DE SANTANDER|BOGOTA|HUILA|SUCRE|ATLANTICO|BOLIVAR|RISARALDA|PUTUMAYO|MAGDALENA|GUAINIA|CORDOBA|CESAR|\n",
      "+-----------+--------------------+---------+------+------+-------+-----------+--------+----+--------+--------+-----+-------+---------+-------+-----+---------------------------------------+------+------+---------------+------------+----------+------+------+------------------+------+-----+-----+---------+-------+---------+--------+---------+-------+-------+-----+\n",
      "|  805027641|INSTITUCION EDUCA...|        0|     0|     0|      0|          0|       0|   0|       0|       0|    0|      0|        0|      0|    0|                                      0|     0|     0|             21|           0|         0|     0|     0|                 0|     0|    0|    0|        0|      0|        0|       0|        0|      0|      0|    0|\n",
      "|  899999034|SENA REGIONAL CAL...|        0|     0|     0|      0|          0|       0|   0|       0|       0|    0|      0|        0|      0|    0|                                      0|   143|     0|              0|           0|         0|     0|     0|                 0|     0|    0|    0|        0|      0|        0|       0|        0|      0|      0|    0|\n",
      "| 8605110716|FONDO ROTATORIO D...|        0|     0|     0|      0|          0|       0|   0|       0|       0|    0|      0|        0|      0|    0|                                      0|     0|     0|              0|           0|         0|     0|     0|                 0|   178|    0|    0|        0|      0|        0|       0|        0|      0|      0|    0|\n",
      "|  830063506|BOGOTA - TRANSMIL...|        0|     0|     0|      0|          0|       0|   0|       0|       0|    0|      0|        0|      0|    0|                                      0|     0|     0|              0|           0|         0|     0|     0|                 0|  1171|    0|    0|        0|      0|        0|       0|        0|      0|      0|    0|\n",
      "|  900816913|ESTABLECIMIENTO P...|        0|     0|     0|      0|          0|       0|   0|       0|       0|    0|      0|        0|      0|    0|                                      0|     0|     0|              1|           0|         0|     0|     0|                 0|     0|    0|    0|        0|      0|        0|       0|        0|      0|      0|    0|\n",
      "|  890000858|MUNICIPIO DE MONT...|        0|     0|     0|      0|          0|       0|   0|       0|       0|    0|      0|        0|    174|    0|                                      0|     0|     0|              0|           0|         0|     0|     0|                 0|     0|    0|    0|        0|      0|        0|       0|        0|      0|      0|    0|\n",
      "|  900490473|UARIVUNIDAD PARA ...|        0|     0|     0|      0|          0|       0|   0|       0|       0|    0|      0|        0|      0|    0|                                      0|     0|     0|              0|           0|         0|     0|     0|                 0|  1452|    0|    0|        0|      0|        0|       0|        0|      0|      0|    0|\n",
      "|  900478966|UNIDAD NACIONAL P...|        0|     0|     0|      0|          0|       0|   0|       0|       0|    0|      0|        0|      0|    0|                                      0|     0|     0|              0|           0|         0|     0|     0|                 0|    85|    0|    0|        0|      0|        0|       0|        0|      0|      0|    0|\n",
      "|  830000167|INSTITUTO NACIONA...|        0|     0|     0|      0|          0|       0|   0|       0|       0|    0|      0|        0|      0|    0|                                      0|     0|     0|              0|           0|         0|     0|     0|                 0|   647|    0|    0|        0|      0|        0|       0|        0|      0|      0|    0|\n",
      "|  811010104|INSTITUTO NACIONA...|        0|     0|     0|      0|          0|       0|   0|       0|       0|    0|      0|       20|      0|    0|                                      0|     0|     0|              0|           0|         0|     0|     0|                 0|     0|    0|    0|        0|      0|        0|       0|        0|      0|      0|    0|\n",
      "|  890001879|QUINDIO - BUENAVI...|        0|     0|     0|      0|          0|       0|   0|       0|       0|    0|      0|        0|      4|    0|                                      0|     0|     0|              0|           0|         0|     0|     0|                 0|     0|    0|    0|        0|      0|        0|       0|        0|      0|      0|    0|\n",
      "|  800194096|ANTIOQUIA - INSTI...|        0|     0|     0|      0|          0|       0|   0|       0|       0|    0|      0|     3247|      0|    0|                                      0|     0|     0|              0|           0|         0|     0|     0|                 0|     0|    0|    0|        0|      0|        0|       0|        0|      0|      0|    0|\n",
      "|  890981207|ANTIOQUIA - LA CE...|        0|     0|     0|      0|          0|       0|   0|       0|       0|    0|      0|      135|      0|    0|                                      0|     0|     0|              0|           0|         0|     0|     0|                 0|     0|    0|    0|        0|      0|        0|       0|        0|      0|      0|    0|\n",
      "|  899999069|INSTITUTO COLOMBI...|        0|     0|     0|      0|          0|       0|  34|       0|       0|    0|      0|        0|      0|    0|                                      0|     0|     0|              0|           0|         0|     0|     0|                 0|     0|    0|    0|        0|      0|        0|       0|        0|      0|      0|    0|\n",
      "|  804003036|CARCEL Y PENITENC...|       21|     0|     0|      0|          0|       0|   0|       0|       0|    0|      0|        0|      0|    0|                                      0|     0|     0|              0|           0|         0|     0|     0|                 0|     0|    0|    0|        0|      0|        0|       0|        0|      0|      0|    0|\n",
      "|  891900289|VALLE DEL CAUCA -...|        0|     0|     0|      0|          0|       0|   0|       0|       0|    0|      0|        0|      0|    0|                                      0|     0|     0|             42|           0|         0|     0|     0|                 0|     0|    0|    0|        0|      0|        0|       0|        0|      0|      0|    0|\n",
      "|  901074333|MINISTERIO DEL TR...|        0|     0|     0|      0|          0|       0|   0|       0|       0|    0|      0|        0|      0|    0|                                      0|     0|     0|              0|           5|         0|     0|     0|                 0|     0|    0|    0|        0|      0|        0|       0|        0|      0|      0|    0|\n",
      "|  890906445|    CONCEJO CAUCASIA|        0|     0|     0|      0|          0|       0|   0|       0|       0|    0|      0|        3|      0|    0|                                      0|     0|     0|              0|           0|         0|     0|     0|                 0|     0|    0|    0|        0|      0|        0|       0|        0|      0|      0|    0|\n",
      "|  890680059|CUNDINAMARCA - RI...|        0|     0|     0|      0|          0|       0|   0|       0|       0|    0|      0|        0|      0|    0|                                      0|     0|     0|              0|         119|         0|     0|     0|                 0|     0|    0|    0|        0|      0|        0|       0|        0|      0|      0|    0|\n",
      "|  802008282|INSTITUTO NACIONA...|        0|     0|     0|      0|          0|       0|   0|       0|       0|    0|      0|        0|      0|    0|                                      0|     0|     0|              0|           0|         0|     0|     0|                 0|     0|    0|    0|        6|      0|        0|       0|        0|      0|      0|    0|\n",
      "+-----------+--------------------+---------+------+------+-------+-----------+--------+----+--------+--------+-----+-------+---------+-------+-----+---------------------------------------+------+------+---------------+------------+----------+------+------+------------------+------+-----+-----+---------+-------+---------+--------+---------+-------+-------+-----+\n",
      "only showing top 20 rows\n",
      "\n"
     ]
    },
    {
     "name": "stderr",
     "output_type": "stream",
     "text": [
      "                                                                                \r"
     ]
    }
   ],
   "source": [
    "infraestructura_df_pivotado = pyspark_etl_functions.pivotar_por_columna(infraestructura_df_seleccionado, \"DEPARTAMENTO\")\n",
    "infraestructura_df_pivotado.show()\n"
   ]
  },
  {
   "cell_type": "code",
   "execution_count": 13,
   "metadata": {},
   "outputs": [
    {
     "name": "stderr",
     "output_type": "stream",
     "text": [
      "[Stage 54:==============>   (4 + 1) / 5][Stage 56:>                 (0 + 3) / 5]\r"
     ]
    },
    {
     "name": "stdout",
     "output_type": "stream",
     "text": [
      "23/05/04 04:42:46 WARN RowBasedKeyValueBatch: Calling spill() on RowBasedKeyValueBatch. Will not spill but return 0.\n",
      "23/05/04 04:42:46 WARN RowBasedKeyValueBatch: Calling spill() on RowBasedKeyValueBatch. Will not spill but return 0.\n",
      "23/05/04 04:42:46 WARN RowBasedKeyValueBatch: Calling spill() on RowBasedKeyValueBatch. Will not spill but return 0.\n",
      "23/05/04 04:42:46 WARN RowBasedKeyValueBatch: Calling spill() on RowBasedKeyValueBatch. Will not spill but return 0.\n",
      "23/05/04 04:42:47 WARN RowBasedKeyValueBatch: Calling spill() on RowBasedKeyValueBatch. Will not spill but return 0.\n",
      "23/05/04 04:42:47 WARN RowBasedKeyValueBatch: Calling spill() on RowBasedKeyValueBatch. Will not spill but return 0.\n"
     ]
    },
    {
     "name": "stderr",
     "output_type": "stream",
     "text": [
      "[Stage 56:>                 (0 + 4) / 5][Stage 59:>                 (0 + 0) / 4]\r"
     ]
    },
    {
     "name": "stdout",
     "output_type": "stream",
     "text": [
      "23/05/04 04:42:48 WARN RowBasedKeyValueBatch: Calling spill() on RowBasedKeyValueBatch. Will not spill but return 0.\n",
      "23/05/04 04:42:48 WARN RowBasedKeyValueBatch: Calling spill() on RowBasedKeyValueBatch. Will not spill but return 0.\n"
     ]
    },
    {
     "name": "stderr",
     "output_type": "stream",
     "text": [
      "                                                                                \r"
     ]
    },
    {
     "name": "stdout",
     "output_type": "stream",
     "text": [
      "+-----------+--------------------+-------------+-------------------------+-----------------------------+-----------------+-------------------+------------------+-----------------+------------+----------+---------------------------+---------+------+------+-------+-----------+--------+----+--------+--------+-----+-------+---------+-------+-----+---------------------------------------+------+------+---------------+------------+----------+------+------+------------------+------+-----+-----+---------+-------+---------+--------+---------+-------+-------+-----+\n",
      "|NIT_ENTIDAD|      NOMBRE_ENTIDAD|num_contratos|suma_valor_total_contrato|promedio_valor_total_contrato|num_departamentos|num_estados_proceso|num_clases_proceso|num_tipos_proceso|num_familias|num_clases|meses_desde_ultimo_contrato|SANTANDER|VAUPES|NARIÑO|CAQUETA|NO DEFINIDO|CASANARE|META|AMAZONAS|GUAVIARE|CAUCA|VICHADA|ANTIOQUIA|QUINDIO|CHOCO|SAN ANDRES PROVIDENCIA Y SANTA CATALINA|CALDAS|BOYACA|VALLE DEL CAUCA|CUNDINAMARCA|LA GUAJIRA|TOLIMA|ARAUCA|NORTE DE SANTANDER|BOGOTA|HUILA|SUCRE|ATLANTICO|BOLIVAR|RISARALDA|PUTUMAYO|MAGDALENA|GUAINIA|CORDOBA|CESAR|\n",
      "+-----------+--------------------+-------------+-------------------------+-----------------------------+-----------------+-------------------+------------------+-----------------+------------+----------+---------------------------+---------+------+------+-------+-----------+--------+----+--------+--------+-----+-------+---------+-------+-----+---------------------------------------+------+------+---------------+------------+----------+------+------+------------------+------+-----+-----+---------+-------+---------+--------+---------+-------+-------+-----+\n",
      "|  805027641|INSTITUCION EDUCA...|           21|                143107415|             6814638.80952381|                1|                  2|                 2|                4|           1|         1|                         20|        0|     0|     0|      0|          0|       0|   0|       0|       0|    0|      0|        0|      0|    0|                                      0|     0|     0|             21|           0|         0|     0|     0|                 0|     0|    0|    0|        0|      0|        0|       0|        0|      0|      0|    0|\n",
      "|  899999034|SENA REGIONAL CAL...|          143|               4797008008|         3.3545510545454547E7|                1|                  4|                 3|                3|           1|         1|                         19|        0|     0|     0|      0|          0|       0|   0|       0|       0|    0|      0|        0|      0|    0|                                      0|   143|     0|              0|           0|         0|     0|     0|                 0|     0|    0|    0|        0|      0|        0|       0|        0|      0|      0|    0|\n",
      "| 8605110716|FONDO ROTATORIO D...|          178|              25267081930|         1.4194989848314607E8|                1|                  7|                 6|                9|           1|         1|                         20|        0|     0|     0|      0|          0|       0|   0|       0|       0|    0|      0|        0|      0|    0|                                      0|     0|     0|              0|           0|         0|     0|     0|                 0|   178|    0|    0|        0|      0|        0|       0|        0|      0|      0|    0|\n",
      "|  830063506|BOGOTA - TRANSMIL...|         1171|             181157002383|         1.5470282013919726E8|                1|                  7|                 7|               12|           1|         1|                         19|        0|     0|     0|      0|          0|       0|   0|       0|       0|    0|      0|        0|      0|    0|                                      0|     0|     0|              0|           0|         0|     0|     0|                 0|  1171|    0|    0|        0|      0|        0|       0|        0|      0|      0|    0|\n",
      "|  900816913|ESTABLECIMIENTO P...|            1|                223000000|                       2.23E8|                1|                  1|                 0|                1|           1|         1|                         19|        0|     0|     0|      0|          0|       0|   0|       0|       0|    0|      0|        0|      0|    0|                                      0|     0|     0|              1|           0|         0|     0|     0|                 0|     0|    0|    0|        0|      0|        0|       0|        0|      0|      0|    0|\n",
      "|  890000858|MUNICIPIO DE MONT...|          174|               1886039839|          1.083930941954023E7|                1|                  3|                 3|                4|           1|         1|                         19|        0|     0|     0|      0|          0|       0|   0|       0|       0|    0|      0|        0|    174|    0|                                      0|     0|     0|              0|           0|         0|     0|     0|                 0|     0|    0|    0|        0|      0|        0|       0|        0|      0|      0|    0|\n",
      "|  900490473|UARIVUNIDAD PARA ...|         1452|             233979414526|         1.6114284746969697E8|                1|                  6|                 4|                6|           1|         1|                         19|        0|     0|     0|      0|          0|       0|   0|       0|       0|    0|      0|        0|      0|    0|                                      0|     0|     0|              0|           0|         0|     0|     0|                 0|  1452|    0|    0|        0|      0|        0|       0|        0|      0|      0|    0|\n",
      "|  900478966|UNIDAD NACIONAL P...|           85|               4337538838|          5.102986868235294E7|                1|                  4|                 4|                7|           1|         1|                         20|        0|     0|     0|      0|          0|       0|   0|       0|       0|    0|      0|        0|      0|    0|                                      0|     0|     0|              0|           0|         0|     0|     0|                 0|    85|    0|    0|        0|      0|        0|       0|        0|      0|      0|    0|\n",
      "|  830000167|INSTITUTO NACIONA...|          647|              47836698144|          7.393616405564143E7|                1|                  6|                 6|                7|           1|         1|                         19|        0|     0|     0|      0|          0|       0|   0|       0|       0|    0|      0|        0|      0|    0|                                      0|     0|     0|              0|           0|         0|     0|     0|                 0|   647|    0|    0|        0|      0|        0|       0|        0|      0|      0|    0|\n",
      "|  811010104|INSTITUTO NACIONA...|           20|                 84523674|                    4226183.7|                1|                  3|                 1|                2|           1|         1|                         19|        0|     0|     0|      0|          0|       0|   0|       0|       0|    0|      0|       20|      0|    0|                                      0|     0|     0|              0|           0|         0|     0|     0|                 0|     0|    0|    0|        0|      0|        0|       0|        0|      0|      0|    0|\n",
      "|  890001879|QUINDIO - BUENAVI...|            4|                111998053|                2.799951325E7|                1|                  2|                 1|                1|           1|         1|                         21|        0|     0|     0|      0|          0|       0|   0|       0|       0|    0|      0|        0|      4|    0|                                      0|     0|     0|              0|           0|         0|     0|     0|                 0|     0|    0|    0|        0|      0|        0|       0|        0|      0|      0|    0|\n",
      "|  800194096|ANTIOQUIA - INSTI...|         3247|              60704040132|         1.8695423508469358E7|                1|                  5|                 4|                9|           1|         1|                         19|        0|     0|     0|      0|          0|       0|   0|       0|       0|    0|      0|     3247|      0|    0|                                      0|     0|     0|              0|           0|         0|     0|     0|                 0|     0|    0|    0|        0|      0|        0|       0|        0|      0|      0|    0|\n",
      "|  890981207|ANTIOQUIA - LA CE...|          135|              18254407750|          1.352178351851852E8|                1|                  6|                 6|                8|           1|         1|                         19|        0|     0|     0|      0|          0|       0|   0|       0|       0|    0|      0|      135|      0|    0|                                      0|     0|     0|              0|           0|         0|     0|     0|                 0|     0|    0|    0|        0|      0|        0|       0|        0|      0|      0|    0|\n",
      "|  899999069|INSTITUTO COLOMBI...|           34|                275329002|            8097911.823529412|                1|                  2|                 2|                3|           1|         1|                         19|        0|     0|     0|      0|          0|       0|  34|       0|       0|    0|      0|        0|      0|    0|                                      0|     0|     0|              0|           0|         0|     0|     0|                 0|     0|    0|    0|        0|      0|        0|       0|        0|      0|      0|    0|\n",
      "|  804003036|CARCEL Y PENITENC...|           21|               1178206927|          5.610509176190476E7|                1|                  2|                 2|                3|           1|         1|                         21|       21|     0|     0|      0|          0|       0|   0|       0|       0|    0|      0|        0|      0|    0|                                      0|     0|     0|              0|           0|         0|     0|     0|                 0|     0|    0|    0|        0|      0|        0|       0|        0|      0|      0|    0|\n",
      "|  891900289|VALLE DEL CAUCA -...|           42|                626303315|          1.491198369047619E7|                1|                  1|                 2|                4|           1|         1|                         19|        0|     0|     0|      0|          0|       0|   0|       0|       0|    0|      0|        0|      0|    0|                                      0|     0|     0|             42|           0|         0|     0|     0|                 0|     0|    0|    0|        0|      0|        0|       0|        0|      0|      0|    0|\n",
      "|  901074333|MINISTERIO DEL TR...|            5|                110633000|                    2.21266E7|                1|                  1|                 1|                1|           1|         1|                         25|        0|     0|     0|      0|          0|       0|   0|       0|       0|    0|      0|        0|      0|    0|                                      0|     0|     0|              0|           5|         0|     0|     0|                 0|     0|    0|    0|        0|      0|        0|       0|        0|      0|      0|    0|\n",
      "|  890906445|    CONCEJO CAUCASIA|            3|                 45852880|         1.5284293333333334E7|                1|                  2|                 2|                2|           1|         1|                         20|        0|     0|     0|      0|          0|       0|   0|       0|       0|    0|      0|        3|      0|    0|                                      0|     0|     0|              0|           0|         0|     0|     0|                 0|     0|    0|    0|        0|      0|        0|       0|        0|      0|      0|    0|\n",
      "|  890680059|CUNDINAMARCA - RI...|          119|               4239680998|           3.56275714117647E7|                1|                  5|                 5|                5|           1|         1|                         20|        0|     0|     0|      0|          0|       0|   0|       0|       0|    0|      0|        0|      0|    0|                                      0|     0|     0|              0|         119|         0|     0|     0|                 0|     0|    0|    0|        0|      0|        0|       0|        0|      0|      0|    0|\n",
      "|  802008282|INSTITUTO NACIONA...|            6|                502879602|                  8.3813267E7|                1|                  2|                 2|                3|           1|         1|                         21|        0|     0|     0|      0|          0|       0|   0|       0|       0|    0|      0|        0|      0|    0|                                      0|     0|     0|              0|           0|         0|     0|     0|                 0|     0|    0|    0|        6|      0|        0|       0|        0|      0|      0|    0|\n",
      "+-----------+--------------------+-------------+-------------------------+-----------------------------+-----------------+-------------------+------------------+-----------------+------------+----------+---------------------------+---------+------+------+-------+-----------+--------+----+--------+--------+-----+-------+---------+-------+-----+---------------------------------------+------+------+---------------+------------+----------+------+------+------------------+------+-----+-----+---------+-------+---------+--------+---------+-------+-------+-----+\n",
      "only showing top 20 rows\n",
      "\n"
     ]
    }
   ],
   "source": [
    "infraestructura_df_agregado_y_pivotado = pyspark_etl_functions.unir_dataframes(infraestructura_df_agregado, infraestructura_df_pivotado)\n",
    "infraestructura_df_agregado_y_pivotado.show()\n"
   ]
  },
  {
   "cell_type": "code",
   "execution_count": 14,
   "metadata": {},
   "outputs": [
    {
     "name": "stderr",
     "output_type": "stream",
     "text": [
      "[Stage 76:>                                                         (0 + 4) / 5]\r"
     ]
    },
    {
     "name": "stdout",
     "output_type": "stream",
     "text": [
      "23/05/04 04:43:13 WARN RowBasedKeyValueBatch: Calling spill() on RowBasedKeyValueBatch. Will not spill but return 0.\n",
      "23/05/04 04:43:13 WARN RowBasedKeyValueBatch: Calling spill() on RowBasedKeyValueBatch. Will not spill but return 0.\n",
      "23/05/04 04:43:13 WARN RowBasedKeyValueBatch: Calling spill() on RowBasedKeyValueBatch. Will not spill but return 0.\n",
      "23/05/04 04:43:13 WARN RowBasedKeyValueBatch: Calling spill() on RowBasedKeyValueBatch. Will not spill but return 0.\n",
      "23/05/04 04:43:13 WARN RowBasedKeyValueBatch: Calling spill() on RowBasedKeyValueBatch. Will not spill but return 0.\n",
      "23/05/04 04:43:13 WARN RowBasedKeyValueBatch: Calling spill() on RowBasedKeyValueBatch. Will not spill but return 0.\n",
      "23/05/04 04:43:13 WARN RowBasedKeyValueBatch: Calling spill() on RowBasedKeyValueBatch. Will not spill but return 0.\n",
      "23/05/04 04:43:13 WARN RowBasedKeyValueBatch: Calling spill() on RowBasedKeyValueBatch. Will not spill but return 0.\n"
     ]
    },
    {
     "name": "stderr",
     "output_type": "stream",
     "text": [
      "[Stage 76:==============================================>           (4 + 1) / 5]\r"
     ]
    },
    {
     "name": "stdout",
     "output_type": "stream",
     "text": [
      "+-----------+--------------------+---------+------+--------+------+----------+------------+-----------------+----------+-------+\n",
      "|NIT_ENTIDAD|      NOMBRE_ENTIDAD|TERMINADO|ACTIVO|BORRADOR|CEDIDO|MODIFICADO|EN EJECUCION|ENVIADO PROVEEDOR|SUSPENDIDO|CERRADO|\n",
      "+-----------+--------------------+---------+------+--------+------+----------+------------+-----------------+----------+-------+\n",
      "|  830063506|BOGOTA - TRANSMIL...|        5|    28|       0|    63|        83|         989|                0|         2|      1|\n",
      "| 8605110716|FONDO ROTATORIO D...|        2|     1|       2|     0|        10|         154|                0|         1|      8|\n",
      "|  899999034|SENA REGIONAL CAL...|        6|     1|       0|     0|        26|         110|                0|         0|      0|\n",
      "|  805027641|INSTITUCION EDUCA...|        0|     0|       0|     0|         5|          16|                0|         0|      0|\n",
      "|  900816913|ESTABLECIMIENTO P...|        0|     1|       0|     0|         0|           0|                0|         0|      0|\n",
      "|  900478966|UNIDAD NACIONAL P...|        3|    14|       0|     0|         2|          66|                0|         0|      0|\n",
      "|  830000167|INSTITUTO NACIONA...|       16|     4|       0|    15|        57|         553|                0|         2|      0|\n",
      "|  900490473|UARIVUNIDAD PARA ...|       67|     5|       0|    27|        45|        1307|                0|         1|      0|\n",
      "|  890000858|MUNICIPIO DE MONT...|        5|     1|       0|     0|         0|         168|                0|         0|      0|\n",
      "|  811010104|INSTITUTO NACIONA...|        1|     0|       0|     0|         3|          16|                0|         0|      0|\n",
      "|  890001879|QUINDIO - BUENAVI...|        0|     0|       0|     0|         2|           2|                0|         0|      0|\n",
      "|  890981207|ANTIOQUIA - LA CE...|        1|     1|       0|     0|        17|         113|                0|         2|      1|\n",
      "|  800194096|ANTIOQUIA - INSTI...|      496|    15|       0|     0|        28|        2662|                0|         0|     46|\n",
      "|  899999069|INSTITUTO COLOMBI...|        0|     0|       0|     0|         1|          33|                0|         0|      0|\n",
      "|  804003036|CARCEL Y PENITENC...|        0|     0|       0|     0|         6|          15|                0|         0|      0|\n",
      "|  901074333|MINISTERIO DEL TR...|        0|     0|       0|     0|         0|           5|                0|         0|      0|\n",
      "|  890906445|    CONCEJO CAUCASIA|        0|     0|       0|     0|         0|           1|                0|         0|      2|\n",
      "|  891900289|VALLE DEL CAUCA -...|        0|     0|       0|     0|         0|          42|                0|         0|      0|\n",
      "|  890112371|ATLANTICO - BARAN...|        0|     3|       0|     0|         4|           4|                0|         0|      0|\n",
      "|  891580006|CAUCA - POPAYAN -...|       19|    72|       0|     7|       220|        1455|                0|         4|      0|\n",
      "+-----------+--------------------+---------+------+--------+------+----------+------------+-----------------+----------+-------+\n",
      "only showing top 20 rows\n",
      "\n"
     ]
    },
    {
     "name": "stderr",
     "output_type": "stream",
     "text": [
      "                                                                                \r"
     ]
    }
   ],
   "source": [
    "infraestructura_df_pivotado = pyspark_etl_functions.pivotar_por_columna(infraestructura_df_seleccionado, \"ESTADO_DEL_PROCESO\")\n",
    "infraestructura_df_pivotado.show()"
   ]
  },
  {
   "cell_type": "code",
   "execution_count": 15,
   "metadata": {},
   "outputs": [
    {
     "name": "stderr",
     "output_type": "stream",
     "text": [
      "[Stage 87:===>(4 + 1) / 5][Stage 89:>   (0 + 3) / 5][Stage 90:>   (0 + 0) / 5]5]\r"
     ]
    },
    {
     "name": "stdout",
     "output_type": "stream",
     "text": [
      "23/05/04 04:43:39 WARN RowBasedKeyValueBatch: Calling spill() on RowBasedKeyValueBatch. Will not spill but return 0.\n",
      "23/05/04 04:43:39 WARN RowBasedKeyValueBatch: Calling spill() on RowBasedKeyValueBatch. Will not spill but return 0.\n",
      "23/05/04 04:43:39 WARN RowBasedKeyValueBatch: Calling spill() on RowBasedKeyValueBatch. Will not spill but return 0.\n",
      "23/05/04 04:43:39 WARN RowBasedKeyValueBatch: Calling spill() on RowBasedKeyValueBatch. Will not spill but return 0.\n"
     ]
    },
    {
     "name": "stderr",
     "output_type": "stream",
     "text": [
      "[Stage 89:>                 (0 + 4) / 5][Stage 90:>                 (0 + 0) / 5]\r"
     ]
    },
    {
     "name": "stdout",
     "output_type": "stream",
     "text": [
      "23/05/04 04:43:39 WARN RowBasedKeyValueBatch: Calling spill() on RowBasedKeyValueBatch. Will not spill but return 0.\n",
      "23/05/04 04:43:40 WARN RowBasedKeyValueBatch: Calling spill() on RowBasedKeyValueBatch. Will not spill but return 0.\n",
      "23/05/04 04:43:40 WARN RowBasedKeyValueBatch: Calling spill() on RowBasedKeyValueBatch. Will not spill but return 0.\n"
     ]
    },
    {
     "name": "stderr",
     "output_type": "stream",
     "text": [
      "[Stage 90:>                 (0 + 4) / 5][Stage 93:>                 (0 + 0) / 4]\r"
     ]
    },
    {
     "name": "stdout",
     "output_type": "stream",
     "text": [
      "23/05/04 04:43:41 WARN RowBasedKeyValueBatch: Calling spill() on RowBasedKeyValueBatch. Will not spill but return 0.\n",
      "23/05/04 04:43:42 WARN RowBasedKeyValueBatch: Calling spill() on RowBasedKeyValueBatch. Will not spill but return 0.\n",
      "23/05/04 04:43:42 WARN RowBasedKeyValueBatch: Calling spill() on RowBasedKeyValueBatch. Will not spill but return 0.\n",
      "23/05/04 04:43:42 WARN RowBasedKeyValueBatch: Calling spill() on RowBasedKeyValueBatch. Will not spill but return 0.\n",
      "23/05/04 04:43:42 WARN RowBasedKeyValueBatch: Calling spill() on RowBasedKeyValueBatch. Will not spill but return 0.\n",
      "23/05/04 04:43:42 WARN RowBasedKeyValueBatch: Calling spill() on RowBasedKeyValueBatch. Will not spill but return 0.\n",
      "23/05/04 04:43:42 WARN RowBasedKeyValueBatch: Calling spill() on RowBasedKeyValueBatch. Will not spill but return 0.\n",
      "23/05/04 04:43:42 WARN RowBasedKeyValueBatch: Calling spill() on RowBasedKeyValueBatch. Will not spill but return 0.\n"
     ]
    },
    {
     "name": "stderr",
     "output_type": "stream",
     "text": [
      "                                                                                \r"
     ]
    },
    {
     "name": "stdout",
     "output_type": "stream",
     "text": [
      "+-----------+--------------------+-------------+-------------------------+-----------------------------+-----------------+-------------------+------------------+-----------------+------------+----------+---------------------------+---------+------+------+-------+-----------+--------+----+--------+--------+-----+-------+---------+-------+-----+---------------------------------------+------+------+---------------+------------+----------+------+------+------------------+------+-----+-----+---------+-------+---------+--------+---------+-------+-------+-----+---------+------+--------+------+----------+------------+-----------------+----------+-------+\n",
      "|NIT_ENTIDAD|      NOMBRE_ENTIDAD|num_contratos|suma_valor_total_contrato|promedio_valor_total_contrato|num_departamentos|num_estados_proceso|num_clases_proceso|num_tipos_proceso|num_familias|num_clases|meses_desde_ultimo_contrato|SANTANDER|VAUPES|NARIÑO|CAQUETA|NO DEFINIDO|CASANARE|META|AMAZONAS|GUAVIARE|CAUCA|VICHADA|ANTIOQUIA|QUINDIO|CHOCO|SAN ANDRES PROVIDENCIA Y SANTA CATALINA|CALDAS|BOYACA|VALLE DEL CAUCA|CUNDINAMARCA|LA GUAJIRA|TOLIMA|ARAUCA|NORTE DE SANTANDER|BOGOTA|HUILA|SUCRE|ATLANTICO|BOLIVAR|RISARALDA|PUTUMAYO|MAGDALENA|GUAINIA|CORDOBA|CESAR|TERMINADO|ACTIVO|BORRADOR|CEDIDO|MODIFICADO|EN EJECUCION|ENVIADO PROVEEDOR|SUSPENDIDO|CERRADO|\n",
      "+-----------+--------------------+-------------+-------------------------+-----------------------------+-----------------+-------------------+------------------+-----------------+------------+----------+---------------------------+---------+------+------+-------+-----------+--------+----+--------+--------+-----+-------+---------+-------+-----+---------------------------------------+------+------+---------------+------------+----------+------+------+------------------+------+-----+-----+---------+-------+---------+--------+---------+-------+-------+-----+---------+------+--------+------+----------+------------+-----------------+----------+-------+\n",
      "|    7180873|PERSONERIA MUNICI...|            1|                  5312173|                    5312173.0|                1|                  1|                 1|                1|           1|         1|                         23|        0|     0|     0|      0|          0|       0|   0|       0|       0|    0|      0|        0|      0|    0|                                      0|     0|     0|              0|           0|         0|     0|     0|                 0|     0|    0|    0|        0|      0|        0|       0|        0|      1|      0|    0|        0|     1|       0|     0|         0|           0|                0|         0|      0|\n",
      "|   84458523|EMPRESA SOCIAL DE...|           52|                 80017667|           1538801.2884615385|                1|                  2|                 1|                1|           1|         1|                         27|        0|     0|     0|      0|          0|       0|   0|       0|       0|    0|      0|        0|      0|    0|                                      0|     0|     0|              0|           0|         0|     0|     0|                 0|     0|    0|    0|        0|      0|        0|       0|       52|      0|      0|    0|        0|    51|       0|     0|         0|           1|                0|         0|      0|\n",
      "|   89999969|INSTITUTO COLOMBI...|            4|                 95140006|                 2.37850015E7|                1|                  1|                 1|                2|           1|         1|                         20|        0|     0|     0|      0|          0|       0|   0|       0|       0|    0|      0|        0|      0|    0|                                      4|     0|     0|              0|           0|         0|     0|     0|                 0|     0|    0|    0|        0|      0|        0|       0|        0|      0|      0|    0|        0|     4|       0|     0|         0|           0|                0|         0|      0|\n",
      "|  800002916|INSTITUTO DE VALO...|           70|              30947612717|                4.421087531E8|                1|                  2|                 4|                6|           1|         1|                         19|        0|     0|     0|      0|          0|       0|   0|       0|       0|    0|      0|        0|      0|    0|                                      0|    70|     0|              0|           0|         0|     0|     0|                 0|     0|    0|    0|        0|      0|        0|       0|        0|      0|      0|    0|        0|    50|       0|     0|         0|          20|                0|         0|      0|\n",
      "|  800003935|ANTIOQUIA - INSTI...|          132|               1097242617|            8312444.068181818|                1|                  2|                 2|                2|           1|         1|                         20|        0|     0|     0|      0|          0|       0|   0|       0|       0|    0|      0|      132|      0|    0|                                      0|     0|     0|              0|           0|         0|     0|     0|                 0|     0|    0|    0|        0|      0|        0|       0|        0|      0|      0|    0|        0|     0|       0|     0|         6|         126|                0|         0|      0|\n",
      "|  800005042|SANTANDER - FLORI...|           28|                281147532|         1.0040983285714285E7|                1|                  2|                 2|                4|           1|         1|                         20|       28|     0|     0|      0|          0|       0|   0|       0|       0|    0|      0|        0|      0|    0|                                      0|     0|     0|              0|           0|         0|     0|     0|                 0|     0|    0|    0|        0|      0|        0|       0|        0|      0|      0|    0|        0|     0|       0|     0|        10|          18|                0|         0|      0|\n",
      "|  800007652|NORTE DE SANTANDE...|           69|                734304592|         1.0642095536231885E7|                1|                  3|                 2|                3|           1|         1|                         20|        0|     0|     0|      0|          0|       0|   0|       0|       0|    0|      0|        0|      0|    0|                                      0|     0|     0|              0|           0|         0|     0|     0|                69|     0|    0|    0|        0|      0|        0|       0|        0|      0|      0|    0|        0|     1|       0|     0|        11|          57|                0|         0|      0|\n",
      "|  800013683|BOYACA - GUATEQUE...|            3|                252460000|          8.415333333333333E7|                1|                  3|                 1|                1|           1|         1|                         19|        0|     0|     0|      0|          0|       0|   0|       0|       0|    0|      0|        0|      0|    0|                                      0|     0|     3|              0|           0|         0|     0|     0|                 0|     0|    0|    0|        0|      0|        0|       0|        0|      0|      0|    0|        0|     1|       0|     0|         1|           1|                0|         0|      0|\n",
      "|  800017022|NORTE DE SANTANDE...|            8|                651430600|                  8.1428825E7|                1|                  3|                 1|                1|           1|         1|                         20|        0|     0|     0|      0|          0|       0|   0|       0|       0|    0|      0|        0|      0|    0|                                      0|     0|     0|              0|           0|         0|     0|     0|                 8|     0|    0|    0|        0|      0|        0|       0|        0|      0|      0|    0|        0|     1|       0|     0|         1|           6|                0|         0|      0|\n",
      "|  800019277|   MUNICIPIO DE SORA|            3|                289605978|                  9.6535326E7|                1|                  2|                 0|                1|           1|         1|                         26|        0|     0|     0|      0|          0|       0|   0|       0|       0|    0|      0|        0|      0|    0|                                      0|     0|     3|              0|           0|         0|     0|     0|                 0|     0|    0|    0|        0|      0|        0|       0|        0|      0|      0|    0|        0|     0|       1|     0|         2|           0|                0|         0|      0|\n",
      "|  800019816|NARIÑO - COLON - ...|            1|                 10000000|                        1.0E7|                1|                  1|                 1|                1|           1|         1|                         24|        0|     0|     1|      0|          0|       0|   0|       0|       0|    0|      0|        0|      0|    0|                                      0|     0|     0|              0|           0|         0|     0|     0|                 0|     0|    0|    0|        0|      0|        0|       0|        0|      0|      0|    0|        0|     0|       0|     0|         0|           1|                0|         0|      0|\n",
      "|  800019846|BOYACA - SACHICA ...|            5|                 42875000|                    8575000.0|                1|                  1|                 2|                3|           1|         1|                         20|        0|     0|     0|      0|          0|       0|   0|       0|       0|    0|      0|        0|      0|    0|                                      0|     0|     5|              0|           0|         0|     0|     0|                 0|     0|    0|    0|        0|      0|        0|       0|        0|      0|      0|    0|        0|     0|       0|     0|         0|           5|                0|         0|      0|\n",
      "|  800020045|ALCALDIA MUNICIPA...|            7|                530334796|          7.576211371428572E7|                1|                  3|                 1|                1|           1|         1|                         19|        0|     0|     0|      0|          0|       0|   0|       0|       0|    0|      0|        0|      0|    0|                                      0|     0|     7|              0|           0|         0|     0|     0|                 0|     0|    0|    0|        0|      0|        0|       0|        0|      0|      0|    0|        0|     1|       0|     0|         2|           4|                0|         0|      0|\n",
      "|  800020733|BOYACA - SANTANA ...|            2|                833916940|                  4.1695847E8|                1|                  1|                 0|                2|           1|         1|                         21|        0|     0|     0|      0|          0|       0|   0|       0|       0|    0|      0|        0|      0|    0|                                      0|     0|     2|              0|           0|         0|     0|     0|                 0|     0|    0|    0|        0|      0|        0|       0|        0|      0|      0|    0|        0|     0|       0|     0|         0|           2|                0|         0|      0|\n",
      "|  800022618|ANTIOQUIA - SAN J...|           17|                230644311|         1.3567312411764706E7|                1|                  1|                 2|                5|           1|         1|                         20|        0|     0|     0|      0|          0|       0|   0|       0|       0|    0|      0|       17|      0|    0|                                      0|     0|     0|              0|           0|         0|     0|     0|                 0|     0|    0|    0|        0|      0|        0|       0|        0|      0|      0|    0|        0|     0|       0|     0|         0|          17|                0|         0|      0|\n",
      "|  800022620|SANTANDER - BOMBE...|           13|                243871400|          1.875933846153846E7|                1|                  2|                 3|                3|           1|         1|                         19|       13|     0|     0|      0|          0|       0|   0|       0|       0|    0|      0|        0|      0|    0|                                      0|     0|     0|              0|           0|         0|     0|     0|                 0|     0|    0|    0|        0|      0|        0|       0|        0|      0|      0|    0|        0|     1|       0|     0|         0|          12|                0|         0|      0|\n",
      "|  800022773|CONTRALORIA DISTR...|           11|                130194877|         1.1835897909090908E7|                1|                  1|                 2|                4|           1|         1|                         20|        0|     0|     0|      0|          0|       0|   0|       0|       0|    0|      0|        0|      0|    0|                                      0|     0|     0|              0|           0|         0|     0|     0|                 0|     0|    0|    0|       11|      0|        0|       0|        0|      0|      0|    0|        0|     0|       0|     0|         0|          11|                0|         0|      0|\n",
      "|  800023383|BOYACA - BOYACA -...|            4|                326564492|                  8.1641123E7|                1|                  3|                 0|                1|           1|         1|                         21|        0|     0|     0|      0|          0|       0|   0|       0|       0|    0|      0|        0|      0|    0|                                      0|     0|     4|              0|           0|         0|     0|     0|                 0|     0|    0|    0|        0|      0|        0|       0|        0|      0|      0|    0|        0|     2|       0|     0|         1|           1|                0|         0|      0|\n",
      "|  800024581|SANTANDER - INSTI...|            6|                119917493|         1.9986248833333332E7|                1|                  3|                 4|                2|           1|         1|                         20|        6|     0|     0|      0|          0|       0|   0|       0|       0|    0|      0|        0|      0|    0|                                      0|     0|     0|              0|           0|         0|     0|     0|                 0|     0|    0|    0|        0|      0|        0|       0|        0|      0|      0|    0|        0|     1|       0|     0|         1|           4|                0|         0|      0|\n",
      "|  800024789| MUNICIPIO DE MARIPI|            3|                607982523|                 2.02660841E8|                1|                  2|                 0|                1|           1|         1|                         20|        0|     0|     0|      0|          0|       0|   0|       0|       0|    0|      0|        0|      0|    0|                                      0|     0|     3|              0|           0|         0|     0|     0|                 0|     0|    0|    0|        0|      0|        0|       0|        0|      0|      0|    0|        0|     0|       0|     0|         1|           2|                0|         0|      0|\n",
      "+-----------+--------------------+-------------+-------------------------+-----------------------------+-----------------+-------------------+------------------+-----------------+------------+----------+---------------------------+---------+------+------+-------+-----------+--------+----+--------+--------+-----+-------+---------+-------+-----+---------------------------------------+------+------+---------------+------------+----------+------+------+------------------+------+-----+-----+---------+-------+---------+--------+---------+-------+-------+-----+---------+------+--------+------+----------+------------+-----------------+----------+-------+\n",
      "only showing top 20 rows\n",
      "\n"
     ]
    }
   ],
   "source": [
    "infraestructura_df_agregado_y_pivotado = pyspark_etl_functions.unir_dataframes(infraestructura_df_agregado_y_pivotado, infraestructura_df_pivotado)\n",
    "infraestructura_df_agregado_y_pivotado.show()"
   ]
  },
  {
   "cell_type": "code",
   "execution_count": 16,
   "metadata": {},
   "outputs": [
    {
     "name": "stderr",
     "output_type": "stream",
     "text": [
      "[Stage 114:>                                                        (0 + 4) / 5]\r"
     ]
    },
    {
     "name": "stdout",
     "output_type": "stream",
     "text": [
      "23/05/04 04:44:01 WARN RowBasedKeyValueBatch: Calling spill() on RowBasedKeyValueBatch. Will not spill but return 0.\n",
      "23/05/04 04:44:01 WARN RowBasedKeyValueBatch: Calling spill() on RowBasedKeyValueBatch. Will not spill but return 0.\n",
      "23/05/04 04:44:01 WARN RowBasedKeyValueBatch: Calling spill() on RowBasedKeyValueBatch. Will not spill but return 0.\n",
      "23/05/04 04:44:01 WARN RowBasedKeyValueBatch: Calling spill() on RowBasedKeyValueBatch. Will not spill but return 0.\n",
      "23/05/04 04:44:01 WARN RowBasedKeyValueBatch: Calling spill() on RowBasedKeyValueBatch. Will not spill but return 0.\n",
      "23/05/04 04:44:01 WARN RowBasedKeyValueBatch: Calling spill() on RowBasedKeyValueBatch. Will not spill but return 0.\n",
      "23/05/04 04:44:01 WARN RowBasedKeyValueBatch: Calling spill() on RowBasedKeyValueBatch. Will not spill but return 0.\n",
      "23/05/04 04:44:01 WARN RowBasedKeyValueBatch: Calling spill() on RowBasedKeyValueBatch. Will not spill but return 0.\n"
     ]
    },
    {
     "name": "stderr",
     "output_type": "stream",
     "text": [
      "[Stage 114:=============================================>           (4 + 1) / 5]\r"
     ]
    },
    {
     "name": "stdout",
     "output_type": "stream",
     "text": [
      "+-----------+--------------------+--------------------+----+-------------------+---------------------------+-----------------------+-------+------------------+----------------+------------------------------------+\n",
      "|NIT_ENTIDAD|      NOMBRE_ENTIDAD|CONTRATACION DIRECTA|null|CONCURSO DE MERITOS|CONTRATACION MINIMA CUANTIA|LICITACION OBRA PUBLICA|SUBASTA|LICITACION PUBLICA|REGIMEN ESPECIAL|SELECCION ABREVIADA DE MENOR CUANTIA|\n",
      "+-----------+--------------------+--------------------+----+-------------------+---------------------------+-----------------------+-------+------------------+----------------+------------------------------------+\n",
      "|  830063506|BOGOTA - TRANSMIL...|                1092|   9|                  3|                         10|                     17|      2|                 0|              21|                                  17|\n",
      "| 8605110716|FONDO ROTATORIO D...|                 146|   3|                  0|                         11|                      1|     10|                 0|               5|                                   2|\n",
      "|  805027641|INSTITUCION EDUCA...|                  10|   9|                  0|                          2|                      0|      0|                 0|               0|                                   0|\n",
      "|  899999034|SENA REGIONAL CAL...|                 133|   0|                  0|                          7|                      0|      3|                 0|               0|                                   0|\n",
      "|  900816913|ESTABLECIMIENTO P...|                   0|   1|                  0|                          0|                      0|      0|                 0|               0|                                   0|\n",
      "|  830000167|INSTITUTO NACIONA...|                 557|  41|                  1|                         15|                      4|     26|                 0|               0|                                   3|\n",
      "|  890000858|MUNICIPIO DE MONT...|                 155|   8|                  0|                         10|                      0|      0|                 0|               0|                                   1|\n",
      "|  900478966|UNIDAD NACIONAL P...|                  72|   3|                  1|                          7|                      0|      0|                 0|               0|                                   2|\n",
      "|  900490473|UARIVUNIDAD PARA ...|                1443|   0|                  0|                          0|                      0|      1|                 0|               4|                                   4|\n",
      "|  890001879|QUINDIO - BUENAVI...|                   0|   0|                  0|                          0|                      0|      0|                 0|               4|                                   0|\n",
      "|  811010104|INSTITUTO NACIONA...|                   0|   0|                  0|                         20|                      0|      0|                 0|               0|                                   0|\n",
      "|  804003036|CARCEL Y PENITENC...|                   0|   0|                  0|                         17|                      0|      4|                 0|               0|                                   0|\n",
      "|  890981207|ANTIOQUIA - LA CE...|                 108|   4|                  1|                          8|                      0|      6|                 0|               6|                                   2|\n",
      "|  800194096|ANTIOQUIA - INSTI...|                3122|   3|                  0|                          2|                      0|      0|                 0|             119|                                   1|\n",
      "|  890906445|    CONCEJO CAUCASIA|                   1|   0|                  0|                          2|                      0|      0|                 0|               0|                                   0|\n",
      "|  899999069|INSTITUTO COLOMBI...|                  26|   0|                  0|                          8|                      0|      0|                 0|               0|                                   0|\n",
      "|  891900289|VALLE DEL CAUCA -...|                  36|   0|                  0|                          6|                      0|      0|                 0|               0|                                   0|\n",
      "|  901074333|MINISTERIO DEL TR...|                   5|   0|                  0|                          0|                      0|      0|                 0|               0|                                   0|\n",
      "|  891580006|CAUCA - POPAYAN -...|                1629|  38|                  3|                         85|                      5|      2|                 0|               5|                                  10|\n",
      "|  890680059|CUNDINAMARCA - RI...|                  97|   7|                  0|                         11|                      1|      1|                 0|               2|                                   0|\n",
      "+-----------+--------------------+--------------------+----+-------------------+---------------------------+-----------------------+-------+------------------+----------------+------------------------------------+\n",
      "only showing top 20 rows\n",
      "\n"
     ]
    },
    {
     "name": "stderr",
     "output_type": "stream",
     "text": [
      "                                                                                \r"
     ]
    }
   ],
   "source": [
    "infraestructura_df_pivotado = pyspark_etl_functions.pivotar_por_columna(infraestructura_df_seleccionado, \"CLASE_PROCESO\")\n",
    "infraestructura_df_pivotado.show()"
   ]
  },
  {
   "cell_type": "code",
   "execution_count": 17,
   "metadata": {},
   "outputs": [
    {
     "name": "stderr",
     "output_type": "stream",
     "text": [
      "[Stage 125:=> (3 + 2) / 5][Stage 127:>  (0 + 2) / 5][Stage 128:>  (0 + 0) / 5]5]\r"
     ]
    },
    {
     "name": "stdout",
     "output_type": "stream",
     "text": [
      "23/05/04 04:44:27 WARN RowBasedKeyValueBatch: Calling spill() on RowBasedKeyValueBatch. Will not spill but return 0.\n",
      "23/05/04 04:44:27 WARN RowBasedKeyValueBatch: Calling spill() on RowBasedKeyValueBatch. Will not spill but return 0.\n",
      "23/05/04 04:44:27 WARN RowBasedKeyValueBatch: Calling spill() on RowBasedKeyValueBatch. Will not spill but return 0.\n"
     ]
    },
    {
     "name": "stderr",
     "output_type": "stream",
     "text": [
      "[Stage 127:>  (0 + 4) / 5][Stage 128:>  (0 + 0) / 5][Stage 129:>  (0 + 0) / 5]\r"
     ]
    },
    {
     "name": "stdout",
     "output_type": "stream",
     "text": [
      "23/05/04 04:44:28 WARN RowBasedKeyValueBatch: Calling spill() on RowBasedKeyValueBatch. Will not spill but return 0.\n",
      "23/05/04 04:44:28 WARN RowBasedKeyValueBatch: Calling spill() on RowBasedKeyValueBatch. Will not spill but return 0.\n",
      "23/05/04 04:44:28 WARN RowBasedKeyValueBatch: Calling spill() on RowBasedKeyValueBatch. Will not spill but return 0.\n"
     ]
    },
    {
     "name": "stderr",
     "output_type": "stream",
     "text": [
      "[Stage 128:>  (0 + 4) / 5][Stage 129:>  (0 + 0) / 5][Stage 132:>  (0 + 0) / 4]\r"
     ]
    },
    {
     "name": "stdout",
     "output_type": "stream",
     "text": [
      "23/05/04 04:44:30 WARN RowBasedKeyValueBatch: Calling spill() on RowBasedKeyValueBatch. Will not spill but return 0.\n",
      "23/05/04 04:44:30 WARN RowBasedKeyValueBatch: Calling spill() on RowBasedKeyValueBatch. Will not spill but return 0.\n",
      "23/05/04 04:44:30 WARN RowBasedKeyValueBatch: Calling spill() on RowBasedKeyValueBatch. Will not spill but return 0.\n",
      "23/05/04 04:44:30 WARN RowBasedKeyValueBatch: Calling spill() on RowBasedKeyValueBatch. Will not spill but return 0.\n",
      "23/05/04 04:44:30 WARN RowBasedKeyValueBatch: Calling spill() on RowBasedKeyValueBatch. Will not spill but return 0.\n",
      "23/05/04 04:44:30 WARN RowBasedKeyValueBatch: Calling spill() on RowBasedKeyValueBatch. Will not spill but return 0.\n",
      "23/05/04 04:44:31 WARN RowBasedKeyValueBatch: Calling spill() on RowBasedKeyValueBatch. Will not spill but return 0.\n",
      "23/05/04 04:44:31 WARN RowBasedKeyValueBatch: Calling spill() on RowBasedKeyValueBatch. Will not spill but return 0.\n"
     ]
    },
    {
     "name": "stderr",
     "output_type": "stream",
     "text": [
      "[Stage 129:>  (0 + 4) / 5][Stage 132:>  (0 + 0) / 4][Stage 134:>  (0 + 0) / 1]\r"
     ]
    },
    {
     "name": "stdout",
     "output_type": "stream",
     "text": [
      "23/05/04 04:44:33 WARN RowBasedKeyValueBatch: Calling spill() on RowBasedKeyValueBatch. Will not spill but return 0.\n",
      "23/05/04 04:44:33 WARN RowBasedKeyValueBatch: Calling spill() on RowBasedKeyValueBatch. Will not spill but return 0.\n",
      "23/05/04 04:44:33 WARN RowBasedKeyValueBatch: Calling spill() on RowBasedKeyValueBatch. Will not spill but return 0.\n",
      "23/05/04 04:44:33 WARN RowBasedKeyValueBatch: Calling spill() on RowBasedKeyValueBatch. Will not spill but return 0.\n",
      "23/05/04 04:44:33 WARN RowBasedKeyValueBatch: Calling spill() on RowBasedKeyValueBatch. Will not spill but return 0.\n",
      "23/05/04 04:44:33 WARN RowBasedKeyValueBatch: Calling spill() on RowBasedKeyValueBatch. Will not spill but return 0.\n",
      "23/05/04 04:44:33 WARN RowBasedKeyValueBatch: Calling spill() on RowBasedKeyValueBatch. Will not spill but return 0.\n",
      "23/05/04 04:44:33 WARN RowBasedKeyValueBatch: Calling spill() on RowBasedKeyValueBatch. Will not spill but return 0.\n"
     ]
    },
    {
     "name": "stderr",
     "output_type": "stream",
     "text": [
      "                                                                                \r"
     ]
    },
    {
     "name": "stdout",
     "output_type": "stream",
     "text": [
      "+-----------+--------------------+-------------+-------------------------+-----------------------------+-----------------+-------------------+------------------+-----------------+------------+----------+---------------------------+---------+------+------+-------+-----------+--------+----+--------+--------+-----+-------+---------+-------+-----+---------------------------------------+------+------+---------------+------------+----------+------+------+------------------+------+-----+-----+---------+-------+---------+--------+---------+-------+-------+-----+---------+------+--------+------+----------+------------+-----------------+----------+-------+--------------------+----+-------------------+---------------------------+-----------------------+-------+------------------+----------------+------------------------------------+\n",
      "|NIT_ENTIDAD|      NOMBRE_ENTIDAD|num_contratos|suma_valor_total_contrato|promedio_valor_total_contrato|num_departamentos|num_estados_proceso|num_clases_proceso|num_tipos_proceso|num_familias|num_clases|meses_desde_ultimo_contrato|SANTANDER|VAUPES|NARIÑO|CAQUETA|NO DEFINIDO|CASANARE|META|AMAZONAS|GUAVIARE|CAUCA|VICHADA|ANTIOQUIA|QUINDIO|CHOCO|SAN ANDRES PROVIDENCIA Y SANTA CATALINA|CALDAS|BOYACA|VALLE DEL CAUCA|CUNDINAMARCA|LA GUAJIRA|TOLIMA|ARAUCA|NORTE DE SANTANDER|BOGOTA|HUILA|SUCRE|ATLANTICO|BOLIVAR|RISARALDA|PUTUMAYO|MAGDALENA|GUAINIA|CORDOBA|CESAR|TERMINADO|ACTIVO|BORRADOR|CEDIDO|MODIFICADO|EN EJECUCION|ENVIADO PROVEEDOR|SUSPENDIDO|CERRADO|CONTRATACION DIRECTA|null|CONCURSO DE MERITOS|CONTRATACION MINIMA CUANTIA|LICITACION OBRA PUBLICA|SUBASTA|LICITACION PUBLICA|REGIMEN ESPECIAL|SELECCION ABREVIADA DE MENOR CUANTIA|\n",
      "+-----------+--------------------+-------------+-------------------------+-----------------------------+-----------------+-------------------+------------------+-----------------+------------+----------+---------------------------+---------+------+------+-------+-----------+--------+----+--------+--------+-----+-------+---------+-------+-----+---------------------------------------+------+------+---------------+------------+----------+------+------+------------------+------+-----+-----+---------+-------+---------+--------+---------+-------+-------+-----+---------+------+--------+------+----------+------------+-----------------+----------+-------+--------------------+----+-------------------+---------------------------+-----------------------+-------+------------------+----------------+------------------------------------+\n",
      "|  805027641|INSTITUCION EDUCA...|           21|                143107415|             6814638.80952381|                1|                  2|                 2|                4|           1|         1|                         20|        0|     0|     0|      0|          0|       0|   0|       0|       0|    0|      0|        0|      0|    0|                                      0|     0|     0|             21|           0|         0|     0|     0|                 0|     0|    0|    0|        0|      0|        0|       0|        0|      0|      0|    0|        0|     0|       0|     0|         5|          16|                0|         0|      0|                  10|   9|                  0|                          2|                      0|      0|                 0|               0|                                   0|\n",
      "|  899999034|SENA REGIONAL CAL...|          143|               4797008008|         3.3545510545454547E7|                1|                  4|                 3|                3|           1|         1|                         19|        0|     0|     0|      0|          0|       0|   0|       0|       0|    0|      0|        0|      0|    0|                                      0|   143|     0|              0|           0|         0|     0|     0|                 0|     0|    0|    0|        0|      0|        0|       0|        0|      0|      0|    0|        6|     1|       0|     0|        26|         110|                0|         0|      0|                 133|   0|                  0|                          7|                      0|      3|                 0|               0|                                   0|\n",
      "| 8605110716|FONDO ROTATORIO D...|          178|              25267081930|         1.4194989848314607E8|                1|                  7|                 6|                9|           1|         1|                         20|        0|     0|     0|      0|          0|       0|   0|       0|       0|    0|      0|        0|      0|    0|                                      0|     0|     0|              0|           0|         0|     0|     0|                 0|   178|    0|    0|        0|      0|        0|       0|        0|      0|      0|    0|        2|     1|       2|     0|        10|         154|                0|         1|      8|                 146|   3|                  0|                         11|                      1|     10|                 0|               5|                                   2|\n",
      "|  830063506|BOGOTA - TRANSMIL...|         1171|             181157002383|         1.5470282013919726E8|                1|                  7|                 7|               12|           1|         1|                         19|        0|     0|     0|      0|          0|       0|   0|       0|       0|    0|      0|        0|      0|    0|                                      0|     0|     0|              0|           0|         0|     0|     0|                 0|  1171|    0|    0|        0|      0|        0|       0|        0|      0|      0|    0|        5|    28|       0|    63|        83|         989|                0|         2|      1|                1092|   9|                  3|                         10|                     17|      2|                 0|              21|                                  17|\n",
      "|  900816913|ESTABLECIMIENTO P...|            1|                223000000|                       2.23E8|                1|                  1|                 0|                1|           1|         1|                         19|        0|     0|     0|      0|          0|       0|   0|       0|       0|    0|      0|        0|      0|    0|                                      0|     0|     0|              1|           0|         0|     0|     0|                 0|     0|    0|    0|        0|      0|        0|       0|        0|      0|      0|    0|        0|     1|       0|     0|         0|           0|                0|         0|      0|                   0|   1|                  0|                          0|                      0|      0|                 0|               0|                                   0|\n",
      "|  890000858|MUNICIPIO DE MONT...|          174|               1886039839|          1.083930941954023E7|                1|                  3|                 3|                4|           1|         1|                         19|        0|     0|     0|      0|          0|       0|   0|       0|       0|    0|      0|        0|    174|    0|                                      0|     0|     0|              0|           0|         0|     0|     0|                 0|     0|    0|    0|        0|      0|        0|       0|        0|      0|      0|    0|        5|     1|       0|     0|         0|         168|                0|         0|      0|                 155|   8|                  0|                         10|                      0|      0|                 0|               0|                                   1|\n",
      "|  900490473|UARIVUNIDAD PARA ...|         1452|             233979414526|         1.6114284746969697E8|                1|                  6|                 4|                6|           1|         1|                         19|        0|     0|     0|      0|          0|       0|   0|       0|       0|    0|      0|        0|      0|    0|                                      0|     0|     0|              0|           0|         0|     0|     0|                 0|  1452|    0|    0|        0|      0|        0|       0|        0|      0|      0|    0|       67|     5|       0|    27|        45|        1307|                0|         1|      0|                1443|   0|                  0|                          0|                      0|      1|                 0|               4|                                   4|\n",
      "|  900478966|UNIDAD NACIONAL P...|           85|               4337538838|          5.102986868235294E7|                1|                  4|                 4|                7|           1|         1|                         20|        0|     0|     0|      0|          0|       0|   0|       0|       0|    0|      0|        0|      0|    0|                                      0|     0|     0|              0|           0|         0|     0|     0|                 0|    85|    0|    0|        0|      0|        0|       0|        0|      0|      0|    0|        3|    14|       0|     0|         2|          66|                0|         0|      0|                  72|   3|                  1|                          7|                      0|      0|                 0|               0|                                   2|\n",
      "|  830000167|INSTITUTO NACIONA...|          647|              47836698144|          7.393616405564143E7|                1|                  6|                 6|                7|           1|         1|                         19|        0|     0|     0|      0|          0|       0|   0|       0|       0|    0|      0|        0|      0|    0|                                      0|     0|     0|              0|           0|         0|     0|     0|                 0|   647|    0|    0|        0|      0|        0|       0|        0|      0|      0|    0|       16|     4|       0|    15|        57|         553|                0|         2|      0|                 557|  41|                  1|                         15|                      4|     26|                 0|               0|                                   3|\n",
      "|  811010104|INSTITUTO NACIONA...|           20|                 84523674|                    4226183.7|                1|                  3|                 1|                2|           1|         1|                         19|        0|     0|     0|      0|          0|       0|   0|       0|       0|    0|      0|       20|      0|    0|                                      0|     0|     0|              0|           0|         0|     0|     0|                 0|     0|    0|    0|        0|      0|        0|       0|        0|      0|      0|    0|        1|     0|       0|     0|         3|          16|                0|         0|      0|                   0|   0|                  0|                         20|                      0|      0|                 0|               0|                                   0|\n",
      "|  890001879|QUINDIO - BUENAVI...|            4|                111998053|                2.799951325E7|                1|                  2|                 1|                1|           1|         1|                         21|        0|     0|     0|      0|          0|       0|   0|       0|       0|    0|      0|        0|      4|    0|                                      0|     0|     0|              0|           0|         0|     0|     0|                 0|     0|    0|    0|        0|      0|        0|       0|        0|      0|      0|    0|        0|     0|       0|     0|         2|           2|                0|         0|      0|                   0|   0|                  0|                          0|                      0|      0|                 0|               4|                                   0|\n",
      "|  800194096|ANTIOQUIA - INSTI...|         3247|              60704040132|         1.8695423508469358E7|                1|                  5|                 4|                9|           1|         1|                         19|        0|     0|     0|      0|          0|       0|   0|       0|       0|    0|      0|     3247|      0|    0|                                      0|     0|     0|              0|           0|         0|     0|     0|                 0|     0|    0|    0|        0|      0|        0|       0|        0|      0|      0|    0|      496|    15|       0|     0|        28|        2662|                0|         0|     46|                3122|   3|                  0|                          2|                      0|      0|                 0|             119|                                   1|\n",
      "|  890981207|ANTIOQUIA - LA CE...|          135|              18254407750|          1.352178351851852E8|                1|                  6|                 6|                8|           1|         1|                         19|        0|     0|     0|      0|          0|       0|   0|       0|       0|    0|      0|      135|      0|    0|                                      0|     0|     0|              0|           0|         0|     0|     0|                 0|     0|    0|    0|        0|      0|        0|       0|        0|      0|      0|    0|        1|     1|       0|     0|        17|         113|                0|         2|      1|                 108|   4|                  1|                          8|                      0|      6|                 0|               6|                                   2|\n",
      "|  899999069|INSTITUTO COLOMBI...|           34|                275329002|            8097911.823529412|                1|                  2|                 2|                3|           1|         1|                         19|        0|     0|     0|      0|          0|       0|  34|       0|       0|    0|      0|        0|      0|    0|                                      0|     0|     0|              0|           0|         0|     0|     0|                 0|     0|    0|    0|        0|      0|        0|       0|        0|      0|      0|    0|        0|     0|       0|     0|         1|          33|                0|         0|      0|                  26|   0|                  0|                          8|                      0|      0|                 0|               0|                                   0|\n",
      "|  804003036|CARCEL Y PENITENC...|           21|               1178206927|          5.610509176190476E7|                1|                  2|                 2|                3|           1|         1|                         21|       21|     0|     0|      0|          0|       0|   0|       0|       0|    0|      0|        0|      0|    0|                                      0|     0|     0|              0|           0|         0|     0|     0|                 0|     0|    0|    0|        0|      0|        0|       0|        0|      0|      0|    0|        0|     0|       0|     0|         6|          15|                0|         0|      0|                   0|   0|                  0|                         17|                      0|      4|                 0|               0|                                   0|\n",
      "|  891900289|VALLE DEL CAUCA -...|           42|                626303315|          1.491198369047619E7|                1|                  1|                 2|                4|           1|         1|                         19|        0|     0|     0|      0|          0|       0|   0|       0|       0|    0|      0|        0|      0|    0|                                      0|     0|     0|             42|           0|         0|     0|     0|                 0|     0|    0|    0|        0|      0|        0|       0|        0|      0|      0|    0|        0|     0|       0|     0|         0|          42|                0|         0|      0|                  36|   0|                  0|                          6|                      0|      0|                 0|               0|                                   0|\n",
      "|  901074333|MINISTERIO DEL TR...|            5|                110633000|                    2.21266E7|                1|                  1|                 1|                1|           1|         1|                         25|        0|     0|     0|      0|          0|       0|   0|       0|       0|    0|      0|        0|      0|    0|                                      0|     0|     0|              0|           5|         0|     0|     0|                 0|     0|    0|    0|        0|      0|        0|       0|        0|      0|      0|    0|        0|     0|       0|     0|         0|           5|                0|         0|      0|                   5|   0|                  0|                          0|                      0|      0|                 0|               0|                                   0|\n",
      "|  890906445|    CONCEJO CAUCASIA|            3|                 45852880|         1.5284293333333334E7|                1|                  2|                 2|                2|           1|         1|                         20|        0|     0|     0|      0|          0|       0|   0|       0|       0|    0|      0|        3|      0|    0|                                      0|     0|     0|              0|           0|         0|     0|     0|                 0|     0|    0|    0|        0|      0|        0|       0|        0|      0|      0|    0|        0|     0|       0|     0|         0|           1|                0|         0|      2|                   1|   0|                  0|                          2|                      0|      0|                 0|               0|                                   0|\n",
      "|  890680059|CUNDINAMARCA - RI...|          119|               4239680998|           3.56275714117647E7|                1|                  5|                 5|                5|           1|         1|                         20|        0|     0|     0|      0|          0|       0|   0|       0|       0|    0|      0|        0|      0|    0|                                      0|     0|     0|              0|         119|         0|     0|     0|                 0|     0|    0|    0|        0|      0|        0|       0|        0|      0|      0|    0|        1|     5|       0|     0|         2|         110|                0|         1|      0|                  97|   7|                  0|                         11|                      1|      1|                 0|               2|                                   0|\n",
      "|  802008282|INSTITUTO NACIONA...|            6|                502879602|                  8.3813267E7|                1|                  2|                 2|                3|           1|         1|                         21|        0|     0|     0|      0|          0|       0|   0|       0|       0|    0|      0|        0|      0|    0|                                      0|     0|     0|              0|           0|         0|     0|     0|                 0|     0|    0|    0|        6|      0|        0|       0|        0|      0|      0|    0|        0|     0|       0|     0|         2|           4|                0|         0|      0|                   1|   0|                  0|                          5|                      0|      0|                 0|               0|                                   0|\n",
      "+-----------+--------------------+-------------+-------------------------+-----------------------------+-----------------+-------------------+------------------+-----------------+------------+----------+---------------------------+---------+------+------+-------+-----------+--------+----+--------+--------+-----+-------+---------+-------+-----+---------------------------------------+------+------+---------------+------------+----------+------+------+------------------+------+-----+-----+---------+-------+---------+--------+---------+-------+-------+-----+---------+------+--------+------+----------+------------+-----------------+----------+-------+--------------------+----+-------------------+---------------------------+-----------------------+-------+------------------+----------------+------------------------------------+\n",
      "only showing top 20 rows\n",
      "\n"
     ]
    }
   ],
   "source": [
    "infraestructura_df_agregado_y_pivotado = pyspark_etl_functions.unir_dataframes(infraestructura_df_agregado_y_pivotado, infraestructura_df_pivotado)\n",
    "infraestructura_df_agregado_y_pivotado.show()"
   ]
  },
  {
   "cell_type": "code",
   "execution_count": 18,
   "metadata": {},
   "outputs": [
    {
     "name": "stderr",
     "output_type": "stream",
     "text": [
      "[Stage 159:>                                                        (0 + 4) / 5]\r"
     ]
    },
    {
     "name": "stdout",
     "output_type": "stream",
     "text": [
      "23/05/04 04:44:56 WARN RowBasedKeyValueBatch: Calling spill() on RowBasedKeyValueBatch. Will not spill but return 0.\n",
      "23/05/04 04:44:56 WARN RowBasedKeyValueBatch: Calling spill() on RowBasedKeyValueBatch. Will not spill but return 0.\n",
      "23/05/04 04:44:56 WARN RowBasedKeyValueBatch: Calling spill() on RowBasedKeyValueBatch. Will not spill but return 0.\n",
      "23/05/04 04:44:56 WARN RowBasedKeyValueBatch: Calling spill() on RowBasedKeyValueBatch. Will not spill but return 0.\n",
      "23/05/04 04:44:56 WARN RowBasedKeyValueBatch: Calling spill() on RowBasedKeyValueBatch. Will not spill but return 0.\n",
      "23/05/04 04:44:56 WARN RowBasedKeyValueBatch: Calling spill() on RowBasedKeyValueBatch. Will not spill but return 0.\n",
      "23/05/04 04:44:56 WARN RowBasedKeyValueBatch: Calling spill() on RowBasedKeyValueBatch. Will not spill but return 0.\n",
      "23/05/04 04:44:56 WARN RowBasedKeyValueBatch: Calling spill() on RowBasedKeyValueBatch. Will not spill but return 0.\n"
     ]
    },
    {
     "name": "stderr",
     "output_type": "stream",
     "text": [
      "[Stage 159:======================>                                  (2 + 3) / 5]\r"
     ]
    },
    {
     "name": "stdout",
     "output_type": "stream",
     "text": [
      "+-----------+--------------------+----------+-------+-----------+-----------------------+------------------------+--------+-----------+--------+-----------+---------------------+------------------+----+---------------+--------------------------+------------------------+-------------+---------+--------------------------+----+----------------+-------------+\n",
      "|NIT_ENTIDAD|      NOMBRE_ENTIDAD|EMPRESTITO|SEGUROS|CONSULTORIA|PRESTACION DE SERVICIOS|ACUERDO MARCO DE PRECIOS|COMISION|COMPRAVENTA|COMODATO|SUMINISTROS|SERVICIOS FINANCIEROS|NEGOCIO FIDUCIARIO|OTRO|VENTA INMUEBLES|ARRENDAMIENTO DE INMUEBLES|ARRENDAMIENTO DE MUEBLES|INTERVENTORIA|CONCESION|ASOCIACION PUBLICO PRIVADA|OBRA|DECREELAW0922017|VENTA MUEBLES|\n",
      "+-----------+--------------------+----------+-------+-----------+-----------------------+------------------------+--------+-----------+--------+-----------+---------------------+------------------+----+---------------+--------------------------+------------------------+-------------+---------+--------------------------+----+----------------+-------------+\n",
      "|  899999034|SENA REGIONAL CAL...|         0|      0|          0|                    136|                       0|       0|          2|       0|          5|                    0|                 0|   0|              0|                         0|                       0|            0|        0|                         0|   0|               0|            0|\n",
      "| 8605110716|FONDO ROTATORIO D...|         0|      0|          0|                    149|                       0|       0|          1|       2|          4|                    0|                 0|  10|              0|                         5|                       0|            1|        0|                         0|   1|               5|            0|\n",
      "|  830063506|BOGOTA - TRANSMIL...|         1|      2|          2|                   1114|                       0|       0|          2|       0|          1|                    1|                 0|  32|              0|                         1|                       0|            3|        9|                         0|   3|               0|            0|\n",
      "|  805027641|INSTITUCION EDUCA...|         0|      0|          0|                     14|                       0|       0|          3|       0|          3|                    0|                 0|   0|              0|                         0|                       0|            0|        0|                         0|   1|               0|            0|\n",
      "|  900816913|ESTABLECIMIENTO P...|         0|      0|          0|                      0|                       0|       0|          0|       0|          0|                    0|                 0|   0|              0|                         0|                       0|            0|        0|                         0|   0|               1|            0|\n",
      "|  890000858|MUNICIPIO DE MONT...|         0|      0|          2|                    159|                       0|       0|          0|       0|          5|                    0|                 0|   8|              0|                         0|                       0|            0|        0|                         0|   0|               0|            0|\n",
      "|  900478966|UNIDAD NACIONAL P...|         0|      1|          1|                     75|                       0|       0|          2|       2|          1|                    0|                 0|   3|              0|                         0|                       0|            0|        0|                         0|   0|               0|            0|\n",
      "|  830000167|INSTITUTO NACIONA...|         0|      1|          1|                    583|                       0|       0|          9|       1|         24|                    0|                 0|  28|              0|                         0|                       0|            0|        0|                         0|   0|               0|            0|\n",
      "|  900490473|UARIVUNIDAD PARA ...|         0|      0|          0|                   1407|                       0|       0|          0|       0|          1|                    1|                 0|   7|              0|                        32|                       0|            0|        0|                         0|   0|               4|            0|\n",
      "|  811010104|INSTITUTO NACIONA...|         0|      0|          0|                      1|                       0|       0|          0|       0|         19|                    0|                 0|   0|              0|                         0|                       0|            0|        0|                         0|   0|               0|            0|\n",
      "|  890001879|QUINDIO - BUENAVI...|         0|      0|          0|                      0|                       0|       0|          0|       0|          0|                    0|                 0|   0|              0|                         0|                       0|            0|        0|                         0|   0|               4|            0|\n",
      "|  890981207|ANTIOQUIA - LA CE...|         0|      0|          0|                     91|                       0|       0|          1|       8|          6|                    0|                 0|  16|              0|                         0|                       0|            1|        0|                         0|   3|               9|            0|\n",
      "|  800194096|ANTIOQUIA - INSTI...|         0|      1|          2|                   2978|                       0|       0|          0|      59|          2|                    0|                 0|   8|              0|                        77|                       0|            0|        0|                         0|   1|             119|            0|\n",
      "|  899999069|INSTITUTO COLOMBI...|         0|      0|          0|                      7|                       0|       0|          0|       0|          1|                    0|                 0|   0|              0|                        26|                       0|            0|        0|                         0|   0|               0|            0|\n",
      "|  890906445|    CONCEJO CAUCASIA|         0|      0|          0|                      1|                       0|       0|          0|       0|          2|                    0|                 0|   0|              0|                         0|                       0|            0|        0|                         0|   0|               0|            0|\n",
      "|  901074333|MINISTERIO DEL TR...|         0|      0|          0|                      0|                       0|       0|          0|       0|          0|                    0|                 0|   0|              0|                         5|                       0|            0|        0|                         0|   0|               0|            0|\n",
      "|  891900289|VALLE DEL CAUCA -...|         0|      0|          0|                     38|                       0|       0|          1|       0|          2|                    0|                 0|   0|              0|                         0|                       0|            0|        0|                         0|   1|               0|            0|\n",
      "|  804003036|CARCEL Y PENITENC...|         0|      0|          0|                      5|                       0|       0|          3|       0|         13|                    0|                 0|   0|              0|                         0|                       0|            0|        0|                         0|   0|               0|            0|\n",
      "|  890680059|CUNDINAMARCA - RI...|         0|      0|          0|                    100|                       0|       0|          5|       0|          4|                    0|                 0|   7|              0|                         0|                       0|            0|        0|                         0|   0|               3|            0|\n",
      "|  802008282|INSTITUTO NACIONA...|         0|      0|          0|                      3|                       0|       0|          2|       0|          0|                    0|                 0|   0|              0|                         1|                       0|            0|        0|                         0|   0|               0|            0|\n",
      "+-----------+--------------------+----------+-------+-----------+-----------------------+------------------------+--------+-----------+--------+-----------+---------------------+------------------+----+---------------+--------------------------+------------------------+-------------+---------+--------------------------+----+----------------+-------------+\n",
      "only showing top 20 rows\n",
      "\n"
     ]
    },
    {
     "name": "stderr",
     "output_type": "stream",
     "text": [
      "                                                                                \r"
     ]
    }
   ],
   "source": [
    "infraestructura_df_pivotado = pyspark_etl_functions.pivotar_por_columna(infraestructura_df_seleccionado, \"TIPO_PROCESO\")\n",
    "infraestructura_df_pivotado.show()"
   ]
  },
  {
   "cell_type": "code",
   "execution_count": 19,
   "metadata": {},
   "outputs": [
    {
     "name": "stderr",
     "output_type": "stream",
     "text": [
      "[Stage 170:==>(4 + 1) / 5][Stage 172:>  (0 + 3) / 5][Stage 173:>  (0 + 0) / 5]5]\r"
     ]
    },
    {
     "name": "stdout",
     "output_type": "stream",
     "text": [
      "23/05/04 04:45:22 WARN RowBasedKeyValueBatch: Calling spill() on RowBasedKeyValueBatch. Will not spill but return 0.\n",
      "23/05/04 04:45:22 WARN RowBasedKeyValueBatch: Calling spill() on RowBasedKeyValueBatch. Will not spill but return 0.\n",
      "23/05/04 04:45:22 WARN RowBasedKeyValueBatch: Calling spill() on RowBasedKeyValueBatch. Will not spill but return 0.\n",
      "23/05/04 04:45:22 WARN RowBasedKeyValueBatch: Calling spill() on RowBasedKeyValueBatch. Will not spill but return 0.\n",
      "23/05/04 04:45:22 WARN RowBasedKeyValueBatch: Calling spill() on RowBasedKeyValueBatch. Will not spill but return 0.\n",
      "23/05/04 04:45:22 WARN RowBasedKeyValueBatch: Calling spill() on RowBasedKeyValueBatch. Will not spill but return 0.\n"
     ]
    },
    {
     "name": "stderr",
     "output_type": "stream",
     "text": [
      "[Stage 172:>  (0 + 4) / 5][Stage 173:>  (0 + 0) / 5][Stage 174:>  (0 + 0) / 5]\r"
     ]
    },
    {
     "name": "stdout",
     "output_type": "stream",
     "text": [
      "23/05/04 04:45:24 WARN RowBasedKeyValueBatch: Calling spill() on RowBasedKeyValueBatch. Will not spill but return 0.\n",
      "23/05/04 04:45:24 WARN RowBasedKeyValueBatch: Calling spill() on RowBasedKeyValueBatch. Will not spill but return 0.\n"
     ]
    },
    {
     "name": "stderr",
     "output_type": "stream",
     "text": [
      "[Stage 172:==>(4 + 1) / 5][Stage 173:>  (0 + 3) / 5][Stage 174:>  (0 + 0) / 5]\r"
     ]
    },
    {
     "name": "stdout",
     "output_type": "stream",
     "text": [
      "23/05/04 04:45:25 WARN RowBasedKeyValueBatch: Calling spill() on RowBasedKeyValueBatch. Will not spill but return 0.\n",
      "23/05/04 04:45:25 WARN RowBasedKeyValueBatch: Calling spill() on RowBasedKeyValueBatch. Will not spill but return 0.\n",
      "23/05/04 04:45:25 WARN RowBasedKeyValueBatch: Calling spill() on RowBasedKeyValueBatch. Will not spill but return 0.\n",
      "23/05/04 04:45:25 WARN RowBasedKeyValueBatch: Calling spill() on RowBasedKeyValueBatch. Will not spill but return 0.\n",
      "23/05/04 04:45:25 WARN RowBasedKeyValueBatch: Calling spill() on RowBasedKeyValueBatch. Will not spill but return 0.\n",
      "23/05/04 04:45:25 WARN RowBasedKeyValueBatch: Calling spill() on RowBasedKeyValueBatch. Will not spill but return 0.\n"
     ]
    },
    {
     "name": "stderr",
     "output_type": "stream",
     "text": [
      "[Stage 173:>  (0 + 4) / 5][Stage 174:>  (0 + 0) / 5][Stage 175:>  (0 + 0) / 5]\r"
     ]
    },
    {
     "name": "stdout",
     "output_type": "stream",
     "text": [
      "23/05/04 04:45:26 WARN RowBasedKeyValueBatch: Calling spill() on RowBasedKeyValueBatch. Will not spill but return 0.\n",
      "23/05/04 04:45:26 WARN RowBasedKeyValueBatch: Calling spill() on RowBasedKeyValueBatch. Will not spill but return 0.\n"
     ]
    },
    {
     "name": "stderr",
     "output_type": "stream",
     "text": [
      "[Stage 173:==>(4 + 1) / 5][Stage 174:>  (0 + 3) / 5][Stage 175:>  (0 + 0) / 5]\r"
     ]
    },
    {
     "name": "stdout",
     "output_type": "stream",
     "text": [
      "23/05/04 04:45:28 WARN RowBasedKeyValueBatch: Calling spill() on RowBasedKeyValueBatch. Will not spill but return 0.\n",
      "23/05/04 04:45:28 WARN RowBasedKeyValueBatch: Calling spill() on RowBasedKeyValueBatch. Will not spill but return 0.\n",
      "23/05/04 04:45:28 WARN RowBasedKeyValueBatch: Calling spill() on RowBasedKeyValueBatch. Will not spill but return 0.\n",
      "23/05/04 04:45:28 WARN RowBasedKeyValueBatch: Calling spill() on RowBasedKeyValueBatch. Will not spill but return 0.\n",
      "23/05/04 04:45:28 WARN RowBasedKeyValueBatch: Calling spill() on RowBasedKeyValueBatch. Will not spill but return 0.\n",
      "23/05/04 04:45:28 WARN RowBasedKeyValueBatch: Calling spill() on RowBasedKeyValueBatch. Will not spill but return 0.\n"
     ]
    },
    {
     "name": "stderr",
     "output_type": "stream",
     "text": [
      "[Stage 174:>  (0 + 4) / 5][Stage 175:>  (0 + 0) / 5][Stage 178:>  (0 + 0) / 4]\r"
     ]
    },
    {
     "name": "stdout",
     "output_type": "stream",
     "text": [
      "23/05/04 04:45:28 WARN RowBasedKeyValueBatch: Calling spill() on RowBasedKeyValueBatch. Will not spill but return 0.\n",
      "23/05/04 04:45:28 WARN RowBasedKeyValueBatch: Calling spill() on RowBasedKeyValueBatch. Will not spill but return 0.\n"
     ]
    },
    {
     "name": "stderr",
     "output_type": "stream",
     "text": [
      "[Stage 175:>  (0 + 4) / 5][Stage 178:>  (0 + 0) / 4][Stage 180:>  (0 + 0) / 1]\r"
     ]
    },
    {
     "name": "stdout",
     "output_type": "stream",
     "text": [
      "23/05/04 04:45:30 WARN RowBasedKeyValueBatch: Calling spill() on RowBasedKeyValueBatch. Will not spill but return 0.\n",
      "23/05/04 04:45:31 WARN RowBasedKeyValueBatch: Calling spill() on RowBasedKeyValueBatch. Will not spill but return 0.\n",
      "23/05/04 04:45:31 WARN RowBasedKeyValueBatch: Calling spill() on RowBasedKeyValueBatch. Will not spill but return 0.\n",
      "23/05/04 04:45:31 WARN RowBasedKeyValueBatch: Calling spill() on RowBasedKeyValueBatch. Will not spill but return 0.\n",
      "23/05/04 04:45:31 WARN RowBasedKeyValueBatch: Calling spill() on RowBasedKeyValueBatch. Will not spill but return 0.\n",
      "23/05/04 04:45:31 WARN RowBasedKeyValueBatch: Calling spill() on RowBasedKeyValueBatch. Will not spill but return 0.\n",
      "23/05/04 04:45:31 WARN RowBasedKeyValueBatch: Calling spill() on RowBasedKeyValueBatch. Will not spill but return 0.\n",
      "23/05/04 04:45:31 WARN RowBasedKeyValueBatch: Calling spill() on RowBasedKeyValueBatch. Will not spill but return 0.\n"
     ]
    },
    {
     "name": "stderr",
     "output_type": "stream",
     "text": [
      "                                                                                \r"
     ]
    },
    {
     "name": "stdout",
     "output_type": "stream",
     "text": [
      "+-----------+--------------------+-------------+-------------------------+-----------------------------+-----------------+-------------------+------------------+-----------------+------------+----------+---------------------------+---------+------+------+-------+-----------+--------+----+--------+--------+-----+-------+---------+-------+-----+---------------------------------------+------+------+---------------+------------+----------+------+------+------------------+------+-----+-----+---------+-------+---------+--------+---------+-------+-------+-----+---------+------+--------+------+----------+------------+-----------------+----------+-------+--------------------+----+-------------------+---------------------------+-----------------------+-------+------------------+----------------+------------------------------------+----------+-------+-----------+-----------------------+------------------------+--------+-----------+--------+-----------+---------------------+------------------+----+---------------+--------------------------+------------------------+-------------+---------+--------------------------+----+----------------+-------------+\n",
      "|NIT_ENTIDAD|      NOMBRE_ENTIDAD|num_contratos|suma_valor_total_contrato|promedio_valor_total_contrato|num_departamentos|num_estados_proceso|num_clases_proceso|num_tipos_proceso|num_familias|num_clases|meses_desde_ultimo_contrato|SANTANDER|VAUPES|NARIÑO|CAQUETA|NO DEFINIDO|CASANARE|META|AMAZONAS|GUAVIARE|CAUCA|VICHADA|ANTIOQUIA|QUINDIO|CHOCO|SAN ANDRES PROVIDENCIA Y SANTA CATALINA|CALDAS|BOYACA|VALLE DEL CAUCA|CUNDINAMARCA|LA GUAJIRA|TOLIMA|ARAUCA|NORTE DE SANTANDER|BOGOTA|HUILA|SUCRE|ATLANTICO|BOLIVAR|RISARALDA|PUTUMAYO|MAGDALENA|GUAINIA|CORDOBA|CESAR|TERMINADO|ACTIVO|BORRADOR|CEDIDO|MODIFICADO|EN EJECUCION|ENVIADO PROVEEDOR|SUSPENDIDO|CERRADO|CONTRATACION DIRECTA|null|CONCURSO DE MERITOS|CONTRATACION MINIMA CUANTIA|LICITACION OBRA PUBLICA|SUBASTA|LICITACION PUBLICA|REGIMEN ESPECIAL|SELECCION ABREVIADA DE MENOR CUANTIA|EMPRESTITO|SEGUROS|CONSULTORIA|PRESTACION DE SERVICIOS|ACUERDO MARCO DE PRECIOS|COMISION|COMPRAVENTA|COMODATO|SUMINISTROS|SERVICIOS FINANCIEROS|NEGOCIO FIDUCIARIO|OTRO|VENTA INMUEBLES|ARRENDAMIENTO DE INMUEBLES|ARRENDAMIENTO DE MUEBLES|INTERVENTORIA|CONCESION|ASOCIACION PUBLICO PRIVADA|OBRA|DECREELAW0922017|VENTA MUEBLES|\n",
      "+-----------+--------------------+-------------+-------------------------+-----------------------------+-----------------+-------------------+------------------+-----------------+------------+----------+---------------------------+---------+------+------+-------+-----------+--------+----+--------+--------+-----+-------+---------+-------+-----+---------------------------------------+------+------+---------------+------------+----------+------+------+------------------+------+-----+-----+---------+-------+---------+--------+---------+-------+-------+-----+---------+------+--------+------+----------+------------+-----------------+----------+-------+--------------------+----+-------------------+---------------------------+-----------------------+-------+------------------+----------------+------------------------------------+----------+-------+-----------+-----------------------+------------------------+--------+-----------+--------+-----------+---------------------+------------------+----+---------------+--------------------------+------------------------+-------------+---------+--------------------------+----+----------------+-------------+\n",
      "|  805027641|INSTITUCION EDUCA...|           21|                143107415|             6814638.80952381|                1|                  2|                 2|                4|           1|         1|                         20|        0|     0|     0|      0|          0|       0|   0|       0|       0|    0|      0|        0|      0|    0|                                      0|     0|     0|             21|           0|         0|     0|     0|                 0|     0|    0|    0|        0|      0|        0|       0|        0|      0|      0|    0|        0|     0|       0|     0|         5|          16|                0|         0|      0|                  10|   9|                  0|                          2|                      0|      0|                 0|               0|                                   0|         0|      0|          0|                     14|                       0|       0|          3|       0|          3|                    0|                 0|   0|              0|                         0|                       0|            0|        0|                         0|   1|               0|            0|\n",
      "|  899999034|SENA REGIONAL CAL...|          143|               4797008008|         3.3545510545454547E7|                1|                  4|                 3|                3|           1|         1|                         19|        0|     0|     0|      0|          0|       0|   0|       0|       0|    0|      0|        0|      0|    0|                                      0|   143|     0|              0|           0|         0|     0|     0|                 0|     0|    0|    0|        0|      0|        0|       0|        0|      0|      0|    0|        6|     1|       0|     0|        26|         110|                0|         0|      0|                 133|   0|                  0|                          7|                      0|      3|                 0|               0|                                   0|         0|      0|          0|                    136|                       0|       0|          2|       0|          5|                    0|                 0|   0|              0|                         0|                       0|            0|        0|                         0|   0|               0|            0|\n",
      "| 8605110716|FONDO ROTATORIO D...|          178|              25267081930|         1.4194989848314607E8|                1|                  7|                 6|                9|           1|         1|                         20|        0|     0|     0|      0|          0|       0|   0|       0|       0|    0|      0|        0|      0|    0|                                      0|     0|     0|              0|           0|         0|     0|     0|                 0|   178|    0|    0|        0|      0|        0|       0|        0|      0|      0|    0|        2|     1|       2|     0|        10|         154|                0|         1|      8|                 146|   3|                  0|                         11|                      1|     10|                 0|               5|                                   2|         0|      0|          0|                    149|                       0|       0|          1|       2|          4|                    0|                 0|  10|              0|                         5|                       0|            1|        0|                         0|   1|               5|            0|\n",
      "|  830063506|BOGOTA - TRANSMIL...|         1171|             181157002383|         1.5470282013919726E8|                1|                  7|                 7|               12|           1|         1|                         19|        0|     0|     0|      0|          0|       0|   0|       0|       0|    0|      0|        0|      0|    0|                                      0|     0|     0|              0|           0|         0|     0|     0|                 0|  1171|    0|    0|        0|      0|        0|       0|        0|      0|      0|    0|        5|    28|       0|    63|        83|         989|                0|         2|      1|                1092|   9|                  3|                         10|                     17|      2|                 0|              21|                                  17|         1|      2|          2|                   1114|                       0|       0|          2|       0|          1|                    1|                 0|  32|              0|                         1|                       0|            3|        9|                         0|   3|               0|            0|\n",
      "|  900816913|ESTABLECIMIENTO P...|            1|                223000000|                       2.23E8|                1|                  1|                 0|                1|           1|         1|                         19|        0|     0|     0|      0|          0|       0|   0|       0|       0|    0|      0|        0|      0|    0|                                      0|     0|     0|              1|           0|         0|     0|     0|                 0|     0|    0|    0|        0|      0|        0|       0|        0|      0|      0|    0|        0|     1|       0|     0|         0|           0|                0|         0|      0|                   0|   1|                  0|                          0|                      0|      0|                 0|               0|                                   0|         0|      0|          0|                      0|                       0|       0|          0|       0|          0|                    0|                 0|   0|              0|                         0|                       0|            0|        0|                         0|   0|               1|            0|\n",
      "|  890000858|MUNICIPIO DE MONT...|          174|               1886039839|          1.083930941954023E7|                1|                  3|                 3|                4|           1|         1|                         19|        0|     0|     0|      0|          0|       0|   0|       0|       0|    0|      0|        0|    174|    0|                                      0|     0|     0|              0|           0|         0|     0|     0|                 0|     0|    0|    0|        0|      0|        0|       0|        0|      0|      0|    0|        5|     1|       0|     0|         0|         168|                0|         0|      0|                 155|   8|                  0|                         10|                      0|      0|                 0|               0|                                   1|         0|      0|          2|                    159|                       0|       0|          0|       0|          5|                    0|                 0|   8|              0|                         0|                       0|            0|        0|                         0|   0|               0|            0|\n",
      "|  900490473|UARIVUNIDAD PARA ...|         1452|             233979414526|         1.6114284746969697E8|                1|                  6|                 4|                6|           1|         1|                         19|        0|     0|     0|      0|          0|       0|   0|       0|       0|    0|      0|        0|      0|    0|                                      0|     0|     0|              0|           0|         0|     0|     0|                 0|  1452|    0|    0|        0|      0|        0|       0|        0|      0|      0|    0|       67|     5|       0|    27|        45|        1307|                0|         1|      0|                1443|   0|                  0|                          0|                      0|      1|                 0|               4|                                   4|         0|      0|          0|                   1407|                       0|       0|          0|       0|          1|                    1|                 0|   7|              0|                        32|                       0|            0|        0|                         0|   0|               4|            0|\n",
      "|  900478966|UNIDAD NACIONAL P...|           85|               4337538838|          5.102986868235294E7|                1|                  4|                 4|                7|           1|         1|                         20|        0|     0|     0|      0|          0|       0|   0|       0|       0|    0|      0|        0|      0|    0|                                      0|     0|     0|              0|           0|         0|     0|     0|                 0|    85|    0|    0|        0|      0|        0|       0|        0|      0|      0|    0|        3|    14|       0|     0|         2|          66|                0|         0|      0|                  72|   3|                  1|                          7|                      0|      0|                 0|               0|                                   2|         0|      1|          1|                     75|                       0|       0|          2|       2|          1|                    0|                 0|   3|              0|                         0|                       0|            0|        0|                         0|   0|               0|            0|\n",
      "|  830000167|INSTITUTO NACIONA...|          647|              47836698144|          7.393616405564143E7|                1|                  6|                 6|                7|           1|         1|                         19|        0|     0|     0|      0|          0|       0|   0|       0|       0|    0|      0|        0|      0|    0|                                      0|     0|     0|              0|           0|         0|     0|     0|                 0|   647|    0|    0|        0|      0|        0|       0|        0|      0|      0|    0|       16|     4|       0|    15|        57|         553|                0|         2|      0|                 557|  41|                  1|                         15|                      4|     26|                 0|               0|                                   3|         0|      1|          1|                    583|                       0|       0|          9|       1|         24|                    0|                 0|  28|              0|                         0|                       0|            0|        0|                         0|   0|               0|            0|\n",
      "|  811010104|INSTITUTO NACIONA...|           20|                 84523674|                    4226183.7|                1|                  3|                 1|                2|           1|         1|                         19|        0|     0|     0|      0|          0|       0|   0|       0|       0|    0|      0|       20|      0|    0|                                      0|     0|     0|              0|           0|         0|     0|     0|                 0|     0|    0|    0|        0|      0|        0|       0|        0|      0|      0|    0|        1|     0|       0|     0|         3|          16|                0|         0|      0|                   0|   0|                  0|                         20|                      0|      0|                 0|               0|                                   0|         0|      0|          0|                      1|                       0|       0|          0|       0|         19|                    0|                 0|   0|              0|                         0|                       0|            0|        0|                         0|   0|               0|            0|\n",
      "|  890001879|QUINDIO - BUENAVI...|            4|                111998053|                2.799951325E7|                1|                  2|                 1|                1|           1|         1|                         21|        0|     0|     0|      0|          0|       0|   0|       0|       0|    0|      0|        0|      4|    0|                                      0|     0|     0|              0|           0|         0|     0|     0|                 0|     0|    0|    0|        0|      0|        0|       0|        0|      0|      0|    0|        0|     0|       0|     0|         2|           2|                0|         0|      0|                   0|   0|                  0|                          0|                      0|      0|                 0|               4|                                   0|         0|      0|          0|                      0|                       0|       0|          0|       0|          0|                    0|                 0|   0|              0|                         0|                       0|            0|        0|                         0|   0|               4|            0|\n",
      "|  800194096|ANTIOQUIA - INSTI...|         3247|              60704040132|         1.8695423508469358E7|                1|                  5|                 4|                9|           1|         1|                         19|        0|     0|     0|      0|          0|       0|   0|       0|       0|    0|      0|     3247|      0|    0|                                      0|     0|     0|              0|           0|         0|     0|     0|                 0|     0|    0|    0|        0|      0|        0|       0|        0|      0|      0|    0|      496|    15|       0|     0|        28|        2662|                0|         0|     46|                3122|   3|                  0|                          2|                      0|      0|                 0|             119|                                   1|         0|      1|          2|                   2978|                       0|       0|          0|      59|          2|                    0|                 0|   8|              0|                        77|                       0|            0|        0|                         0|   1|             119|            0|\n",
      "|  890981207|ANTIOQUIA - LA CE...|          135|              18254407750|          1.352178351851852E8|                1|                  6|                 6|                8|           1|         1|                         19|        0|     0|     0|      0|          0|       0|   0|       0|       0|    0|      0|      135|      0|    0|                                      0|     0|     0|              0|           0|         0|     0|     0|                 0|     0|    0|    0|        0|      0|        0|       0|        0|      0|      0|    0|        1|     1|       0|     0|        17|         113|                0|         2|      1|                 108|   4|                  1|                          8|                      0|      6|                 0|               6|                                   2|         0|      0|          0|                     91|                       0|       0|          1|       8|          6|                    0|                 0|  16|              0|                         0|                       0|            1|        0|                         0|   3|               9|            0|\n",
      "|  899999069|INSTITUTO COLOMBI...|           34|                275329002|            8097911.823529412|                1|                  2|                 2|                3|           1|         1|                         19|        0|     0|     0|      0|          0|       0|  34|       0|       0|    0|      0|        0|      0|    0|                                      0|     0|     0|              0|           0|         0|     0|     0|                 0|     0|    0|    0|        0|      0|        0|       0|        0|      0|      0|    0|        0|     0|       0|     0|         1|          33|                0|         0|      0|                  26|   0|                  0|                          8|                      0|      0|                 0|               0|                                   0|         0|      0|          0|                      7|                       0|       0|          0|       0|          1|                    0|                 0|   0|              0|                        26|                       0|            0|        0|                         0|   0|               0|            0|\n",
      "|  804003036|CARCEL Y PENITENC...|           21|               1178206927|          5.610509176190476E7|                1|                  2|                 2|                3|           1|         1|                         21|       21|     0|     0|      0|          0|       0|   0|       0|       0|    0|      0|        0|      0|    0|                                      0|     0|     0|              0|           0|         0|     0|     0|                 0|     0|    0|    0|        0|      0|        0|       0|        0|      0|      0|    0|        0|     0|       0|     0|         6|          15|                0|         0|      0|                   0|   0|                  0|                         17|                      0|      4|                 0|               0|                                   0|         0|      0|          0|                      5|                       0|       0|          3|       0|         13|                    0|                 0|   0|              0|                         0|                       0|            0|        0|                         0|   0|               0|            0|\n",
      "|  891900289|VALLE DEL CAUCA -...|           42|                626303315|          1.491198369047619E7|                1|                  1|                 2|                4|           1|         1|                         19|        0|     0|     0|      0|          0|       0|   0|       0|       0|    0|      0|        0|      0|    0|                                      0|     0|     0|             42|           0|         0|     0|     0|                 0|     0|    0|    0|        0|      0|        0|       0|        0|      0|      0|    0|        0|     0|       0|     0|         0|          42|                0|         0|      0|                  36|   0|                  0|                          6|                      0|      0|                 0|               0|                                   0|         0|      0|          0|                     38|                       0|       0|          1|       0|          2|                    0|                 0|   0|              0|                         0|                       0|            0|        0|                         0|   1|               0|            0|\n",
      "|  901074333|MINISTERIO DEL TR...|            5|                110633000|                    2.21266E7|                1|                  1|                 1|                1|           1|         1|                         25|        0|     0|     0|      0|          0|       0|   0|       0|       0|    0|      0|        0|      0|    0|                                      0|     0|     0|              0|           5|         0|     0|     0|                 0|     0|    0|    0|        0|      0|        0|       0|        0|      0|      0|    0|        0|     0|       0|     0|         0|           5|                0|         0|      0|                   5|   0|                  0|                          0|                      0|      0|                 0|               0|                                   0|         0|      0|          0|                      0|                       0|       0|          0|       0|          0|                    0|                 0|   0|              0|                         5|                       0|            0|        0|                         0|   0|               0|            0|\n",
      "|  890906445|    CONCEJO CAUCASIA|            3|                 45852880|         1.5284293333333334E7|                1|                  2|                 2|                2|           1|         1|                         20|        0|     0|     0|      0|          0|       0|   0|       0|       0|    0|      0|        3|      0|    0|                                      0|     0|     0|              0|           0|         0|     0|     0|                 0|     0|    0|    0|        0|      0|        0|       0|        0|      0|      0|    0|        0|     0|       0|     0|         0|           1|                0|         0|      2|                   1|   0|                  0|                          2|                      0|      0|                 0|               0|                                   0|         0|      0|          0|                      1|                       0|       0|          0|       0|          2|                    0|                 0|   0|              0|                         0|                       0|            0|        0|                         0|   0|               0|            0|\n",
      "|  890680059|CUNDINAMARCA - RI...|          119|               4239680998|           3.56275714117647E7|                1|                  5|                 5|                5|           1|         1|                         20|        0|     0|     0|      0|          0|       0|   0|       0|       0|    0|      0|        0|      0|    0|                                      0|     0|     0|              0|         119|         0|     0|     0|                 0|     0|    0|    0|        0|      0|        0|       0|        0|      0|      0|    0|        1|     5|       0|     0|         2|         110|                0|         1|      0|                  97|   7|                  0|                         11|                      1|      1|                 0|               2|                                   0|         0|      0|          0|                    100|                       0|       0|          5|       0|          4|                    0|                 0|   7|              0|                         0|                       0|            0|        0|                         0|   0|               3|            0|\n",
      "|  802008282|INSTITUTO NACIONA...|            6|                502879602|                  8.3813267E7|                1|                  2|                 2|                3|           1|         1|                         21|        0|     0|     0|      0|          0|       0|   0|       0|       0|    0|      0|        0|      0|    0|                                      0|     0|     0|              0|           0|         0|     0|     0|                 0|     0|    0|    0|        6|      0|        0|       0|        0|      0|      0|    0|        0|     0|       0|     0|         2|           4|                0|         0|      0|                   1|   0|                  0|                          5|                      0|      0|                 0|               0|                                   0|         0|      0|          0|                      3|                       0|       0|          2|       0|          0|                    0|                 0|   0|              0|                         1|                       0|            0|        0|                         0|   0|               0|            0|\n",
      "+-----------+--------------------+-------------+-------------------------+-----------------------------+-----------------+-------------------+------------------+-----------------+------------+----------+---------------------------+---------+------+------+-------+-----------+--------+----+--------+--------+-----+-------+---------+-------+-----+---------------------------------------+------+------+---------------+------------+----------+------+------+------------------+------+-----+-----+---------+-------+---------+--------+---------+-------+-------+-----+---------+------+--------+------+----------+------------+-----------------+----------+-------+--------------------+----+-------------------+---------------------------+-----------------------+-------+------------------+----------------+------------------------------------+----------+-------+-----------+-----------------------+------------------------+--------+-----------+--------+-----------+---------------------+------------------+----+---------------+--------------------------+------------------------+-------------+---------+--------------------------+----+----------------+-------------+\n",
      "only showing top 20 rows\n",
      "\n"
     ]
    }
   ],
   "source": [
    "infraestructura_df_agregado_y_pivotado = pyspark_etl_functions.unir_dataframes(infraestructura_df_agregado_y_pivotado, infraestructura_df_pivotado)\n",
    "infraestructura_df_agregado_y_pivotado.show()"
   ]
  },
  {
   "cell_type": "code",
   "execution_count": 20,
   "metadata": {},
   "outputs": [
    {
     "name": "stderr",
     "output_type": "stream",
     "text": [
      "[Stage 211:>                                                        (0 + 4) / 5]\r"
     ]
    },
    {
     "name": "stdout",
     "output_type": "stream",
     "text": [
      "23/05/04 04:45:49 WARN RowBasedKeyValueBatch: Calling spill() on RowBasedKeyValueBatch. Will not spill but return 0.\n",
      "23/05/04 04:45:49 WARN RowBasedKeyValueBatch: Calling spill() on RowBasedKeyValueBatch. Will not spill but return 0.\n",
      "23/05/04 04:45:49 WARN RowBasedKeyValueBatch: Calling spill() on RowBasedKeyValueBatch. Will not spill but return 0.\n",
      "23/05/04 04:45:49 WARN RowBasedKeyValueBatch: Calling spill() on RowBasedKeyValueBatch. Will not spill but return 0.\n",
      "23/05/04 04:45:49 WARN RowBasedKeyValueBatch: Calling spill() on RowBasedKeyValueBatch. Will not spill but return 0.\n",
      "23/05/04 04:45:49 WARN RowBasedKeyValueBatch: Calling spill() on RowBasedKeyValueBatch. Will not spill but return 0.\n",
      "23/05/04 04:45:49 WARN RowBasedKeyValueBatch: Calling spill() on RowBasedKeyValueBatch. Will not spill but return 0.\n",
      "23/05/04 04:45:49 WARN RowBasedKeyValueBatch: Calling spill() on RowBasedKeyValueBatch. Will not spill but return 0.\n"
     ]
    },
    {
     "name": "stderr",
     "output_type": "stream",
     "text": [
      "[Stage 211:==================================>                      (3 + 2) / 5]\r"
     ]
    },
    {
     "name": "stdout",
     "output_type": "stream",
     "text": [
      "+-----------+--------------------+---------------------+----------------------------+--------------------------------------------------+----------------+------------------+-----------+---------------------+--------+-------+--------------------------+-------------------------+---------+------------------+---------------+---------------------------+--------+---------------------------------+---------------------------------------------+----------+-----------------------+--------------------------------+-------+-------+---------------+----------+\n",
      "|NIT_ENTIDAD|      NOMBRE_ENTIDAD|RELACIONES EXTERIORES|VIVIENDA CIUDAD Y TERRITORIO|TECNOLOGIAS DE LA INFORMACION Y LAS COMUNICACIONES|SERVICIO PUBLICO|EDUCACION NACIONAL|AGRICULTURA|NO APLICANO PERTENECE|DEPORTES|DEFENSA|HACIENDA Y CREDITO PUBLICO|SALUD Y PROTECCION SOCIAL|INDUSTRIA|CIENCIA TECNOLOGIA|MINAS Y ENERGIA|PRESIDENCIA DE LA REPUBLICA|INTERIOR|INCLUSION SOCIAL Y RECONCILIACION|INTELIGENCIA ESTRATEGICA Y CONTRAINTELIGENCIA|TRANSPORTE|INFORMACION ESTADISTICA|AMBIENTE Y DESARROLLO SOSTENIBLE|TRABAJO|CULTURA|LEY DE JUSTICIA|PLANEACION|\n",
      "+-----------+--------------------+---------------------+----------------------------+--------------------------------------------------+----------------+------------------+-----------+---------------------+--------+-------+--------------------------+-------------------------+---------+------------------+---------------+---------------------------+--------+---------------------------------+---------------------------------------------+----------+-----------------------+--------------------------------+-------+-------+---------------+----------+\n",
      "| 8605110716|FONDO ROTATORIO D...|                  178|                           0|                                                 0|               0|                 0|          0|                    0|       0|      0|                         0|                        0|        0|                 0|              0|                          0|       0|                                0|                                            0|         0|                      0|                               0|      0|      0|              0|         0|\n",
      "|  830063506|BOGOTA - TRANSMIL...|                    0|                           0|                                                 0|               0|                 0|          0|                    0|       0|      0|                         0|                        0|        0|                 0|              0|                          0|       0|                                0|                                            0|      1171|                      0|                               0|      0|      0|              0|         0|\n",
      "|  899999034|SENA REGIONAL CAL...|                    0|                           0|                                                 0|               0|                 0|          0|                    0|       0|      0|                         0|                        0|        0|                 0|              0|                          0|       0|                                0|                                            0|         0|                      0|                               0|    143|      0|              0|         0|\n",
      "|  805027641|INSTITUCION EDUCA...|                    0|                           0|                                                 0|               0|                21|          0|                    0|       0|      0|                         0|                        0|        0|                 0|              0|                          0|       0|                                0|                                            0|         0|                      0|                               0|      0|      0|              0|         0|\n",
      "|  900816913|ESTABLECIMIENTO P...|                    0|                           0|                                                 0|               0|                 0|          0|                    0|       0|      0|                         0|                        0|        0|                 0|              0|                          0|       0|                                0|                                            0|         0|                      0|                               1|      0|      0|              0|         0|\n",
      "|  830000167|INSTITUTO NACIONA...|                    0|                           0|                                                 0|               0|                 0|          0|                    0|       0|      0|                         0|                      647|        0|                 0|              0|                          0|       0|                                0|                                            0|         0|                      0|                               0|      0|      0|              0|         0|\n",
      "|  811010104|INSTITUTO NACIONA...|                    0|                           0|                                                 0|               0|                 0|          0|                    0|       0|      0|                         0|                        0|        0|                 0|              0|                          0|       0|                                0|                                            0|         0|                      0|                               0|      0|      0|             20|         0|\n",
      "|  890001879|QUINDIO - BUENAVI...|                    0|                           0|                                                 0|               4|                 0|          0|                    0|       0|      0|                         0|                        0|        0|                 0|              0|                          0|       0|                                0|                                            0|         0|                      0|                               0|      0|      0|              0|         0|\n",
      "|  900490473|UARIVUNIDAD PARA ...|                    0|                           0|                                                 0|               0|                 0|          0|                    0|       0|      0|                         0|                        0|        0|                 0|              0|                          0|       0|                             1452|                                            0|         0|                      0|                               0|      0|      0|              0|         0|\n",
      "|  900478966|UNIDAD NACIONAL P...|                    0|                           0|                                                 0|               0|                 0|          0|                    0|       0|      0|                         0|                        0|        0|                 0|              0|                         85|       0|                                0|                                            0|         0|                      0|                               0|      0|      0|              0|         0|\n",
      "|  890000858|MUNICIPIO DE MONT...|                    0|                           0|                                                 0|             174|                 0|          0|                    0|       0|      0|                         0|                        0|        0|                 0|              0|                          0|       0|                                0|                                            0|         0|                      0|                               0|      0|      0|              0|         0|\n",
      "|  899999069|INSTITUTO COLOMBI...|                    0|                           0|                                                 0|               0|                 0|         34|                    0|       0|      0|                         0|                        0|        0|                 0|              0|                          0|       0|                                0|                                            0|         0|                      0|                               0|      0|      0|              0|         0|\n",
      "|  890906445|    CONCEJO CAUCASIA|                    0|                           0|                                                 0|               0|                 0|          0|                    0|       0|      0|                         0|                        0|        0|                 0|              0|                          0|       0|                                0|                                            0|         0|                      0|                               0|      0|      0|              3|         0|\n",
      "|  901074333|MINISTERIO DEL TR...|                    0|                           0|                                                 0|               0|                 0|          0|                    0|       0|      0|                         0|                        0|        0|                 0|              0|                          0|       0|                                0|                                            0|         0|                      0|                               0|      5|      0|              0|         0|\n",
      "|  891900289|VALLE DEL CAUCA -...|                    0|                           0|                                                 0|              42|                 0|          0|                    0|       0|      0|                         0|                        0|        0|                 0|              0|                          0|       0|                                0|                                            0|         0|                      0|                               0|      0|      0|              0|         0|\n",
      "|  890981207|ANTIOQUIA - LA CE...|                    0|                           0|                                                 0|               0|                 0|          0|                    0|       0|      0|                         0|                        0|        0|                 0|              0|                          0|     135|                                0|                                            0|         0|                      0|                               0|      0|      0|              0|         0|\n",
      "|  804003036|CARCEL Y PENITENC...|                    0|                           0|                                                 0|               0|                 0|          0|                    0|       0|      0|                         0|                        0|        0|                 0|              0|                          0|       0|                                0|                                            0|         0|                      0|                               0|      0|      0|             21|         0|\n",
      "|  800194096|ANTIOQUIA - INSTI...|                    0|                           0|                                                 0|               0|                 0|          0|                    0|    3247|      0|                         0|                        0|        0|                 0|              0|                          0|       0|                                0|                                            0|         0|                      0|                               0|      0|      0|              0|         0|\n",
      "|  891580006|CAUCA - POPAYAN -...|                    0|                           0|                                                 0|            1777|                 0|          0|                    0|       0|      0|                         0|                        0|        0|                 0|              0|                          0|       0|                                0|                                            0|         0|                      0|                               0|      0|      0|              0|         0|\n",
      "|  802008282|INSTITUTO NACIONA...|                    0|                           0|                                                 0|               0|                 0|          0|                    0|       0|      0|                         0|                        0|        0|                 0|              0|                          0|       0|                                0|                                            0|         0|                      0|                               0|      0|      0|              6|         0|\n",
      "+-----------+--------------------+---------------------+----------------------------+--------------------------------------------------+----------------+------------------+-----------+---------------------+--------+-------+--------------------------+-------------------------+---------+------------------+---------------+---------------------------+--------+---------------------------------+---------------------------------------------+----------+-----------------------+--------------------------------+-------+-------+---------------+----------+\n",
      "only showing top 20 rows\n",
      "\n"
     ]
    },
    {
     "name": "stderr",
     "output_type": "stream",
     "text": [
      "                                                                                \r"
     ]
    }
   ],
   "source": [
    "infraestructura_df_pivotado = pyspark_etl_functions.pivotar_por_columna(infraestructura_df_seleccionado, \"NOMBRE_FAMILIA\")\n",
    "infraestructura_df_pivotado.show()"
   ]
  },
  {
   "cell_type": "code",
   "execution_count": 21,
   "metadata": {},
   "outputs": [
    {
     "name": "stderr",
     "output_type": "stream",
     "text": [
      "[Stage 222:=> (3 + 2) / 5][Stage 224:>  (0 + 2) / 5][Stage 225:>  (0 + 0) / 5]5]\r"
     ]
    },
    {
     "name": "stdout",
     "output_type": "stream",
     "text": [
      "23/05/04 04:46:15 WARN RowBasedKeyValueBatch: Calling spill() on RowBasedKeyValueBatch. Will not spill but return 0.\n",
      "23/05/04 04:46:15 WARN RowBasedKeyValueBatch: Calling spill() on RowBasedKeyValueBatch. Will not spill but return 0.\n",
      "23/05/04 04:46:15 WARN RowBasedKeyValueBatch: Calling spill() on RowBasedKeyValueBatch. Will not spill but return 0.\n",
      "23/05/04 04:46:15 WARN RowBasedKeyValueBatch: Calling spill() on RowBasedKeyValueBatch. Will not spill but return 0.\n"
     ]
    },
    {
     "name": "stderr",
     "output_type": "stream",
     "text": [
      "[Stage 222:==>(4 + 1) / 5][Stage 224:>  (0 + 3) / 5][Stage 225:>  (0 + 0) / 5]\r"
     ]
    },
    {
     "name": "stdout",
     "output_type": "stream",
     "text": [
      "23/05/04 04:46:16 WARN RowBasedKeyValueBatch: Calling spill() on RowBasedKeyValueBatch. Will not spill but return 0.\n",
      "23/05/04 04:46:16 WARN RowBasedKeyValueBatch: Calling spill() on RowBasedKeyValueBatch. Will not spill but return 0.\n"
     ]
    },
    {
     "name": "stderr",
     "output_type": "stream",
     "text": [
      "[Stage 224:=> (2 + 3) / 5][Stage 225:>  (0 + 1) / 5][Stage 226:>  (0 + 0) / 5]\r"
     ]
    },
    {
     "name": "stdout",
     "output_type": "stream",
     "text": [
      "23/05/04 04:46:17 WARN RowBasedKeyValueBatch: Calling spill() on RowBasedKeyValueBatch. Will not spill but return 0.\n"
     ]
    },
    {
     "name": "stderr",
     "output_type": "stream",
     "text": [
      "[Stage 224:=> (3 + 2) / 5][Stage 225:>  (0 + 2) / 5][Stage 226:>  (0 + 0) / 5]\r"
     ]
    },
    {
     "name": "stdout",
     "output_type": "stream",
     "text": [
      "23/05/04 04:46:18 WARN RowBasedKeyValueBatch: Calling spill() on RowBasedKeyValueBatch. Will not spill but return 0.\n",
      "23/05/04 04:46:18 WARN RowBasedKeyValueBatch: Calling spill() on RowBasedKeyValueBatch. Will not spill but return 0.\n",
      "23/05/04 04:46:18 WARN RowBasedKeyValueBatch: Calling spill() on RowBasedKeyValueBatch. Will not spill but return 0.\n",
      "23/05/04 04:46:18 WARN RowBasedKeyValueBatch: Calling spill() on RowBasedKeyValueBatch. Will not spill but return 0.\n"
     ]
    },
    {
     "name": "stderr",
     "output_type": "stream",
     "text": [
      "[Stage 224:==>(4 + 1) / 5][Stage 225:>  (0 + 3) / 5][Stage 226:>  (0 + 0) / 5]\r"
     ]
    },
    {
     "name": "stdout",
     "output_type": "stream",
     "text": [
      "23/05/04 04:46:18 WARN RowBasedKeyValueBatch: Calling spill() on RowBasedKeyValueBatch. Will not spill but return 0.\n",
      "23/05/04 04:46:18 WARN RowBasedKeyValueBatch: Calling spill() on RowBasedKeyValueBatch. Will not spill but return 0.\n"
     ]
    },
    {
     "name": "stderr",
     "output_type": "stream",
     "text": [
      "[Stage 225:>  (0 + 4) / 5][Stage 226:>  (0 + 0) / 5][Stage 227:>  (0 + 0) / 5]\r"
     ]
    },
    {
     "name": "stdout",
     "output_type": "stream",
     "text": [
      "23/05/04 04:46:19 WARN RowBasedKeyValueBatch: Calling spill() on RowBasedKeyValueBatch. Will not spill but return 0.\n",
      "23/05/04 04:46:19 WARN RowBasedKeyValueBatch: Calling spill() on RowBasedKeyValueBatch. Will not spill but return 0.\n"
     ]
    },
    {
     "name": "stderr",
     "output_type": "stream",
     "text": [
      "[Stage 225:==>(4 + 1) / 5][Stage 226:>  (0 + 3) / 5][Stage 227:>  (0 + 0) / 5]\r"
     ]
    },
    {
     "name": "stdout",
     "output_type": "stream",
     "text": [
      "23/05/04 04:46:20 WARN RowBasedKeyValueBatch: Calling spill() on RowBasedKeyValueBatch. Will not spill but return 0.\n",
      "23/05/04 04:46:20 WARN RowBasedKeyValueBatch: Calling spill() on RowBasedKeyValueBatch. Will not spill but return 0.\n",
      "23/05/04 04:46:21 WARN RowBasedKeyValueBatch: Calling spill() on RowBasedKeyValueBatch. Will not spill but return 0.\n",
      "23/05/04 04:46:21 WARN RowBasedKeyValueBatch: Calling spill() on RowBasedKeyValueBatch. Will not spill but return 0.\n",
      "23/05/04 04:46:21 WARN RowBasedKeyValueBatch: Calling spill() on RowBasedKeyValueBatch. Will not spill but return 0.\n",
      "23/05/04 04:46:21 WARN RowBasedKeyValueBatch: Calling spill() on RowBasedKeyValueBatch. Will not spill but return 0.\n"
     ]
    },
    {
     "name": "stderr",
     "output_type": "stream",
     "text": [
      "[Stage 226:>  (0 + 4) / 5][Stage 227:>  (0 + 0) / 5][Stage 228:>  (0 + 0) / 5]\r"
     ]
    },
    {
     "name": "stdout",
     "output_type": "stream",
     "text": [
      "23/05/04 04:46:21 WARN RowBasedKeyValueBatch: Calling spill() on RowBasedKeyValueBatch. Will not spill but return 0.\n",
      "23/05/04 04:46:21 WARN RowBasedKeyValueBatch: Calling spill() on RowBasedKeyValueBatch. Will not spill but return 0.\n"
     ]
    },
    {
     "name": "stderr",
     "output_type": "stream",
     "text": [
      "[Stage 227:>  (0 + 4) / 5][Stage 228:>  (0 + 0) / 5][Stage 231:>  (0 + 0) / 4]\r"
     ]
    },
    {
     "name": "stdout",
     "output_type": "stream",
     "text": [
      "23/05/04 04:46:23 WARN RowBasedKeyValueBatch: Calling spill() on RowBasedKeyValueBatch. Will not spill but return 0.\n",
      "23/05/04 04:46:23 WARN RowBasedKeyValueBatch: Calling spill() on RowBasedKeyValueBatch. Will not spill but return 0.\n",
      "23/05/04 04:46:23 WARN RowBasedKeyValueBatch: Calling spill() on RowBasedKeyValueBatch. Will not spill but return 0.\n",
      "23/05/04 04:46:23 WARN RowBasedKeyValueBatch: Calling spill() on RowBasedKeyValueBatch. Will not spill but return 0.\n",
      "23/05/04 04:46:23 WARN RowBasedKeyValueBatch: Calling spill() on RowBasedKeyValueBatch. Will not spill but return 0.\n",
      "23/05/04 04:46:23 WARN RowBasedKeyValueBatch: Calling spill() on RowBasedKeyValueBatch. Will not spill but return 0.\n",
      "23/05/04 04:46:23 WARN RowBasedKeyValueBatch: Calling spill() on RowBasedKeyValueBatch. Will not spill but return 0.\n",
      "23/05/04 04:46:24 WARN RowBasedKeyValueBatch: Calling spill() on RowBasedKeyValueBatch. Will not spill but return 0.\n"
     ]
    },
    {
     "name": "stderr",
     "output_type": "stream",
     "text": [
      "[Stage 227:==>(4 + 1) / 5][Stage 228:>  (0 + 3) / 5][Stage 231:>  (0 + 0) / 4]\r"
     ]
    },
    {
     "name": "stdout",
     "output_type": "stream",
     "text": [
      "23/05/04 04:46:25 WARN RowBasedKeyValueBatch: Calling spill() on RowBasedKeyValueBatch. Will not spill but return 0.\n",
      "23/05/04 04:46:25 WARN RowBasedKeyValueBatch: Calling spill() on RowBasedKeyValueBatch. Will not spill but return 0.\n",
      "23/05/04 04:46:25 WARN RowBasedKeyValueBatch: Calling spill() on RowBasedKeyValueBatch. Will not spill but return 0.\n"
     ]
    },
    {
     "name": "stderr",
     "output_type": "stream",
     "text": [
      "[Stage 228:>  (0 + 4) / 5][Stage 231:>  (0 + 0) / 4][Stage 233:>  (0 + 0) / 1]\r"
     ]
    },
    {
     "name": "stdout",
     "output_type": "stream",
     "text": [
      "23/05/04 04:46:25 WARN RowBasedKeyValueBatch: Calling spill() on RowBasedKeyValueBatch. Will not spill but return 0.\n",
      "23/05/04 04:46:26 WARN RowBasedKeyValueBatch: Calling spill() on RowBasedKeyValueBatch. Will not spill but return 0.\n",
      "23/05/04 04:46:26 WARN RowBasedKeyValueBatch: Calling spill() on RowBasedKeyValueBatch. Will not spill but return 0.\n",
      "23/05/04 04:46:26 WARN RowBasedKeyValueBatch: Calling spill() on RowBasedKeyValueBatch. Will not spill but return 0.\n",
      "23/05/04 04:46:26 WARN RowBasedKeyValueBatch: Calling spill() on RowBasedKeyValueBatch. Will not spill but return 0.\n"
     ]
    },
    {
     "name": "stderr",
     "output_type": "stream",
     "text": [
      "                                                                                \r"
     ]
    },
    {
     "name": "stdout",
     "output_type": "stream",
     "text": [
      "+-----------+--------------------+-------------+-------------------------+-----------------------------+-----------------+-------------------+------------------+-----------------+------------+----------+---------------------------+---------+------+------+-------+-----------+--------+----+--------+--------+-----+-------+---------+-------+-----+---------------------------------------+------+------+---------------+------------+----------+------+------+------------------+------+-----+-----+---------+-------+---------+--------+---------+-------+-------+-----+---------+------+--------+------+----------+------------+-----------------+----------+-------+--------------------+----+-------------------+---------------------------+-----------------------+-------+------------------+----------------+------------------------------------+----------+-------+-----------+-----------------------+------------------------+--------+-----------+--------+-----------+---------------------+------------------+----+---------------+--------------------------+------------------------+-------------+---------+--------------------------+----+----------------+-------------+---------------------+----------------------------+--------------------------------------------------+----------------+------------------+-----------+---------------------+--------+-------+--------------------------+-------------------------+---------+------------------+---------------+---------------------------+--------+---------------------------------+---------------------------------------------+----------+-----------------------+--------------------------------+-------+-------+---------------+----------+\n",
      "|NIT_ENTIDAD|      NOMBRE_ENTIDAD|num_contratos|suma_valor_total_contrato|promedio_valor_total_contrato|num_departamentos|num_estados_proceso|num_clases_proceso|num_tipos_proceso|num_familias|num_clases|meses_desde_ultimo_contrato|SANTANDER|VAUPES|NARIÑO|CAQUETA|NO DEFINIDO|CASANARE|META|AMAZONAS|GUAVIARE|CAUCA|VICHADA|ANTIOQUIA|QUINDIO|CHOCO|SAN ANDRES PROVIDENCIA Y SANTA CATALINA|CALDAS|BOYACA|VALLE DEL CAUCA|CUNDINAMARCA|LA GUAJIRA|TOLIMA|ARAUCA|NORTE DE SANTANDER|BOGOTA|HUILA|SUCRE|ATLANTICO|BOLIVAR|RISARALDA|PUTUMAYO|MAGDALENA|GUAINIA|CORDOBA|CESAR|TERMINADO|ACTIVO|BORRADOR|CEDIDO|MODIFICADO|EN EJECUCION|ENVIADO PROVEEDOR|SUSPENDIDO|CERRADO|CONTRATACION DIRECTA|null|CONCURSO DE MERITOS|CONTRATACION MINIMA CUANTIA|LICITACION OBRA PUBLICA|SUBASTA|LICITACION PUBLICA|REGIMEN ESPECIAL|SELECCION ABREVIADA DE MENOR CUANTIA|EMPRESTITO|SEGUROS|CONSULTORIA|PRESTACION DE SERVICIOS|ACUERDO MARCO DE PRECIOS|COMISION|COMPRAVENTA|COMODATO|SUMINISTROS|SERVICIOS FINANCIEROS|NEGOCIO FIDUCIARIO|OTRO|VENTA INMUEBLES|ARRENDAMIENTO DE INMUEBLES|ARRENDAMIENTO DE MUEBLES|INTERVENTORIA|CONCESION|ASOCIACION PUBLICO PRIVADA|OBRA|DECREELAW0922017|VENTA MUEBLES|RELACIONES EXTERIORES|VIVIENDA CIUDAD Y TERRITORIO|TECNOLOGIAS DE LA INFORMACION Y LAS COMUNICACIONES|SERVICIO PUBLICO|EDUCACION NACIONAL|AGRICULTURA|NO APLICANO PERTENECE|DEPORTES|DEFENSA|HACIENDA Y CREDITO PUBLICO|SALUD Y PROTECCION SOCIAL|INDUSTRIA|CIENCIA TECNOLOGIA|MINAS Y ENERGIA|PRESIDENCIA DE LA REPUBLICA|INTERIOR|INCLUSION SOCIAL Y RECONCILIACION|INTELIGENCIA ESTRATEGICA Y CONTRAINTELIGENCIA|TRANSPORTE|INFORMACION ESTADISTICA|AMBIENTE Y DESARROLLO SOSTENIBLE|TRABAJO|CULTURA|LEY DE JUSTICIA|PLANEACION|\n",
      "+-----------+--------------------+-------------+-------------------------+-----------------------------+-----------------+-------------------+------------------+-----------------+------------+----------+---------------------------+---------+------+------+-------+-----------+--------+----+--------+--------+-----+-------+---------+-------+-----+---------------------------------------+------+------+---------------+------------+----------+------+------+------------------+------+-----+-----+---------+-------+---------+--------+---------+-------+-------+-----+---------+------+--------+------+----------+------------+-----------------+----------+-------+--------------------+----+-------------------+---------------------------+-----------------------+-------+------------------+----------------+------------------------------------+----------+-------+-----------+-----------------------+------------------------+--------+-----------+--------+-----------+---------------------+------------------+----+---------------+--------------------------+------------------------+-------------+---------+--------------------------+----+----------------+-------------+---------------------+----------------------------+--------------------------------------------------+----------------+------------------+-----------+---------------------+--------+-------+--------------------------+-------------------------+---------+------------------+---------------+---------------------------+--------+---------------------------------+---------------------------------------------+----------+-----------------------+--------------------------------+-------+-------+---------------+----------+\n",
      "|  805027641|INSTITUCION EDUCA...|           21|                143107415|             6814638.80952381|                1|                  2|                 2|                4|           1|         1|                         20|        0|     0|     0|      0|          0|       0|   0|       0|       0|    0|      0|        0|      0|    0|                                      0|     0|     0|             21|           0|         0|     0|     0|                 0|     0|    0|    0|        0|      0|        0|       0|        0|      0|      0|    0|        0|     0|       0|     0|         5|          16|                0|         0|      0|                  10|   9|                  0|                          2|                      0|      0|                 0|               0|                                   0|         0|      0|          0|                     14|                       0|       0|          3|       0|          3|                    0|                 0|   0|              0|                         0|                       0|            0|        0|                         0|   1|               0|            0|                    0|                           0|                                                 0|               0|                21|          0|                    0|       0|      0|                         0|                        0|        0|                 0|              0|                          0|       0|                                0|                                            0|         0|                      0|                               0|      0|      0|              0|         0|\n",
      "|  899999034|SENA REGIONAL CAL...|          143|               4797008008|         3.3545510545454547E7|                1|                  4|                 3|                3|           1|         1|                         19|        0|     0|     0|      0|          0|       0|   0|       0|       0|    0|      0|        0|      0|    0|                                      0|   143|     0|              0|           0|         0|     0|     0|                 0|     0|    0|    0|        0|      0|        0|       0|        0|      0|      0|    0|        6|     1|       0|     0|        26|         110|                0|         0|      0|                 133|   0|                  0|                          7|                      0|      3|                 0|               0|                                   0|         0|      0|          0|                    136|                       0|       0|          2|       0|          5|                    0|                 0|   0|              0|                         0|                       0|            0|        0|                         0|   0|               0|            0|                    0|                           0|                                                 0|               0|                 0|          0|                    0|       0|      0|                         0|                        0|        0|                 0|              0|                          0|       0|                                0|                                            0|         0|                      0|                               0|    143|      0|              0|         0|\n",
      "| 8605110716|FONDO ROTATORIO D...|          178|              25267081930|         1.4194989848314607E8|                1|                  7|                 6|                9|           1|         1|                         20|        0|     0|     0|      0|          0|       0|   0|       0|       0|    0|      0|        0|      0|    0|                                      0|     0|     0|              0|           0|         0|     0|     0|                 0|   178|    0|    0|        0|      0|        0|       0|        0|      0|      0|    0|        2|     1|       2|     0|        10|         154|                0|         1|      8|                 146|   3|                  0|                         11|                      1|     10|                 0|               5|                                   2|         0|      0|          0|                    149|                       0|       0|          1|       2|          4|                    0|                 0|  10|              0|                         5|                       0|            1|        0|                         0|   1|               5|            0|                  178|                           0|                                                 0|               0|                 0|          0|                    0|       0|      0|                         0|                        0|        0|                 0|              0|                          0|       0|                                0|                                            0|         0|                      0|                               0|      0|      0|              0|         0|\n",
      "|  830063506|BOGOTA - TRANSMIL...|         1171|             181157002383|         1.5470282013919726E8|                1|                  7|                 7|               12|           1|         1|                         19|        0|     0|     0|      0|          0|       0|   0|       0|       0|    0|      0|        0|      0|    0|                                      0|     0|     0|              0|           0|         0|     0|     0|                 0|  1171|    0|    0|        0|      0|        0|       0|        0|      0|      0|    0|        5|    28|       0|    63|        83|         989|                0|         2|      1|                1092|   9|                  3|                         10|                     17|      2|                 0|              21|                                  17|         1|      2|          2|                   1114|                       0|       0|          2|       0|          1|                    1|                 0|  32|              0|                         1|                       0|            3|        9|                         0|   3|               0|            0|                    0|                           0|                                                 0|               0|                 0|          0|                    0|       0|      0|                         0|                        0|        0|                 0|              0|                          0|       0|                                0|                                            0|      1171|                      0|                               0|      0|      0|              0|         0|\n",
      "|  900816913|ESTABLECIMIENTO P...|            1|                223000000|                       2.23E8|                1|                  1|                 0|                1|           1|         1|                         19|        0|     0|     0|      0|          0|       0|   0|       0|       0|    0|      0|        0|      0|    0|                                      0|     0|     0|              1|           0|         0|     0|     0|                 0|     0|    0|    0|        0|      0|        0|       0|        0|      0|      0|    0|        0|     1|       0|     0|         0|           0|                0|         0|      0|                   0|   1|                  0|                          0|                      0|      0|                 0|               0|                                   0|         0|      0|          0|                      0|                       0|       0|          0|       0|          0|                    0|                 0|   0|              0|                         0|                       0|            0|        0|                         0|   0|               1|            0|                    0|                           0|                                                 0|               0|                 0|          0|                    0|       0|      0|                         0|                        0|        0|                 0|              0|                          0|       0|                                0|                                            0|         0|                      0|                               1|      0|      0|              0|         0|\n",
      "|  890000858|MUNICIPIO DE MONT...|          174|               1886039839|          1.083930941954023E7|                1|                  3|                 3|                4|           1|         1|                         19|        0|     0|     0|      0|          0|       0|   0|       0|       0|    0|      0|        0|    174|    0|                                      0|     0|     0|              0|           0|         0|     0|     0|                 0|     0|    0|    0|        0|      0|        0|       0|        0|      0|      0|    0|        5|     1|       0|     0|         0|         168|                0|         0|      0|                 155|   8|                  0|                         10|                      0|      0|                 0|               0|                                   1|         0|      0|          2|                    159|                       0|       0|          0|       0|          5|                    0|                 0|   8|              0|                         0|                       0|            0|        0|                         0|   0|               0|            0|                    0|                           0|                                                 0|             174|                 0|          0|                    0|       0|      0|                         0|                        0|        0|                 0|              0|                          0|       0|                                0|                                            0|         0|                      0|                               0|      0|      0|              0|         0|\n",
      "|  900490473|UARIVUNIDAD PARA ...|         1452|             233979414526|         1.6114284746969697E8|                1|                  6|                 4|                6|           1|         1|                         19|        0|     0|     0|      0|          0|       0|   0|       0|       0|    0|      0|        0|      0|    0|                                      0|     0|     0|              0|           0|         0|     0|     0|                 0|  1452|    0|    0|        0|      0|        0|       0|        0|      0|      0|    0|       67|     5|       0|    27|        45|        1307|                0|         1|      0|                1443|   0|                  0|                          0|                      0|      1|                 0|               4|                                   4|         0|      0|          0|                   1407|                       0|       0|          0|       0|          1|                    1|                 0|   7|              0|                        32|                       0|            0|        0|                         0|   0|               4|            0|                    0|                           0|                                                 0|               0|                 0|          0|                    0|       0|      0|                         0|                        0|        0|                 0|              0|                          0|       0|                             1452|                                            0|         0|                      0|                               0|      0|      0|              0|         0|\n",
      "|  900478966|UNIDAD NACIONAL P...|           85|               4337538838|          5.102986868235294E7|                1|                  4|                 4|                7|           1|         1|                         20|        0|     0|     0|      0|          0|       0|   0|       0|       0|    0|      0|        0|      0|    0|                                      0|     0|     0|              0|           0|         0|     0|     0|                 0|    85|    0|    0|        0|      0|        0|       0|        0|      0|      0|    0|        3|    14|       0|     0|         2|          66|                0|         0|      0|                  72|   3|                  1|                          7|                      0|      0|                 0|               0|                                   2|         0|      1|          1|                     75|                       0|       0|          2|       2|          1|                    0|                 0|   3|              0|                         0|                       0|            0|        0|                         0|   0|               0|            0|                    0|                           0|                                                 0|               0|                 0|          0|                    0|       0|      0|                         0|                        0|        0|                 0|              0|                         85|       0|                                0|                                            0|         0|                      0|                               0|      0|      0|              0|         0|\n",
      "|  830000167|INSTITUTO NACIONA...|          647|              47836698144|          7.393616405564143E7|                1|                  6|                 6|                7|           1|         1|                         19|        0|     0|     0|      0|          0|       0|   0|       0|       0|    0|      0|        0|      0|    0|                                      0|     0|     0|              0|           0|         0|     0|     0|                 0|   647|    0|    0|        0|      0|        0|       0|        0|      0|      0|    0|       16|     4|       0|    15|        57|         553|                0|         2|      0|                 557|  41|                  1|                         15|                      4|     26|                 0|               0|                                   3|         0|      1|          1|                    583|                       0|       0|          9|       1|         24|                    0|                 0|  28|              0|                         0|                       0|            0|        0|                         0|   0|               0|            0|                    0|                           0|                                                 0|               0|                 0|          0|                    0|       0|      0|                         0|                      647|        0|                 0|              0|                          0|       0|                                0|                                            0|         0|                      0|                               0|      0|      0|              0|         0|\n",
      "|  811010104|INSTITUTO NACIONA...|           20|                 84523674|                    4226183.7|                1|                  3|                 1|                2|           1|         1|                         19|        0|     0|     0|      0|          0|       0|   0|       0|       0|    0|      0|       20|      0|    0|                                      0|     0|     0|              0|           0|         0|     0|     0|                 0|     0|    0|    0|        0|      0|        0|       0|        0|      0|      0|    0|        1|     0|       0|     0|         3|          16|                0|         0|      0|                   0|   0|                  0|                         20|                      0|      0|                 0|               0|                                   0|         0|      0|          0|                      1|                       0|       0|          0|       0|         19|                    0|                 0|   0|              0|                         0|                       0|            0|        0|                         0|   0|               0|            0|                    0|                           0|                                                 0|               0|                 0|          0|                    0|       0|      0|                         0|                        0|        0|                 0|              0|                          0|       0|                                0|                                            0|         0|                      0|                               0|      0|      0|             20|         0|\n",
      "|  890001879|QUINDIO - BUENAVI...|            4|                111998053|                2.799951325E7|                1|                  2|                 1|                1|           1|         1|                         21|        0|     0|     0|      0|          0|       0|   0|       0|       0|    0|      0|        0|      4|    0|                                      0|     0|     0|              0|           0|         0|     0|     0|                 0|     0|    0|    0|        0|      0|        0|       0|        0|      0|      0|    0|        0|     0|       0|     0|         2|           2|                0|         0|      0|                   0|   0|                  0|                          0|                      0|      0|                 0|               4|                                   0|         0|      0|          0|                      0|                       0|       0|          0|       0|          0|                    0|                 0|   0|              0|                         0|                       0|            0|        0|                         0|   0|               4|            0|                    0|                           0|                                                 0|               4|                 0|          0|                    0|       0|      0|                         0|                        0|        0|                 0|              0|                          0|       0|                                0|                                            0|         0|                      0|                               0|      0|      0|              0|         0|\n",
      "|  800194096|ANTIOQUIA - INSTI...|         3247|              60704040132|         1.8695423508469358E7|                1|                  5|                 4|                9|           1|         1|                         19|        0|     0|     0|      0|          0|       0|   0|       0|       0|    0|      0|     3247|      0|    0|                                      0|     0|     0|              0|           0|         0|     0|     0|                 0|     0|    0|    0|        0|      0|        0|       0|        0|      0|      0|    0|      496|    15|       0|     0|        28|        2662|                0|         0|     46|                3122|   3|                  0|                          2|                      0|      0|                 0|             119|                                   1|         0|      1|          2|                   2978|                       0|       0|          0|      59|          2|                    0|                 0|   8|              0|                        77|                       0|            0|        0|                         0|   1|             119|            0|                    0|                           0|                                                 0|               0|                 0|          0|                    0|    3247|      0|                         0|                        0|        0|                 0|              0|                          0|       0|                                0|                                            0|         0|                      0|                               0|      0|      0|              0|         0|\n",
      "|  890981207|ANTIOQUIA - LA CE...|          135|              18254407750|          1.352178351851852E8|                1|                  6|                 6|                8|           1|         1|                         19|        0|     0|     0|      0|          0|       0|   0|       0|       0|    0|      0|      135|      0|    0|                                      0|     0|     0|              0|           0|         0|     0|     0|                 0|     0|    0|    0|        0|      0|        0|       0|        0|      0|      0|    0|        1|     1|       0|     0|        17|         113|                0|         2|      1|                 108|   4|                  1|                          8|                      0|      6|                 0|               6|                                   2|         0|      0|          0|                     91|                       0|       0|          1|       8|          6|                    0|                 0|  16|              0|                         0|                       0|            1|        0|                         0|   3|               9|            0|                    0|                           0|                                                 0|               0|                 0|          0|                    0|       0|      0|                         0|                        0|        0|                 0|              0|                          0|     135|                                0|                                            0|         0|                      0|                               0|      0|      0|              0|         0|\n",
      "|  899999069|INSTITUTO COLOMBI...|           34|                275329002|            8097911.823529412|                1|                  2|                 2|                3|           1|         1|                         19|        0|     0|     0|      0|          0|       0|  34|       0|       0|    0|      0|        0|      0|    0|                                      0|     0|     0|              0|           0|         0|     0|     0|                 0|     0|    0|    0|        0|      0|        0|       0|        0|      0|      0|    0|        0|     0|       0|     0|         1|          33|                0|         0|      0|                  26|   0|                  0|                          8|                      0|      0|                 0|               0|                                   0|         0|      0|          0|                      7|                       0|       0|          0|       0|          1|                    0|                 0|   0|              0|                        26|                       0|            0|        0|                         0|   0|               0|            0|                    0|                           0|                                                 0|               0|                 0|         34|                    0|       0|      0|                         0|                        0|        0|                 0|              0|                          0|       0|                                0|                                            0|         0|                      0|                               0|      0|      0|              0|         0|\n",
      "|  804003036|CARCEL Y PENITENC...|           21|               1178206927|          5.610509176190476E7|                1|                  2|                 2|                3|           1|         1|                         21|       21|     0|     0|      0|          0|       0|   0|       0|       0|    0|      0|        0|      0|    0|                                      0|     0|     0|              0|           0|         0|     0|     0|                 0|     0|    0|    0|        0|      0|        0|       0|        0|      0|      0|    0|        0|     0|       0|     0|         6|          15|                0|         0|      0|                   0|   0|                  0|                         17|                      0|      4|                 0|               0|                                   0|         0|      0|          0|                      5|                       0|       0|          3|       0|         13|                    0|                 0|   0|              0|                         0|                       0|            0|        0|                         0|   0|               0|            0|                    0|                           0|                                                 0|               0|                 0|          0|                    0|       0|      0|                         0|                        0|        0|                 0|              0|                          0|       0|                                0|                                            0|         0|                      0|                               0|      0|      0|             21|         0|\n",
      "|  891900289|VALLE DEL CAUCA -...|           42|                626303315|          1.491198369047619E7|                1|                  1|                 2|                4|           1|         1|                         19|        0|     0|     0|      0|          0|       0|   0|       0|       0|    0|      0|        0|      0|    0|                                      0|     0|     0|             42|           0|         0|     0|     0|                 0|     0|    0|    0|        0|      0|        0|       0|        0|      0|      0|    0|        0|     0|       0|     0|         0|          42|                0|         0|      0|                  36|   0|                  0|                          6|                      0|      0|                 0|               0|                                   0|         0|      0|          0|                     38|                       0|       0|          1|       0|          2|                    0|                 0|   0|              0|                         0|                       0|            0|        0|                         0|   1|               0|            0|                    0|                           0|                                                 0|              42|                 0|          0|                    0|       0|      0|                         0|                        0|        0|                 0|              0|                          0|       0|                                0|                                            0|         0|                      0|                               0|      0|      0|              0|         0|\n",
      "|  901074333|MINISTERIO DEL TR...|            5|                110633000|                    2.21266E7|                1|                  1|                 1|                1|           1|         1|                         25|        0|     0|     0|      0|          0|       0|   0|       0|       0|    0|      0|        0|      0|    0|                                      0|     0|     0|              0|           5|         0|     0|     0|                 0|     0|    0|    0|        0|      0|        0|       0|        0|      0|      0|    0|        0|     0|       0|     0|         0|           5|                0|         0|      0|                   5|   0|                  0|                          0|                      0|      0|                 0|               0|                                   0|         0|      0|          0|                      0|                       0|       0|          0|       0|          0|                    0|                 0|   0|              0|                         5|                       0|            0|        0|                         0|   0|               0|            0|                    0|                           0|                                                 0|               0|                 0|          0|                    0|       0|      0|                         0|                        0|        0|                 0|              0|                          0|       0|                                0|                                            0|         0|                      0|                               0|      5|      0|              0|         0|\n",
      "|  890906445|    CONCEJO CAUCASIA|            3|                 45852880|         1.5284293333333334E7|                1|                  2|                 2|                2|           1|         1|                         20|        0|     0|     0|      0|          0|       0|   0|       0|       0|    0|      0|        3|      0|    0|                                      0|     0|     0|              0|           0|         0|     0|     0|                 0|     0|    0|    0|        0|      0|        0|       0|        0|      0|      0|    0|        0|     0|       0|     0|         0|           1|                0|         0|      2|                   1|   0|                  0|                          2|                      0|      0|                 0|               0|                                   0|         0|      0|          0|                      1|                       0|       0|          0|       0|          2|                    0|                 0|   0|              0|                         0|                       0|            0|        0|                         0|   0|               0|            0|                    0|                           0|                                                 0|               0|                 0|          0|                    0|       0|      0|                         0|                        0|        0|                 0|              0|                          0|       0|                                0|                                            0|         0|                      0|                               0|      0|      0|              3|         0|\n",
      "|  890680059|CUNDINAMARCA - RI...|          119|               4239680998|           3.56275714117647E7|                1|                  5|                 5|                5|           1|         1|                         20|        0|     0|     0|      0|          0|       0|   0|       0|       0|    0|      0|        0|      0|    0|                                      0|     0|     0|              0|         119|         0|     0|     0|                 0|     0|    0|    0|        0|      0|        0|       0|        0|      0|      0|    0|        1|     5|       0|     0|         2|         110|                0|         1|      0|                  97|   7|                  0|                         11|                      1|      1|                 0|               2|                                   0|         0|      0|          0|                    100|                       0|       0|          5|       0|          4|                    0|                 0|   7|              0|                         0|                       0|            0|        0|                         0|   0|               3|            0|                    0|                           0|                                                 0|             119|                 0|          0|                    0|       0|      0|                         0|                        0|        0|                 0|              0|                          0|       0|                                0|                                            0|         0|                      0|                               0|      0|      0|              0|         0|\n",
      "|  802008282|INSTITUTO NACIONA...|            6|                502879602|                  8.3813267E7|                1|                  2|                 2|                3|           1|         1|                         21|        0|     0|     0|      0|          0|       0|   0|       0|       0|    0|      0|        0|      0|    0|                                      0|     0|     0|              0|           0|         0|     0|     0|                 0|     0|    0|    0|        6|      0|        0|       0|        0|      0|      0|    0|        0|     0|       0|     0|         2|           4|                0|         0|      0|                   1|   0|                  0|                          5|                      0|      0|                 0|               0|                                   0|         0|      0|          0|                      3|                       0|       0|          2|       0|          0|                    0|                 0|   0|              0|                         1|                       0|            0|        0|                         0|   0|               0|            0|                    0|                           0|                                                 0|               0|                 0|          0|                    0|       0|      0|                         0|                        0|        0|                 0|              0|                          0|       0|                                0|                                            0|         0|                      0|                               0|      0|      0|              6|         0|\n",
      "+-----------+--------------------+-------------+-------------------------+-----------------------------+-----------------+-------------------+------------------+-----------------+------------+----------+---------------------------+---------+------+------+-------+-----------+--------+----+--------+--------+-----+-------+---------+-------+-----+---------------------------------------+------+------+---------------+------------+----------+------+------+------------------+------+-----+-----+---------+-------+---------+--------+---------+-------+-------+-----+---------+------+--------+------+----------+------------+-----------------+----------+-------+--------------------+----+-------------------+---------------------------+-----------------------+-------+------------------+----------------+------------------------------------+----------+-------+-----------+-----------------------+------------------------+--------+-----------+--------+-----------+---------------------+------------------+----+---------------+--------------------------+------------------------+-------------+---------+--------------------------+----+----------------+-------------+---------------------+----------------------------+--------------------------------------------------+----------------+------------------+-----------+---------------------+--------+-------+--------------------------+-------------------------+---------+------------------+---------------+---------------------------+--------+---------------------------------+---------------------------------------------+----------+-----------------------+--------------------------------+-------+-------+---------------+----------+\n",
      "only showing top 20 rows\n",
      "\n"
     ]
    }
   ],
   "source": [
    "infraestructura_df_agregado_y_pivotado = pyspark_etl_functions.unir_dataframes(infraestructura_df_agregado_y_pivotado, infraestructura_df_pivotado)\n",
    "infraestructura_df_agregado_y_pivotado.show()"
   ]
  },
  {
   "cell_type": "code",
   "execution_count": 22,
   "metadata": {},
   "outputs": [
    {
     "name": "stderr",
     "output_type": "stream",
     "text": [
      "[Stage 268:>                                                        (0 + 4) / 5]\r"
     ]
    },
    {
     "name": "stdout",
     "output_type": "stream",
     "text": [
      "23/05/04 04:46:45 WARN RowBasedKeyValueBatch: Calling spill() on RowBasedKeyValueBatch. Will not spill but return 0.\n",
      "23/05/04 04:46:45 WARN RowBasedKeyValueBatch: Calling spill() on RowBasedKeyValueBatch. Will not spill but return 0.\n",
      "23/05/04 04:46:45 WARN RowBasedKeyValueBatch: Calling spill() on RowBasedKeyValueBatch. Will not spill but return 0.\n",
      "23/05/04 04:46:45 WARN RowBasedKeyValueBatch: Calling spill() on RowBasedKeyValueBatch. Will not spill but return 0.\n",
      "23/05/04 04:46:45 WARN RowBasedKeyValueBatch: Calling spill() on RowBasedKeyValueBatch. Will not spill but return 0.\n",
      "23/05/04 04:46:45 WARN RowBasedKeyValueBatch: Calling spill() on RowBasedKeyValueBatch. Will not spill but return 0.\n",
      "23/05/04 04:46:45 WARN RowBasedKeyValueBatch: Calling spill() on RowBasedKeyValueBatch. Will not spill but return 0.\n",
      "23/05/04 04:46:45 WARN RowBasedKeyValueBatch: Calling spill() on RowBasedKeyValueBatch. Will not spill but return 0.\n"
     ]
    },
    {
     "name": "stderr",
     "output_type": "stream",
     "text": [
      "[Stage 268:=============================================>           (4 + 1) / 5]\r"
     ]
    },
    {
     "name": "stdout",
     "output_type": "stream",
     "text": [
      "+-----------+--------------------+---------------------+----------------------------+--------------------------------------------------+----------------+------------------+-----------+---------------------+--------+-------+--------------------------+-------------------------+---------+------------------+---------------+---------------------------+--------+---------------------------------+---------------------------------------------+----------+-----------------------+--------------------------------+-------+-------+---------------+----------+\n",
      "|NIT_ENTIDAD|      NOMBRE_ENTIDAD|RELACIONES EXTERIORES|VIVIENDA CIUDAD Y TERRITORIO|TECNOLOGIAS DE LA INFORMACION Y LAS COMUNICACIONES|SERVICIO PUBLICO|EDUCACION NACIONAL|AGRICULTURA|NO APLICANO PERTENECE|DEPORTES|DEFENSA|HACIENDA Y CREDITO PUBLICO|SALUD Y PROTECCION SOCIAL|INDUSTRIA|CIENCIA TECNOLOGIA|MINAS Y ENERGIA|PRESIDENCIA DE LA REPUBLICA|INTERIOR|INCLUSION SOCIAL Y RECONCILIACION|INTELIGENCIA ESTRATEGICA Y CONTRAINTELIGENCIA|TRANSPORTE|INFORMACION ESTADISTICA|AMBIENTE Y DESARROLLO SOSTENIBLE|TRABAJO|CULTURA|LEY DE JUSTICIA|PLANEACION|\n",
      "+-----------+--------------------+---------------------+----------------------------+--------------------------------------------------+----------------+------------------+-----------+---------------------+--------+-------+--------------------------+-------------------------+---------+------------------+---------------+---------------------------+--------+---------------------------------+---------------------------------------------+----------+-----------------------+--------------------------------+-------+-------+---------------+----------+\n",
      "| 8605110716|FONDO ROTATORIO D...|                  178|                           0|                                                 0|               0|                 0|          0|                    0|       0|      0|                         0|                        0|        0|                 0|              0|                          0|       0|                                0|                                            0|         0|                      0|                               0|      0|      0|              0|         0|\n",
      "|  830063506|BOGOTA - TRANSMIL...|                    0|                           0|                                                 0|               0|                 0|          0|                    0|       0|      0|                         0|                        0|        0|                 0|              0|                          0|       0|                                0|                                            0|      1171|                      0|                               0|      0|      0|              0|         0|\n",
      "|  899999034|SENA REGIONAL CAL...|                    0|                           0|                                                 0|               0|                 0|          0|                    0|       0|      0|                         0|                        0|        0|                 0|              0|                          0|       0|                                0|                                            0|         0|                      0|                               0|    143|      0|              0|         0|\n",
      "|  805027641|INSTITUCION EDUCA...|                    0|                           0|                                                 0|               0|                21|          0|                    0|       0|      0|                         0|                        0|        0|                 0|              0|                          0|       0|                                0|                                            0|         0|                      0|                               0|      0|      0|              0|         0|\n",
      "|  900816913|ESTABLECIMIENTO P...|                    0|                           0|                                                 0|               0|                 0|          0|                    0|       0|      0|                         0|                        0|        0|                 0|              0|                          0|       0|                                0|                                            0|         0|                      0|                               1|      0|      0|              0|         0|\n",
      "|  830000167|INSTITUTO NACIONA...|                    0|                           0|                                                 0|               0|                 0|          0|                    0|       0|      0|                         0|                      647|        0|                 0|              0|                          0|       0|                                0|                                            0|         0|                      0|                               0|      0|      0|              0|         0|\n",
      "|  811010104|INSTITUTO NACIONA...|                    0|                           0|                                                 0|               0|                 0|          0|                    0|       0|      0|                         0|                        0|        0|                 0|              0|                          0|       0|                                0|                                            0|         0|                      0|                               0|      0|      0|             20|         0|\n",
      "|  890001879|QUINDIO - BUENAVI...|                    0|                           0|                                                 0|               4|                 0|          0|                    0|       0|      0|                         0|                        0|        0|                 0|              0|                          0|       0|                                0|                                            0|         0|                      0|                               0|      0|      0|              0|         0|\n",
      "|  900490473|UARIVUNIDAD PARA ...|                    0|                           0|                                                 0|               0|                 0|          0|                    0|       0|      0|                         0|                        0|        0|                 0|              0|                          0|       0|                             1452|                                            0|         0|                      0|                               0|      0|      0|              0|         0|\n",
      "|  900478966|UNIDAD NACIONAL P...|                    0|                           0|                                                 0|               0|                 0|          0|                    0|       0|      0|                         0|                        0|        0|                 0|              0|                         85|       0|                                0|                                            0|         0|                      0|                               0|      0|      0|              0|         0|\n",
      "|  890000858|MUNICIPIO DE MONT...|                    0|                           0|                                                 0|             174|                 0|          0|                    0|       0|      0|                         0|                        0|        0|                 0|              0|                          0|       0|                                0|                                            0|         0|                      0|                               0|      0|      0|              0|         0|\n",
      "|  899999069|INSTITUTO COLOMBI...|                    0|                           0|                                                 0|               0|                 0|         34|                    0|       0|      0|                         0|                        0|        0|                 0|              0|                          0|       0|                                0|                                            0|         0|                      0|                               0|      0|      0|              0|         0|\n",
      "|  890906445|    CONCEJO CAUCASIA|                    0|                           0|                                                 0|               0|                 0|          0|                    0|       0|      0|                         0|                        0|        0|                 0|              0|                          0|       0|                                0|                                            0|         0|                      0|                               0|      0|      0|              3|         0|\n",
      "|  901074333|MINISTERIO DEL TR...|                    0|                           0|                                                 0|               0|                 0|          0|                    0|       0|      0|                         0|                        0|        0|                 0|              0|                          0|       0|                                0|                                            0|         0|                      0|                               0|      5|      0|              0|         0|\n",
      "|  891900289|VALLE DEL CAUCA -...|                    0|                           0|                                                 0|              42|                 0|          0|                    0|       0|      0|                         0|                        0|        0|                 0|              0|                          0|       0|                                0|                                            0|         0|                      0|                               0|      0|      0|              0|         0|\n",
      "|  890981207|ANTIOQUIA - LA CE...|                    0|                           0|                                                 0|               0|                 0|          0|                    0|       0|      0|                         0|                        0|        0|                 0|              0|                          0|     135|                                0|                                            0|         0|                      0|                               0|      0|      0|              0|         0|\n",
      "|  804003036|CARCEL Y PENITENC...|                    0|                           0|                                                 0|               0|                 0|          0|                    0|       0|      0|                         0|                        0|        0|                 0|              0|                          0|       0|                                0|                                            0|         0|                      0|                               0|      0|      0|             21|         0|\n",
      "|  800194096|ANTIOQUIA - INSTI...|                    0|                           0|                                                 0|               0|                 0|          0|                    0|    3247|      0|                         0|                        0|        0|                 0|              0|                          0|       0|                                0|                                            0|         0|                      0|                               0|      0|      0|              0|         0|\n",
      "|  891580006|CAUCA - POPAYAN -...|                    0|                           0|                                                 0|            1777|                 0|          0|                    0|       0|      0|                         0|                        0|        0|                 0|              0|                          0|       0|                                0|                                            0|         0|                      0|                               0|      0|      0|              0|         0|\n",
      "|  802008282|INSTITUTO NACIONA...|                    0|                           0|                                                 0|               0|                 0|          0|                    0|       0|      0|                         0|                        0|        0|                 0|              0|                          0|       0|                                0|                                            0|         0|                      0|                               0|      0|      0|              6|         0|\n",
      "+-----------+--------------------+---------------------+----------------------------+--------------------------------------------------+----------------+------------------+-----------+---------------------+--------+-------+--------------------------+-------------------------+---------+------------------+---------------+---------------------------+--------+---------------------------------+---------------------------------------------+----------+-----------------------+--------------------------------+-------+-------+---------------+----------+\n",
      "only showing top 20 rows\n",
      "\n"
     ]
    },
    {
     "name": "stderr",
     "output_type": "stream",
     "text": [
      "                                                                                \r"
     ]
    }
   ],
   "source": [
    "infraestructura_df_pivotado = pyspark_etl_functions.pivotar_por_columna(infraestructura_df_seleccionado, \"NOMBRE_CLASE\")\n",
    "infraestructura_df_pivotado.show()"
   ]
  },
  {
   "cell_type": "code",
   "execution_count": 23,
   "metadata": {},
   "outputs": [
    {
     "name": "stderr",
     "output_type": "stream",
     "text": [
      "[Stage 279:==>(4 + 1) / 5][Stage 281:>  (0 + 3) / 5][Stage 282:>  (0 + 0) / 5]5]\r"
     ]
    },
    {
     "name": "stdout",
     "output_type": "stream",
     "text": [
      "23/05/04 04:47:12 WARN RowBasedKeyValueBatch: Calling spill() on RowBasedKeyValueBatch. Will not spill but return 0.\n",
      "23/05/04 04:47:12 WARN RowBasedKeyValueBatch: Calling spill() on RowBasedKeyValueBatch. Will not spill but return 0.\n",
      "23/05/04 04:47:12 WARN RowBasedKeyValueBatch: Calling spill() on RowBasedKeyValueBatch. Will not spill but return 0.\n",
      "23/05/04 04:47:12 WARN RowBasedKeyValueBatch: Calling spill() on RowBasedKeyValueBatch. Will not spill but return 0.\n",
      "23/05/04 04:47:12 WARN RowBasedKeyValueBatch: Calling spill() on RowBasedKeyValueBatch. Will not spill but return 0.\n"
     ]
    },
    {
     "name": "stderr",
     "output_type": "stream",
     "text": [
      "[Stage 281:>  (0 + 4) / 5][Stage 282:>  (0 + 0) / 5][Stage 283:>  (0 + 0) / 5]\r"
     ]
    },
    {
     "name": "stdout",
     "output_type": "stream",
     "text": [
      "23/05/04 04:47:13 WARN RowBasedKeyValueBatch: Calling spill() on RowBasedKeyValueBatch. Will not spill but return 0.\n",
      "23/05/04 04:47:13 WARN RowBasedKeyValueBatch: Calling spill() on RowBasedKeyValueBatch. Will not spill but return 0.\n",
      "23/05/04 04:47:13 WARN RowBasedKeyValueBatch: Calling spill() on RowBasedKeyValueBatch. Will not spill but return 0.\n"
     ]
    },
    {
     "name": "stderr",
     "output_type": "stream",
     "text": [
      "[Stage 282:>  (0 + 4) / 5][Stage 283:>  (0 + 0) / 5][Stage 284:>  (0 + 0) / 5]\r"
     ]
    },
    {
     "name": "stdout",
     "output_type": "stream",
     "text": [
      "23/05/04 04:47:15 WARN RowBasedKeyValueBatch: Calling spill() on RowBasedKeyValueBatch. Will not spill but return 0.\n",
      "23/05/04 04:47:15 WARN RowBasedKeyValueBatch: Calling spill() on RowBasedKeyValueBatch. Will not spill but return 0.\n",
      "23/05/04 04:47:15 WARN RowBasedKeyValueBatch: Calling spill() on RowBasedKeyValueBatch. Will not spill but return 0.\n",
      "23/05/04 04:47:15 WARN RowBasedKeyValueBatch: Calling spill() on RowBasedKeyValueBatch. Will not spill but return 0.\n",
      "23/05/04 04:47:15 WARN RowBasedKeyValueBatch: Calling spill() on RowBasedKeyValueBatch. Will not spill but return 0.\n",
      "23/05/04 04:47:15 WARN RowBasedKeyValueBatch: Calling spill() on RowBasedKeyValueBatch. Will not spill but return 0.\n",
      "23/05/04 04:47:15 WARN RowBasedKeyValueBatch: Calling spill() on RowBasedKeyValueBatch. Will not spill but return 0.\n",
      "23/05/04 04:47:15 WARN RowBasedKeyValueBatch: Calling spill() on RowBasedKeyValueBatch. Will not spill but return 0.\n"
     ]
    },
    {
     "name": "stderr",
     "output_type": "stream",
     "text": [
      "[Stage 283:>  (0 + 4) / 5][Stage 284:>  (0 + 0) / 5][Stage 285:>  (0 + 0) / 5]\r"
     ]
    },
    {
     "name": "stdout",
     "output_type": "stream",
     "text": [
      "23/05/04 04:47:17 WARN RowBasedKeyValueBatch: Calling spill() on RowBasedKeyValueBatch. Will not spill but return 0.\n",
      "23/05/04 04:47:17 WARN RowBasedKeyValueBatch: Calling spill() on RowBasedKeyValueBatch. Will not spill but return 0.\n",
      "23/05/04 04:47:17 WARN RowBasedKeyValueBatch: Calling spill() on RowBasedKeyValueBatch. Will not spill but return 0.\n",
      "23/05/04 04:47:17 WARN RowBasedKeyValueBatch: Calling spill() on RowBasedKeyValueBatch. Will not spill but return 0.\n",
      "23/05/04 04:47:17 WARN RowBasedKeyValueBatch: Calling spill() on RowBasedKeyValueBatch. Will not spill but return 0.\n",
      "23/05/04 04:47:17 WARN RowBasedKeyValueBatch: Calling spill() on RowBasedKeyValueBatch. Will not spill but return 0.\n",
      "23/05/04 04:47:17 WARN RowBasedKeyValueBatch: Calling spill() on RowBasedKeyValueBatch. Will not spill but return 0.\n",
      "23/05/04 04:47:17 WARN RowBasedKeyValueBatch: Calling spill() on RowBasedKeyValueBatch. Will not spill but return 0.\n"
     ]
    },
    {
     "name": "stderr",
     "output_type": "stream",
     "text": [
      "[Stage 284:>  (0 + 4) / 5][Stage 285:>  (0 + 0) / 5][Stage 286:>  (0 + 0) / 5]\r"
     ]
    },
    {
     "name": "stdout",
     "output_type": "stream",
     "text": [
      "23/05/04 04:47:20 WARN RowBasedKeyValueBatch: Calling spill() on RowBasedKeyValueBatch. Will not spill but return 0.\n",
      "23/05/04 04:47:20 WARN RowBasedKeyValueBatch: Calling spill() on RowBasedKeyValueBatch. Will not spill but return 0.\n",
      "23/05/04 04:47:20 WARN RowBasedKeyValueBatch: Calling spill() on RowBasedKeyValueBatch. Will not spill but return 0.\n",
      "23/05/04 04:47:20 WARN RowBasedKeyValueBatch: Calling spill() on RowBasedKeyValueBatch. Will not spill but return 0.\n",
      "23/05/04 04:47:20 WARN RowBasedKeyValueBatch: Calling spill() on RowBasedKeyValueBatch. Will not spill but return 0.\n",
      "23/05/04 04:47:20 WARN RowBasedKeyValueBatch: Calling spill() on RowBasedKeyValueBatch. Will not spill but return 0.\n",
      "23/05/04 04:47:20 WARN RowBasedKeyValueBatch: Calling spill() on RowBasedKeyValueBatch. Will not spill but return 0.\n",
      "23/05/04 04:47:20 WARN RowBasedKeyValueBatch: Calling spill() on RowBasedKeyValueBatch. Will not spill but return 0.\n"
     ]
    },
    {
     "name": "stderr",
     "output_type": "stream",
     "text": [
      "[Stage 285:>  (0 + 4) / 5][Stage 286:>  (0 + 0) / 5][Stage 289:>  (0 + 0) / 4]\r"
     ]
    },
    {
     "name": "stdout",
     "output_type": "stream",
     "text": [
      "23/05/04 04:47:22 WARN RowBasedKeyValueBatch: Calling spill() on RowBasedKeyValueBatch. Will not spill but return 0.\n",
      "23/05/04 04:47:22 WARN RowBasedKeyValueBatch: Calling spill() on RowBasedKeyValueBatch. Will not spill but return 0.\n",
      "23/05/04 04:47:22 WARN RowBasedKeyValueBatch: Calling spill() on RowBasedKeyValueBatch. Will not spill but return 0.\n",
      "23/05/04 04:47:22 WARN RowBasedKeyValueBatch: Calling spill() on RowBasedKeyValueBatch. Will not spill but return 0.\n",
      "23/05/04 04:47:22 WARN RowBasedKeyValueBatch: Calling spill() on RowBasedKeyValueBatch. Will not spill but return 0.\n",
      "23/05/04 04:47:22 WARN RowBasedKeyValueBatch: Calling spill() on RowBasedKeyValueBatch. Will not spill but return 0.\n",
      "23/05/04 04:47:22 WARN RowBasedKeyValueBatch: Calling spill() on RowBasedKeyValueBatch. Will not spill but return 0.\n",
      "23/05/04 04:47:22 WARN RowBasedKeyValueBatch: Calling spill() on RowBasedKeyValueBatch. Will not spill but return 0.\n"
     ]
    },
    {
     "name": "stderr",
     "output_type": "stream",
     "text": [
      "[Stage 286:>  (0 + 4) / 5][Stage 289:>  (0 + 0) / 4][Stage 291:>  (0 + 0) / 1]\r"
     ]
    },
    {
     "name": "stdout",
     "output_type": "stream",
     "text": [
      "23/05/04 04:47:25 WARN RowBasedKeyValueBatch: Calling spill() on RowBasedKeyValueBatch. Will not spill but return 0.\n",
      "23/05/04 04:47:25 WARN RowBasedKeyValueBatch: Calling spill() on RowBasedKeyValueBatch. Will not spill but return 0.\n",
      "23/05/04 04:47:25 WARN RowBasedKeyValueBatch: Calling spill() on RowBasedKeyValueBatch. Will not spill but return 0.\n",
      "23/05/04 04:47:25 WARN RowBasedKeyValueBatch: Calling spill() on RowBasedKeyValueBatch. Will not spill but return 0.\n",
      "23/05/04 04:47:25 WARN RowBasedKeyValueBatch: Calling spill() on RowBasedKeyValueBatch. Will not spill but return 0.\n",
      "23/05/04 04:47:25 WARN RowBasedKeyValueBatch: Calling spill() on RowBasedKeyValueBatch. Will not spill but return 0.\n",
      "23/05/04 04:47:25 WARN RowBasedKeyValueBatch: Calling spill() on RowBasedKeyValueBatch. Will not spill but return 0.\n",
      "23/05/04 04:47:25 WARN RowBasedKeyValueBatch: Calling spill() on RowBasedKeyValueBatch. Will not spill but return 0.\n"
     ]
    },
    {
     "name": "stderr",
     "output_type": "stream",
     "text": [
      "                                                                                \r"
     ]
    },
    {
     "name": "stdout",
     "output_type": "stream",
     "text": [
      "+-----------+--------------------+-------------+-------------------------+-----------------------------+-----------------+-------------------+------------------+-----------------+------------+----------+---------------------------+---------+------+------+-------+-----------+--------+----+--------+--------+-----+-------+---------+-------+-----+---------------------------------------+------+------+---------------+------------+----------+------+------+------------------+------+-----+-----+---------+-------+---------+--------+---------+-------+-------+-----+---------+------+--------+------+----------+------------+-----------------+----------+-------+--------------------+----+-------------------+---------------------------+-----------------------+-------+------------------+----------------+------------------------------------+----------+-------+-----------+-----------------------+------------------------+--------+-----------+--------+-----------+---------------------+------------------+----+---------------+--------------------------+------------------------+-------------+---------+--------------------------+----+----------------+-------------+---------------------+----------------------------+--------------------------------------------------+----------------+------------------+-----------+---------------------+--------+-------+--------------------------+-------------------------+---------+------------------+---------------+---------------------------+--------+---------------------------------+---------------------------------------------+----------+-----------------------+--------------------------------+-------+-------+---------------+----------+---------------------+----------------------------+--------------------------------------------------+----------------+------------------+-----------+---------------------+--------+-------+--------------------------+-------------------------+---------+------------------+---------------+---------------------------+--------+---------------------------------+---------------------------------------------+----------+-----------------------+--------------------------------+-------+-------+---------------+----------+\n",
      "|NIT_ENTIDAD|      NOMBRE_ENTIDAD|num_contratos|suma_valor_total_contrato|promedio_valor_total_contrato|num_departamentos|num_estados_proceso|num_clases_proceso|num_tipos_proceso|num_familias|num_clases|meses_desde_ultimo_contrato|SANTANDER|VAUPES|NARIÑO|CAQUETA|NO DEFINIDO|CASANARE|META|AMAZONAS|GUAVIARE|CAUCA|VICHADA|ANTIOQUIA|QUINDIO|CHOCO|SAN ANDRES PROVIDENCIA Y SANTA CATALINA|CALDAS|BOYACA|VALLE DEL CAUCA|CUNDINAMARCA|LA GUAJIRA|TOLIMA|ARAUCA|NORTE DE SANTANDER|BOGOTA|HUILA|SUCRE|ATLANTICO|BOLIVAR|RISARALDA|PUTUMAYO|MAGDALENA|GUAINIA|CORDOBA|CESAR|TERMINADO|ACTIVO|BORRADOR|CEDIDO|MODIFICADO|EN EJECUCION|ENVIADO PROVEEDOR|SUSPENDIDO|CERRADO|CONTRATACION DIRECTA|null|CONCURSO DE MERITOS|CONTRATACION MINIMA CUANTIA|LICITACION OBRA PUBLICA|SUBASTA|LICITACION PUBLICA|REGIMEN ESPECIAL|SELECCION ABREVIADA DE MENOR CUANTIA|EMPRESTITO|SEGUROS|CONSULTORIA|PRESTACION DE SERVICIOS|ACUERDO MARCO DE PRECIOS|COMISION|COMPRAVENTA|COMODATO|SUMINISTROS|SERVICIOS FINANCIEROS|NEGOCIO FIDUCIARIO|OTRO|VENTA INMUEBLES|ARRENDAMIENTO DE INMUEBLES|ARRENDAMIENTO DE MUEBLES|INTERVENTORIA|CONCESION|ASOCIACION PUBLICO PRIVADA|OBRA|DECREELAW0922017|VENTA MUEBLES|RELACIONES EXTERIORES|VIVIENDA CIUDAD Y TERRITORIO|TECNOLOGIAS DE LA INFORMACION Y LAS COMUNICACIONES|SERVICIO PUBLICO|EDUCACION NACIONAL|AGRICULTURA|NO APLICANO PERTENECE|DEPORTES|DEFENSA|HACIENDA Y CREDITO PUBLICO|SALUD Y PROTECCION SOCIAL|INDUSTRIA|CIENCIA TECNOLOGIA|MINAS Y ENERGIA|PRESIDENCIA DE LA REPUBLICA|INTERIOR|INCLUSION SOCIAL Y RECONCILIACION|INTELIGENCIA ESTRATEGICA Y CONTRAINTELIGENCIA|TRANSPORTE|INFORMACION ESTADISTICA|AMBIENTE Y DESARROLLO SOSTENIBLE|TRABAJO|CULTURA|LEY DE JUSTICIA|PLANEACION|RELACIONES EXTERIORES|VIVIENDA CIUDAD Y TERRITORIO|TECNOLOGIAS DE LA INFORMACION Y LAS COMUNICACIONES|SERVICIO PUBLICO|EDUCACION NACIONAL|AGRICULTURA|NO APLICANO PERTENECE|DEPORTES|DEFENSA|HACIENDA Y CREDITO PUBLICO|SALUD Y PROTECCION SOCIAL|INDUSTRIA|CIENCIA TECNOLOGIA|MINAS Y ENERGIA|PRESIDENCIA DE LA REPUBLICA|INTERIOR|INCLUSION SOCIAL Y RECONCILIACION|INTELIGENCIA ESTRATEGICA Y CONTRAINTELIGENCIA|TRANSPORTE|INFORMACION ESTADISTICA|AMBIENTE Y DESARROLLO SOSTENIBLE|TRABAJO|CULTURA|LEY DE JUSTICIA|PLANEACION|\n",
      "+-----------+--------------------+-------------+-------------------------+-----------------------------+-----------------+-------------------+------------------+-----------------+------------+----------+---------------------------+---------+------+------+-------+-----------+--------+----+--------+--------+-----+-------+---------+-------+-----+---------------------------------------+------+------+---------------+------------+----------+------+------+------------------+------+-----+-----+---------+-------+---------+--------+---------+-------+-------+-----+---------+------+--------+------+----------+------------+-----------------+----------+-------+--------------------+----+-------------------+---------------------------+-----------------------+-------+------------------+----------------+------------------------------------+----------+-------+-----------+-----------------------+------------------------+--------+-----------+--------+-----------+---------------------+------------------+----+---------------+--------------------------+------------------------+-------------+---------+--------------------------+----+----------------+-------------+---------------------+----------------------------+--------------------------------------------------+----------------+------------------+-----------+---------------------+--------+-------+--------------------------+-------------------------+---------+------------------+---------------+---------------------------+--------+---------------------------------+---------------------------------------------+----------+-----------------------+--------------------------------+-------+-------+---------------+----------+---------------------+----------------------------+--------------------------------------------------+----------------+------------------+-----------+---------------------+--------+-------+--------------------------+-------------------------+---------+------------------+---------------+---------------------------+--------+---------------------------------+---------------------------------------------+----------+-----------------------+--------------------------------+-------+-------+---------------+----------+\n",
      "|  805027641|INSTITUCION EDUCA...|           21|                143107415|             6814638.80952381|                1|                  2|                 2|                4|           1|         1|                         20|        0|     0|     0|      0|          0|       0|   0|       0|       0|    0|      0|        0|      0|    0|                                      0|     0|     0|             21|           0|         0|     0|     0|                 0|     0|    0|    0|        0|      0|        0|       0|        0|      0|      0|    0|        0|     0|       0|     0|         5|          16|                0|         0|      0|                  10|   9|                  0|                          2|                      0|      0|                 0|               0|                                   0|         0|      0|          0|                     14|                       0|       0|          3|       0|          3|                    0|                 0|   0|              0|                         0|                       0|            0|        0|                         0|   1|               0|            0|                    0|                           0|                                                 0|               0|                21|          0|                    0|       0|      0|                         0|                        0|        0|                 0|              0|                          0|       0|                                0|                                            0|         0|                      0|                               0|      0|      0|              0|         0|                    0|                           0|                                                 0|               0|                21|          0|                    0|       0|      0|                         0|                        0|        0|                 0|              0|                          0|       0|                                0|                                            0|         0|                      0|                               0|      0|      0|              0|         0|\n",
      "|  899999034|SENA REGIONAL CAL...|          143|               4797008008|         3.3545510545454547E7|                1|                  4|                 3|                3|           1|         1|                         19|        0|     0|     0|      0|          0|       0|   0|       0|       0|    0|      0|        0|      0|    0|                                      0|   143|     0|              0|           0|         0|     0|     0|                 0|     0|    0|    0|        0|      0|        0|       0|        0|      0|      0|    0|        6|     1|       0|     0|        26|         110|                0|         0|      0|                 133|   0|                  0|                          7|                      0|      3|                 0|               0|                                   0|         0|      0|          0|                    136|                       0|       0|          2|       0|          5|                    0|                 0|   0|              0|                         0|                       0|            0|        0|                         0|   0|               0|            0|                    0|                           0|                                                 0|               0|                 0|          0|                    0|       0|      0|                         0|                        0|        0|                 0|              0|                          0|       0|                                0|                                            0|         0|                      0|                               0|    143|      0|              0|         0|                    0|                           0|                                                 0|               0|                 0|          0|                    0|       0|      0|                         0|                        0|        0|                 0|              0|                          0|       0|                                0|                                            0|         0|                      0|                               0|    143|      0|              0|         0|\n",
      "| 8605110716|FONDO ROTATORIO D...|          178|              25267081930|         1.4194989848314607E8|                1|                  7|                 6|                9|           1|         1|                         20|        0|     0|     0|      0|          0|       0|   0|       0|       0|    0|      0|        0|      0|    0|                                      0|     0|     0|              0|           0|         0|     0|     0|                 0|   178|    0|    0|        0|      0|        0|       0|        0|      0|      0|    0|        2|     1|       2|     0|        10|         154|                0|         1|      8|                 146|   3|                  0|                         11|                      1|     10|                 0|               5|                                   2|         0|      0|          0|                    149|                       0|       0|          1|       2|          4|                    0|                 0|  10|              0|                         5|                       0|            1|        0|                         0|   1|               5|            0|                  178|                           0|                                                 0|               0|                 0|          0|                    0|       0|      0|                         0|                        0|        0|                 0|              0|                          0|       0|                                0|                                            0|         0|                      0|                               0|      0|      0|              0|         0|                  178|                           0|                                                 0|               0|                 0|          0|                    0|       0|      0|                         0|                        0|        0|                 0|              0|                          0|       0|                                0|                                            0|         0|                      0|                               0|      0|      0|              0|         0|\n",
      "|  830063506|BOGOTA - TRANSMIL...|         1171|             181157002383|         1.5470282013919726E8|                1|                  7|                 7|               12|           1|         1|                         19|        0|     0|     0|      0|          0|       0|   0|       0|       0|    0|      0|        0|      0|    0|                                      0|     0|     0|              0|           0|         0|     0|     0|                 0|  1171|    0|    0|        0|      0|        0|       0|        0|      0|      0|    0|        5|    28|       0|    63|        83|         989|                0|         2|      1|                1092|   9|                  3|                         10|                     17|      2|                 0|              21|                                  17|         1|      2|          2|                   1114|                       0|       0|          2|       0|          1|                    1|                 0|  32|              0|                         1|                       0|            3|        9|                         0|   3|               0|            0|                    0|                           0|                                                 0|               0|                 0|          0|                    0|       0|      0|                         0|                        0|        0|                 0|              0|                          0|       0|                                0|                                            0|      1171|                      0|                               0|      0|      0|              0|         0|                    0|                           0|                                                 0|               0|                 0|          0|                    0|       0|      0|                         0|                        0|        0|                 0|              0|                          0|       0|                                0|                                            0|      1171|                      0|                               0|      0|      0|              0|         0|\n",
      "|  900816913|ESTABLECIMIENTO P...|            1|                223000000|                       2.23E8|                1|                  1|                 0|                1|           1|         1|                         19|        0|     0|     0|      0|          0|       0|   0|       0|       0|    0|      0|        0|      0|    0|                                      0|     0|     0|              1|           0|         0|     0|     0|                 0|     0|    0|    0|        0|      0|        0|       0|        0|      0|      0|    0|        0|     1|       0|     0|         0|           0|                0|         0|      0|                   0|   1|                  0|                          0|                      0|      0|                 0|               0|                                   0|         0|      0|          0|                      0|                       0|       0|          0|       0|          0|                    0|                 0|   0|              0|                         0|                       0|            0|        0|                         0|   0|               1|            0|                    0|                           0|                                                 0|               0|                 0|          0|                    0|       0|      0|                         0|                        0|        0|                 0|              0|                          0|       0|                                0|                                            0|         0|                      0|                               1|      0|      0|              0|         0|                    0|                           0|                                                 0|               0|                 0|          0|                    0|       0|      0|                         0|                        0|        0|                 0|              0|                          0|       0|                                0|                                            0|         0|                      0|                               1|      0|      0|              0|         0|\n",
      "|  890000858|MUNICIPIO DE MONT...|          174|               1886039839|          1.083930941954023E7|                1|                  3|                 3|                4|           1|         1|                         19|        0|     0|     0|      0|          0|       0|   0|       0|       0|    0|      0|        0|    174|    0|                                      0|     0|     0|              0|           0|         0|     0|     0|                 0|     0|    0|    0|        0|      0|        0|       0|        0|      0|      0|    0|        5|     1|       0|     0|         0|         168|                0|         0|      0|                 155|   8|                  0|                         10|                      0|      0|                 0|               0|                                   1|         0|      0|          2|                    159|                       0|       0|          0|       0|          5|                    0|                 0|   8|              0|                         0|                       0|            0|        0|                         0|   0|               0|            0|                    0|                           0|                                                 0|             174|                 0|          0|                    0|       0|      0|                         0|                        0|        0|                 0|              0|                          0|       0|                                0|                                            0|         0|                      0|                               0|      0|      0|              0|         0|                    0|                           0|                                                 0|             174|                 0|          0|                    0|       0|      0|                         0|                        0|        0|                 0|              0|                          0|       0|                                0|                                            0|         0|                      0|                               0|      0|      0|              0|         0|\n",
      "|  900490473|UARIVUNIDAD PARA ...|         1452|             233979414526|         1.6114284746969697E8|                1|                  6|                 4|                6|           1|         1|                         19|        0|     0|     0|      0|          0|       0|   0|       0|       0|    0|      0|        0|      0|    0|                                      0|     0|     0|              0|           0|         0|     0|     0|                 0|  1452|    0|    0|        0|      0|        0|       0|        0|      0|      0|    0|       67|     5|       0|    27|        45|        1307|                0|         1|      0|                1443|   0|                  0|                          0|                      0|      1|                 0|               4|                                   4|         0|      0|          0|                   1407|                       0|       0|          0|       0|          1|                    1|                 0|   7|              0|                        32|                       0|            0|        0|                         0|   0|               4|            0|                    0|                           0|                                                 0|               0|                 0|          0|                    0|       0|      0|                         0|                        0|        0|                 0|              0|                          0|       0|                             1452|                                            0|         0|                      0|                               0|      0|      0|              0|         0|                    0|                           0|                                                 0|               0|                 0|          0|                    0|       0|      0|                         0|                        0|        0|                 0|              0|                          0|       0|                             1452|                                            0|         0|                      0|                               0|      0|      0|              0|         0|\n",
      "|  900478966|UNIDAD NACIONAL P...|           85|               4337538838|          5.102986868235294E7|                1|                  4|                 4|                7|           1|         1|                         20|        0|     0|     0|      0|          0|       0|   0|       0|       0|    0|      0|        0|      0|    0|                                      0|     0|     0|              0|           0|         0|     0|     0|                 0|    85|    0|    0|        0|      0|        0|       0|        0|      0|      0|    0|        3|    14|       0|     0|         2|          66|                0|         0|      0|                  72|   3|                  1|                          7|                      0|      0|                 0|               0|                                   2|         0|      1|          1|                     75|                       0|       0|          2|       2|          1|                    0|                 0|   3|              0|                         0|                       0|            0|        0|                         0|   0|               0|            0|                    0|                           0|                                                 0|               0|                 0|          0|                    0|       0|      0|                         0|                        0|        0|                 0|              0|                         85|       0|                                0|                                            0|         0|                      0|                               0|      0|      0|              0|         0|                    0|                           0|                                                 0|               0|                 0|          0|                    0|       0|      0|                         0|                        0|        0|                 0|              0|                         85|       0|                                0|                                            0|         0|                      0|                               0|      0|      0|              0|         0|\n",
      "|  830000167|INSTITUTO NACIONA...|          647|              47836698144|          7.393616405564143E7|                1|                  6|                 6|                7|           1|         1|                         19|        0|     0|     0|      0|          0|       0|   0|       0|       0|    0|      0|        0|      0|    0|                                      0|     0|     0|              0|           0|         0|     0|     0|                 0|   647|    0|    0|        0|      0|        0|       0|        0|      0|      0|    0|       16|     4|       0|    15|        57|         553|                0|         2|      0|                 557|  41|                  1|                         15|                      4|     26|                 0|               0|                                   3|         0|      1|          1|                    583|                       0|       0|          9|       1|         24|                    0|                 0|  28|              0|                         0|                       0|            0|        0|                         0|   0|               0|            0|                    0|                           0|                                                 0|               0|                 0|          0|                    0|       0|      0|                         0|                      647|        0|                 0|              0|                          0|       0|                                0|                                            0|         0|                      0|                               0|      0|      0|              0|         0|                    0|                           0|                                                 0|               0|                 0|          0|                    0|       0|      0|                         0|                      647|        0|                 0|              0|                          0|       0|                                0|                                            0|         0|                      0|                               0|      0|      0|              0|         0|\n",
      "|  811010104|INSTITUTO NACIONA...|           20|                 84523674|                    4226183.7|                1|                  3|                 1|                2|           1|         1|                         19|        0|     0|     0|      0|          0|       0|   0|       0|       0|    0|      0|       20|      0|    0|                                      0|     0|     0|              0|           0|         0|     0|     0|                 0|     0|    0|    0|        0|      0|        0|       0|        0|      0|      0|    0|        1|     0|       0|     0|         3|          16|                0|         0|      0|                   0|   0|                  0|                         20|                      0|      0|                 0|               0|                                   0|         0|      0|          0|                      1|                       0|       0|          0|       0|         19|                    0|                 0|   0|              0|                         0|                       0|            0|        0|                         0|   0|               0|            0|                    0|                           0|                                                 0|               0|                 0|          0|                    0|       0|      0|                         0|                        0|        0|                 0|              0|                          0|       0|                                0|                                            0|         0|                      0|                               0|      0|      0|             20|         0|                    0|                           0|                                                 0|               0|                 0|          0|                    0|       0|      0|                         0|                        0|        0|                 0|              0|                          0|       0|                                0|                                            0|         0|                      0|                               0|      0|      0|             20|         0|\n",
      "|  890001879|QUINDIO - BUENAVI...|            4|                111998053|                2.799951325E7|                1|                  2|                 1|                1|           1|         1|                         21|        0|     0|     0|      0|          0|       0|   0|       0|       0|    0|      0|        0|      4|    0|                                      0|     0|     0|              0|           0|         0|     0|     0|                 0|     0|    0|    0|        0|      0|        0|       0|        0|      0|      0|    0|        0|     0|       0|     0|         2|           2|                0|         0|      0|                   0|   0|                  0|                          0|                      0|      0|                 0|               4|                                   0|         0|      0|          0|                      0|                       0|       0|          0|       0|          0|                    0|                 0|   0|              0|                         0|                       0|            0|        0|                         0|   0|               4|            0|                    0|                           0|                                                 0|               4|                 0|          0|                    0|       0|      0|                         0|                        0|        0|                 0|              0|                          0|       0|                                0|                                            0|         0|                      0|                               0|      0|      0|              0|         0|                    0|                           0|                                                 0|               4|                 0|          0|                    0|       0|      0|                         0|                        0|        0|                 0|              0|                          0|       0|                                0|                                            0|         0|                      0|                               0|      0|      0|              0|         0|\n",
      "|  800194096|ANTIOQUIA - INSTI...|         3247|              60704040132|         1.8695423508469358E7|                1|                  5|                 4|                9|           1|         1|                         19|        0|     0|     0|      0|          0|       0|   0|       0|       0|    0|      0|     3247|      0|    0|                                      0|     0|     0|              0|           0|         0|     0|     0|                 0|     0|    0|    0|        0|      0|        0|       0|        0|      0|      0|    0|      496|    15|       0|     0|        28|        2662|                0|         0|     46|                3122|   3|                  0|                          2|                      0|      0|                 0|             119|                                   1|         0|      1|          2|                   2978|                       0|       0|          0|      59|          2|                    0|                 0|   8|              0|                        77|                       0|            0|        0|                         0|   1|             119|            0|                    0|                           0|                                                 0|               0|                 0|          0|                    0|    3247|      0|                         0|                        0|        0|                 0|              0|                          0|       0|                                0|                                            0|         0|                      0|                               0|      0|      0|              0|         0|                    0|                           0|                                                 0|               0|                 0|          0|                    0|    3247|      0|                         0|                        0|        0|                 0|              0|                          0|       0|                                0|                                            0|         0|                      0|                               0|      0|      0|              0|         0|\n",
      "|  890981207|ANTIOQUIA - LA CE...|          135|              18254407750|          1.352178351851852E8|                1|                  6|                 6|                8|           1|         1|                         19|        0|     0|     0|      0|          0|       0|   0|       0|       0|    0|      0|      135|      0|    0|                                      0|     0|     0|              0|           0|         0|     0|     0|                 0|     0|    0|    0|        0|      0|        0|       0|        0|      0|      0|    0|        1|     1|       0|     0|        17|         113|                0|         2|      1|                 108|   4|                  1|                          8|                      0|      6|                 0|               6|                                   2|         0|      0|          0|                     91|                       0|       0|          1|       8|          6|                    0|                 0|  16|              0|                         0|                       0|            1|        0|                         0|   3|               9|            0|                    0|                           0|                                                 0|               0|                 0|          0|                    0|       0|      0|                         0|                        0|        0|                 0|              0|                          0|     135|                                0|                                            0|         0|                      0|                               0|      0|      0|              0|         0|                    0|                           0|                                                 0|               0|                 0|          0|                    0|       0|      0|                         0|                        0|        0|                 0|              0|                          0|     135|                                0|                                            0|         0|                      0|                               0|      0|      0|              0|         0|\n",
      "|  899999069|INSTITUTO COLOMBI...|           34|                275329002|            8097911.823529412|                1|                  2|                 2|                3|           1|         1|                         19|        0|     0|     0|      0|          0|       0|  34|       0|       0|    0|      0|        0|      0|    0|                                      0|     0|     0|              0|           0|         0|     0|     0|                 0|     0|    0|    0|        0|      0|        0|       0|        0|      0|      0|    0|        0|     0|       0|     0|         1|          33|                0|         0|      0|                  26|   0|                  0|                          8|                      0|      0|                 0|               0|                                   0|         0|      0|          0|                      7|                       0|       0|          0|       0|          1|                    0|                 0|   0|              0|                        26|                       0|            0|        0|                         0|   0|               0|            0|                    0|                           0|                                                 0|               0|                 0|         34|                    0|       0|      0|                         0|                        0|        0|                 0|              0|                          0|       0|                                0|                                            0|         0|                      0|                               0|      0|      0|              0|         0|                    0|                           0|                                                 0|               0|                 0|         34|                    0|       0|      0|                         0|                        0|        0|                 0|              0|                          0|       0|                                0|                                            0|         0|                      0|                               0|      0|      0|              0|         0|\n",
      "|  804003036|CARCEL Y PENITENC...|           21|               1178206927|          5.610509176190476E7|                1|                  2|                 2|                3|           1|         1|                         21|       21|     0|     0|      0|          0|       0|   0|       0|       0|    0|      0|        0|      0|    0|                                      0|     0|     0|              0|           0|         0|     0|     0|                 0|     0|    0|    0|        0|      0|        0|       0|        0|      0|      0|    0|        0|     0|       0|     0|         6|          15|                0|         0|      0|                   0|   0|                  0|                         17|                      0|      4|                 0|               0|                                   0|         0|      0|          0|                      5|                       0|       0|          3|       0|         13|                    0|                 0|   0|              0|                         0|                       0|            0|        0|                         0|   0|               0|            0|                    0|                           0|                                                 0|               0|                 0|          0|                    0|       0|      0|                         0|                        0|        0|                 0|              0|                          0|       0|                                0|                                            0|         0|                      0|                               0|      0|      0|             21|         0|                    0|                           0|                                                 0|               0|                 0|          0|                    0|       0|      0|                         0|                        0|        0|                 0|              0|                          0|       0|                                0|                                            0|         0|                      0|                               0|      0|      0|             21|         0|\n",
      "|  891900289|VALLE DEL CAUCA -...|           42|                626303315|          1.491198369047619E7|                1|                  1|                 2|                4|           1|         1|                         19|        0|     0|     0|      0|          0|       0|   0|       0|       0|    0|      0|        0|      0|    0|                                      0|     0|     0|             42|           0|         0|     0|     0|                 0|     0|    0|    0|        0|      0|        0|       0|        0|      0|      0|    0|        0|     0|       0|     0|         0|          42|                0|         0|      0|                  36|   0|                  0|                          6|                      0|      0|                 0|               0|                                   0|         0|      0|          0|                     38|                       0|       0|          1|       0|          2|                    0|                 0|   0|              0|                         0|                       0|            0|        0|                         0|   1|               0|            0|                    0|                           0|                                                 0|              42|                 0|          0|                    0|       0|      0|                         0|                        0|        0|                 0|              0|                          0|       0|                                0|                                            0|         0|                      0|                               0|      0|      0|              0|         0|                    0|                           0|                                                 0|              42|                 0|          0|                    0|       0|      0|                         0|                        0|        0|                 0|              0|                          0|       0|                                0|                                            0|         0|                      0|                               0|      0|      0|              0|         0|\n",
      "|  901074333|MINISTERIO DEL TR...|            5|                110633000|                    2.21266E7|                1|                  1|                 1|                1|           1|         1|                         25|        0|     0|     0|      0|          0|       0|   0|       0|       0|    0|      0|        0|      0|    0|                                      0|     0|     0|              0|           5|         0|     0|     0|                 0|     0|    0|    0|        0|      0|        0|       0|        0|      0|      0|    0|        0|     0|       0|     0|         0|           5|                0|         0|      0|                   5|   0|                  0|                          0|                      0|      0|                 0|               0|                                   0|         0|      0|          0|                      0|                       0|       0|          0|       0|          0|                    0|                 0|   0|              0|                         5|                       0|            0|        0|                         0|   0|               0|            0|                    0|                           0|                                                 0|               0|                 0|          0|                    0|       0|      0|                         0|                        0|        0|                 0|              0|                          0|       0|                                0|                                            0|         0|                      0|                               0|      5|      0|              0|         0|                    0|                           0|                                                 0|               0|                 0|          0|                    0|       0|      0|                         0|                        0|        0|                 0|              0|                          0|       0|                                0|                                            0|         0|                      0|                               0|      5|      0|              0|         0|\n",
      "|  890906445|    CONCEJO CAUCASIA|            3|                 45852880|         1.5284293333333334E7|                1|                  2|                 2|                2|           1|         1|                         20|        0|     0|     0|      0|          0|       0|   0|       0|       0|    0|      0|        3|      0|    0|                                      0|     0|     0|              0|           0|         0|     0|     0|                 0|     0|    0|    0|        0|      0|        0|       0|        0|      0|      0|    0|        0|     0|       0|     0|         0|           1|                0|         0|      2|                   1|   0|                  0|                          2|                      0|      0|                 0|               0|                                   0|         0|      0|          0|                      1|                       0|       0|          0|       0|          2|                    0|                 0|   0|              0|                         0|                       0|            0|        0|                         0|   0|               0|            0|                    0|                           0|                                                 0|               0|                 0|          0|                    0|       0|      0|                         0|                        0|        0|                 0|              0|                          0|       0|                                0|                                            0|         0|                      0|                               0|      0|      0|              3|         0|                    0|                           0|                                                 0|               0|                 0|          0|                    0|       0|      0|                         0|                        0|        0|                 0|              0|                          0|       0|                                0|                                            0|         0|                      0|                               0|      0|      0|              3|         0|\n",
      "|  890680059|CUNDINAMARCA - RI...|          119|               4239680998|           3.56275714117647E7|                1|                  5|                 5|                5|           1|         1|                         20|        0|     0|     0|      0|          0|       0|   0|       0|       0|    0|      0|        0|      0|    0|                                      0|     0|     0|              0|         119|         0|     0|     0|                 0|     0|    0|    0|        0|      0|        0|       0|        0|      0|      0|    0|        1|     5|       0|     0|         2|         110|                0|         1|      0|                  97|   7|                  0|                         11|                      1|      1|                 0|               2|                                   0|         0|      0|          0|                    100|                       0|       0|          5|       0|          4|                    0|                 0|   7|              0|                         0|                       0|            0|        0|                         0|   0|               3|            0|                    0|                           0|                                                 0|             119|                 0|          0|                    0|       0|      0|                         0|                        0|        0|                 0|              0|                          0|       0|                                0|                                            0|         0|                      0|                               0|      0|      0|              0|         0|                    0|                           0|                                                 0|             119|                 0|          0|                    0|       0|      0|                         0|                        0|        0|                 0|              0|                          0|       0|                                0|                                            0|         0|                      0|                               0|      0|      0|              0|         0|\n",
      "|  802008282|INSTITUTO NACIONA...|            6|                502879602|                  8.3813267E7|                1|                  2|                 2|                3|           1|         1|                         21|        0|     0|     0|      0|          0|       0|   0|       0|       0|    0|      0|        0|      0|    0|                                      0|     0|     0|              0|           0|         0|     0|     0|                 0|     0|    0|    0|        6|      0|        0|       0|        0|      0|      0|    0|        0|     0|       0|     0|         2|           4|                0|         0|      0|                   1|   0|                  0|                          5|                      0|      0|                 0|               0|                                   0|         0|      0|          0|                      3|                       0|       0|          2|       0|          0|                    0|                 0|   0|              0|                         1|                       0|            0|        0|                         0|   0|               0|            0|                    0|                           0|                                                 0|               0|                 0|          0|                    0|       0|      0|                         0|                        0|        0|                 0|              0|                          0|       0|                                0|                                            0|         0|                      0|                               0|      0|      0|              6|         0|                    0|                           0|                                                 0|               0|                 0|          0|                    0|       0|      0|                         0|                        0|        0|                 0|              0|                          0|       0|                                0|                                            0|         0|                      0|                               0|      0|      0|              6|         0|\n",
      "+-----------+--------------------+-------------+-------------------------+-----------------------------+-----------------+-------------------+------------------+-----------------+------------+----------+---------------------------+---------+------+------+-------+-----------+--------+----+--------+--------+-----+-------+---------+-------+-----+---------------------------------------+------+------+---------------+------------+----------+------+------+------------------+------+-----+-----+---------+-------+---------+--------+---------+-------+-------+-----+---------+------+--------+------+----------+------------+-----------------+----------+-------+--------------------+----+-------------------+---------------------------+-----------------------+-------+------------------+----------------+------------------------------------+----------+-------+-----------+-----------------------+------------------------+--------+-----------+--------+-----------+---------------------+------------------+----+---------------+--------------------------+------------------------+-------------+---------+--------------------------+----+----------------+-------------+---------------------+----------------------------+--------------------------------------------------+----------------+------------------+-----------+---------------------+--------+-------+--------------------------+-------------------------+---------+------------------+---------------+---------------------------+--------+---------------------------------+---------------------------------------------+----------+-----------------------+--------------------------------+-------+-------+---------------+----------+---------------------+----------------------------+--------------------------------------------------+----------------+------------------+-----------+---------------------+--------+-------+--------------------------+-------------------------+---------+------------------+---------------+---------------------------+--------+---------------------------------+---------------------------------------------+----------+-----------------------+--------------------------------+-------+-------+---------------+----------+\n",
      "only showing top 20 rows\n",
      "\n"
     ]
    }
   ],
   "source": [
    "infraestructura_df_agregado_y_pivotado = pyspark_etl_functions.unir_dataframes(infraestructura_df_agregado_y_pivotado, infraestructura_df_pivotado)\n",
    "infraestructura_df_agregado_y_pivotado.show()"
   ]
  },
  {
   "cell_type": "code",
   "execution_count": 24,
   "metadata": {},
   "outputs": [
    {
     "name": "stderr",
     "output_type": "stream",
     "text": [
      "[Stage 330:=> (3 + 2) / 5][Stage 332:>  (0 + 2) / 5][Stage 333:>  (0 + 0) / 5]5]\r"
     ]
    },
    {
     "name": "stdout",
     "output_type": "stream",
     "text": [
      "23/05/04 04:47:51 WARN RowBasedKeyValueBatch: Calling spill() on RowBasedKeyValueBatch. Will not spill but return 0.\n",
      "23/05/04 04:47:51 WARN RowBasedKeyValueBatch: Calling spill() on RowBasedKeyValueBatch. Will not spill but return 0.\n",
      "23/05/04 04:47:51 WARN RowBasedKeyValueBatch: Calling spill() on RowBasedKeyValueBatch. Will not spill but return 0.\n",
      "23/05/04 04:47:51 WARN RowBasedKeyValueBatch: Calling spill() on RowBasedKeyValueBatch. Will not spill but return 0.\n"
     ]
    },
    {
     "name": "stderr",
     "output_type": "stream",
     "text": [
      "[Stage 332:>  (0 + 4) / 5][Stage 333:>  (0 + 0) / 5][Stage 334:>  (0 + 0) / 5]\r"
     ]
    },
    {
     "name": "stdout",
     "output_type": "stream",
     "text": [
      "23/05/04 04:47:52 WARN RowBasedKeyValueBatch: Calling spill() on RowBasedKeyValueBatch. Will not spill but return 0.\n",
      "23/05/04 04:47:52 WARN RowBasedKeyValueBatch: Calling spill() on RowBasedKeyValueBatch. Will not spill but return 0.\n",
      "23/05/04 04:47:52 WARN RowBasedKeyValueBatch: Calling spill() on RowBasedKeyValueBatch. Will not spill but return 0.\n",
      "23/05/04 04:47:52 WARN RowBasedKeyValueBatch: Calling spill() on RowBasedKeyValueBatch. Will not spill but return 0.\n"
     ]
    },
    {
     "name": "stderr",
     "output_type": "stream",
     "text": [
      "[Stage 332:=> (3 + 2) / 5][Stage 333:>  (0 + 2) / 5][Stage 334:>  (0 + 0) / 5]\r"
     ]
    },
    {
     "name": "stdout",
     "output_type": "stream",
     "text": [
      "23/05/04 04:47:53 WARN RowBasedKeyValueBatch: Calling spill() on RowBasedKeyValueBatch. Will not spill but return 0.\n",
      "23/05/04 04:47:53 WARN RowBasedKeyValueBatch: Calling spill() on RowBasedKeyValueBatch. Will not spill but return 0.\n",
      "23/05/04 04:47:53 WARN RowBasedKeyValueBatch: Calling spill() on RowBasedKeyValueBatch. Will not spill but return 0.\n",
      "23/05/04 04:47:53 WARN RowBasedKeyValueBatch: Calling spill() on RowBasedKeyValueBatch. Will not spill but return 0.\n"
     ]
    },
    {
     "name": "stderr",
     "output_type": "stream",
     "text": [
      "[Stage 333:>  (0 + 4) / 5][Stage 334:>  (0 + 0) / 5][Stage 335:>  (0 + 0) / 5]\r"
     ]
    },
    {
     "name": "stdout",
     "output_type": "stream",
     "text": [
      "23/05/04 04:47:54 WARN RowBasedKeyValueBatch: Calling spill() on RowBasedKeyValueBatch. Will not spill but return 0.\n",
      "23/05/04 04:47:54 WARN RowBasedKeyValueBatch: Calling spill() on RowBasedKeyValueBatch. Will not spill but return 0.\n",
      "23/05/04 04:47:54 WARN RowBasedKeyValueBatch: Calling spill() on RowBasedKeyValueBatch. Will not spill but return 0.\n",
      "23/05/04 04:47:54 WARN RowBasedKeyValueBatch: Calling spill() on RowBasedKeyValueBatch. Will not spill but return 0.\n"
     ]
    },
    {
     "name": "stderr",
     "output_type": "stream",
     "text": [
      "[Stage 333:=> (3 + 2) / 5][Stage 334:>  (0 + 2) / 5][Stage 335:>  (0 + 0) / 5]\r"
     ]
    },
    {
     "name": "stdout",
     "output_type": "stream",
     "text": [
      "23/05/04 04:47:55 WARN RowBasedKeyValueBatch: Calling spill() on RowBasedKeyValueBatch. Will not spill but return 0.\n",
      "23/05/04 04:47:55 WARN RowBasedKeyValueBatch: Calling spill() on RowBasedKeyValueBatch. Will not spill but return 0.\n",
      "23/05/04 04:47:55 WARN RowBasedKeyValueBatch: Calling spill() on RowBasedKeyValueBatch. Will not spill but return 0.\n",
      "23/05/04 04:47:55 WARN RowBasedKeyValueBatch: Calling spill() on RowBasedKeyValueBatch. Will not spill but return 0.\n"
     ]
    },
    {
     "name": "stderr",
     "output_type": "stream",
     "text": [
      "[Stage 334:>  (0 + 4) / 5][Stage 335:>  (0 + 0) / 5][Stage 336:>  (0 + 0) / 5]\r"
     ]
    },
    {
     "name": "stdout",
     "output_type": "stream",
     "text": [
      "23/05/04 04:47:56 WARN RowBasedKeyValueBatch: Calling spill() on RowBasedKeyValueBatch. Will not spill but return 0.\n",
      "23/05/04 04:47:56 WARN RowBasedKeyValueBatch: Calling spill() on RowBasedKeyValueBatch. Will not spill but return 0.\n",
      "23/05/04 04:47:56 WARN RowBasedKeyValueBatch: Calling spill() on RowBasedKeyValueBatch. Will not spill but return 0.\n",
      "23/05/04 04:47:56 WARN RowBasedKeyValueBatch: Calling spill() on RowBasedKeyValueBatch. Will not spill but return 0.\n"
     ]
    },
    {
     "name": "stderr",
     "output_type": "stream",
     "text": [
      "[Stage 334:=> (3 + 2) / 5][Stage 335:>  (0 + 2) / 5][Stage 336:>  (0 + 0) / 5]\r"
     ]
    },
    {
     "name": "stdout",
     "output_type": "stream",
     "text": [
      "23/05/04 04:47:57 WARN RowBasedKeyValueBatch: Calling spill() on RowBasedKeyValueBatch. Will not spill but return 0.\n",
      "23/05/04 04:47:57 WARN RowBasedKeyValueBatch: Calling spill() on RowBasedKeyValueBatch. Will not spill but return 0.\n",
      "23/05/04 04:47:57 WARN RowBasedKeyValueBatch: Calling spill() on RowBasedKeyValueBatch. Will not spill but return 0.\n",
      "23/05/04 04:47:57 WARN RowBasedKeyValueBatch: Calling spill() on RowBasedKeyValueBatch. Will not spill but return 0.\n"
     ]
    },
    {
     "name": "stderr",
     "output_type": "stream",
     "text": [
      "[Stage 335:>  (0 + 4) / 5][Stage 336:>  (0 + 0) / 5][Stage 337:>  (0 + 0) / 5]\r"
     ]
    },
    {
     "name": "stdout",
     "output_type": "stream",
     "text": [
      "23/05/04 04:47:58 WARN RowBasedKeyValueBatch: Calling spill() on RowBasedKeyValueBatch. Will not spill but return 0.\n",
      "23/05/04 04:47:58 WARN RowBasedKeyValueBatch: Calling spill() on RowBasedKeyValueBatch. Will not spill but return 0.\n",
      "23/05/04 04:47:58 WARN RowBasedKeyValueBatch: Calling spill() on RowBasedKeyValueBatch. Will not spill but return 0.\n",
      "23/05/04 04:47:58 WARN RowBasedKeyValueBatch: Calling spill() on RowBasedKeyValueBatch. Will not spill but return 0.\n"
     ]
    },
    {
     "name": "stderr",
     "output_type": "stream",
     "text": [
      "[Stage 335:=> (3 + 2) / 5][Stage 336:>  (0 + 2) / 5][Stage 337:>  (0 + 0) / 5]\r"
     ]
    },
    {
     "name": "stdout",
     "output_type": "stream",
     "text": [
      "23/05/04 04:47:59 WARN RowBasedKeyValueBatch: Calling spill() on RowBasedKeyValueBatch. Will not spill but return 0.\n",
      "23/05/04 04:47:59 WARN RowBasedKeyValueBatch: Calling spill() on RowBasedKeyValueBatch. Will not spill but return 0.\n",
      "23/05/04 04:47:59 WARN RowBasedKeyValueBatch: Calling spill() on RowBasedKeyValueBatch. Will not spill but return 0.\n",
      "23/05/04 04:47:59 WARN RowBasedKeyValueBatch: Calling spill() on RowBasedKeyValueBatch. Will not spill but return 0.\n"
     ]
    },
    {
     "name": "stderr",
     "output_type": "stream",
     "text": [
      "[Stage 336:>  (0 + 4) / 5][Stage 337:>  (0 + 0) / 5][Stage 340:>  (0 + 0) / 4]\r"
     ]
    },
    {
     "name": "stdout",
     "output_type": "stream",
     "text": [
      "23/05/04 04:48:00 WARN RowBasedKeyValueBatch: Calling spill() on RowBasedKeyValueBatch. Will not spill but return 0.\n",
      "23/05/04 04:48:00 WARN RowBasedKeyValueBatch: Calling spill() on RowBasedKeyValueBatch. Will not spill but return 0.\n",
      "23/05/04 04:48:00 WARN RowBasedKeyValueBatch: Calling spill() on RowBasedKeyValueBatch. Will not spill but return 0.\n",
      "23/05/04 04:48:00 WARN RowBasedKeyValueBatch: Calling spill() on RowBasedKeyValueBatch. Will not spill but return 0.\n"
     ]
    },
    {
     "name": "stderr",
     "output_type": "stream",
     "text": [
      "[Stage 336:==>(4 + 1) / 5][Stage 337:>  (0 + 3) / 5][Stage 340:>  (0 + 0) / 4]\r"
     ]
    },
    {
     "name": "stdout",
     "output_type": "stream",
     "text": [
      "23/05/04 04:48:01 WARN RowBasedKeyValueBatch: Calling spill() on RowBasedKeyValueBatch. Will not spill but return 0.\n",
      "23/05/04 04:48:01 WARN RowBasedKeyValueBatch: Calling spill() on RowBasedKeyValueBatch. Will not spill but return 0.\n",
      "23/05/04 04:48:01 WARN RowBasedKeyValueBatch: Calling spill() on RowBasedKeyValueBatch. Will not spill but return 0.\n",
      "23/05/04 04:48:01 WARN RowBasedKeyValueBatch: Calling spill() on RowBasedKeyValueBatch. Will not spill but return 0.\n",
      "23/05/04 04:48:01 WARN RowBasedKeyValueBatch: Calling spill() on RowBasedKeyValueBatch. Will not spill but return 0.\n",
      "23/05/04 04:48:01 WARN RowBasedKeyValueBatch: Calling spill() on RowBasedKeyValueBatch. Will not spill but return 0.\n"
     ]
    },
    {
     "name": "stderr",
     "output_type": "stream",
     "text": [
      "[Stage 337:>  (0 + 4) / 5][Stage 340:>  (0 + 0) / 4][Stage 342:>  (0 + 0) / 1]\r"
     ]
    },
    {
     "name": "stdout",
     "output_type": "stream",
     "text": [
      "23/05/04 04:48:02 WARN RowBasedKeyValueBatch: Calling spill() on RowBasedKeyValueBatch. Will not spill but return 0.\n",
      "23/05/04 04:48:02 WARN RowBasedKeyValueBatch: Calling spill() on RowBasedKeyValueBatch. Will not spill but return 0.\n"
     ]
    },
    {
     "name": "stderr",
     "output_type": "stream",
     "text": [
      "                                                                                \r"
     ]
    },
    {
     "name": "stdout",
     "output_type": "stream",
     "text": [
      "+-----------+--------------------+-------------+-------------------------+-----------------------------+-----------------+-------------------+------------------+-----------------+------------+----------+---------------------------+---------+------+------+-------+-----------+--------+----+--------+--------+-----+-------+---------+-------+-----+---------------------------------------+------+------+---------------+------------+----------+------+------+------------------+------+-----+-----+---------+-------+---------+--------+---------+-------+-------+-----+---------+------+--------+------+----------+------------+-----------------+----------+-------+--------------------+----+-------------------+---------------------------+-----------------------+-------+------------------+----------------+------------------------------------+----------+-------+-----------+-----------------------+------------------------+--------+-----------+--------+-----------+---------------------+------------------+----+---------------+--------------------------+------------------------+-------------+---------+--------------------------+----+----------------+-------------+---------------------+----------------------------+--------------------------------------------------+----------------+------------------+-----------+---------------------+--------+-------+--------------------------+-------------------------+---------+------------------+---------------+---------------------------+--------+---------------------------------+---------------------------------------------+----------+-----------------------+--------------------------------+-------+-------+---------------+----------+---------------------+----------------------------+--------------------------------------------------+----------------+------------------+-----------+---------------------+--------+-------+--------------------------+-------------------------+---------+------------------+---------------+---------------------------+--------+---------------------------------+---------------------------------------------+----------+-----------------------+--------------------------------+-------+-------+---------------+----------+\n",
      "|NIT_ENTIDAD|      NOMBRE_ENTIDAD|num_contratos|suma_valor_total_contrato|promedio_valor_total_contrato|num_departamentos|num_estados_proceso|num_clases_proceso|num_tipos_proceso|num_familias|num_clases|meses_desde_ultimo_contrato|SANTANDER|VAUPES|NARIÑO|CAQUETA|NO DEFINIDO|CASANARE|META|AMAZONAS|GUAVIARE|CAUCA|VICHADA|ANTIOQUIA|QUINDIO|CHOCO|SAN ANDRES PROVIDENCIA Y SANTA CATALINA|CALDAS|BOYACA|VALLE DEL CAUCA|CUNDINAMARCA|LA GUAJIRA|TOLIMA|ARAUCA|NORTE DE SANTANDER|BOGOTA|HUILA|SUCRE|ATLANTICO|BOLIVAR|RISARALDA|PUTUMAYO|MAGDALENA|GUAINIA|CORDOBA|CESAR|TERMINADO|ACTIVO|BORRADOR|CEDIDO|MODIFICADO|EN EJECUCION|ENVIADO PROVEEDOR|SUSPENDIDO|CERRADO|CONTRATACION DIRECTA|null|CONCURSO DE MERITOS|CONTRATACION MINIMA CUANTIA|LICITACION OBRA PUBLICA|SUBASTA|LICITACION PUBLICA|REGIMEN ESPECIAL|SELECCION ABREVIADA DE MENOR CUANTIA|EMPRESTITO|SEGUROS|CONSULTORIA|PRESTACION DE SERVICIOS|ACUERDO MARCO DE PRECIOS|COMISION|COMPRAVENTA|COMODATO|SUMINISTROS|SERVICIOS FINANCIEROS|NEGOCIO FIDUCIARIO|OTRO|VENTA INMUEBLES|ARRENDAMIENTO DE INMUEBLES|ARRENDAMIENTO DE MUEBLES|INTERVENTORIA|CONCESION|ASOCIACION PUBLICO PRIVADA|OBRA|DECREELAW0922017|VENTA MUEBLES|RELACIONES EXTERIORES|VIVIENDA CIUDAD Y TERRITORIO|TECNOLOGIAS DE LA INFORMACION Y LAS COMUNICACIONES|SERVICIO PUBLICO|EDUCACION NACIONAL|AGRICULTURA|NO APLICANO PERTENECE|DEPORTES|DEFENSA|HACIENDA Y CREDITO PUBLICO|SALUD Y PROTECCION SOCIAL|INDUSTRIA|CIENCIA TECNOLOGIA|MINAS Y ENERGIA|PRESIDENCIA DE LA REPUBLICA|INTERIOR|INCLUSION SOCIAL Y RECONCILIACION|INTELIGENCIA ESTRATEGICA Y CONTRAINTELIGENCIA|TRANSPORTE|INFORMACION ESTADISTICA|AMBIENTE Y DESARROLLO SOSTENIBLE|TRABAJO|CULTURA|LEY DE JUSTICIA|PLANEACION|RELACIONES EXTERIORES|VIVIENDA CIUDAD Y TERRITORIO|TECNOLOGIAS DE LA INFORMACION Y LAS COMUNICACIONES|SERVICIO PUBLICO|EDUCACION NACIONAL|AGRICULTURA|NO APLICANO PERTENECE|DEPORTES|DEFENSA|HACIENDA Y CREDITO PUBLICO|SALUD Y PROTECCION SOCIAL|INDUSTRIA|CIENCIA TECNOLOGIA|MINAS Y ENERGIA|PRESIDENCIA DE LA REPUBLICA|INTERIOR|INCLUSION SOCIAL Y RECONCILIACION|INTELIGENCIA ESTRATEGICA Y CONTRAINTELIGENCIA|TRANSPORTE|INFORMACION ESTADISTICA|AMBIENTE Y DESARROLLO SOSTENIBLE|TRABAJO|CULTURA|LEY DE JUSTICIA|PLANEACION|\n",
      "+-----------+--------------------+-------------+-------------------------+-----------------------------+-----------------+-------------------+------------------+-----------------+------------+----------+---------------------------+---------+------+------+-------+-----------+--------+----+--------+--------+-----+-------+---------+-------+-----+---------------------------------------+------+------+---------------+------------+----------+------+------+------------------+------+-----+-----+---------+-------+---------+--------+---------+-------+-------+-----+---------+------+--------+------+----------+------------+-----------------+----------+-------+--------------------+----+-------------------+---------------------------+-----------------------+-------+------------------+----------------+------------------------------------+----------+-------+-----------+-----------------------+------------------------+--------+-----------+--------+-----------+---------------------+------------------+----+---------------+--------------------------+------------------------+-------------+---------+--------------------------+----+----------------+-------------+---------------------+----------------------------+--------------------------------------------------+----------------+------------------+-----------+---------------------+--------+-------+--------------------------+-------------------------+---------+------------------+---------------+---------------------------+--------+---------------------------------+---------------------------------------------+----------+-----------------------+--------------------------------+-------+-------+---------------+----------+---------------------+----------------------------+--------------------------------------------------+----------------+------------------+-----------+---------------------+--------+-------+--------------------------+-------------------------+---------+------------------+---------------+---------------------------+--------+---------------------------------+---------------------------------------------+----------+-----------------------+--------------------------------+-------+-------+---------------+----------+\n",
      "| 8999990611|SECRETARIA DISTRI...|         9833|             848531364134|          8.629425039499643E7|                1|                  5|                 7|               11|           1|         1|                         19|        0|     0|     0|      0|          0|       0|   0|       0|       0|    0|      0|        0|      0|    0|                                      0|     0|     0|              0|           0|         0|     0|     0|                 0|  9833|    0|    0|        0|      0|        0|       0|        0|      0|      0|    0|       25|   178|       0|   441|       504|        8685|                0|         0|      0|                9630| 155|                  1|                          9|                      5|     18|                 0|               3|                                  12|         0|      2|          0|                   9521|                       0|       3|          7|       3|          8|                    0|                 0|  30|              0|                       102|                       0|            1|        0|                         0|   1|             155|            0|                    0|                           0|                                                 0|               0|                 0|          0|                    0|       0|      0|                         0|                        0|        0|                 0|              0|                          0|       0|                             9833|                                            0|         0|                      0|                               0|      0|      0|              0|         0|                    0|                           0|                                                 0|               0|                 0|          0|                    0|       0|      0|                         0|                        0|        0|                 0|              0|                          0|       0|                             9833|                                            0|         0|                      0|                               0|      0|      0|              0|         0|\n",
      "|  900971006|BOGOTA - ESE SUBR...|         9023|             228202671554|         2.5291219278953783E7|                1|                  4|                 1|                6|           1|         1|                         19|        0|     0|     0|      0|          0|       0|   0|       0|       0|    0|      0|        0|      0|    0|                                      0|     0|     0|              0|           0|         0|     0|     0|                 0|  9023|    0|    0|        0|      0|        0|       0|        0|      0|      0|    0|       63|   136|       0|     0|      8410|         414|                0|         0|      0|                   0|  58|                  0|                          0|                      0|      0|                 0|            8965|                                   0|         0|      1|          0|                     78|                       0|       0|          0|       0|        106|                    0|                 0|   1|              0|                         0|                       0|            0|        0|                         0|   1|            8836|            0|                    0|                           0|                                                 0|               0|                 0|          0|                    0|       0|      0|                         0|                     9023|        0|                 0|              0|                          0|       0|                                0|                                            0|         0|                      0|                               0|      0|      0|              0|         0|                    0|                           0|                                                 0|               0|                 0|          0|                    0|       0|      0|                         0|                     9023|        0|                 0|              0|                          0|       0|                                0|                                            0|         0|                      0|                               0|      0|      0|              0|         0|\n",
      "|  899999239|INSTITUTO COLOMBI...|         9004|            3862769591782|          4.290059519971124E8|               27|                  6|                 7|               13|           3|         3|                         19|        0|    55|   354|    149|          0|     124| 197|      83|      69|  376|     73|      812|      0|  234|                                     72|   393|   246|            595|           0|       268|   332|   122|               224|  2861|  220|    0|        0|    328|        0|     120|      199|     57|    205|  236|      217|   157|       0|   219|      1741|        6659|                0|        11|      0|                5872|  64|                  3|                        259|                      5|     17|                 0|            2770|                                  14|         0|      2|          3|                   5770|                       0|       0|         20|     305|         55|                    0|                 0|2808|              4|                        11|                       0|            3|        0|                         1|  14|               8|            0|                    0|                           0|                                                 0|               0|                 0|          0|                  639|       0|      0|                         0|                     6774|        0|                 0|              0|                          0|       0|                             1591|                                            0|         0|                      0|                               0|      0|      0|              0|         0|                    0|                           0|                                                 0|               0|                 0|          0|                  639|       0|      0|                         0|                     6774|        0|                 0|              0|                          0|       0|                             1591|                                            0|         0|                      0|                               0|      0|      0|              0|         0|\n",
      "|  900959048|BOGOTA - SUBRED I...|         6918|             537532626181|           7.77005819862677E7|                1|                  5|                 2|                6|           1|         1|                         19|        0|     0|     0|      0|          0|       0|   0|       0|       0|    0|      0|        0|      0|    0|                                      0|     0|     0|              0|           0|         0|     0|     0|                 0|  6918|    0|    0|        0|      0|        0|       0|        0|      0|      0|    0|      696|   126|       0|     0|      5670|         407|                0|        19|      0|                   0| 161|                  0|                          0|                      2|      0|                 0|            6755|                                   0|         0|     20|          0|                   6642|                       0|       0|         14|       0|         81|                    0|                 0| 159|              0|                         0|                       0|            0|        0|                         0|   2|               0|            0|                    0|                           0|                                                 0|               0|                 0|          0|                    0|       0|      0|                         0|                     6918|        0|                 0|              0|                          0|       0|                                0|                                            0|         0|                      0|                               0|      0|      0|              0|         0|                    0|                           0|                                                 0|               0|                 0|          0|                    0|       0|      0|                         0|                     6918|        0|                 0|              0|                          0|       0|                                0|                                            0|         0|                      0|                               0|      0|      0|              0|         0|\n",
      "|  900959051|SUBRED INTEGRADA ...|         6510|             196673858120|         3.0211038113671277E7|                1|                  6|                 3|                9|           1|         1|                         19|        0|     0|     0|      0|          0|       0|   0|       0|       0|    0|      0|        0|      0|    0|                                      0|     0|     0|              0|           0|         0|     0|     0|                 0|  6510|    0|    0|        0|      0|        0|       0|        0|      0|      0|    0|      154|   289|       0|     0|      5138|         905|                0|        23|      1|                   0| 156|                  2|                          0|                      2|      0|                 0|            6350|                                   0|         0|      1|          0|                   6318|                       0|       0|         40|       0|        140|                    1|                 0|   4|              0|                         0|                       2|            2|        0|                         0|   2|               0|            0|                    0|                           0|                                                 0|               0|                 0|          0|                    0|       0|      0|                         0|                     6510|        0|                 0|              0|                          0|       0|                                0|                                            0|         0|                      0|                               0|      0|      0|              0|         0|                    0|                           0|                                                 0|               0|                 0|          0|                    0|       0|      0|                         0|                     6510|        0|                 0|              0|                          0|       0|                                0|                                            0|         0|                      0|                               0|      0|      0|              0|         0|\n",
      "|  900958564|BOGOTA - SUBRED I...|         6229|             206851774139|         3.3207862279499117E7|                1|                  5|                 1|                7|           1|         1|                         19|        0|     0|     0|      0|          0|       0|   0|       0|       0|    0|      0|        0|      0|    0|                                      0|     0|     0|              0|           0|         0|     0|     0|                 0|  6229|    0|    0|        0|      0|        0|       0|        0|      0|      0|    0|       16|    76|       0|     0|      5190|         932|                0|        15|      0|                   0| 126|                  0|                          0|                      0|      0|                 0|            6103|                                   0|         0|      1|          0|                   5925|                       0|       0|          0|       0|        260|                    2|                 0|  10|              0|                         0|                      10|            0|        0|                         0|  21|               0|            0|                    0|                           0|                                                 0|               0|                 0|          0|                    0|       0|      0|                         0|                     6229|        0|                 0|              0|                          0|       0|                                0|                                            0|         0|                      0|                               0|      0|      0|              0|         0|                    0|                           0|                                                 0|               0|                 0|          0|                    0|       0|      0|                         0|                     6229|        0|                 0|              0|                          0|       0|                                0|                                            0|         0|                      0|                               0|      0|      0|              0|         0|\n",
      "|  899999027|DEPARTAMENTO ADMI...|         5635|              87548446400|         1.5536547719609583E7|                2|                  7|                 5|                7|           1|         1|                         19|        0|     0|     0|      0|          0|       0|   0|       0|       0|    0|      0|        0|      0|    0|                                      0|     0|     0|           1548|           0|         0|     0|     0|                 0|  4087|    0|    0|        0|      0|        0|       0|        0|      0|      0|    0|       57|   118|       0|   131|       962|        4358|                0|         5|      4|                5593|  11|                  0|                         27|                      1|      2|                 0|               0|                                   1|         0|      3|          0|                   5605|                       0|       0|          1|       0|          1|                    0|                 0|  16|              0|                         8|                       0|            0|        0|                         0|   1|               0|            0|                    0|                           0|                                                 0|               0|                 0|          0|                    0|       0|      0|                         0|                        0|        0|                 0|              0|                          0|       0|                                0|                                            0|         0|                   5635|                               0|      0|      0|              0|         0|                    0|                           0|                                                 0|               0|                 0|          0|                    0|       0|      0|                         0|                        0|        0|                 0|              0|                          0|       0|                                0|                                            0|         0|                   5635|                               0|      0|      0|              0|         0|\n",
      "|  891480030|MUNICIPIO DE PERE...|         5089|             245083504630|         4.8159462493613675E7|                1|                  7|                 7|               11|           1|         1|                         19|        0|     0|     0|      0|          0|       0|   0|       0|       0|    0|      0|        0|      0|    0|                                      0|     0|     0|              0|           0|         0|     0|     0|                 0|     0|    0|    0|        0|      0|     5089|       0|        0|      0|      0|    0|      168|   431|       0|    34|       701|        3678|                0|        13|     64|                4860|   4|                  7|                         61|                     18|     14|                 0|             111|                                  14|         0|      3|          6|                   4804|                       0|       0|          4|      15|         38|                    0|                 0|  41|              0|                        47|                       0|            4|        0|                         0|  14|             113|            0|                    0|                           0|                                                 0|            5089|                 0|          0|                    0|       0|      0|                         0|                        0|        0|                 0|              0|                          0|       0|                                0|                                            0|         0|                      0|                               0|      0|      0|              0|         0|                    0|                           0|                                                 0|            5089|                 0|          0|                    0|       0|      0|                         0|                        0|        0|                 0|              0|                          0|       0|                                0|                                            0|         0|                      0|                               0|      0|      0|              0|         0|\n",
      "|  899999034|SERVICIO NACIONAL...|         4279|             161584178459|           3.77621356529563E7|                9|                  6|                 5|                7|           3|         3|                         19|        0|     0|   177|      0|          0|       0|   0|       0|     209|  112|      0|        0|      0|    0|                                    409|     0|     0|              0|           0|         0|     0|     0|                 0|  1024|  154|  524|      809|      0|        0|       0|        0|      0|    861|    0|      101|    30|       0|    43|       452|        3650|                0|         0|      3|                4032|   5|                  0|                        221|                      0|      7|                 0|               2|                                  12|         0|      0|          0|                   4120|                       0|       0|         89|       1|         44|                    0|                 0|   7|              0|                        17|                       0|            0|        0|                         0|   1|               0|            0|                    0|                           0|                                                 0|             524|              1427|          0|                    0|       0|      0|                         0|                        0|        0|                 0|              0|                          0|       0|                                0|                                            0|         0|                      0|                               0|   2328|      0|              0|         0|                    0|                           0|                                                 0|             524|              1427|          0|                    0|       0|      0|                         0|                        0|        0|                 0|              0|                          0|       0|                                0|                                            0|         0|                      0|                               0|   2328|      0|              0|         0|\n",
      "|  890480184|BOLIVAR - CARTAGE...|         4063|             251784018416|          6.196997745902043E7|                1|                  6|                 7|               14|           1|         1|                         19|        0|     0|     0|      0|          0|       0|   0|       0|       0|    0|      0|        0|      0|    0|                                      0|     0|     0|              0|           0|         0|     0|     0|                 0|     0|    0|    0|        0|   4063|        0|       0|        0|      0|      0|    0|       96|   137|       0|     0|       795|        3030|                0|         2|      3|                3952|   3|                  3|                         62|                      5|      4|                 0|              17|                                  17|         0|      4|          3|                   3908|                       0|       2|         13|       2|         17|                    1|                 0|  22|              0|                        63|                       1|            3|        0|                         0|  10|              14|            0|                    0|                           0|                                                 0|               0|                 0|          0|                 4063|       0|      0|                         0|                        0|        0|                 0|              0|                          0|       0|                                0|                                            0|         0|                      0|                               0|      0|      0|              0|         0|                    0|                           0|                                                 0|               0|                 0|          0|                 4063|       0|      0|                         0|                        0|        0|                 0|              0|                          0|       0|                                0|                                            0|         0|                      0|                               0|      0|      0|              0|         0|\n",
      "|  890102018|ATLANTICO - BARRA...|         4010|             868532354892|         2.1659160969875312E8|                1|                  6|                 7|               12|           1|         1|                         19|        0|     0|     0|      0|          0|       0|   0|       0|       0|    0|      0|        0|      0|    0|                                      0|     0|     0|              0|           0|         0|     0|     0|                 0|     0|    0|    0|     4010|      0|        0|       0|        0|      0|      0|    0|       35|   142|       0|    29|       333|        3470|                0|         1|      0|                3925|   4|                  2|                         37|                     15|      4|                 0|               3|                                  20|         2|      1|          1|                   3859|                       0|       0|          7|       5|         32|                    0|                 0|  38|              0|                        56|                       0|            1|        0|                         0|   4|               4|            0|                    0|                           0|                                                 0|            4010|                 0|          0|                    0|       0|      0|                         0|                        0|        0|                 0|              0|                          0|       0|                                0|                                            0|         0|                      0|                               0|      0|      0|              0|         0|                    0|                           0|                                                 0|            4010|                 0|          0|                    0|       0|      0|                         0|                        0|        0|                 0|              0|                          0|       0|                                0|                                            0|         0|                      0|                               0|      0|      0|              0|         0|\n",
      "|  900498879|UNIDAD DE RESTITU...|         3996|             127512350350|         3.1909997585085087E7|                1|                  6|                 6|                9|           1|         1|                         19|        0|     0|     0|      0|          0|       0|   0|       0|       0|    0|      0|        0|      0|    0|                                      0|     0|     0|              0|           0|         0|     0|     0|                 0|  3996|    0|    0|        0|      0|        0|       0|        0|      0|      0|    0|      183|    67|       0|    20|       266|        3459|                0|         1|      0|                3928|   3|                  0|                         32|                      3|     20|                 0|               1|                                   9|         0|      3|          0|                   3927|                       0|       0|         19|       2|          1|                    0|                 1|   7|              0|                        35|                       0|            0|        0|                         0|   0|               1|            0|                    0|                           0|                                                 0|               0|                 0|          0|                    0|       0|      0|                         0|                        0|        0|                 0|              0|                          0|       0|                             3996|                                            0|         0|                      0|                               0|      0|      0|              0|         0|                    0|                           0|                                                 0|               0|                 0|          0|                    0|       0|      0|                         0|                        0|        0|                 0|              0|                          0|       0|                             3996|                                            0|         0|                      0|                               0|      0|      0|              0|         0|\n",
      "|  890102006|ATLANTICO - GOBER...|         3908|             542910858967|         1.3892294241734904E8|                1|                  6|                 7|               10|           1|         1|                         19|        0|     0|     0|      0|          0|       0|   0|       0|       0|    0|      0|        0|      0|    0|                                      0|     0|     0|              0|           0|         0|     0|     0|                 0|     0|    0|    0|     3908|      0|        0|       0|        0|      0|      0|    0|       25|   157|       0|    10|       152|        3563|                0|         1|      0|                3799|   3|                  7|                         20|                     20|      4|                 0|              44|                                  11|         0|      0|          0|                   3740|                       0|       0|         10|       1|         18|                    0|                 0|  71|              0|                         7|                       1|            7|        0|                         0|   9|              44|            0|                    0|                           0|                                                 0|            3908|                 0|          0|                    0|       0|      0|                         0|                        0|        0|                 0|              0|                          0|       0|                                0|                                            0|         0|                      0|                               0|      0|      0|              0|         0|                    0|                           0|                                                 0|            3908|                 0|          0|                    0|       0|      0|                         0|                        0|        0|                 0|              0|                          0|       0|                                0|                                            0|         0|                      0|                               0|      0|      0|              0|         0|\n",
      "|  890980134|ANTIOQUIA - INSTI...|         3665|              59557891968|         1.6250448013096862E7|                1|                  5|                 1|                1|           1|         1|                         19|        0|     0|     0|      0|          0|       0|   0|       0|       0|    0|      0|     3665|      0|    0|                                      0|     0|     0|              0|           0|         0|     0|     0|                 0|     0|    0|    0|        0|      0|        0|       0|        0|      0|      0|    0|       96|    34|       0|     0|      1135|        2393|                0|         7|      0|                3665|   0|                  0|                          0|                      0|      0|                 0|               0|                                   0|         0|      0|          0|                   3665|                       0|       0|          0|       0|          0|                    0|                 0|   0|              0|                         0|                       0|            0|        0|                         0|   0|               0|            0|                    0|                           0|                                                 0|               0|              3665|          0|                    0|       0|      0|                         0|                        0|        0|                 0|              0|                          0|       0|                                0|                                            0|         0|                      0|                               0|      0|      0|              0|         0|                    0|                           0|                                                 0|               0|              3665|          0|                    0|       0|      0|                         0|                        0|        0|                 0|              0|                          0|       0|                                0|                                            0|         0|                      0|                               0|      0|      0|              0|         0|\n",
      "|  890000464|MUNICIPIO DE ARME...|         3596|              87551050385|         2.4346788204949945E7|                1|                  6|                 7|               12|           1|         1|                         19|        0|     0|     0|      0|          0|       0|   0|       0|       0|    0|      0|        0|   3596|    0|                                      0|     0|     0|              0|           0|         0|     0|     0|                 0|     0|    0|    0|        0|      0|        0|       0|        0|      0|      0|    0|      126|   175|       0|    11|       616|        2593|                0|         0|     75|                3463|   2|                  5|                         36|                     10|      6|                 0|              61|                                  13|         0|      1|          7|                   3468|                       0|       0|          4|      12|         13|                    0|                 1|  59|              0|                         7|                       0|            1|        0|                         0|   8|              15|            0|                    0|                           0|                                                 0|            3596|                 0|          0|                    0|       0|      0|                         0|                        0|        0|                 0|              0|                          0|       0|                                0|                                            0|         0|                      0|                               0|      0|      0|              0|         0|                    0|                           0|                                                 0|            3596|                 0|          0|                    0|       0|      0|                         0|                        0|        0|                 0|              0|                          0|       0|                                0|                                            0|         0|                      0|                               0|      0|      0|              0|         0|\n",
      "|  891280000|NARIÑO - PASTO - ...|         3270|              88457672578|         2.7051276017737005E7|                1|                  7|                 7|               12|           1|         1|                         19|        0|     0|  3270|      0|          0|       0|   0|       0|       0|    0|      0|        0|      0|    0|                                      0|     0|     0|              0|           0|         0|     0|     0|                 0|     0|    0|    0|        0|      0|        0|       0|        0|      0|      0|    0|       12|   721|       0|    13|       346|        2116|                0|         4|     58|                3135|   0|                  3|                         98|                      3|     13|                 0|               6|                                  12|         0|      2|          7|                   3081|                       0|       0|          2|      23|         45|                    1|                 0|  48|              0|                        17|                       0|            6|        0|                         0|  32|               6|            0|                    0|                           0|                                                 0|            3270|                 0|          0|                    0|       0|      0|                         0|                        0|        0|                 0|              0|                          0|       0|                                0|                                            0|         0|                      0|                               0|      0|      0|              0|         0|                    0|                           0|                                                 0|            3270|                 0|          0|                    0|       0|      0|                         0|                        0|        0|                 0|              0|                          0|       0|                                0|                                            0|         0|                      0|                               0|      0|      0|              0|         0|\n",
      "|  899999069|INSTITUTO COLOMBI...|         3258|             187351600232|          5.750509522160835E7|                1|                  6|                 6|               10|           1|         1|                         19|        0|     0|     0|      0|          0|       0|   0|       0|       0|    0|      0|        0|      0|    0|                                      0|     0|     0|              0|           0|         0|     0|     0|                 0|  3258|    0|    0|        0|      0|        0|       0|        0|      0|      0|    0|       68|  1046|       0|    33|       209|        1900|                0|         2|      0|                3000| 170|                  2|                         35|                     21|      4|                 0|               0|                                  26|         0|      0|          2|                   3023|                       0|       0|         33|       4|         20|                    1|                 0| 153|              0|                         3|                       0|            0|        0|                         0|  10|               9|            0|                    0|                           0|                                                 0|               0|                 0|       3258|                    0|       0|      0|                         0|                        0|        0|                 0|              0|                          0|       0|                                0|                                            0|         0|                      0|                               0|      0|      0|              0|         0|                    0|                           0|                                                 0|               0|                 0|       3258|                    0|       0|      0|                         0|                        0|        0|                 0|              0|                          0|       0|                                0|                                            0|         0|                      0|                               0|      0|      0|              0|         0|\n",
      "|  800194096|ANTIOQUIA - INSTI...|         3247|              60704040132|         1.8695423508469358E7|                1|                  5|                 4|                9|           1|         1|                         19|        0|     0|     0|      0|          0|       0|   0|       0|       0|    0|      0|     3247|      0|    0|                                      0|     0|     0|              0|           0|         0|     0|     0|                 0|     0|    0|    0|        0|      0|        0|       0|        0|      0|      0|    0|      496|    15|       0|     0|        28|        2662|                0|         0|     46|                3122|   3|                  0|                          2|                      0|      0|                 0|             119|                                   1|         0|      1|          2|                   2978|                       0|       0|          0|      59|          2|                    0|                 0|   8|              0|                        77|                       0|            0|        0|                         0|   1|             119|            0|                    0|                           0|                                                 0|               0|                 0|          0|                    0|    3247|      0|                         0|                        0|        0|                 0|              0|                          0|       0|                                0|                                            0|         0|                      0|                               0|      0|      0|              0|         0|                    0|                           0|                                                 0|               0|                 0|          0|                    0|    3247|      0|                         0|                        0|        0|                 0|              0|                          0|       0|                                0|                                            0|         0|                      0|                               0|      0|      0|              0|         0|\n",
      "|  892400038|GOBERNACION DEL D...|         2999|             117738139067|          3.925913273324441E7|                1|                  6|                 6|                8|           1|         1|                         19|        0|     0|     0|      0|          0|       0|   0|       0|       0|    0|      0|        0|      0|    0|                                   2999|     0|     0|              0|           0|         0|     0|     0|                 0|     0|    0|    0|        0|      0|        0|       0|        0|      0|      0|    0|       68|   463|       0|     2|       200|        2212|                0|         0|     54|                2963|   9|                  1|                         17|                      6|      1|                 0|               0|                                   2|         0|      0|          2|                   2951|                       0|       0|          4|       2|          9|                    0|                 0|  21|              0|                         7|                       0|            0|        0|                         0|   3|               0|            0|                    0|                           0|                                                 0|               0|                 0|          0|                 2999|       0|      0|                         0|                        0|        0|                 0|              0|                          0|       0|                                0|                                            0|         0|                      0|                               0|      0|      0|              0|         0|                    0|                           0|                                                 0|               0|                 0|          0|                 2999|       0|      0|                         0|                        0|        0|                 0|              0|                          0|       0|                                0|                                            0|         0|                      0|                               0|      0|      0|              0|         0|\n",
      "|  891800498|BOYACA - GOBERNACION|         2788|             235371391233|           8.44230241151363E7|                1|                  5|                 7|               12|           1|         1|                         19|        0|     0|     0|      0|          0|       0|   0|       0|       0|    0|      0|        0|      0|    0|                                      0|     0|  2788|              0|           0|         0|     0|     0|                 0|     0|    0|    0|        0|      0|        0|       0|        0|      0|      0|    0|      299|     7|       0|     0|      2456|          12|                0|        14|      0|                2647|  62|                  1|                         55|                      4|     12|                 0|               1|                                   6|         2|      1|          2|                   2631|                       0|       0|         25|      18|         20|                    0|                 0|  53|              0|                        20|                       0|            5|        0|                         0|   5|               6|            0|                    0|                           0|                                                 0|            2788|                 0|          0|                    0|       0|      0|                         0|                        0|        0|                 0|              0|                          0|       0|                                0|                                            0|         0|                      0|                               0|      0|      0|              0|         0|                    0|                           0|                                                 0|            2788|                 0|          0|                    0|       0|      0|                         0|                        0|        0|                 0|              0|                          0|       0|                                0|                                            0|         0|                      0|                               0|      0|      0|              0|         0|\n",
      "+-----------+--------------------+-------------+-------------------------+-----------------------------+-----------------+-------------------+------------------+-----------------+------------+----------+---------------------------+---------+------+------+-------+-----------+--------+----+--------+--------+-----+-------+---------+-------+-----+---------------------------------------+------+------+---------------+------------+----------+------+------+------------------+------+-----+-----+---------+-------+---------+--------+---------+-------+-------+-----+---------+------+--------+------+----------+------------+-----------------+----------+-------+--------------------+----+-------------------+---------------------------+-----------------------+-------+------------------+----------------+------------------------------------+----------+-------+-----------+-----------------------+------------------------+--------+-----------+--------+-----------+---------------------+------------------+----+---------------+--------------------------+------------------------+-------------+---------+--------------------------+----+----------------+-------------+---------------------+----------------------------+--------------------------------------------------+----------------+------------------+-----------+---------------------+--------+-------+--------------------------+-------------------------+---------+------------------+---------------+---------------------------+--------+---------------------------------+---------------------------------------------+----------+-----------------------+--------------------------------+-------+-------+---------------+----------+---------------------+----------------------------+--------------------------------------------------+----------------+------------------+-----------+---------------------+--------+-------+--------------------------+-------------------------+---------+------------------+---------------+---------------------------+--------+---------------------------------+---------------------------------------------+----------+-----------------------+--------------------------------+-------+-------+---------------+----------+\n",
      "only showing top 20 rows\n",
      "\n"
     ]
    }
   ],
   "source": [
    "infraestructura_df_ordenado = infraestructura_df_agregado_y_pivotado.orderBy(F.desc(\"num_contratos\"))\n",
    "\n",
    "infraestructura_df_ordenado.show()"
   ]
  },
  {
   "cell_type": "code",
   "execution_count": 25,
   "metadata": {},
   "outputs": [],
   "source": [
    "def separar_dataframe(df):\n",
    "    df_cero = df.filter(df.suma_valor_total_contrato == 0)\n",
    "    df_no_cero = df.filter(df.suma_valor_total_contrato != 0)\n",
    "    return df_cero, df_no_cero"
   ]
  },
  {
   "cell_type": "code",
   "execution_count": 26,
   "metadata": {},
   "outputs": [
    {
     "name": "stdout",
     "output_type": "stream",
     "text": [
      "Dataframe con suma_valor_total_contrato = 0:\n"
     ]
    },
    {
     "name": "stderr",
     "output_type": "stream",
     "text": [
      "[Stage 379:=> (3 + 2) / 5][Stage 381:>  (0 + 2) / 5][Stage 382:>  (0 + 0) / 5]5]\r"
     ]
    },
    {
     "name": "stdout",
     "output_type": "stream",
     "text": [
      "23/05/04 04:48:36 WARN RowBasedKeyValueBatch: Calling spill() on RowBasedKeyValueBatch. Will not spill but return 0.\n",
      "23/05/04 04:48:36 WARN RowBasedKeyValueBatch: Calling spill() on RowBasedKeyValueBatch. Will not spill but return 0.\n",
      "23/05/04 04:48:36 WARN RowBasedKeyValueBatch: Calling spill() on RowBasedKeyValueBatch. Will not spill but return 0.\n",
      "23/05/04 04:48:36 WARN RowBasedKeyValueBatch: Calling spill() on RowBasedKeyValueBatch. Will not spill but return 0.\n"
     ]
    },
    {
     "name": "stderr",
     "output_type": "stream",
     "text": [
      "[Stage 381:=> (3 + 2) / 5][Stage 382:>  (0 + 2) / 5][Stage 383:>  (0 + 0) / 5]\r"
     ]
    },
    {
     "name": "stdout",
     "output_type": "stream",
     "text": [
      "23/05/04 04:48:39 WARN RowBasedKeyValueBatch: Calling spill() on RowBasedKeyValueBatch. Will not spill but return 0.\n",
      "23/05/04 04:48:39 WARN RowBasedKeyValueBatch: Calling spill() on RowBasedKeyValueBatch. Will not spill but return 0.\n",
      "23/05/04 04:48:39 WARN RowBasedKeyValueBatch: Calling spill() on RowBasedKeyValueBatch. Will not spill but return 0.\n",
      "23/05/04 04:48:39 WARN RowBasedKeyValueBatch: Calling spill() on RowBasedKeyValueBatch. Will not spill but return 0.\n",
      "23/05/04 04:48:39 WARN RowBasedKeyValueBatch: Calling spill() on RowBasedKeyValueBatch. Will not spill but return 0.\n",
      "23/05/04 04:48:39 WARN RowBasedKeyValueBatch: Calling spill() on RowBasedKeyValueBatch. Will not spill but return 0.\n",
      "23/05/04 04:48:39 WARN RowBasedKeyValueBatch: Calling spill() on RowBasedKeyValueBatch. Will not spill but return 0.\n",
      "23/05/04 04:48:39 WARN RowBasedKeyValueBatch: Calling spill() on RowBasedKeyValueBatch. Will not spill but return 0.\n"
     ]
    },
    {
     "name": "stderr",
     "output_type": "stream",
     "text": [
      "[Stage 382:=> (3 + 2) / 5][Stage 383:>  (0 + 2) / 5][Stage 384:>  (0 + 0) / 5]\r"
     ]
    },
    {
     "name": "stdout",
     "output_type": "stream",
     "text": [
      "23/05/04 04:48:42 WARN RowBasedKeyValueBatch: Calling spill() on RowBasedKeyValueBatch. Will not spill but return 0.\n",
      "23/05/04 04:48:42 WARN RowBasedKeyValueBatch: Calling spill() on RowBasedKeyValueBatch. Will not spill but return 0.\n",
      "23/05/04 04:48:42 WARN RowBasedKeyValueBatch: Calling spill() on RowBasedKeyValueBatch. Will not spill but return 0.\n",
      "23/05/04 04:48:42 WARN RowBasedKeyValueBatch: Calling spill() on RowBasedKeyValueBatch. Will not spill but return 0.\n",
      "23/05/04 04:48:42 WARN RowBasedKeyValueBatch: Calling spill() on RowBasedKeyValueBatch. Will not spill but return 0.\n",
      "23/05/04 04:48:42 WARN RowBasedKeyValueBatch: Calling spill() on RowBasedKeyValueBatch. Will not spill but return 0.\n",
      "23/05/04 04:48:42 WARN RowBasedKeyValueBatch: Calling spill() on RowBasedKeyValueBatch. Will not spill but return 0.\n",
      "23/05/04 04:48:42 WARN RowBasedKeyValueBatch: Calling spill() on RowBasedKeyValueBatch. Will not spill but return 0.\n"
     ]
    },
    {
     "name": "stderr",
     "output_type": "stream",
     "text": [
      "[Stage 383:=> (3 + 2) / 5][Stage 384:>  (0 + 2) / 5][Stage 385:>  (0 + 0) / 5]\r"
     ]
    },
    {
     "name": "stdout",
     "output_type": "stream",
     "text": [
      "23/05/04 04:48:44 WARN RowBasedKeyValueBatch: Calling spill() on RowBasedKeyValueBatch. Will not spill but return 0.\n",
      "23/05/04 04:48:44 WARN RowBasedKeyValueBatch: Calling spill() on RowBasedKeyValueBatch. Will not spill but return 0.\n",
      "23/05/04 04:48:45 WARN RowBasedKeyValueBatch: Calling spill() on RowBasedKeyValueBatch. Will not spill but return 0.\n",
      "23/05/04 04:48:45 WARN RowBasedKeyValueBatch: Calling spill() on RowBasedKeyValueBatch. Will not spill but return 0.\n",
      "23/05/04 04:48:45 WARN RowBasedKeyValueBatch: Calling spill() on RowBasedKeyValueBatch. Will not spill but return 0.\n",
      "23/05/04 04:48:45 WARN RowBasedKeyValueBatch: Calling spill() on RowBasedKeyValueBatch. Will not spill but return 0.\n",
      "23/05/04 04:48:45 WARN RowBasedKeyValueBatch: Calling spill() on RowBasedKeyValueBatch. Will not spill but return 0.\n",
      "23/05/04 04:48:45 WARN RowBasedKeyValueBatch: Calling spill() on RowBasedKeyValueBatch. Will not spill but return 0.\n",
      "23/05/04 04:48:45 WARN RowBasedKeyValueBatch: Calling spill() on RowBasedKeyValueBatch. Will not spill but return 0.\n"
     ]
    },
    {
     "name": "stderr",
     "output_type": "stream",
     "text": [
      "[Stage 384:=> (2 + 3) / 5][Stage 385:>  (0 + 1) / 5][Stage 386:>  (0 + 0) / 5]\r"
     ]
    },
    {
     "name": "stdout",
     "output_type": "stream",
     "text": [
      "23/05/04 04:48:47 WARN RowBasedKeyValueBatch: Calling spill() on RowBasedKeyValueBatch. Will not spill but return 0.\n",
      "23/05/04 04:48:47 WARN RowBasedKeyValueBatch: Calling spill() on RowBasedKeyValueBatch. Will not spill but return 0.\n"
     ]
    },
    {
     "name": "stderr",
     "output_type": "stream",
     "text": [
      "[Stage 384:=> (3 + 2) / 5][Stage 385:>  (0 + 2) / 5][Stage 386:>  (0 + 0) / 5]\r"
     ]
    },
    {
     "name": "stdout",
     "output_type": "stream",
     "text": [
      "23/05/04 04:48:47 WARN RowBasedKeyValueBatch: Calling spill() on RowBasedKeyValueBatch. Will not spill but return 0.\n",
      "23/05/04 04:48:47 WARN RowBasedKeyValueBatch: Calling spill() on RowBasedKeyValueBatch. Will not spill but return 0.\n",
      "23/05/04 04:48:47 WARN RowBasedKeyValueBatch: Calling spill() on RowBasedKeyValueBatch. Will not spill but return 0.\n",
      "23/05/04 04:48:47 WARN RowBasedKeyValueBatch: Calling spill() on RowBasedKeyValueBatch. Will not spill but return 0.\n",
      "23/05/04 04:48:47 WARN RowBasedKeyValueBatch: Calling spill() on RowBasedKeyValueBatch. Will not spill but return 0.\n",
      "23/05/04 04:48:48 WARN RowBasedKeyValueBatch: Calling spill() on RowBasedKeyValueBatch. Will not spill but return 0.\n"
     ]
    },
    {
     "name": "stderr",
     "output_type": "stream",
     "text": [
      "[Stage 385:=> (2 + 3) / 5][Stage 386:>  (0 + 1) / 5][Stage 389:>  (0 + 0) / 4]\r"
     ]
    },
    {
     "name": "stdout",
     "output_type": "stream",
     "text": [
      "23/05/04 04:48:49 WARN RowBasedKeyValueBatch: Calling spill() on RowBasedKeyValueBatch. Will not spill but return 0.\n",
      "23/05/04 04:48:49 WARN RowBasedKeyValueBatch: Calling spill() on RowBasedKeyValueBatch. Will not spill but return 0.\n",
      "23/05/04 04:48:49 WARN RowBasedKeyValueBatch: Calling spill() on RowBasedKeyValueBatch. Will not spill but return 0.\n",
      "23/05/04 04:48:49 WARN RowBasedKeyValueBatch: Calling spill() on RowBasedKeyValueBatch. Will not spill but return 0.\n"
     ]
    },
    {
     "name": "stderr",
     "output_type": "stream",
     "text": [
      "[Stage 385:=> (3 + 2) / 5][Stage 386:>  (0 + 2) / 5][Stage 389:>  (0 + 0) / 4]\r"
     ]
    },
    {
     "name": "stdout",
     "output_type": "stream",
     "text": [
      "23/05/04 04:48:50 WARN RowBasedKeyValueBatch: Calling spill() on RowBasedKeyValueBatch. Will not spill but return 0.\n",
      "23/05/04 04:48:50 WARN RowBasedKeyValueBatch: Calling spill() on RowBasedKeyValueBatch. Will not spill but return 0.\n",
      "23/05/04 04:48:50 WARN RowBasedKeyValueBatch: Calling spill() on RowBasedKeyValueBatch. Will not spill but return 0.\n",
      "23/05/04 04:48:50 WARN RowBasedKeyValueBatch: Calling spill() on RowBasedKeyValueBatch. Will not spill but return 0.\n"
     ]
    },
    {
     "name": "stderr",
     "output_type": "stream",
     "text": [
      "[Stage 386:>  (0 + 4) / 5][Stage 389:>  (0 + 0) / 4][Stage 391:>  (0 + 0) / 1]\r"
     ]
    },
    {
     "name": "stdout",
     "output_type": "stream",
     "text": [
      "23/05/04 04:48:51 WARN RowBasedKeyValueBatch: Calling spill() on RowBasedKeyValueBatch. Will not spill but return 0.\n",
      "23/05/04 04:48:51 WARN RowBasedKeyValueBatch: Calling spill() on RowBasedKeyValueBatch. Will not spill but return 0.\n",
      "23/05/04 04:48:52 WARN RowBasedKeyValueBatch: Calling spill() on RowBasedKeyValueBatch. Will not spill but return 0.\n",
      "23/05/04 04:48:52 WARN RowBasedKeyValueBatch: Calling spill() on RowBasedKeyValueBatch. Will not spill but return 0.\n"
     ]
    },
    {
     "name": "stderr",
     "output_type": "stream",
     "text": [
      "                                                                                \r"
     ]
    },
    {
     "name": "stdout",
     "output_type": "stream",
     "text": [
      "+-----------+--------------------+-------------+-------------------------+-----------------------------+-----------------+-------------------+------------------+-----------------+------------+----------+---------------------------+---------+------+------+-------+-----------+--------+----+--------+--------+-----+-------+---------+-------+-----+---------------------------------------+------+------+---------------+------------+----------+------+------+------------------+------+-----+-----+---------+-------+---------+--------+---------+-------+-------+-----+---------+------+--------+------+----------+------------+-----------------+----------+-------+--------------------+----+-------------------+---------------------------+-----------------------+-------+------------------+----------------+------------------------------------+----------+-------+-----------+-----------------------+------------------------+--------+-----------+--------+-----------+---------------------+------------------+----+---------------+--------------------------+------------------------+-------------+---------+--------------------------+----+----------------+-------------+---------------------+----------------------------+--------------------------------------------------+----------------+------------------+-----------+---------------------+--------+-------+--------------------------+-------------------------+---------+------------------+---------------+---------------------------+--------+---------------------------------+---------------------------------------------+----------+-----------------------+--------------------------------+-------+-------+---------------+----------+---------------------+----------------------------+--------------------------------------------------+----------------+------------------+-----------+---------------------+--------+-------+--------------------------+-------------------------+---------+------------------+---------------+---------------------------+--------+---------------------------------+---------------------------------------------+----------+-----------------------+--------------------------------+-------+-------+---------------+----------+\n",
      "|NIT_ENTIDAD|      NOMBRE_ENTIDAD|num_contratos|suma_valor_total_contrato|promedio_valor_total_contrato|num_departamentos|num_estados_proceso|num_clases_proceso|num_tipos_proceso|num_familias|num_clases|meses_desde_ultimo_contrato|SANTANDER|VAUPES|NARIÑO|CAQUETA|NO DEFINIDO|CASANARE|META|AMAZONAS|GUAVIARE|CAUCA|VICHADA|ANTIOQUIA|QUINDIO|CHOCO|SAN ANDRES PROVIDENCIA Y SANTA CATALINA|CALDAS|BOYACA|VALLE DEL CAUCA|CUNDINAMARCA|LA GUAJIRA|TOLIMA|ARAUCA|NORTE DE SANTANDER|BOGOTA|HUILA|SUCRE|ATLANTICO|BOLIVAR|RISARALDA|PUTUMAYO|MAGDALENA|GUAINIA|CORDOBA|CESAR|TERMINADO|ACTIVO|BORRADOR|CEDIDO|MODIFICADO|EN EJECUCION|ENVIADO PROVEEDOR|SUSPENDIDO|CERRADO|CONTRATACION DIRECTA|null|CONCURSO DE MERITOS|CONTRATACION MINIMA CUANTIA|LICITACION OBRA PUBLICA|SUBASTA|LICITACION PUBLICA|REGIMEN ESPECIAL|SELECCION ABREVIADA DE MENOR CUANTIA|EMPRESTITO|SEGUROS|CONSULTORIA|PRESTACION DE SERVICIOS|ACUERDO MARCO DE PRECIOS|COMISION|COMPRAVENTA|COMODATO|SUMINISTROS|SERVICIOS FINANCIEROS|NEGOCIO FIDUCIARIO|OTRO|VENTA INMUEBLES|ARRENDAMIENTO DE INMUEBLES|ARRENDAMIENTO DE MUEBLES|INTERVENTORIA|CONCESION|ASOCIACION PUBLICO PRIVADA|OBRA|DECREELAW0922017|VENTA MUEBLES|RELACIONES EXTERIORES|VIVIENDA CIUDAD Y TERRITORIO|TECNOLOGIAS DE LA INFORMACION Y LAS COMUNICACIONES|SERVICIO PUBLICO|EDUCACION NACIONAL|AGRICULTURA|NO APLICANO PERTENECE|DEPORTES|DEFENSA|HACIENDA Y CREDITO PUBLICO|SALUD Y PROTECCION SOCIAL|INDUSTRIA|CIENCIA TECNOLOGIA|MINAS Y ENERGIA|PRESIDENCIA DE LA REPUBLICA|INTERIOR|INCLUSION SOCIAL Y RECONCILIACION|INTELIGENCIA ESTRATEGICA Y CONTRAINTELIGENCIA|TRANSPORTE|INFORMACION ESTADISTICA|AMBIENTE Y DESARROLLO SOSTENIBLE|TRABAJO|CULTURA|LEY DE JUSTICIA|PLANEACION|RELACIONES EXTERIORES|VIVIENDA CIUDAD Y TERRITORIO|TECNOLOGIAS DE LA INFORMACION Y LAS COMUNICACIONES|SERVICIO PUBLICO|EDUCACION NACIONAL|AGRICULTURA|NO APLICANO PERTENECE|DEPORTES|DEFENSA|HACIENDA Y CREDITO PUBLICO|SALUD Y PROTECCION SOCIAL|INDUSTRIA|CIENCIA TECNOLOGIA|MINAS Y ENERGIA|PRESIDENCIA DE LA REPUBLICA|INTERIOR|INCLUSION SOCIAL Y RECONCILIACION|INTELIGENCIA ESTRATEGICA Y CONTRAINTELIGENCIA|TRANSPORTE|INFORMACION ESTADISTICA|AMBIENTE Y DESARROLLO SOSTENIBLE|TRABAJO|CULTURA|LEY DE JUSTICIA|PLANEACION|\n",
      "+-----------+--------------------+-------------+-------------------------+-----------------------------+-----------------+-------------------+------------------+-----------------+------------+----------+---------------------------+---------+------+------+-------+-----------+--------+----+--------+--------+-----+-------+---------+-------+-----+---------------------------------------+------+------+---------------+------------+----------+------+------+------------------+------+-----+-----+---------+-------+---------+--------+---------+-------+-------+-----+---------+------+--------+------+----------+------------+-----------------+----------+-------+--------------------+----+-------------------+---------------------------+-----------------------+-------+------------------+----------------+------------------------------------+----------+-------+-----------+-----------------------+------------------------+--------+-----------+--------+-----------+---------------------+------------------+----+---------------+--------------------------+------------------------+-------------+---------+--------------------------+----+----------------+-------------+---------------------+----------------------------+--------------------------------------------------+----------------+------------------+-----------+---------------------+--------+-------+--------------------------+-------------------------+---------+------------------+---------------+---------------------------+--------+---------------------------------+---------------------------------------------+----------+-----------------------+--------------------------------+-------+-------+---------------+----------+---------------------+----------------------------+--------------------------------------------------+----------------+------------------+-----------+---------------------+--------+-------+--------------------------+-------------------------+---------+------------------+---------------+---------------------------+--------+---------------------------------+---------------------------------------------+----------+-----------------------+--------------------------------+-------+-------+---------------+----------+\n",
      "| 8999990611|SECRETARIA DISTRI...|         9833|             848531364134|          8.629425039499643E7|                1|                  5|                 7|               11|           1|         1|                         19|        0|     0|     0|      0|          0|       0|   0|       0|       0|    0|      0|        0|      0|    0|                                      0|     0|     0|              0|           0|         0|     0|     0|                 0|  9833|    0|    0|        0|      0|        0|       0|        0|      0|      0|    0|       25|   178|       0|   441|       504|        8685|                0|         0|      0|                9630| 155|                  1|                          9|                      5|     18|                 0|               3|                                  12|         0|      2|          0|                   9521|                       0|       3|          7|       3|          8|                    0|                 0|  30|              0|                       102|                       0|            1|        0|                         0|   1|             155|            0|                    0|                           0|                                                 0|               0|                 0|          0|                    0|       0|      0|                         0|                        0|        0|                 0|              0|                          0|       0|                             9833|                                            0|         0|                      0|                               0|      0|      0|              0|         0|                    0|                           0|                                                 0|               0|                 0|          0|                    0|       0|      0|                         0|                        0|        0|                 0|              0|                          0|       0|                             9833|                                            0|         0|                      0|                               0|      0|      0|              0|         0|\n",
      "|  900971006|BOGOTA - ESE SUBR...|         9023|             228202671554|         2.5291219278953783E7|                1|                  4|                 1|                6|           1|         1|                         19|        0|     0|     0|      0|          0|       0|   0|       0|       0|    0|      0|        0|      0|    0|                                      0|     0|     0|              0|           0|         0|     0|     0|                 0|  9023|    0|    0|        0|      0|        0|       0|        0|      0|      0|    0|       63|   136|       0|     0|      8410|         414|                0|         0|      0|                   0|  58|                  0|                          0|                      0|      0|                 0|            8965|                                   0|         0|      1|          0|                     78|                       0|       0|          0|       0|        106|                    0|                 0|   1|              0|                         0|                       0|            0|        0|                         0|   1|            8836|            0|                    0|                           0|                                                 0|               0|                 0|          0|                    0|       0|      0|                         0|                     9023|        0|                 0|              0|                          0|       0|                                0|                                            0|         0|                      0|                               0|      0|      0|              0|         0|                    0|                           0|                                                 0|               0|                 0|          0|                    0|       0|      0|                         0|                     9023|        0|                 0|              0|                          0|       0|                                0|                                            0|         0|                      0|                               0|      0|      0|              0|         0|\n",
      "|  899999239|INSTITUTO COLOMBI...|         9004|            3862769591782|          4.290059519971124E8|               27|                  6|                 7|               13|           3|         3|                         19|        0|    55|   354|    149|          0|     124| 197|      83|      69|  376|     73|      812|      0|  234|                                     72|   393|   246|            595|           0|       268|   332|   122|               224|  2861|  220|    0|        0|    328|        0|     120|      199|     57|    205|  236|      217|   157|       0|   219|      1741|        6659|                0|        11|      0|                5872|  64|                  3|                        259|                      5|     17|                 0|            2770|                                  14|         0|      2|          3|                   5770|                       0|       0|         20|     305|         55|                    0|                 0|2808|              4|                        11|                       0|            3|        0|                         1|  14|               8|            0|                    0|                           0|                                                 0|               0|                 0|          0|                  639|       0|      0|                         0|                     6774|        0|                 0|              0|                          0|       0|                             1591|                                            0|         0|                      0|                               0|      0|      0|              0|         0|                    0|                           0|                                                 0|               0|                 0|          0|                  639|       0|      0|                         0|                     6774|        0|                 0|              0|                          0|       0|                             1591|                                            0|         0|                      0|                               0|      0|      0|              0|         0|\n",
      "|  900959048|BOGOTA - SUBRED I...|         6918|             537532626181|           7.77005819862677E7|                1|                  5|                 2|                6|           1|         1|                         19|        0|     0|     0|      0|          0|       0|   0|       0|       0|    0|      0|        0|      0|    0|                                      0|     0|     0|              0|           0|         0|     0|     0|                 0|  6918|    0|    0|        0|      0|        0|       0|        0|      0|      0|    0|      696|   126|       0|     0|      5670|         407|                0|        19|      0|                   0| 161|                  0|                          0|                      2|      0|                 0|            6755|                                   0|         0|     20|          0|                   6642|                       0|       0|         14|       0|         81|                    0|                 0| 159|              0|                         0|                       0|            0|        0|                         0|   2|               0|            0|                    0|                           0|                                                 0|               0|                 0|          0|                    0|       0|      0|                         0|                     6918|        0|                 0|              0|                          0|       0|                                0|                                            0|         0|                      0|                               0|      0|      0|              0|         0|                    0|                           0|                                                 0|               0|                 0|          0|                    0|       0|      0|                         0|                     6918|        0|                 0|              0|                          0|       0|                                0|                                            0|         0|                      0|                               0|      0|      0|              0|         0|\n",
      "|  900959051|SUBRED INTEGRADA ...|         6510|             196673858120|         3.0211038113671277E7|                1|                  6|                 3|                9|           1|         1|                         19|        0|     0|     0|      0|          0|       0|   0|       0|       0|    0|      0|        0|      0|    0|                                      0|     0|     0|              0|           0|         0|     0|     0|                 0|  6510|    0|    0|        0|      0|        0|       0|        0|      0|      0|    0|      154|   289|       0|     0|      5138|         905|                0|        23|      1|                   0| 156|                  2|                          0|                      2|      0|                 0|            6350|                                   0|         0|      1|          0|                   6318|                       0|       0|         40|       0|        140|                    1|                 0|   4|              0|                         0|                       2|            2|        0|                         0|   2|               0|            0|                    0|                           0|                                                 0|               0|                 0|          0|                    0|       0|      0|                         0|                     6510|        0|                 0|              0|                          0|       0|                                0|                                            0|         0|                      0|                               0|      0|      0|              0|         0|                    0|                           0|                                                 0|               0|                 0|          0|                    0|       0|      0|                         0|                     6510|        0|                 0|              0|                          0|       0|                                0|                                            0|         0|                      0|                               0|      0|      0|              0|         0|\n",
      "|  900958564|BOGOTA - SUBRED I...|         6229|             206851774139|         3.3207862279499117E7|                1|                  5|                 1|                7|           1|         1|                         19|        0|     0|     0|      0|          0|       0|   0|       0|       0|    0|      0|        0|      0|    0|                                      0|     0|     0|              0|           0|         0|     0|     0|                 0|  6229|    0|    0|        0|      0|        0|       0|        0|      0|      0|    0|       16|    76|       0|     0|      5190|         932|                0|        15|      0|                   0| 126|                  0|                          0|                      0|      0|                 0|            6103|                                   0|         0|      1|          0|                   5925|                       0|       0|          0|       0|        260|                    2|                 0|  10|              0|                         0|                      10|            0|        0|                         0|  21|               0|            0|                    0|                           0|                                                 0|               0|                 0|          0|                    0|       0|      0|                         0|                     6229|        0|                 0|              0|                          0|       0|                                0|                                            0|         0|                      0|                               0|      0|      0|              0|         0|                    0|                           0|                                                 0|               0|                 0|          0|                    0|       0|      0|                         0|                     6229|        0|                 0|              0|                          0|       0|                                0|                                            0|         0|                      0|                               0|      0|      0|              0|         0|\n",
      "|  899999027|DEPARTAMENTO ADMI...|         5635|              87548446400|         1.5536547719609583E7|                2|                  7|                 5|                7|           1|         1|                         19|        0|     0|     0|      0|          0|       0|   0|       0|       0|    0|      0|        0|      0|    0|                                      0|     0|     0|           1548|           0|         0|     0|     0|                 0|  4087|    0|    0|        0|      0|        0|       0|        0|      0|      0|    0|       57|   118|       0|   131|       962|        4358|                0|         5|      4|                5593|  11|                  0|                         27|                      1|      2|                 0|               0|                                   1|         0|      3|          0|                   5605|                       0|       0|          1|       0|          1|                    0|                 0|  16|              0|                         8|                       0|            0|        0|                         0|   1|               0|            0|                    0|                           0|                                                 0|               0|                 0|          0|                    0|       0|      0|                         0|                        0|        0|                 0|              0|                          0|       0|                                0|                                            0|         0|                   5635|                               0|      0|      0|              0|         0|                    0|                           0|                                                 0|               0|                 0|          0|                    0|       0|      0|                         0|                        0|        0|                 0|              0|                          0|       0|                                0|                                            0|         0|                   5635|                               0|      0|      0|              0|         0|\n",
      "|  891480030|MUNICIPIO DE PERE...|         5089|             245083504630|         4.8159462493613675E7|                1|                  7|                 7|               11|           1|         1|                         19|        0|     0|     0|      0|          0|       0|   0|       0|       0|    0|      0|        0|      0|    0|                                      0|     0|     0|              0|           0|         0|     0|     0|                 0|     0|    0|    0|        0|      0|     5089|       0|        0|      0|      0|    0|      168|   431|       0|    34|       701|        3678|                0|        13|     64|                4860|   4|                  7|                         61|                     18|     14|                 0|             111|                                  14|         0|      3|          6|                   4804|                       0|       0|          4|      15|         38|                    0|                 0|  41|              0|                        47|                       0|            4|        0|                         0|  14|             113|            0|                    0|                           0|                                                 0|            5089|                 0|          0|                    0|       0|      0|                         0|                        0|        0|                 0|              0|                          0|       0|                                0|                                            0|         0|                      0|                               0|      0|      0|              0|         0|                    0|                           0|                                                 0|            5089|                 0|          0|                    0|       0|      0|                         0|                        0|        0|                 0|              0|                          0|       0|                                0|                                            0|         0|                      0|                               0|      0|      0|              0|         0|\n",
      "|  899999034|SERVICIO NACIONAL...|         4279|             161584178459|           3.77621356529563E7|                9|                  6|                 5|                7|           3|         3|                         19|        0|     0|   177|      0|          0|       0|   0|       0|     209|  112|      0|        0|      0|    0|                                    409|     0|     0|              0|           0|         0|     0|     0|                 0|  1024|  154|  524|      809|      0|        0|       0|        0|      0|    861|    0|      101|    30|       0|    43|       452|        3650|                0|         0|      3|                4032|   5|                  0|                        221|                      0|      7|                 0|               2|                                  12|         0|      0|          0|                   4120|                       0|       0|         89|       1|         44|                    0|                 0|   7|              0|                        17|                       0|            0|        0|                         0|   1|               0|            0|                    0|                           0|                                                 0|             524|              1427|          0|                    0|       0|      0|                         0|                        0|        0|                 0|              0|                          0|       0|                                0|                                            0|         0|                      0|                               0|   2328|      0|              0|         0|                    0|                           0|                                                 0|             524|              1427|          0|                    0|       0|      0|                         0|                        0|        0|                 0|              0|                          0|       0|                                0|                                            0|         0|                      0|                               0|   2328|      0|              0|         0|\n",
      "|  890480184|BOLIVAR - CARTAGE...|         4063|             251784018416|          6.196997745902043E7|                1|                  6|                 7|               14|           1|         1|                         19|        0|     0|     0|      0|          0|       0|   0|       0|       0|    0|      0|        0|      0|    0|                                      0|     0|     0|              0|           0|         0|     0|     0|                 0|     0|    0|    0|        0|   4063|        0|       0|        0|      0|      0|    0|       96|   137|       0|     0|       795|        3030|                0|         2|      3|                3952|   3|                  3|                         62|                      5|      4|                 0|              17|                                  17|         0|      4|          3|                   3908|                       0|       2|         13|       2|         17|                    1|                 0|  22|              0|                        63|                       1|            3|        0|                         0|  10|              14|            0|                    0|                           0|                                                 0|               0|                 0|          0|                 4063|       0|      0|                         0|                        0|        0|                 0|              0|                          0|       0|                                0|                                            0|         0|                      0|                               0|      0|      0|              0|         0|                    0|                           0|                                                 0|               0|                 0|          0|                 4063|       0|      0|                         0|                        0|        0|                 0|              0|                          0|       0|                                0|                                            0|         0|                      0|                               0|      0|      0|              0|         0|\n",
      "|  890102018|ATLANTICO - BARRA...|         4010|             868532354892|         2.1659160969875312E8|                1|                  6|                 7|               12|           1|         1|                         19|        0|     0|     0|      0|          0|       0|   0|       0|       0|    0|      0|        0|      0|    0|                                      0|     0|     0|              0|           0|         0|     0|     0|                 0|     0|    0|    0|     4010|      0|        0|       0|        0|      0|      0|    0|       35|   142|       0|    29|       333|        3470|                0|         1|      0|                3925|   4|                  2|                         37|                     15|      4|                 0|               3|                                  20|         2|      1|          1|                   3859|                       0|       0|          7|       5|         32|                    0|                 0|  38|              0|                        56|                       0|            1|        0|                         0|   4|               4|            0|                    0|                           0|                                                 0|            4010|                 0|          0|                    0|       0|      0|                         0|                        0|        0|                 0|              0|                          0|       0|                                0|                                            0|         0|                      0|                               0|      0|      0|              0|         0|                    0|                           0|                                                 0|            4010|                 0|          0|                    0|       0|      0|                         0|                        0|        0|                 0|              0|                          0|       0|                                0|                                            0|         0|                      0|                               0|      0|      0|              0|         0|\n",
      "|  900498879|UNIDAD DE RESTITU...|         3996|             127512350350|         3.1909997585085087E7|                1|                  6|                 6|                9|           1|         1|                         19|        0|     0|     0|      0|          0|       0|   0|       0|       0|    0|      0|        0|      0|    0|                                      0|     0|     0|              0|           0|         0|     0|     0|                 0|  3996|    0|    0|        0|      0|        0|       0|        0|      0|      0|    0|      183|    67|       0|    20|       266|        3459|                0|         1|      0|                3928|   3|                  0|                         32|                      3|     20|                 0|               1|                                   9|         0|      3|          0|                   3927|                       0|       0|         19|       2|          1|                    0|                 1|   7|              0|                        35|                       0|            0|        0|                         0|   0|               1|            0|                    0|                           0|                                                 0|               0|                 0|          0|                    0|       0|      0|                         0|                        0|        0|                 0|              0|                          0|       0|                             3996|                                            0|         0|                      0|                               0|      0|      0|              0|         0|                    0|                           0|                                                 0|               0|                 0|          0|                    0|       0|      0|                         0|                        0|        0|                 0|              0|                          0|       0|                             3996|                                            0|         0|                      0|                               0|      0|      0|              0|         0|\n",
      "|  890102006|ATLANTICO - GOBER...|         3908|             542910858967|         1.3892294241734904E8|                1|                  6|                 7|               10|           1|         1|                         19|        0|     0|     0|      0|          0|       0|   0|       0|       0|    0|      0|        0|      0|    0|                                      0|     0|     0|              0|           0|         0|     0|     0|                 0|     0|    0|    0|     3908|      0|        0|       0|        0|      0|      0|    0|       25|   157|       0|    10|       152|        3563|                0|         1|      0|                3799|   3|                  7|                         20|                     20|      4|                 0|              44|                                  11|         0|      0|          0|                   3740|                       0|       0|         10|       1|         18|                    0|                 0|  71|              0|                         7|                       1|            7|        0|                         0|   9|              44|            0|                    0|                           0|                                                 0|            3908|                 0|          0|                    0|       0|      0|                         0|                        0|        0|                 0|              0|                          0|       0|                                0|                                            0|         0|                      0|                               0|      0|      0|              0|         0|                    0|                           0|                                                 0|            3908|                 0|          0|                    0|       0|      0|                         0|                        0|        0|                 0|              0|                          0|       0|                                0|                                            0|         0|                      0|                               0|      0|      0|              0|         0|\n",
      "|  890980134|ANTIOQUIA - INSTI...|         3665|              59557891968|         1.6250448013096862E7|                1|                  5|                 1|                1|           1|         1|                         19|        0|     0|     0|      0|          0|       0|   0|       0|       0|    0|      0|     3665|      0|    0|                                      0|     0|     0|              0|           0|         0|     0|     0|                 0|     0|    0|    0|        0|      0|        0|       0|        0|      0|      0|    0|       96|    34|       0|     0|      1135|        2393|                0|         7|      0|                3665|   0|                  0|                          0|                      0|      0|                 0|               0|                                   0|         0|      0|          0|                   3665|                       0|       0|          0|       0|          0|                    0|                 0|   0|              0|                         0|                       0|            0|        0|                         0|   0|               0|            0|                    0|                           0|                                                 0|               0|              3665|          0|                    0|       0|      0|                         0|                        0|        0|                 0|              0|                          0|       0|                                0|                                            0|         0|                      0|                               0|      0|      0|              0|         0|                    0|                           0|                                                 0|               0|              3665|          0|                    0|       0|      0|                         0|                        0|        0|                 0|              0|                          0|       0|                                0|                                            0|         0|                      0|                               0|      0|      0|              0|         0|\n",
      "|  890000464|MUNICIPIO DE ARME...|         3596|              87551050385|         2.4346788204949945E7|                1|                  6|                 7|               12|           1|         1|                         19|        0|     0|     0|      0|          0|       0|   0|       0|       0|    0|      0|        0|   3596|    0|                                      0|     0|     0|              0|           0|         0|     0|     0|                 0|     0|    0|    0|        0|      0|        0|       0|        0|      0|      0|    0|      126|   175|       0|    11|       616|        2593|                0|         0|     75|                3463|   2|                  5|                         36|                     10|      6|                 0|              61|                                  13|         0|      1|          7|                   3468|                       0|       0|          4|      12|         13|                    0|                 1|  59|              0|                         7|                       0|            1|        0|                         0|   8|              15|            0|                    0|                           0|                                                 0|            3596|                 0|          0|                    0|       0|      0|                         0|                        0|        0|                 0|              0|                          0|       0|                                0|                                            0|         0|                      0|                               0|      0|      0|              0|         0|                    0|                           0|                                                 0|            3596|                 0|          0|                    0|       0|      0|                         0|                        0|        0|                 0|              0|                          0|       0|                                0|                                            0|         0|                      0|                               0|      0|      0|              0|         0|\n",
      "|  891280000|NARIÑO - PASTO - ...|         3270|              88457672578|         2.7051276017737005E7|                1|                  7|                 7|               12|           1|         1|                         19|        0|     0|  3270|      0|          0|       0|   0|       0|       0|    0|      0|        0|      0|    0|                                      0|     0|     0|              0|           0|         0|     0|     0|                 0|     0|    0|    0|        0|      0|        0|       0|        0|      0|      0|    0|       12|   721|       0|    13|       346|        2116|                0|         4|     58|                3135|   0|                  3|                         98|                      3|     13|                 0|               6|                                  12|         0|      2|          7|                   3081|                       0|       0|          2|      23|         45|                    1|                 0|  48|              0|                        17|                       0|            6|        0|                         0|  32|               6|            0|                    0|                           0|                                                 0|            3270|                 0|          0|                    0|       0|      0|                         0|                        0|        0|                 0|              0|                          0|       0|                                0|                                            0|         0|                      0|                               0|      0|      0|              0|         0|                    0|                           0|                                                 0|            3270|                 0|          0|                    0|       0|      0|                         0|                        0|        0|                 0|              0|                          0|       0|                                0|                                            0|         0|                      0|                               0|      0|      0|              0|         0|\n",
      "|  899999069|INSTITUTO COLOMBI...|         3258|             187351600232|          5.750509522160835E7|                1|                  6|                 6|               10|           1|         1|                         19|        0|     0|     0|      0|          0|       0|   0|       0|       0|    0|      0|        0|      0|    0|                                      0|     0|     0|              0|           0|         0|     0|     0|                 0|  3258|    0|    0|        0|      0|        0|       0|        0|      0|      0|    0|       68|  1046|       0|    33|       209|        1900|                0|         2|      0|                3000| 170|                  2|                         35|                     21|      4|                 0|               0|                                  26|         0|      0|          2|                   3023|                       0|       0|         33|       4|         20|                    1|                 0| 153|              0|                         3|                       0|            0|        0|                         0|  10|               9|            0|                    0|                           0|                                                 0|               0|                 0|       3258|                    0|       0|      0|                         0|                        0|        0|                 0|              0|                          0|       0|                                0|                                            0|         0|                      0|                               0|      0|      0|              0|         0|                    0|                           0|                                                 0|               0|                 0|       3258|                    0|       0|      0|                         0|                        0|        0|                 0|              0|                          0|       0|                                0|                                            0|         0|                      0|                               0|      0|      0|              0|         0|\n",
      "|  800194096|ANTIOQUIA - INSTI...|         3247|              60704040132|         1.8695423508469358E7|                1|                  5|                 4|                9|           1|         1|                         19|        0|     0|     0|      0|          0|       0|   0|       0|       0|    0|      0|     3247|      0|    0|                                      0|     0|     0|              0|           0|         0|     0|     0|                 0|     0|    0|    0|        0|      0|        0|       0|        0|      0|      0|    0|      496|    15|       0|     0|        28|        2662|                0|         0|     46|                3122|   3|                  0|                          2|                      0|      0|                 0|             119|                                   1|         0|      1|          2|                   2978|                       0|       0|          0|      59|          2|                    0|                 0|   8|              0|                        77|                       0|            0|        0|                         0|   1|             119|            0|                    0|                           0|                                                 0|               0|                 0|          0|                    0|    3247|      0|                         0|                        0|        0|                 0|              0|                          0|       0|                                0|                                            0|         0|                      0|                               0|      0|      0|              0|         0|                    0|                           0|                                                 0|               0|                 0|          0|                    0|    3247|      0|                         0|                        0|        0|                 0|              0|                          0|       0|                                0|                                            0|         0|                      0|                               0|      0|      0|              0|         0|\n",
      "|  892400038|GOBERNACION DEL D...|         2999|             117738139067|          3.925913273324441E7|                1|                  6|                 6|                8|           1|         1|                         19|        0|     0|     0|      0|          0|       0|   0|       0|       0|    0|      0|        0|      0|    0|                                   2999|     0|     0|              0|           0|         0|     0|     0|                 0|     0|    0|    0|        0|      0|        0|       0|        0|      0|      0|    0|       68|   463|       0|     2|       200|        2212|                0|         0|     54|                2963|   9|                  1|                         17|                      6|      1|                 0|               0|                                   2|         0|      0|          2|                   2951|                       0|       0|          4|       2|          9|                    0|                 0|  21|              0|                         7|                       0|            0|        0|                         0|   3|               0|            0|                    0|                           0|                                                 0|               0|                 0|          0|                 2999|       0|      0|                         0|                        0|        0|                 0|              0|                          0|       0|                                0|                                            0|         0|                      0|                               0|      0|      0|              0|         0|                    0|                           0|                                                 0|               0|                 0|          0|                 2999|       0|      0|                         0|                        0|        0|                 0|              0|                          0|       0|                                0|                                            0|         0|                      0|                               0|      0|      0|              0|         0|\n",
      "|  891800498|BOYACA - GOBERNACION|         2788|             235371391233|           8.44230241151363E7|                1|                  5|                 7|               12|           1|         1|                         19|        0|     0|     0|      0|          0|       0|   0|       0|       0|    0|      0|        0|      0|    0|                                      0|     0|  2788|              0|           0|         0|     0|     0|                 0|     0|    0|    0|        0|      0|        0|       0|        0|      0|      0|    0|      299|     7|       0|     0|      2456|          12|                0|        14|      0|                2647|  62|                  1|                         55|                      4|     12|                 0|               1|                                   6|         2|      1|          2|                   2631|                       0|       0|         25|      18|         20|                    0|                 0|  53|              0|                        20|                       0|            5|        0|                         0|   5|               6|            0|                    0|                           0|                                                 0|            2788|                 0|          0|                    0|       0|      0|                         0|                        0|        0|                 0|              0|                          0|       0|                                0|                                            0|         0|                      0|                               0|      0|      0|              0|         0|                    0|                           0|                                                 0|            2788|                 0|          0|                    0|       0|      0|                         0|                        0|        0|                 0|              0|                          0|       0|                                0|                                            0|         0|                      0|                               0|      0|      0|              0|         0|\n",
      "+-----------+--------------------+-------------+-------------------------+-----------------------------+-----------------+-------------------+------------------+-----------------+------------+----------+---------------------------+---------+------+------+-------+-----------+--------+----+--------+--------+-----+-------+---------+-------+-----+---------------------------------------+------+------+---------------+------------+----------+------+------+------------------+------+-----+-----+---------+-------+---------+--------+---------+-------+-------+-----+---------+------+--------+------+----------+------------+-----------------+----------+-------+--------------------+----+-------------------+---------------------------+-----------------------+-------+------------------+----------------+------------------------------------+----------+-------+-----------+-----------------------+------------------------+--------+-----------+--------+-----------+---------------------+------------------+----+---------------+--------------------------+------------------------+-------------+---------+--------------------------+----+----------------+-------------+---------------------+----------------------------+--------------------------------------------------+----------------+------------------+-----------+---------------------+--------+-------+--------------------------+-------------------------+---------+------------------+---------------+---------------------------+--------+---------------------------------+---------------------------------------------+----------+-----------------------+--------------------------------+-------+-------+---------------+----------+---------------------+----------------------------+--------------------------------------------------+----------------+------------------+-----------+---------------------+--------+-------+--------------------------+-------------------------+---------+------------------+---------------+---------------------------+--------+---------------------------------+---------------------------------------------+----------+-----------------------+--------------------------------+-------+-------+---------------+----------+\n",
      "only showing top 20 rows\n",
      "\n"
     ]
    }
   ],
   "source": [
    "infraestructura_df_cero, infraestructura_df_no_cero = separar_dataframe(infraestructura_df_ordenado)\n",
    "\n",
    "print(\"Dataframe con suma_valor_total_contrato = 0:\")\n",
    "infraestructura_df_no_cero.show()   "
   ]
  },
  {
   "cell_type": "code",
   "execution_count": 27,
   "metadata": {},
   "outputs": [
    {
     "name": "stderr",
     "output_type": "stream",
     "text": [
      "[Stage 429:>                                                        (0 + 4) / 5]\r"
     ]
    },
    {
     "name": "stdout",
     "output_type": "stream",
     "text": [
      "23/05/04 04:49:14 WARN RowBasedKeyValueBatch: Calling spill() on RowBasedKeyValueBatch. Will not spill but return 0.\n",
      "23/05/04 04:49:14 WARN RowBasedKeyValueBatch: Calling spill() on RowBasedKeyValueBatch. Will not spill but return 0.\n",
      "23/05/04 04:49:14 WARN RowBasedKeyValueBatch: Calling spill() on RowBasedKeyValueBatch. Will not spill but return 0.\n",
      "23/05/04 04:49:14 WARN RowBasedKeyValueBatch: Calling spill() on RowBasedKeyValueBatch. Will not spill but return 0.\n",
      "23/05/04 04:49:14 WARN RowBasedKeyValueBatch: Calling spill() on RowBasedKeyValueBatch. Will not spill but return 0.\n",
      "23/05/04 04:49:14 WARN RowBasedKeyValueBatch: Calling spill() on RowBasedKeyValueBatch. Will not spill but return 0.\n"
     ]
    },
    {
     "name": "stderr",
     "output_type": "stream",
     "text": [
      "[Stage 429:>                (0 + 4) / 5][Stage 431:>                (0 + 0) / 1]\r"
     ]
    },
    {
     "name": "stdout",
     "output_type": "stream",
     "text": [
      "23/05/04 04:49:14 WARN RowBasedKeyValueBatch: Calling spill() on RowBasedKeyValueBatch. Will not spill but return 0.\n",
      "23/05/04 04:49:14 WARN RowBasedKeyValueBatch: Calling spill() on RowBasedKeyValueBatch. Will not spill but return 0.\n"
     ]
    },
    {
     "name": "stderr",
     "output_type": "stream",
     "text": [
      "[Stage 440:============>   (8 + 2) / 10][Stage 442:>                (0 + 2) / 5]\r"
     ]
    },
    {
     "name": "stdout",
     "output_type": "stream",
     "text": [
      "23/05/04 04:49:26 WARN RowBasedKeyValueBatch: Calling spill() on RowBasedKeyValueBatch. Will not spill but return 0.\n"
     ]
    },
    {
     "name": "stderr",
     "output_type": "stream",
     "text": [
      "[Stage 440:==============> (9 + 1) / 10][Stage 442:>                (0 + 3) / 5]\r"
     ]
    },
    {
     "name": "stdout",
     "output_type": "stream",
     "text": [
      "23/05/04 04:49:27 WARN RowBasedKeyValueBatch: Calling spill() on RowBasedKeyValueBatch. Will not spill but return 0.\n",
      "23/05/04 04:49:27 WARN RowBasedKeyValueBatch: Calling spill() on RowBasedKeyValueBatch. Will not spill but return 0.\n"
     ]
    },
    {
     "name": "stderr",
     "output_type": "stream",
     "text": [
      "[Stage 442:>                (0 + 4) / 5][Stage 444:>                (0 + 0) / 1]\r"
     ]
    },
    {
     "name": "stdout",
     "output_type": "stream",
     "text": [
      "23/05/04 04:49:28 WARN RowBasedKeyValueBatch: Calling spill() on RowBasedKeyValueBatch. Will not spill but return 0.\n",
      "23/05/04 04:49:28 WARN RowBasedKeyValueBatch: Calling spill() on RowBasedKeyValueBatch. Will not spill but return 0.\n",
      "23/05/04 04:49:28 WARN RowBasedKeyValueBatch: Calling spill() on RowBasedKeyValueBatch. Will not spill but return 0.\n",
      "23/05/04 04:49:28 WARN RowBasedKeyValueBatch: Calling spill() on RowBasedKeyValueBatch. Will not spill but return 0.\n"
     ]
    },
    {
     "name": "stderr",
     "output_type": "stream",
     "text": [
      "                                                                                \r"
     ]
    },
    {
     "name": "stdout",
     "output_type": "stream",
     "text": [
      "Número de filas con suma_valor_total_contrato = 0: 5\n",
      "Número de filas con suma_valor_total_contrato != 0: 1579\n"
     ]
    }
   ],
   "source": [
    "num_filas_cero = infraestructura_df_cero.count()\n",
    "num_filas_no_cero = infraestructura_df_no_cero.count()\n",
    "\n",
    "print(\"Número de filas con suma_valor_total_contrato = 0:\", num_filas_cero)\n",
    "print(\"Número de filas con suma_valor_total_contrato != 0:\", num_filas_no_cero)"
   ]
  },
  {
   "attachments": {},
   "cell_type": "markdown",
   "metadata": {},
   "source": [
    "# Quality Colusiones"
   ]
  },
  {
   "cell_type": "code",
   "execution_count": 35,
   "metadata": {},
   "outputs": [],
   "source": [
    "# filename = 'colusiones_en_contratacion_SIC.csv'\n",
    "# colusiones_df = pyspark_etl_functions.read_csv_with_pyspark(filename, folder='data', separator=',')\n",
    "# colusiones_df.show(5)"
   ]
  },
  {
   "cell_type": "code",
   "execution_count": 36,
   "metadata": {},
   "outputs": [],
   "source": [
    "# def agg_colusiones(colusiones_df):\n",
    "#     # Calcular los meses desde el último Año Radicacion hasta la fecha actual\n",
    "#     current_year = 2023\n",
    "#     colusiones_df = colusiones_df.withColumn(\"Meses_desde_Ultimo_Año\", (current_year - F.col(\"Año Radicacion\")) * 12)\n",
    "    \n",
    "#     # Agrupar por Identificacion y calcular las métricas solicitadas\n",
    "#     colusiones_agg = (\n",
    "#         colusiones_df.groupBy(\"Identificacion\")\n",
    "#         .agg(\n",
    "#             F.count(\"*\").alias(\"num_colusiones\"),\n",
    "#             F.sum(\"Multa Inicial\").alias(\"suma_multa_inicial\"),\n",
    "#             F.avg(\"Multa Inicial\").alias(\"promedio_multa_inicial\"),\n",
    "#             F.max(\"Meses_desde_Ultimo_Año\").alias(\"meses_desde_ultima_colusion\")\n",
    "#         )\n",
    "#     )\n",
    "    \n",
    "#     return colusiones_agg"
   ]
  },
  {
   "cell_type": "code",
   "execution_count": 37,
   "metadata": {},
   "outputs": [],
   "source": [
    "# colusiones_agg_df = agg_colusiones(colusiones_df)\n",
    "# colusiones_agg_df.show(5)"
   ]
  },
  {
   "cell_type": "code",
   "execution_count": 38,
   "metadata": {},
   "outputs": [],
   "source": [
    "# def left_join_dataframes(df1, df2, df1_key, df2_key):\n",
    "#     joined_df = df1.join(df2, df1[df1_key] == df2[df2_key], how=\"left\")\n",
    "#     return joined_df\n",
    "\n",
    "# # Realizar el left join\n",
    "# result_df = left_join_dataframes(infraestructura_df_cero, colusiones_agg_df, \"NIT_ENTIDAD\", \"Identificacion\")\n",
    "# # result_df.show(5)\n",
    "# result_df.orderBy(F.desc(\"Identificacion\")).show(5)\n"
   ]
  },
  {
   "attachments": {},
   "cell_type": "markdown",
   "metadata": {},
   "source": [
    "# Quality multas"
   ]
  },
  {
   "cell_type": "code",
   "execution_count": 28,
   "metadata": {},
   "outputs": [
    {
     "name": "stdout",
     "output_type": "stream",
     "text": [
      "+--------------------+-----------+--------+--------------------+--------------------+---------------------+--------------------+--------------------+-------------+--------------------+--------------------+---------+--------+------+--------+\n",
      "|      nombre_entidad|nit_entidad|   nivel|               orden|numero_de_resolucion|documento_contratista|  nombre_contratista|  numero_de_contrato|valor_sancion|fecha_de_publicacion|     ruta_de_proceso|cod_depto|cod_mpio|  dpto|nom_mpio|\n",
      "+--------------------+-----------+--------+--------------------+--------------------+---------------------+--------------------+--------------------+-------------+--------------------+--------------------+---------+--------+------+--------+\n",
      "|CORTOLIMA - CORPO...|  890704536|NACIONAL|NACIONAL DESCENTR...|Resolución No.266...|             93405374|EDWIN SANTAMARIA ...|CTO 587 DEL 30 DE...|  1.0721123E7| 2014-11-05 00:00:00|https://www.contr...|       73|   73001|TOLIMA|  IBAGUE|\n",
      "|   EJÉRCITO NACIONAL|NO DEFINIDO|NACIONAL|NACIONAL CENTRALI...|RESOLUCION 086-11...|            900427561|CABAR CONSTRUCCIO...|            662-2014|    4393325.0| 2015-08-10 00:00:00|https://www.contr...|       73|   73001|TOLIMA|  IBAGUE|\n",
      "|CORTOLIMA - CORPO...|  890704536|NACIONAL|NACIONAL DESCENTR...|Resolución No.146...|             93380691|     YIMI ARCINIEGAS|     CTO 319 DE 2010|    6034875.0| 2013-07-08 00:00:00|https://www.contr...|       73|   73001|TOLIMA|  IBAGUE|\n",
      "|   EJÉRCITO NACIONAL|NO DEFINIDO|NACIONAL|NACIONAL CENTRALI...|        Res. No. 374|            900427561|CABAR CONSTRUCCIO...|      662-JEING-2014|4.271849266E7| 2016-10-11 00:00:00|https://www.contr...|       73|   73001|TOLIMA|  IBAGUE|\n",
      "|CORTOLIMA - CORPO...|  890704536|NACIONAL|NACIONAL DESCENTR...|Resolución No.178...|           1110456896|CHRISTIAN CAMILO ...|CTO 661 DEL 31 DE...|     945000.0| 2015-07-17 00:00:00|https://www.contr...|       73|   73001|TOLIMA|  IBAGUE|\n",
      "+--------------------+-----------+--------+--------------------+--------------------+---------------------+--------------------+--------------------+-------------+--------------------+--------------------+---------+--------+------+--------+\n",
      "only showing top 5 rows\n",
      "\n"
     ]
    }
   ],
   "source": [
    "filename = 'multas_SECOP.csv'\n",
    "multas_df = pyspark_etl_functions.read_csv_with_pyspark(filename, folder='data', separator=',')\n",
    "multas_df.show(5)"
   ]
  },
  {
   "cell_type": "code",
   "execution_count": 40,
   "metadata": {},
   "outputs": [
    {
     "name": "stdout",
     "output_type": "stream",
     "text": [
      "23/04/21 10:01:56 WARN SparkSession: Using an existing Spark session; only runtime SQL configurations will take effect.\n",
      "Total de registros: 1444\n",
      "\n",
      "Conteo de registros nulos por columna:\n",
      "nombre_entidad: 0\n",
      "nit_entidad: 0\n",
      "nivel: 0\n",
      "orden: 0\n",
      "numero_de_resolucion: 0\n",
      "documento_contratista: 0\n",
      "nombre_contratista: 0\n",
      "numero_de_contrato: 0\n",
      "valor_sancion: 0\n",
      "fecha_de_publicacion: 0\n",
      "ruta_de_proceso: 0\n",
      "cod_depto: 11\n",
      "cod_mpio: 11\n",
      "dpto: 0\n",
      "nom_mpio: 0\n",
      "\n",
      "Conteo de registros duplicados: 0\n",
      "\n",
      "Estadísticas descriptivas para columnas numéricas:\n",
      "min:\n",
      "  documento_contratista: 230802\n",
      "  valor_sancion: 0.0\n",
      "  cod_depto: 5\n",
      "  cod_mpio: 5001\n",
      "max:\n",
      "  documento_contratista: 90075612726\n",
      "  valor_sancion: 9.7969201936E10\n",
      "  cod_depto: 99\n",
      "  cod_mpio: 99001\n",
      "mean:\n",
      "  documento_contratista: 4.0192013053026314E9\n",
      "  valor_sancion: 6.246716858476892E8\n",
      "  cod_depto: 29.314026517794836\n",
      "  cod_mpio: 29432.270062805303\n",
      "stddev:\n",
      "  documento_contratista: 6.43643826806861E9\n",
      "  valor_sancion: 6.293069421343648E9\n",
      "  cod_depto: 26.57250921265884\n",
      "  cod_mpio: 26605.777653086523\n",
      "\n",
      "Valores atípicos en la columna documento_contratista: 5\n",
      "\n",
      "Valores atípicos en la columna valor_sancion: 249\n",
      "\n",
      "Valores atípicos en la columna cod_depto: 0\n",
      "\n",
      "Valores atípicos en la columna cod_mpio: 0\n"
     ]
    }
   ],
   "source": [
    "pyspark_etl_functions.analyze_data_quality(multas_df)"
   ]
  },
  {
   "cell_type": "code",
   "execution_count": 29,
   "metadata": {},
   "outputs": [
    {
     "name": "stdout",
     "output_type": "stream",
     "text": [
      "+------------------+----------------+------------------+----------------------+------------------------+\n",
      "|nit_entidad_multas|numero_de_multas|suma_valor_sancion|promedio_valor_sancion|meses_desde_ultima_multa|\n",
      "+------------------+----------------+------------------+----------------------+------------------------+\n",
      "|         900019519|               3|     1.807646118E9|          6.02548706E8|             79.25806452|\n",
      "|         800096613|               6|            2.52E9|                 4.2E8|            102.41935484|\n",
      "|         900514813|               1|      6.70588813E8|          6.70588813E8|             98.61290323|\n",
      "|         811032187|               9|      4.88809711E8|   5.431219011111111E7|             83.70967742|\n",
      "|         800131648|               1|         6358288.0|             6358288.0|             37.80645161|\n",
      "+------------------+----------------+------------------+----------------------+------------------------+\n",
      "only showing top 5 rows\n",
      "\n"
     ]
    }
   ],
   "source": [
    "# Read the data and process it using the aggregate_multas_data function\n",
    "aggregated_multas = pyspark_etl_functions.aggregate_multas_data(multas_df)\n",
    "aggregated_multas = aggregated_multas.withColumnRenamed(\"nit_entidad\", \"nit_entidad_multas\")\n",
    "aggregated_multas.show(5)"
   ]
  },
  {
   "cell_type": "code",
   "execution_count": 30,
   "metadata": {},
   "outputs": [],
   "source": [
    "\n",
    "result_df = pyspark_etl_functions.left_join_dataframes(infraestructura_df_no_cero, aggregated_multas, \"NIT_ENTIDAD\", \"nit_entidad_multas\")\n"
   ]
  },
  {
   "cell_type": "code",
   "execution_count": 31,
   "metadata": {},
   "outputs": [
    {
     "name": "stdout",
     "output_type": "stream",
     "text": [
      "Joined dataframe:\n"
     ]
    },
    {
     "name": "stderr",
     "output_type": "stream",
     "text": [
      "[Stage 462:==>(4 + 1) / 5][Stage 466:>  (0 + 3) / 5][Stage 467:>  (0 + 0) / 5]  \r"
     ]
    },
    {
     "name": "stdout",
     "output_type": "stream",
     "text": [
      "23/05/04 04:51:07 WARN RowBasedKeyValueBatch: Calling spill() on RowBasedKeyValueBatch. Will not spill but return 0.\n",
      "23/05/04 04:51:07 WARN RowBasedKeyValueBatch: Calling spill() on RowBasedKeyValueBatch. Will not spill but return 0.\n",
      "23/05/04 04:51:07 WARN RowBasedKeyValueBatch: Calling spill() on RowBasedKeyValueBatch. Will not spill but return 0.\n",
      "23/05/04 04:51:07 WARN RowBasedKeyValueBatch: Calling spill() on RowBasedKeyValueBatch. Will not spill but return 0.\n"
     ]
    },
    {
     "name": "stderr",
     "output_type": "stream",
     "text": [
      "[Stage 466:>  (0 + 4) / 5][Stage 467:>  (0 + 0) / 5][Stage 468:>  (0 + 0) / 5]\r"
     ]
    },
    {
     "name": "stdout",
     "output_type": "stream",
     "text": [
      "23/05/04 04:51:07 WARN RowBasedKeyValueBatch: Calling spill() on RowBasedKeyValueBatch. Will not spill but return 0.\n",
      "23/05/04 04:51:07 WARN RowBasedKeyValueBatch: Calling spill() on RowBasedKeyValueBatch. Will not spill but return 0.\n"
     ]
    },
    {
     "name": "stderr",
     "output_type": "stream",
     "text": [
      "[Stage 466:==>(4 + 1) / 5][Stage 467:>  (0 + 3) / 5][Stage 468:>  (0 + 0) / 5]\r"
     ]
    },
    {
     "name": "stdout",
     "output_type": "stream",
     "text": [
      "23/05/04 04:51:09 WARN RowBasedKeyValueBatch: Calling spill() on RowBasedKeyValueBatch. Will not spill but return 0.\n",
      "23/05/04 04:51:09 WARN RowBasedKeyValueBatch: Calling spill() on RowBasedKeyValueBatch. Will not spill but return 0.\n",
      "23/05/04 04:51:09 WARN RowBasedKeyValueBatch: Calling spill() on RowBasedKeyValueBatch. Will not spill but return 0.\n",
      "23/05/04 04:51:09 WARN RowBasedKeyValueBatch: Calling spill() on RowBasedKeyValueBatch. Will not spill but return 0.\n",
      "23/05/04 04:51:09 WARN RowBasedKeyValueBatch: Calling spill() on RowBasedKeyValueBatch. Will not spill but return 0.\n",
      "23/05/04 04:51:09 WARN RowBasedKeyValueBatch: Calling spill() on RowBasedKeyValueBatch. Will not spill but return 0.\n"
     ]
    },
    {
     "name": "stderr",
     "output_type": "stream",
     "text": [
      "[Stage 467:>  (0 + 4) / 5][Stage 468:>  (0 + 0) / 5][Stage 469:>  (0 + 0) / 5]\r"
     ]
    },
    {
     "name": "stdout",
     "output_type": "stream",
     "text": [
      "23/05/04 04:51:10 WARN RowBasedKeyValueBatch: Calling spill() on RowBasedKeyValueBatch. Will not spill but return 0.\n",
      "23/05/04 04:51:10 WARN RowBasedKeyValueBatch: Calling spill() on RowBasedKeyValueBatch. Will not spill but return 0.\n"
     ]
    },
    {
     "name": "stderr",
     "output_type": "stream",
     "text": [
      "[Stage 468:>  (0 + 4) / 5][Stage 469:>  (0 + 0) / 5][Stage 470:>  (0 + 0) / 5]\r"
     ]
    },
    {
     "name": "stdout",
     "output_type": "stream",
     "text": [
      "23/05/04 04:51:12 WARN RowBasedKeyValueBatch: Calling spill() on RowBasedKeyValueBatch. Will not spill but return 0.\n",
      "23/05/04 04:51:12 WARN RowBasedKeyValueBatch: Calling spill() on RowBasedKeyValueBatch. Will not spill but return 0.\n",
      "23/05/04 04:51:12 WARN RowBasedKeyValueBatch: Calling spill() on RowBasedKeyValueBatch. Will not spill but return 0.\n",
      "23/05/04 04:51:12 WARN RowBasedKeyValueBatch: Calling spill() on RowBasedKeyValueBatch. Will not spill but return 0.\n",
      "23/05/04 04:51:12 WARN RowBasedKeyValueBatch: Calling spill() on RowBasedKeyValueBatch. Will not spill but return 0.\n",
      "23/05/04 04:51:12 WARN RowBasedKeyValueBatch: Calling spill() on RowBasedKeyValueBatch. Will not spill but return 0.\n",
      "23/05/04 04:51:12 WARN RowBasedKeyValueBatch: Calling spill() on RowBasedKeyValueBatch. Will not spill but return 0.\n",
      "23/05/04 04:51:12 WARN RowBasedKeyValueBatch: Calling spill() on RowBasedKeyValueBatch. Will not spill but return 0.\n"
     ]
    },
    {
     "name": "stderr",
     "output_type": "stream",
     "text": [
      "[Stage 469:>  (0 + 4) / 5][Stage 470:>  (0 + 0) / 5][Stage 471:>  (0 + 0) / 5]\r"
     ]
    },
    {
     "name": "stdout",
     "output_type": "stream",
     "text": [
      "23/05/04 04:51:15 WARN RowBasedKeyValueBatch: Calling spill() on RowBasedKeyValueBatch. Will not spill but return 0.\n",
      "23/05/04 04:51:15 WARN RowBasedKeyValueBatch: Calling spill() on RowBasedKeyValueBatch. Will not spill but return 0.\n",
      "23/05/04 04:51:15 WARN RowBasedKeyValueBatch: Calling spill() on RowBasedKeyValueBatch. Will not spill but return 0.\n",
      "23/05/04 04:51:15 WARN RowBasedKeyValueBatch: Calling spill() on RowBasedKeyValueBatch. Will not spill but return 0.\n",
      "23/05/04 04:51:15 WARN RowBasedKeyValueBatch: Calling spill() on RowBasedKeyValueBatch. Will not spill but return 0.\n",
      "23/05/04 04:51:15 WARN RowBasedKeyValueBatch: Calling spill() on RowBasedKeyValueBatch. Will not spill but return 0.\n",
      "23/05/04 04:51:15 WARN RowBasedKeyValueBatch: Calling spill() on RowBasedKeyValueBatch. Will not spill but return 0.\n",
      "23/05/04 04:51:15 WARN RowBasedKeyValueBatch: Calling spill() on RowBasedKeyValueBatch. Will not spill but return 0.\n"
     ]
    },
    {
     "name": "stderr",
     "output_type": "stream",
     "text": [
      "[Stage 470:>  (0 + 4) / 5][Stage 471:>  (0 + 0) / 5][Stage 474:>  (0 + 0) / 4]\r"
     ]
    },
    {
     "name": "stdout",
     "output_type": "stream",
     "text": [
      "23/05/04 04:51:17 WARN RowBasedKeyValueBatch: Calling spill() on RowBasedKeyValueBatch. Will not spill but return 0.\n",
      "23/05/04 04:51:17 WARN RowBasedKeyValueBatch: Calling spill() on RowBasedKeyValueBatch. Will not spill but return 0.\n",
      "23/05/04 04:51:17 WARN RowBasedKeyValueBatch: Calling spill() on RowBasedKeyValueBatch. Will not spill but return 0.\n",
      "23/05/04 04:51:17 WARN RowBasedKeyValueBatch: Calling spill() on RowBasedKeyValueBatch. Will not spill but return 0.\n",
      "23/05/04 04:51:17 WARN RowBasedKeyValueBatch: Calling spill() on RowBasedKeyValueBatch. Will not spill but return 0.\n",
      "23/05/04 04:51:17 WARN RowBasedKeyValueBatch: Calling spill() on RowBasedKeyValueBatch. Will not spill but return 0.\n",
      "23/05/04 04:51:17 WARN RowBasedKeyValueBatch: Calling spill() on RowBasedKeyValueBatch. Will not spill but return 0.\n",
      "23/05/04 04:51:17 WARN RowBasedKeyValueBatch: Calling spill() on RowBasedKeyValueBatch. Will not spill but return 0.\n"
     ]
    },
    {
     "name": "stderr",
     "output_type": "stream",
     "text": [
      "[Stage 471:>  (0 + 4) / 5][Stage 474:>  (0 + 0) / 4][Stage 476:>  (0 + 0) / 1]\r"
     ]
    },
    {
     "name": "stdout",
     "output_type": "stream",
     "text": [
      "23/05/04 04:51:20 WARN RowBasedKeyValueBatch: Calling spill() on RowBasedKeyValueBatch. Will not spill but return 0.\n",
      "23/05/04 04:51:20 WARN RowBasedKeyValueBatch: Calling spill() on RowBasedKeyValueBatch. Will not spill but return 0.\n",
      "23/05/04 04:51:20 WARN RowBasedKeyValueBatch: Calling spill() on RowBasedKeyValueBatch. Will not spill but return 0.\n",
      "23/05/04 04:51:20 WARN RowBasedKeyValueBatch: Calling spill() on RowBasedKeyValueBatch. Will not spill but return 0.\n",
      "23/05/04 04:51:20 WARN RowBasedKeyValueBatch: Calling spill() on RowBasedKeyValueBatch. Will not spill but return 0.\n",
      "23/05/04 04:51:20 WARN RowBasedKeyValueBatch: Calling spill() on RowBasedKeyValueBatch. Will not spill but return 0.\n",
      "23/05/04 04:51:20 WARN RowBasedKeyValueBatch: Calling spill() on RowBasedKeyValueBatch. Will not spill but return 0.\n",
      "23/05/04 04:51:20 WARN RowBasedKeyValueBatch: Calling spill() on RowBasedKeyValueBatch. Will not spill but return 0.\n"
     ]
    },
    {
     "name": "stderr",
     "output_type": "stream",
     "text": [
      "                                                                                \r"
     ]
    },
    {
     "name": "stdout",
     "output_type": "stream",
     "text": [
      "+-----------+--------------------+-------------+-------------------------+-----------------------------+-----------------+-------------------+------------------+-----------------+------------+----------+---------------------------+---------+------+------+-------+-----------+--------+----+--------+--------+-----+-------+---------+-------+-----+---------------------------------------+------+------+---------------+------------+----------+------+------+------------------+------+-----+-----+---------+-------+---------+--------+---------+-------+-------+-----+---------+------+--------+------+----------+------------+-----------------+----------+-------+--------------------+----+-------------------+---------------------------+-----------------------+-------+------------------+----------------+------------------------------------+----------+-------+-----------+-----------------------+------------------------+--------+-----------+--------+-----------+---------------------+------------------+----+---------------+--------------------------+------------------------+-------------+---------+--------------------------+----+----------------+-------------+---------------------+----------------------------+--------------------------------------------------+----------------+------------------+-----------+---------------------+--------+-------+--------------------------+-------------------------+---------+------------------+---------------+---------------------------+--------+---------------------------------+---------------------------------------------+----------+-----------------------+--------------------------------+-------+-------+---------------+----------+---------------------+----------------------------+--------------------------------------------------+----------------+------------------+-----------+---------------------+--------+-------+--------------------------+-------------------------+---------+------------------+---------------+---------------------------+--------+---------------------------------+---------------------------------------------+----------+-----------------------+--------------------------------+-------+-------+---------------+----------+------------------+----------------+-------------------+----------------------+------------------------+\n",
      "|NIT_ENTIDAD|      NOMBRE_ENTIDAD|num_contratos|suma_valor_total_contrato|promedio_valor_total_contrato|num_departamentos|num_estados_proceso|num_clases_proceso|num_tipos_proceso|num_familias|num_clases|meses_desde_ultimo_contrato|SANTANDER|VAUPES|NARIÑO|CAQUETA|NO DEFINIDO|CASANARE|META|AMAZONAS|GUAVIARE|CAUCA|VICHADA|ANTIOQUIA|QUINDIO|CHOCO|SAN ANDRES PROVIDENCIA Y SANTA CATALINA|CALDAS|BOYACA|VALLE DEL CAUCA|CUNDINAMARCA|LA GUAJIRA|TOLIMA|ARAUCA|NORTE DE SANTANDER|BOGOTA|HUILA|SUCRE|ATLANTICO|BOLIVAR|RISARALDA|PUTUMAYO|MAGDALENA|GUAINIA|CORDOBA|CESAR|TERMINADO|ACTIVO|BORRADOR|CEDIDO|MODIFICADO|EN EJECUCION|ENVIADO PROVEEDOR|SUSPENDIDO|CERRADO|CONTRATACION DIRECTA|null|CONCURSO DE MERITOS|CONTRATACION MINIMA CUANTIA|LICITACION OBRA PUBLICA|SUBASTA|LICITACION PUBLICA|REGIMEN ESPECIAL|SELECCION ABREVIADA DE MENOR CUANTIA|EMPRESTITO|SEGUROS|CONSULTORIA|PRESTACION DE SERVICIOS|ACUERDO MARCO DE PRECIOS|COMISION|COMPRAVENTA|COMODATO|SUMINISTROS|SERVICIOS FINANCIEROS|NEGOCIO FIDUCIARIO|OTRO|VENTA INMUEBLES|ARRENDAMIENTO DE INMUEBLES|ARRENDAMIENTO DE MUEBLES|INTERVENTORIA|CONCESION|ASOCIACION PUBLICO PRIVADA|OBRA|DECREELAW0922017|VENTA MUEBLES|RELACIONES EXTERIORES|VIVIENDA CIUDAD Y TERRITORIO|TECNOLOGIAS DE LA INFORMACION Y LAS COMUNICACIONES|SERVICIO PUBLICO|EDUCACION NACIONAL|AGRICULTURA|NO APLICANO PERTENECE|DEPORTES|DEFENSA|HACIENDA Y CREDITO PUBLICO|SALUD Y PROTECCION SOCIAL|INDUSTRIA|CIENCIA TECNOLOGIA|MINAS Y ENERGIA|PRESIDENCIA DE LA REPUBLICA|INTERIOR|INCLUSION SOCIAL Y RECONCILIACION|INTELIGENCIA ESTRATEGICA Y CONTRAINTELIGENCIA|TRANSPORTE|INFORMACION ESTADISTICA|AMBIENTE Y DESARROLLO SOSTENIBLE|TRABAJO|CULTURA|LEY DE JUSTICIA|PLANEACION|RELACIONES EXTERIORES|VIVIENDA CIUDAD Y TERRITORIO|TECNOLOGIAS DE LA INFORMACION Y LAS COMUNICACIONES|SERVICIO PUBLICO|EDUCACION NACIONAL|AGRICULTURA|NO APLICANO PERTENECE|DEPORTES|DEFENSA|HACIENDA Y CREDITO PUBLICO|SALUD Y PROTECCION SOCIAL|INDUSTRIA|CIENCIA TECNOLOGIA|MINAS Y ENERGIA|PRESIDENCIA DE LA REPUBLICA|INTERIOR|INCLUSION SOCIAL Y RECONCILIACION|INTELIGENCIA ESTRATEGICA Y CONTRAINTELIGENCIA|TRANSPORTE|INFORMACION ESTADISTICA|AMBIENTE Y DESARROLLO SOSTENIBLE|TRABAJO|CULTURA|LEY DE JUSTICIA|PLANEACION|nit_entidad_multas|numero_de_multas| suma_valor_sancion|promedio_valor_sancion|meses_desde_ultima_multa|\n",
      "+-----------+--------------------+-------------+-------------------------+-----------------------------+-----------------+-------------------+------------------+-----------------+------------+----------+---------------------------+---------+------+------+-------+-----------+--------+----+--------+--------+-----+-------+---------+-------+-----+---------------------------------------+------+------+---------------+------------+----------+------+------+------------------+------+-----+-----+---------+-------+---------+--------+---------+-------+-------+-----+---------+------+--------+------+----------+------------+-----------------+----------+-------+--------------------+----+-------------------+---------------------------+-----------------------+-------+------------------+----------------+------------------------------------+----------+-------+-----------+-----------------------+------------------------+--------+-----------+--------+-----------+---------------------+------------------+----+---------------+--------------------------+------------------------+-------------+---------+--------------------------+----+----------------+-------------+---------------------+----------------------------+--------------------------------------------------+----------------+------------------+-----------+---------------------+--------+-------+--------------------------+-------------------------+---------+------------------+---------------+---------------------------+--------+---------------------------------+---------------------------------------------+----------+-----------------------+--------------------------------+-------+-------+---------------+----------+---------------------+----------------------------+--------------------------------------------------+----------------+------------------+-----------+---------------------+--------+-------+--------------------------+-------------------------+---------+------------------+---------------+---------------------------+--------+---------------------------------+---------------------------------------------+----------+-----------------------+--------------------------------+-------+-------+---------------+----------+------------------+----------------+-------------------+----------------------+------------------------+\n",
      "|  899999239| ICBF REGIONAL SUCRE|          169|              77094589633|         4.5618100374556214E8|                1|                  4|                 3|                3|           1|         1|                         20|        0|     0|     0|      0|          0|       0|   0|       0|       0|    0|      0|        0|      0|    0|                                      0|     0|     0|              0|           0|         0|     0|     0|                 0|     0|    0|  169|        0|      0|        0|       0|        0|      0|      0|    0|        3|     1|       0|     0|        15|         150|                0|         0|      0|                 112|   2|                  0|                          5|                      0|      0|                 0|              50|                                   0|         0|      0|          0|                    100|                       0|       0|          0|      10|          0|                    0|                 0|  59|              0|                         0|                       0|            0|        0|                         0|   0|               0|            0|                    0|                           0|                                                 0|               0|                 0|          0|                    0|       0|      0|                         0|                      169|        0|                 0|              0|                          0|       0|                                0|                                            0|         0|                      0|                               0|      0|      0|              0|         0|                    0|                           0|                                                 0|               0|                 0|          0|                    0|       0|      0|                         0|                      169|        0|                 0|              0|                          0|       0|                                0|                                            0|         0|                      0|                               0|      0|      0|              0|         0|         899999239|              79|    1.90000507914E9|  2.4050697204303797E7|             29.96774194|\n",
      "|  899999239|INSTITUTO COLOMBI...|         9004|            3862769591782|          4.290059519971124E8|               27|                  6|                 7|               13|           3|         3|                         19|        0|    55|   354|    149|          0|     124| 197|      83|      69|  376|     73|      812|      0|  234|                                     72|   393|   246|            595|           0|       268|   332|   122|               224|  2861|  220|    0|        0|    328|        0|     120|      199|     57|    205|  236|      217|   157|       0|   219|      1741|        6659|                0|        11|      0|                5872|  64|                  3|                        259|                      5|     17|                 0|            2770|                                  14|         0|      2|          3|                   5770|                       0|       0|         20|     305|         55|                    0|                 0|2808|              4|                        11|                       0|            3|        0|                         1|  14|               8|            0|                    0|                           0|                                                 0|               0|                 0|          0|                  639|       0|      0|                         0|                     6774|        0|                 0|              0|                          0|       0|                             1591|                                            0|         0|                      0|                               0|      0|      0|              0|         0|                    0|                           0|                                                 0|               0|                 0|          0|                  639|       0|      0|                         0|                     6774|        0|                 0|              0|                          0|       0|                             1591|                                            0|         0|                      0|                               0|      0|      0|              0|         0|         899999239|              79|    1.90000507914E9|  2.4050697204303797E7|             29.96774194|\n",
      "|  899999027|DEPARTAMENTO ADMI...|         2218|              22864702285|         1.0308702563119927E7|                1|                  5|                 2|                5|           1|         1|                         20|        0|     0|     0|      0|          0|       0|   0|       0|       0|    0|      0|        0|      0|    0|                                      0|     0|     0|              0|           0|         0|     0|     0|                 0|     0|    0|    0|     2218|      0|        0|       0|        0|      0|      0|    0|        1|     0|       0|    34|       409|        1771|                0|         3|      0|                2213|   0|                  0|                          5|                      0|      0|                 0|               0|                                   0|         0|      0|          0|                   2212|                       0|       0|          1|       0|          1|                    0|                 0|   0|              0|                         3|                       0|            0|        0|                         0|   1|               0|            0|                    0|                           0|                                                 0|               0|                 0|          0|                    0|       0|      0|                         0|                        0|        0|                 0|              0|                          0|       0|                                0|                                            0|         0|                   2218|                               0|      0|      0|              0|         0|                    0|                           0|                                                 0|               0|                 0|          0|                    0|       0|      0|                         0|                        0|        0|                 0|              0|                          0|       0|                                0|                                            0|         0|                   2218|                               0|      0|      0|              0|         0|         899999027|              50|9.054934674000001E7|    1810986.9348000002|             43.96774194|\n",
      "|  899999027|DEPARTAMENTO ADMI...|         5635|              87548446400|         1.5536547719609583E7|                2|                  7|                 5|                7|           1|         1|                         19|        0|     0|     0|      0|          0|       0|   0|       0|       0|    0|      0|        0|      0|    0|                                      0|     0|     0|           1548|           0|         0|     0|     0|                 0|  4087|    0|    0|        0|      0|        0|       0|        0|      0|      0|    0|       57|   118|       0|   131|       962|        4358|                0|         5|      4|                5593|  11|                  0|                         27|                      1|      2|                 0|               0|                                   1|         0|      3|          0|                   5605|                       0|       0|          1|       0|          1|                    0|                 0|  16|              0|                         8|                       0|            0|        0|                         0|   1|               0|            0|                    0|                           0|                                                 0|               0|                 0|          0|                    0|       0|      0|                         0|                        0|        0|                 0|              0|                          0|       0|                                0|                                            0|         0|                   5635|                               0|      0|      0|              0|         0|                    0|                           0|                                                 0|               0|                 0|          0|                    0|       0|      0|                         0|                        0|        0|                 0|              0|                          0|       0|                                0|                                            0|         0|                   5635|                               0|      0|      0|              0|         0|         899999027|              50|9.054934674000001E7|    1810986.9348000002|             43.96774194|\n",
      "|  899999027|DEPARTAMENTO ADMI...|         1541|              16428195762|         1.0660737029201817E7|                1|                  6|                 2|                3|           1|         1|                         19|        0|     0|     0|      0|          0|       0|   0|       0|       0|    0|      0|     1541|      0|    0|                                      0|     0|     0|              0|           0|         0|     0|     0|                 0|     0|    0|    0|        0|      0|        0|       0|        0|      0|      0|    0|        6|    59|       0|    38|       367|        1070|                0|         1|      0|                1536|   0|                  0|                          5|                      0|      0|                 0|               0|                                   0|         0|      0|          0|                   1535|                       0|       0|          0|       0|          0|                    0|                 0|   0|              0|                         4|                       0|            0|        0|                         0|   2|               0|            0|                    0|                           0|                                                 0|               0|                 0|          0|                    0|       0|      0|                         0|                        0|        0|                 0|              0|                          0|       0|                                0|                                            0|         0|                   1541|                               0|      0|      0|              0|         0|                    0|                           0|                                                 0|               0|                 0|          0|                    0|       0|      0|                         0|                        0|        0|                 0|              0|                          0|       0|                                0|                                            0|         0|                   1541|                               0|      0|      0|              0|         0|         899999027|              50|9.054934674000001E7|    1810986.9348000002|             43.96774194|\n",
      "+-----------+--------------------+-------------+-------------------------+-----------------------------+-----------------+-------------------+------------------+-----------------+------------+----------+---------------------------+---------+------+------+-------+-----------+--------+----+--------+--------+-----+-------+---------+-------+-----+---------------------------------------+------+------+---------------+------------+----------+------+------+------------------+------+-----+-----+---------+-------+---------+--------+---------+-------+-------+-----+---------+------+--------+------+----------+------------+-----------------+----------+-------+--------------------+----+-------------------+---------------------------+-----------------------+-------+------------------+----------------+------------------------------------+----------+-------+-----------+-----------------------+------------------------+--------+-----------+--------+-----------+---------------------+------------------+----+---------------+--------------------------+------------------------+-------------+---------+--------------------------+----+----------------+-------------+---------------------+----------------------------+--------------------------------------------------+----------------+------------------+-----------+---------------------+--------+-------+--------------------------+-------------------------+---------+------------------+---------------+---------------------------+--------+---------------------------------+---------------------------------------------+----------+-----------------------+--------------------------------+-------+-------+---------------+----------+---------------------+----------------------------+--------------------------------------------------+----------------+------------------+-----------+---------------------+--------+-------+--------------------------+-------------------------+---------+------------------+---------------+---------------------------+--------+---------------------------------+---------------------------------------------+----------+-----------------------+--------------------------------+-------+-------+---------------+----------+------------------+----------------+-------------------+----------------------+------------------------+\n",
      "only showing top 5 rows\n",
      "\n"
     ]
    }
   ],
   "source": [
    "# Check the joined dataframe\n",
    "print(\"Joined dataframe:\")\n",
    "result_df.orderBy(F.desc(\"numero_de_multas\")).show(5)\n",
    "# result_df.show(5)\n"
   ]
  },
  {
   "cell_type": "code",
   "execution_count": 32,
   "metadata": {},
   "outputs": [],
   "source": [
    "result_df = result_df.drop(\"nit_entidad_multas\")"
   ]
  },
  {
   "cell_type": "code",
   "execution_count": 33,
   "metadata": {},
   "outputs": [],
   "source": [
    "from collections import Counter\n",
    "\n",
    "column_counts = Counter(result_df.columns)\n",
    "\n",
    "duplicate_columns = [col for col, count in column_counts.items() if count > 1]\n",
    "\n",
    "result_df = result_df.drop(*duplicate_columns)\n"
   ]
  },
  {
   "cell_type": "code",
   "execution_count": 34,
   "metadata": {},
   "outputs": [
    {
     "name": "stderr",
     "output_type": "stream",
     "text": [
      "[Stage 519:>  (0 + 4) / 5][Stage 520:>  (0 + 0) / 5][Stage 521:>  (0 + 0) / 5]0]\r"
     ]
    },
    {
     "name": "stdout",
     "output_type": "stream",
     "text": [
      "23/05/04 04:52:34 WARN RowBasedKeyValueBatch: Calling spill() on RowBasedKeyValueBatch. Will not spill but return 0.\n",
      "23/05/04 04:52:34 WARN RowBasedKeyValueBatch: Calling spill() on RowBasedKeyValueBatch. Will not spill but return 0.\n",
      "23/05/04 04:52:34 WARN RowBasedKeyValueBatch: Calling spill() on RowBasedKeyValueBatch. Will not spill but return 0.\n",
      "23/05/04 04:52:34 WARN RowBasedKeyValueBatch: Calling spill() on RowBasedKeyValueBatch. Will not spill but return 0.\n",
      "23/05/04 04:52:34 WARN RowBasedKeyValueBatch: Calling spill() on RowBasedKeyValueBatch. Will not spill but return 0.\n",
      "23/05/04 04:52:34 WARN RowBasedKeyValueBatch: Calling spill() on RowBasedKeyValueBatch. Will not spill but return 0.\n",
      "23/05/04 04:52:35 WARN RowBasedKeyValueBatch: Calling spill() on RowBasedKeyValueBatch. Will not spill but return 0.\n",
      "23/05/04 04:52:35 WARN RowBasedKeyValueBatch: Calling spill() on RowBasedKeyValueBatch. Will not spill but return 0.\n"
     ]
    },
    {
     "name": "stderr",
     "output_type": "stream",
     "text": [
      "[Stage 520:>  (0 + 4) / 5][Stage 521:>  (0 + 0) / 5][Stage 522:>  (0 + 0) / 5]\r"
     ]
    },
    {
     "name": "stdout",
     "output_type": "stream",
     "text": [
      "23/05/04 04:52:37 WARN RowBasedKeyValueBatch: Calling spill() on RowBasedKeyValueBatch. Will not spill but return 0.\n",
      "23/05/04 04:52:37 WARN RowBasedKeyValueBatch: Calling spill() on RowBasedKeyValueBatch. Will not spill but return 0.\n",
      "23/05/04 04:52:37 WARN RowBasedKeyValueBatch: Calling spill() on RowBasedKeyValueBatch. Will not spill but return 0.\n",
      "23/05/04 04:52:37 WARN RowBasedKeyValueBatch: Calling spill() on RowBasedKeyValueBatch. Will not spill but return 0.\n",
      "23/05/04 04:52:37 WARN RowBasedKeyValueBatch: Calling spill() on RowBasedKeyValueBatch. Will not spill but return 0.\n",
      "23/05/04 04:52:37 WARN RowBasedKeyValueBatch: Calling spill() on RowBasedKeyValueBatch. Will not spill but return 0.\n",
      "23/05/04 04:52:37 WARN RowBasedKeyValueBatch: Calling spill() on RowBasedKeyValueBatch. Will not spill but return 0.\n",
      "23/05/04 04:52:37 WARN RowBasedKeyValueBatch: Calling spill() on RowBasedKeyValueBatch. Will not spill but return 0.\n"
     ]
    },
    {
     "name": "stderr",
     "output_type": "stream",
     "text": [
      "[Stage 521:>  (0 + 4) / 5][Stage 522:>  (0 + 0) / 5][Stage 524:>  (0 + 0) / 1]\r"
     ]
    },
    {
     "name": "stdout",
     "output_type": "stream",
     "text": [
      "23/05/04 04:52:40 WARN RowBasedKeyValueBatch: Calling spill() on RowBasedKeyValueBatch. Will not spill but return 0.\n",
      "23/05/04 04:52:40 WARN RowBasedKeyValueBatch: Calling spill() on RowBasedKeyValueBatch. Will not spill but return 0.\n",
      "23/05/04 04:52:40 WARN RowBasedKeyValueBatch: Calling spill() on RowBasedKeyValueBatch. Will not spill but return 0.\n",
      "23/05/04 04:52:40 WARN RowBasedKeyValueBatch: Calling spill() on RowBasedKeyValueBatch. Will not spill but return 0.\n",
      "23/05/04 04:52:40 WARN RowBasedKeyValueBatch: Calling spill() on RowBasedKeyValueBatch. Will not spill but return 0.\n",
      "23/05/04 04:52:40 WARN RowBasedKeyValueBatch: Calling spill() on RowBasedKeyValueBatch. Will not spill but return 0.\n",
      "23/05/04 04:52:40 WARN RowBasedKeyValueBatch: Calling spill() on RowBasedKeyValueBatch. Will not spill but return 0.\n",
      "23/05/04 04:52:40 WARN RowBasedKeyValueBatch: Calling spill() on RowBasedKeyValueBatch. Will not spill but return 0.\n"
     ]
    },
    {
     "name": "stderr",
     "output_type": "stream",
     "text": [
      "[Stage 522:>  (0 + 4) / 5][Stage 524:>  (0 + 0) / 1][Stage 526:>  (0 + 0) / 1]\r"
     ]
    },
    {
     "name": "stdout",
     "output_type": "stream",
     "text": [
      "23/05/04 04:52:42 WARN RowBasedKeyValueBatch: Calling spill() on RowBasedKeyValueBatch. Will not spill but return 0.\n",
      "23/05/04 04:52:42 WARN RowBasedKeyValueBatch: Calling spill() on RowBasedKeyValueBatch. Will not spill but return 0.\n",
      "23/05/04 04:52:42 WARN RowBasedKeyValueBatch: Calling spill() on RowBasedKeyValueBatch. Will not spill but return 0.\n",
      "23/05/04 04:52:42 WARN RowBasedKeyValueBatch: Calling spill() on RowBasedKeyValueBatch. Will not spill but return 0.\n",
      "23/05/04 04:52:42 WARN RowBasedKeyValueBatch: Calling spill() on RowBasedKeyValueBatch. Will not spill but return 0.\n",
      "23/05/04 04:52:42 WARN RowBasedKeyValueBatch: Calling spill() on RowBasedKeyValueBatch. Will not spill but return 0.\n",
      "23/05/04 04:52:43 WARN RowBasedKeyValueBatch: Calling spill() on RowBasedKeyValueBatch. Will not spill but return 0.\n",
      "23/05/04 04:52:43 WARN RowBasedKeyValueBatch: Calling spill() on RowBasedKeyValueBatch. Will not spill but return 0.\n",
      "23/05/04 04:52:43 WARN RowBasedKeyValueBatch: Calling spill() on RowBasedKeyValueBatch. Will not spill but return 0.\n"
     ]
    },
    {
     "name": "stderr",
     "output_type": "stream",
     "text": [
      "                                                                                \r"
     ]
    }
   ],
   "source": [
    "result_df.write.csv(\"etl_data/entidades_df.csv\", mode=\"overwrite\", header=True)"
   ]
  },
  {
   "cell_type": "code",
   "execution_count": 47,
   "metadata": {},
   "outputs": [],
   "source": [
    "# jupyter nbconvert --to script etl.ipynb\n",
    "\n",
    "\n",
    "# import subprocess\n",
    "# subprocess.run([\"python3\", \"nombre.py\"])\n",
    "\n",
    "\n",
    "\n",
    "# def my_function():\n",
    "#     print(\"Hello, World!\")\n",
    "\n",
    "# if __name__ == \"__main__\":\n",
    "#     my_function()\n",
    "\n",
    "# import nombre\n",
    "\n",
    "# nombre.my_function()\n",
    "\n"
   ]
  }
 ],
 "metadata": {
  "kernelspec": {
   "display_name": "Python 3",
   "language": "python",
   "name": "python3"
  },
  "language_info": {
   "codemirror_mode": {
    "name": "ipython",
    "version": 3
   },
   "file_extension": ".py",
   "mimetype": "text/x-python",
   "name": "python",
   "nbconvert_exporter": "python",
   "pygments_lexer": "ipython3",
   "version": "3.9.2"
  },
  "orig_nbformat": 4
 },
 "nbformat": 4,
 "nbformat_minor": 2
}
